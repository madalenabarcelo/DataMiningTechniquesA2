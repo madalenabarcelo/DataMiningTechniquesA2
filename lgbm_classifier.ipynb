{
 "cells": [
  {
   "cell_type": "code",
   "execution_count": 12,
   "id": "3f1266d2",
   "metadata": {},
   "outputs": [
    {
     "name": "stdout",
     "output_type": "stream",
     "text": [
      "The autoreload extension is already loaded. To reload it, use:\n",
      "  %reload_ext autoreload\n",
      "Path (/Users/rik/Documents/VU/DMT/DataMiningTechniquesA2) already exists in sys.path\n"
     ]
    }
   ],
   "source": [
    "%load_ext autoreload\n",
    "%autoreload 2\n",
    "%run ./initializer"
   ]
  },
  {
   "cell_type": "code",
   "execution_count": 13,
   "id": "fecde38d",
   "metadata": {},
   "outputs": [],
   "source": [
    "import polars as pl\n",
    "from lgbm_classifier import LGBMClassifierModel\n",
    "from lightgbm import LGBMClassifier"
   ]
  },
  {
   "cell_type": "code",
   "execution_count": 14,
   "id": "c15dc4d9",
   "metadata": {},
   "outputs": [],
   "source": [
    "train_df = pl.read_parquet(\"data/training_set_processed.parquet\")\n",
    "test_df = pl.read_parquet(\"data/test_set_processed.parquet\")"
   ]
  },
  {
   "cell_type": "code",
   "execution_count": 15,
   "id": "03aa93eb",
   "metadata": {},
   "outputs": [],
   "source": [
    "lgbm_class_model = LGBMClassifierModel(\n",
    "    df = train_df,              # Only initialized to get column names\n",
    "    objective=\"binary\",         # binary click prediction\n",
    "    boosting_type=\"gbdt\",       # gradient‑boosted decision trees\n",
    "    n_estimators=1000,          # upper cap on number of trees\n",
    "    learning_rate=0.05,\n",
    ")\n",
    "X_train, y_train, X_val, y_val, val_idx = lgbm_class_model.format_data(train_df)"
   ]
  },
  {
   "cell_type": "code",
   "execution_count": 16,
   "id": "b11d26f8",
   "metadata": {},
   "outputs": [
    {
     "name": "stdout",
     "output_type": "stream",
     "text": [
      "[LightGBM] [Warning] Categorical features with more bins than the configured maximum bin number found.\n",
      "[LightGBM] [Warning] For categorical features, max_bin and max_bin_by_feature may be ignored with a large number of categories.\n",
      "[LightGBM] [Info] Number of positive: 177546, number of negative: 3789131\n",
      "[LightGBM] [Info] Auto-choosing row-wise multi-threading, the overhead of testing was 0.283486 seconds.\n",
      "You can set `force_row_wise=true` to remove the overhead.\n",
      "And if memory is not enough, you can set `force_col_wise=true`.\n",
      "[LightGBM] [Info] Total Bins 11309\n",
      "[LightGBM] [Info] Number of data points in the train set: 3966677, number of used features: 92\n",
      "[LightGBM] [Info] [binary:BoostFromScore]: pavg=0.044759 -> initscore=-3.060662\n",
      "[LightGBM] [Info] Start training from score -3.060662\n",
      "Training until validation scores don't improve for 50 rounds\n",
      "[20]\tvalid_0's auc: 0.709532\tvalid_0's binary_logloss: 0.171343\n",
      "[40]\tvalid_0's auc: 0.718033\tvalid_0's binary_logloss: 0.168817\n",
      "[60]\tvalid_0's auc: 0.72369\tvalid_0's binary_logloss: 0.167677\n",
      "[80]\tvalid_0's auc: 0.727872\tvalid_0's binary_logloss: 0.166962\n",
      "[100]\tvalid_0's auc: 0.730954\tvalid_0's binary_logloss: 0.166444\n",
      "[120]\tvalid_0's auc: 0.73324\tvalid_0's binary_logloss: 0.166058\n",
      "[140]\tvalid_0's auc: 0.734868\tvalid_0's binary_logloss: 0.165792\n",
      "[160]\tvalid_0's auc: 0.736122\tvalid_0's binary_logloss: 0.165574\n",
      "[180]\tvalid_0's auc: 0.737127\tvalid_0's binary_logloss: 0.165403\n",
      "[200]\tvalid_0's auc: 0.738003\tvalid_0's binary_logloss: 0.165253\n",
      "[220]\tvalid_0's auc: 0.738759\tvalid_0's binary_logloss: 0.165115\n",
      "[240]\tvalid_0's auc: 0.7393\tvalid_0's binary_logloss: 0.165012\n",
      "[260]\tvalid_0's auc: 0.739815\tvalid_0's binary_logloss: 0.164917\n",
      "[280]\tvalid_0's auc: 0.740271\tvalid_0's binary_logloss: 0.164836\n",
      "[300]\tvalid_0's auc: 0.740588\tvalid_0's binary_logloss: 0.164773\n",
      "[320]\tvalid_0's auc: 0.7409\tvalid_0's binary_logloss: 0.164715\n",
      "[340]\tvalid_0's auc: 0.74117\tvalid_0's binary_logloss: 0.164665\n",
      "[360]\tvalid_0's auc: 0.741333\tvalid_0's binary_logloss: 0.164633\n",
      "[380]\tvalid_0's auc: 0.741567\tvalid_0's binary_logloss: 0.164591\n",
      "[400]\tvalid_0's auc: 0.741723\tvalid_0's binary_logloss: 0.164559\n",
      "[420]\tvalid_0's auc: 0.741854\tvalid_0's binary_logloss: 0.164533\n",
      "[440]\tvalid_0's auc: 0.742069\tvalid_0's binary_logloss: 0.164501\n",
      "[460]\tvalid_0's auc: 0.742156\tvalid_0's binary_logloss: 0.164481\n",
      "[480]\tvalid_0's auc: 0.742216\tvalid_0's binary_logloss: 0.164467\n",
      "[500]\tvalid_0's auc: 0.742362\tvalid_0's binary_logloss: 0.164443\n",
      "[520]\tvalid_0's auc: 0.742407\tvalid_0's binary_logloss: 0.164434\n",
      "[540]\tvalid_0's auc: 0.742419\tvalid_0's binary_logloss: 0.16443\n",
      "[560]\tvalid_0's auc: 0.742452\tvalid_0's binary_logloss: 0.164425\n",
      "[580]\tvalid_0's auc: 0.742469\tvalid_0's binary_logloss: 0.16442\n",
      "[600]\tvalid_0's auc: 0.742475\tvalid_0's binary_logloss: 0.164415\n",
      "[620]\tvalid_0's auc: 0.742509\tvalid_0's binary_logloss: 0.164408\n",
      "[640]\tvalid_0's auc: 0.742577\tvalid_0's binary_logloss: 0.164401\n",
      "[660]\tvalid_0's auc: 0.74259\tvalid_0's binary_logloss: 0.164397\n",
      "[680]\tvalid_0's auc: 0.742663\tvalid_0's binary_logloss: 0.164389\n",
      "[700]\tvalid_0's auc: 0.742603\tvalid_0's binary_logloss: 0.164397\n",
      "[720]\tvalid_0's auc: 0.742593\tvalid_0's binary_logloss: 0.164399\n",
      "Early stopping, best iteration is:\n",
      "[675]\tvalid_0's auc: 0.742678\tvalid_0's binary_logloss: 0.164386\n"
     ]
    }
   ],
   "source": [
    "lgbm_class_model.fit(\n",
    "    X_train,\n",
    "    y_train,\n",
    "    X_val,\n",
    "    y_val,\n",
    ")"
   ]
  },
  {
   "cell_type": "code",
   "execution_count": 18,
   "id": "7a4357dd",
   "metadata": {},
   "outputs": [
    {
     "name": "stderr",
     "output_type": "stream",
     "text": [
      "/Users/rik/.pyenv/versions/3.10.12/lib/python3.10/site-packages/sklearn/utils/validation.py:2739: UserWarning: X does not have valid feature names, but LGBMClassifier was fitted with feature names\n",
      "  warnings.warn(\n"
     ]
    },
    {
     "name": "stdout",
     "output_type": "stream",
     "text": [
      "Validation AUC: 0.7426781732230038\n"
     ]
    },
    {
     "name": "stderr",
     "output_type": "stream",
     "text": [
      "/Users/rik/.pyenv/versions/3.10.12/lib/python3.10/site-packages/sklearn/utils/validation.py:2739: UserWarning: X does not have valid feature names, but LGBMClassifier was fitted with feature names\n",
      "  warnings.warn(\n"
     ]
    },
    {
     "name": "stdout",
     "output_type": "stream",
     "text": [
      "Validation NDCG@5: 0.37621275624795153\n"
     ]
    },
    {
     "data": {
      "text/plain": [
       "(0.7426781732230038, 0.37621275624795153)"
      ]
     },
     "execution_count": 18,
     "metadata": {},
     "output_type": "execute_result"
    }
   ],
   "source": [
    "lgbm_class_model.evaluate_validation(\n",
    "    X_val,\n",
    "    y_val,\n",
    "    train_df,\n",
    "    val_idx\n",
    ")"
   ]
  },
  {
   "cell_type": "code",
   "execution_count": 19,
   "id": "a6367d17",
   "metadata": {},
   "outputs": [
    {
     "name": "stderr",
     "output_type": "stream",
     "text": [
      "/Users/rik/.pyenv/versions/3.10.12/lib/python3.10/site-packages/sklearn/utils/validation.py:2739: UserWarning: X does not have valid feature names, but LGBMClassifier was fitted with feature names\n",
      "  warnings.warn(\n"
     ]
    },
    {
     "name": "stdout",
     "output_type": "stream",
     "text": [
      "Validation NDCG@5: 0.4455873831934228\n"
     ]
    },
    {
     "data": {
      "text/plain": [
       "0.4455873831934228"
      ]
     },
     "execution_count": 19,
     "metadata": {},
     "output_type": "execute_result"
    }
   ],
   "source": [
    "lgbm_class_model.get_ndcg_score(train_df)"
   ]
  },
  {
   "cell_type": "code",
   "execution_count": 20,
   "id": "c1b3fdd1",
   "metadata": {},
   "outputs": [
    {
     "name": "stderr",
     "output_type": "stream",
     "text": [
      "/Users/rik/.pyenv/versions/3.10.12/lib/python3.10/site-packages/sklearn/utils/validation.py:2739: UserWarning: X does not have valid feature names, but LGBMClassifier was fitted with feature names\n",
      "  warnings.warn(\n"
     ]
    },
    {
     "data": {
      "text/html": [
       "<div><style>\n",
       ".dataframe > thead > tr,\n",
       ".dataframe > tbody > tr {\n",
       "  text-align: right;\n",
       "  white-space: pre-wrap;\n",
       "}\n",
       "</style>\n",
       "<small>shape: (4_959_183, 2)</small><table border=\"1\" class=\"dataframe\"><thead><tr><th>srch_id</th><th>prop_id</th></tr><tr><td>i32</td><td>i32</td></tr></thead><tbody><tr><td>1</td><td>54937</td></tr><tr><td>1</td><td>28181</td></tr><tr><td>1</td><td>99484</td></tr><tr><td>1</td><td>61934</td></tr><tr><td>1</td><td>5543</td></tr><tr><td>&hellip;</td><td>&hellip;</td></tr><tr><td>332787</td><td>29018</td></tr><tr><td>332787</td><td>32019</td></tr><tr><td>332787</td><td>99509</td></tr><tr><td>332787</td><td>94437</td></tr><tr><td>332787</td><td>35240</td></tr></tbody></table></div>"
      ],
      "text/plain": [
       "shape: (4_959_183, 2)\n",
       "┌─────────┬─────────┐\n",
       "│ srch_id ┆ prop_id │\n",
       "│ ---     ┆ ---     │\n",
       "│ i32     ┆ i32     │\n",
       "╞═════════╪═════════╡\n",
       "│ 1       ┆ 54937   │\n",
       "│ 1       ┆ 28181   │\n",
       "│ 1       ┆ 99484   │\n",
       "│ 1       ┆ 61934   │\n",
       "│ 1       ┆ 5543    │\n",
       "│ …       ┆ …       │\n",
       "│ 332787  ┆ 29018   │\n",
       "│ 332787  ┆ 32019   │\n",
       "│ 332787  ┆ 99509   │\n",
       "│ 332787  ┆ 94437   │\n",
       "│ 332787  ┆ 35240   │\n",
       "└─────────┴─────────┘"
      ]
     },
     "execution_count": 20,
     "metadata": {},
     "output_type": "execute_result"
    }
   ],
   "source": [
    "lgbm_class_model.get_final_predictions(test_df)"
   ]
  }
 ],
 "metadata": {
  "kernelspec": {
   "display_name": "3.10.12",
   "language": "python",
   "name": "python3"
  },
  "language_info": {
   "codemirror_mode": {
    "name": "ipython",
    "version": 3
   },
   "file_extension": ".py",
   "mimetype": "text/x-python",
   "name": "python",
   "nbconvert_exporter": "python",
   "pygments_lexer": "ipython3",
   "version": "3.10.12"
  }
 },
 "nbformat": 4,
 "nbformat_minor": 5
}
