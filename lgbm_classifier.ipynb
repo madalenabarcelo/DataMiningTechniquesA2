{
 "cells": [
  {
   "cell_type": "code",
   "execution_count": 10,
   "id": "3f1266d2",
   "metadata": {},
   "outputs": [
    {
     "name": "stdout",
     "output_type": "stream",
     "text": [
      "The autoreload extension is already loaded. To reload it, use:\n",
      "  %reload_ext autoreload\n",
      "Path (/Users/rik/Documents/VU/DMT/DataMiningTechniquesA2) already exists in sys.path\n"
     ]
    }
   ],
   "source": [
    "%load_ext autoreload\n",
    "%autoreload 2\n",
    "%run ./initializer"
   ]
  },
  {
   "cell_type": "code",
   "execution_count": 11,
   "id": "fecde38d",
   "metadata": {},
   "outputs": [],
   "source": [
    "import pandas as pd\n",
    "from lgbm_classifier import LGBMClassifierModel\n",
    "from lightgbm import LGBMClassifier"
   ]
  },
  {
   "cell_type": "code",
   "execution_count": 12,
   "id": "c15dc4d9",
   "metadata": {},
   "outputs": [],
   "source": [
    "train_df = pd.read_parquet(\"data/training_set_processed.parquet\")\n",
    "test_df = pd.read_parquet(\"data/test_set_processed.parquet\")"
   ]
  },
  {
   "cell_type": "code",
   "execution_count": 13,
   "id": "03aa93eb",
   "metadata": {},
   "outputs": [],
   "source": [
    "lgbm_class_model = LGBMClassifierModel(\n",
    "    df = train_df,              # Only initialized to get column names\n",
    "    objective=\"binary\",         # binary click prediction\n",
    "    boosting_type=\"gbdt\",       # gradient‑boosted decision trees\n",
    "    n_estimators=1000,          # upper cap on number of trees\n",
    "    learning_rate=0.05,\n",
    ")\n",
    "X_train, y_train, X_val, y_val, val_idx = lgbm_class_model.format_data(train_df)"
   ]
  },
  {
   "cell_type": "code",
   "execution_count": 14,
   "id": "b11d26f8",
   "metadata": {},
   "outputs": [
    {
     "name": "stdout",
     "output_type": "stream",
     "text": [
      "[LightGBM] [Warning] Categorical features with more bins than the configured maximum bin number found.\n",
      "[LightGBM] [Warning] For categorical features, max_bin and max_bin_by_feature may be ignored with a large number of categories.\n",
      "[LightGBM] [Info] Number of positive: 177546, number of negative: 3789131\n",
      "[LightGBM] [Info] Auto-choosing row-wise multi-threading, the overhead of testing was 0.287477 seconds.\n",
      "You can set `force_row_wise=true` to remove the overhead.\n",
      "And if memory is not enough, you can set `force_col_wise=true`.\n",
      "[LightGBM] [Info] Total Bins 11308\n",
      "[LightGBM] [Info] Number of data points in the train set: 3966677, number of used features: 92\n",
      "[LightGBM] [Info] [binary:BoostFromScore]: pavg=0.044759 -> initscore=-3.060662\n",
      "[LightGBM] [Info] Start training from score -3.060662\n",
      "Training until validation scores don't improve for 50 rounds\n",
      "[20]\tvalid_0's auc: 0.709612\tvalid_0's binary_logloss: 0.171356\n",
      "[40]\tvalid_0's auc: 0.718063\tvalid_0's binary_logloss: 0.168822\n",
      "[60]\tvalid_0's auc: 0.72385\tvalid_0's binary_logloss: 0.167681\n",
      "[80]\tvalid_0's auc: 0.727879\tvalid_0's binary_logloss: 0.16696\n",
      "[100]\tvalid_0's auc: 0.730869\tvalid_0's binary_logloss: 0.166469\n",
      "[120]\tvalid_0's auc: 0.732976\tvalid_0's binary_logloss: 0.166102\n",
      "[140]\tvalid_0's auc: 0.734646\tvalid_0's binary_logloss: 0.165816\n",
      "[160]\tvalid_0's auc: 0.735942\tvalid_0's binary_logloss: 0.1656\n",
      "[180]\tvalid_0's auc: 0.737019\tvalid_0's binary_logloss: 0.165415\n",
      "[200]\tvalid_0's auc: 0.737925\tvalid_0's binary_logloss: 0.165258\n",
      "[220]\tvalid_0's auc: 0.738702\tvalid_0's binary_logloss: 0.165119\n",
      "[240]\tvalid_0's auc: 0.739261\tvalid_0's binary_logloss: 0.16502\n",
      "[260]\tvalid_0's auc: 0.739743\tvalid_0's binary_logloss: 0.164929\n",
      "[280]\tvalid_0's auc: 0.740157\tvalid_0's binary_logloss: 0.164849\n",
      "[300]\tvalid_0's auc: 0.740509\tvalid_0's binary_logloss: 0.164784\n",
      "[320]\tvalid_0's auc: 0.740822\tvalid_0's binary_logloss: 0.164723\n",
      "[340]\tvalid_0's auc: 0.74108\tvalid_0's binary_logloss: 0.164675\n",
      "[360]\tvalid_0's auc: 0.741352\tvalid_0's binary_logloss: 0.164625\n",
      "[380]\tvalid_0's auc: 0.74152\tvalid_0's binary_logloss: 0.164591\n",
      "[400]\tvalid_0's auc: 0.741767\tvalid_0's binary_logloss: 0.164551\n",
      "[420]\tvalid_0's auc: 0.741886\tvalid_0's binary_logloss: 0.164527\n",
      "[440]\tvalid_0's auc: 0.742031\tvalid_0's binary_logloss: 0.164502\n",
      "[460]\tvalid_0's auc: 0.742127\tvalid_0's binary_logloss: 0.16448\n",
      "[480]\tvalid_0's auc: 0.742234\tvalid_0's binary_logloss: 0.164463\n",
      "[500]\tvalid_0's auc: 0.742307\tvalid_0's binary_logloss: 0.164448\n",
      "[520]\tvalid_0's auc: 0.7424\tvalid_0's binary_logloss: 0.16443\n",
      "[540]\tvalid_0's auc: 0.742504\tvalid_0's binary_logloss: 0.164414\n",
      "[560]\tvalid_0's auc: 0.742625\tvalid_0's binary_logloss: 0.164394\n",
      "[580]\tvalid_0's auc: 0.742693\tvalid_0's binary_logloss: 0.164382\n",
      "[600]\tvalid_0's auc: 0.74271\tvalid_0's binary_logloss: 0.164378\n",
      "[620]\tvalid_0's auc: 0.742715\tvalid_0's binary_logloss: 0.164378\n",
      "[640]\tvalid_0's auc: 0.742722\tvalid_0's binary_logloss: 0.164373\n",
      "[660]\tvalid_0's auc: 0.742704\tvalid_0's binary_logloss: 0.164377\n",
      "Early stopping, best iteration is:\n",
      "[615]\tvalid_0's auc: 0.742729\tvalid_0's binary_logloss: 0.164376\n"
     ]
    }
   ],
   "source": [
    "lgbm_class_model.fit(\n",
    "    X_train,\n",
    "    y_train,\n",
    "    X_val,\n",
    "    y_val,\n",
    ")"
   ]
  },
  {
   "cell_type": "code",
   "execution_count": 16,
   "id": "7a4357dd",
   "metadata": {},
   "outputs": [
    {
     "name": "stdout",
     "output_type": "stream",
     "text": [
      "Validation AUC: 0.7427294881560009\n"
     ]
    },
    {
     "name": "stderr",
     "output_type": "stream",
     "text": [
      "/Users/rik/Documents/VU/DMT/DataMiningTechniquesA2/lgbm_classifier.py:141: SettingWithCopyWarning: \n",
      "A value is trying to be set on a copy of a slice from a DataFrame.\n",
      "Try using .loc[row_indexer,col_indexer] = value instead\n",
      "\n",
      "See the caveats in the documentation: https://pandas.pydata.org/pandas-docs/stable/user_guide/indexing.html#returning-a-view-versus-a-copy\n",
      "  df['score'] = predictions\n"
     ]
    },
    {
     "name": "stdout",
     "output_type": "stream",
     "text": [
      "Validation NDCG@5: 0.3759917362136209\n"
     ]
    },
    {
     "data": {
      "text/plain": [
       "(0.7427294881560009, 0.3759917362136209)"
      ]
     },
     "execution_count": 16,
     "metadata": {},
     "output_type": "execute_result"
    }
   ],
   "source": [
    "lgbm_class_model.evaluate_validation(\n",
    "    X_val,\n",
    "    y_val,\n",
    "    train_df,\n",
    "    val_idx\n",
    ")"
   ]
  },
  {
   "cell_type": "code",
   "execution_count": 17,
   "id": "a6367d17",
   "metadata": {},
   "outputs": [
    {
     "name": "stdout",
     "output_type": "stream",
     "text": [
      "Validation NDCG@5: 0.44144673982070093\n"
     ]
    },
    {
     "data": {
      "text/plain": [
       "0.44144673982070093"
      ]
     },
     "execution_count": 17,
     "metadata": {},
     "output_type": "execute_result"
    }
   ],
   "source": [
    "lgbm_class_model.get_ndcg_score(train_df)"
   ]
  },
  {
   "cell_type": "code",
   "execution_count": 18,
   "id": "c1b3fdd1",
   "metadata": {},
   "outputs": [
    {
     "data": {
      "text/html": [
       "<div>\n",
       "<style scoped>\n",
       "    .dataframe tbody tr th:only-of-type {\n",
       "        vertical-align: middle;\n",
       "    }\n",
       "\n",
       "    .dataframe tbody tr th {\n",
       "        vertical-align: top;\n",
       "    }\n",
       "\n",
       "    .dataframe thead th {\n",
       "        text-align: right;\n",
       "    }\n",
       "</style>\n",
       "<table border=\"1\" class=\"dataframe\">\n",
       "  <thead>\n",
       "    <tr style=\"text-align: right;\">\n",
       "      <th></th>\n",
       "      <th>srch_id</th>\n",
       "      <th>prop_id</th>\n",
       "      <th>score</th>\n",
       "    </tr>\n",
       "  </thead>\n",
       "  <tbody>\n",
       "    <tr>\n",
       "      <th>9</th>\n",
       "      <td>1</td>\n",
       "      <td>54937</td>\n",
       "      <td>0.132118</td>\n",
       "    </tr>\n",
       "    <tr>\n",
       "      <th>5</th>\n",
       "      <td>1</td>\n",
       "      <td>28181</td>\n",
       "      <td>0.106891</td>\n",
       "    </tr>\n",
       "    <tr>\n",
       "      <th>12</th>\n",
       "      <td>1</td>\n",
       "      <td>61934</td>\n",
       "      <td>0.087581</td>\n",
       "    </tr>\n",
       "    <tr>\n",
       "      <th>23</th>\n",
       "      <td>1</td>\n",
       "      <td>99484</td>\n",
       "      <td>0.086846</td>\n",
       "    </tr>\n",
       "    <tr>\n",
       "      <th>1</th>\n",
       "      <td>1</td>\n",
       "      <td>5543</td>\n",
       "      <td>0.056554</td>\n",
       "    </tr>\n",
       "    <tr>\n",
       "      <th>...</th>\n",
       "      <td>...</td>\n",
       "      <td>...</td>\n",
       "      <td>...</td>\n",
       "    </tr>\n",
       "    <tr>\n",
       "      <th>4959177</th>\n",
       "      <td>332787</td>\n",
       "      <td>29018</td>\n",
       "      <td>0.202499</td>\n",
       "    </tr>\n",
       "    <tr>\n",
       "      <th>4959178</th>\n",
       "      <td>332787</td>\n",
       "      <td>32019</td>\n",
       "      <td>0.200721</td>\n",
       "    </tr>\n",
       "    <tr>\n",
       "      <th>4959182</th>\n",
       "      <td>332787</td>\n",
       "      <td>99509</td>\n",
       "      <td>0.188598</td>\n",
       "    </tr>\n",
       "    <tr>\n",
       "      <th>4959181</th>\n",
       "      <td>332787</td>\n",
       "      <td>94437</td>\n",
       "      <td>0.156132</td>\n",
       "    </tr>\n",
       "    <tr>\n",
       "      <th>4959180</th>\n",
       "      <td>332787</td>\n",
       "      <td>35240</td>\n",
       "      <td>0.106375</td>\n",
       "    </tr>\n",
       "  </tbody>\n",
       "</table>\n",
       "<p>4959183 rows × 3 columns</p>\n",
       "</div>"
      ],
      "text/plain": [
       "         srch_id  prop_id     score\n",
       "9              1    54937  0.132118\n",
       "5              1    28181  0.106891\n",
       "12             1    61934  0.087581\n",
       "23             1    99484  0.086846\n",
       "1              1     5543  0.056554\n",
       "...          ...      ...       ...\n",
       "4959177   332787    29018  0.202499\n",
       "4959178   332787    32019  0.200721\n",
       "4959182   332787    99509  0.188598\n",
       "4959181   332787    94437  0.156132\n",
       "4959180   332787    35240  0.106375\n",
       "\n",
       "[4959183 rows x 3 columns]"
      ]
     },
     "execution_count": 18,
     "metadata": {},
     "output_type": "execute_result"
    }
   ],
   "source": [
    "lgbm_class_model.get_final_predictions(test_df)"
   ]
  }
 ],
 "metadata": {
  "kernelspec": {
   "display_name": "3.10.12",
   "language": "python",
   "name": "python3"
  },
  "language_info": {
   "codemirror_mode": {
    "name": "ipython",
    "version": 3
   },
   "file_extension": ".py",
   "mimetype": "text/x-python",
   "name": "python",
   "nbconvert_exporter": "python",
   "pygments_lexer": "ipython3",
   "version": "3.10.12"
  }
 },
 "nbformat": 4,
 "nbformat_minor": 5
}
