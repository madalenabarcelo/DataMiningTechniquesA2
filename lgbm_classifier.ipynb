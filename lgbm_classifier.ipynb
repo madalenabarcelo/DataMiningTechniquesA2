{
 "cells": [
  {
   "cell_type": "code",
   "execution_count": 1,
   "id": "3f1266d2",
   "metadata": {},
   "outputs": [
    {
     "name": "stdout",
     "output_type": "stream",
     "text": [
      "Path (/Users/rik/Documents/VU/DMT/DataMiningTechniquesA2) already exists in sys.path\n"
     ]
    }
   ],
   "source": [
    "%load_ext autoreload\n",
    "%autoreload 2\n",
    "%run ./initializer"
   ]
  },
  {
   "cell_type": "code",
   "execution_count": 2,
   "id": "fecde38d",
   "metadata": {},
   "outputs": [],
   "source": [
    "import polars as pl\n",
    "from lgbm_classifier import LGBMClassifierModel\n",
    "from lightgbm import LGBMClassifier"
   ]
  },
  {
   "cell_type": "code",
   "execution_count": 3,
   "id": "c15dc4d9",
   "metadata": {},
   "outputs": [],
   "source": [
    "train_df = pl.read_parquet(\"data/training_set_processed.parquet\")\n",
    "test_df = pl.read_parquet(\"data/test_set_processed.parquet\")"
   ]
  },
  {
   "cell_type": "code",
   "execution_count": 4,
   "id": "03aa93eb",
   "metadata": {},
   "outputs": [],
   "source": [
    "lgbm_class_model = LGBMClassifierModel(\n",
    "    objective=\"binary\",        # binary click prediction\n",
    "    boosting_type=\"gbdt\",      # gradient‑boosted decision trees\n",
    "    n_estimators=1000,         # upper cap on number of trees\n",
    "    learning_rate=0.05,\n",
    ")\n",
    "X_train, y_train, X_val, y_val, val_idx = lgbm_class_model.format_data(train_df)"
   ]
  },
  {
   "cell_type": "code",
   "execution_count": 5,
   "id": "b11d26f8",
   "metadata": {},
   "outputs": [
    {
     "name": "stdout",
     "output_type": "stream",
     "text": [
      "[LightGBM] [Info] Number of positive: 177546, number of negative: 3789131\n",
      "[LightGBM] [Info] Auto-choosing row-wise multi-threading, the overhead of testing was 0.309454 seconds.\n",
      "You can set `force_row_wise=true` to remove the overhead.\n",
      "And if memory is not enough, you can set `force_col_wise=true`.\n",
      "[LightGBM] [Info] Total Bins 4111\n",
      "[LightGBM] [Info] Number of data points in the train set: 3966677, number of used features: 90\n",
      "[LightGBM] [Info] [binary:BoostFromScore]: pavg=0.044759 -> initscore=-3.060662\n",
      "[LightGBM] [Info] Start training from score -3.060662\n",
      "Training until validation scores don't improve for 50 rounds\n",
      "[20]\tvalid_0's auc: 0.673362\tvalid_0's binary_logloss: 0.17457\n",
      "[40]\tvalid_0's auc: 0.679599\tvalid_0's binary_logloss: 0.172939\n",
      "[60]\tvalid_0's auc: 0.684193\tvalid_0's binary_logloss: 0.172238\n",
      "[80]\tvalid_0's auc: 0.687973\tvalid_0's binary_logloss: 0.171766\n",
      "[100]\tvalid_0's auc: 0.690425\tvalid_0's binary_logloss: 0.171452\n",
      "[120]\tvalid_0's auc: 0.692334\tvalid_0's binary_logloss: 0.17121\n",
      "[140]\tvalid_0's auc: 0.693799\tvalid_0's binary_logloss: 0.171024\n",
      "[160]\tvalid_0's auc: 0.695099\tvalid_0's binary_logloss: 0.170859\n",
      "[180]\tvalid_0's auc: 0.695974\tvalid_0's binary_logloss: 0.170745\n",
      "[200]\tvalid_0's auc: 0.696632\tvalid_0's binary_logloss: 0.170665\n",
      "[220]\tvalid_0's auc: 0.697115\tvalid_0's binary_logloss: 0.170606\n",
      "[240]\tvalid_0's auc: 0.697418\tvalid_0's binary_logloss: 0.170568\n",
      "[260]\tvalid_0's auc: 0.69772\tvalid_0's binary_logloss: 0.17053\n",
      "[280]\tvalid_0's auc: 0.698082\tvalid_0's binary_logloss: 0.170487\n",
      "[300]\tvalid_0's auc: 0.698325\tvalid_0's binary_logloss: 0.170454\n",
      "[320]\tvalid_0's auc: 0.698694\tvalid_0's binary_logloss: 0.170412\n",
      "[340]\tvalid_0's auc: 0.698986\tvalid_0's binary_logloss: 0.170372\n",
      "[360]\tvalid_0's auc: 0.699278\tvalid_0's binary_logloss: 0.170341\n",
      "[380]\tvalid_0's auc: 0.699425\tvalid_0's binary_logloss: 0.170322\n",
      "[400]\tvalid_0's auc: 0.699697\tvalid_0's binary_logloss: 0.170292\n",
      "[420]\tvalid_0's auc: 0.699818\tvalid_0's binary_logloss: 0.170277\n",
      "[440]\tvalid_0's auc: 0.700011\tvalid_0's binary_logloss: 0.170254\n",
      "[460]\tvalid_0's auc: 0.700205\tvalid_0's binary_logloss: 0.17023\n",
      "[480]\tvalid_0's auc: 0.700385\tvalid_0's binary_logloss: 0.170212\n",
      "[500]\tvalid_0's auc: 0.700585\tvalid_0's binary_logloss: 0.170189\n",
      "[520]\tvalid_0's auc: 0.700806\tvalid_0's binary_logloss: 0.170161\n",
      "[540]\tvalid_0's auc: 0.700958\tvalid_0's binary_logloss: 0.170141\n",
      "[560]\tvalid_0's auc: 0.701044\tvalid_0's binary_logloss: 0.17013\n",
      "[580]\tvalid_0's auc: 0.701185\tvalid_0's binary_logloss: 0.170114\n",
      "[600]\tvalid_0's auc: 0.701327\tvalid_0's binary_logloss: 0.170095\n",
      "[620]\tvalid_0's auc: 0.701425\tvalid_0's binary_logloss: 0.170083\n",
      "[640]\tvalid_0's auc: 0.701602\tvalid_0's binary_logloss: 0.170062\n",
      "[660]\tvalid_0's auc: 0.701645\tvalid_0's binary_logloss: 0.170055\n",
      "[680]\tvalid_0's auc: 0.701805\tvalid_0's binary_logloss: 0.170035\n",
      "[700]\tvalid_0's auc: 0.701846\tvalid_0's binary_logloss: 0.170029\n",
      "[720]\tvalid_0's auc: 0.701951\tvalid_0's binary_logloss: 0.170014\n",
      "[740]\tvalid_0's auc: 0.702039\tvalid_0's binary_logloss: 0.170002\n",
      "[760]\tvalid_0's auc: 0.702069\tvalid_0's binary_logloss: 0.169999\n",
      "[780]\tvalid_0's auc: 0.702163\tvalid_0's binary_logloss: 0.169984\n",
      "[800]\tvalid_0's auc: 0.702187\tvalid_0's binary_logloss: 0.169981\n",
      "[820]\tvalid_0's auc: 0.702306\tvalid_0's binary_logloss: 0.169964\n",
      "[840]\tvalid_0's auc: 0.702386\tvalid_0's binary_logloss: 0.169954\n",
      "[860]\tvalid_0's auc: 0.702454\tvalid_0's binary_logloss: 0.169945\n",
      "[880]\tvalid_0's auc: 0.702546\tvalid_0's binary_logloss: 0.169936\n",
      "[900]\tvalid_0's auc: 0.702611\tvalid_0's binary_logloss: 0.169927\n",
      "[920]\tvalid_0's auc: 0.702803\tvalid_0's binary_logloss: 0.169903\n",
      "[940]\tvalid_0's auc: 0.702887\tvalid_0's binary_logloss: 0.169892\n",
      "[960]\tvalid_0's auc: 0.702963\tvalid_0's binary_logloss: 0.169883\n",
      "[980]\tvalid_0's auc: 0.70303\tvalid_0's binary_logloss: 0.169878\n",
      "[1000]\tvalid_0's auc: 0.7031\tvalid_0's binary_logloss: 0.169869\n",
      "Did not meet early stopping. Best iteration is:\n",
      "[997]\tvalid_0's auc: 0.7031\tvalid_0's binary_logloss: 0.169869\n"
     ]
    }
   ],
   "source": [
    "lgbm_class_model.fit(\n",
    "    X_train,\n",
    "    y_train,\n",
    "    X_val,\n",
    "    y_val,\n",
    ")"
   ]
  },
  {
   "cell_type": "code",
   "execution_count": 6,
   "id": "7a4357dd",
   "metadata": {},
   "outputs": [
    {
     "name": "stderr",
     "output_type": "stream",
     "text": [
      "/Users/rik/.pyenv/versions/3.10.12/lib/python3.10/site-packages/sklearn/utils/validation.py:2739: UserWarning: X does not have valid feature names, but LGBMClassifier was fitted with feature names\n",
      "  warnings.warn(\n"
     ]
    },
    {
     "name": "stdout",
     "output_type": "stream",
     "text": [
      "Validation AUC: 0.7031004501853374\n"
     ]
    },
    {
     "name": "stderr",
     "output_type": "stream",
     "text": [
      "/Users/rik/.pyenv/versions/3.10.12/lib/python3.10/site-packages/sklearn/utils/validation.py:2739: UserWarning: X does not have valid feature names, but LGBMClassifier was fitted with feature names\n",
      "  warnings.warn(\n"
     ]
    },
    {
     "name": "stdout",
     "output_type": "stream",
     "text": [
      "Validation NDCG@5: 0.3650494703854104\n"
     ]
    },
    {
     "data": {
      "text/plain": [
       "(0.7031004501853374, 0.3650494703854104)"
      ]
     },
     "execution_count": 6,
     "metadata": {},
     "output_type": "execute_result"
    }
   ],
   "source": [
    "lgbm_class_model.evaluate_validation(\n",
    "    X_val,\n",
    "    y_val,\n",
    "    train_df,\n",
    "    val_idx\n",
    ")"
   ]
  },
  {
   "cell_type": "code",
   "execution_count": 7,
   "id": "a6367d17",
   "metadata": {},
   "outputs": [
    {
     "name": "stderr",
     "output_type": "stream",
     "text": [
      "/Users/rik/.pyenv/versions/3.10.12/lib/python3.10/site-packages/sklearn/utils/validation.py:2739: UserWarning: X does not have valid feature names, but LGBMClassifier was fitted with feature names\n",
      "  warnings.warn(\n"
     ]
    },
    {
     "name": "stdout",
     "output_type": "stream",
     "text": [
      "Validation NDCG@5: 0.40308657874816245\n"
     ]
    },
    {
     "data": {
      "text/plain": [
       "0.40308657874816245"
      ]
     },
     "execution_count": 7,
     "metadata": {},
     "output_type": "execute_result"
    }
   ],
   "source": [
    "lgbm_class_model.get_ndcg_score(train_df)"
   ]
  },
  {
   "cell_type": "code",
   "execution_count": 8,
   "id": "c1b3fdd1",
   "metadata": {},
   "outputs": [
    {
     "name": "stderr",
     "output_type": "stream",
     "text": [
      "/Users/rik/.pyenv/versions/3.10.12/lib/python3.10/site-packages/sklearn/utils/validation.py:2739: UserWarning: X does not have valid feature names, but LGBMClassifier was fitted with feature names\n",
      "  warnings.warn(\n"
     ]
    },
    {
     "data": {
      "text/html": [
       "<div><style>\n",
       ".dataframe > thead > tr,\n",
       ".dataframe > tbody > tr {\n",
       "  text-align: right;\n",
       "  white-space: pre-wrap;\n",
       "}\n",
       "</style>\n",
       "<small>shape: (4_959_183, 2)</small><table border=\"1\" class=\"dataframe\"><thead><tr><th>srch_id</th><th>prop_id</th></tr><tr><td>i32</td><td>i32</td></tr></thead><tbody><tr><td>1</td><td>99484</td></tr><tr><td>1</td><td>54937</td></tr><tr><td>1</td><td>61934</td></tr><tr><td>1</td><td>28181</td></tr><tr><td>1</td><td>24194</td></tr><tr><td>&hellip;</td><td>&hellip;</td></tr><tr><td>332787</td><td>32019</td></tr><tr><td>332787</td><td>29018</td></tr><tr><td>332787</td><td>94437</td></tr><tr><td>332787</td><td>99509</td></tr><tr><td>332787</td><td>35240</td></tr></tbody></table></div>"
      ],
      "text/plain": [
       "shape: (4_959_183, 2)\n",
       "┌─────────┬─────────┐\n",
       "│ srch_id ┆ prop_id │\n",
       "│ ---     ┆ ---     │\n",
       "│ i32     ┆ i32     │\n",
       "╞═════════╪═════════╡\n",
       "│ 1       ┆ 99484   │\n",
       "│ 1       ┆ 54937   │\n",
       "│ 1       ┆ 61934   │\n",
       "│ 1       ┆ 28181   │\n",
       "│ 1       ┆ 24194   │\n",
       "│ …       ┆ …       │\n",
       "│ 332787  ┆ 32019   │\n",
       "│ 332787  ┆ 29018   │\n",
       "│ 332787  ┆ 94437   │\n",
       "│ 332787  ┆ 99509   │\n",
       "│ 332787  ┆ 35240   │\n",
       "└─────────┴─────────┘"
      ]
     },
     "execution_count": 8,
     "metadata": {},
     "output_type": "execute_result"
    }
   ],
   "source": [
    "lgbm_class_model.get_final_predictions(test_df)"
   ]
  }
 ],
 "metadata": {
  "kernelspec": {
   "display_name": "3.10.12",
   "language": "python",
   "name": "python3"
  },
  "language_info": {
   "codemirror_mode": {
    "name": "ipython",
    "version": 3
   },
   "file_extension": ".py",
   "mimetype": "text/x-python",
   "name": "python",
   "nbconvert_exporter": "python",
   "pygments_lexer": "ipython3",
   "version": "3.10.12"
  }
 },
 "nbformat": 4,
 "nbformat_minor": 5
}
