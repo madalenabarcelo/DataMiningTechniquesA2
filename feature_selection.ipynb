{
 "cells": [
  {
   "cell_type": "code",
   "execution_count": 1,
   "id": "e882a1b3",
   "metadata": {},
   "outputs": [
    {
     "name": "stdout",
     "output_type": "stream",
     "text": [
      "Path (/Users/rik/Documents/VU/DMT/DataMiningTechniquesA2) already exists in sys.path\n"
     ]
    }
   ],
   "source": [
    "%load_ext autoreload\n",
    "%autoreload 2\n",
    "%run ./initializer"
   ]
  },
  {
   "cell_type": "code",
   "execution_count": 2,
   "id": "3c4cd098",
   "metadata": {},
   "outputs": [
    {
     "name": "stderr",
     "output_type": "stream",
     "text": [
      "/Users/rik/.pyenv/versions/3.10.12/lib/python3.10/site-packages/tqdm/auto.py:21: TqdmWarning: IProgress not found. Please update jupyter and ipywidgets. See https://ipywidgets.readthedocs.io/en/stable/user_install.html\n",
      "  from .autonotebook import tqdm as notebook_tqdm\n"
     ]
    }
   ],
   "source": [
    "import pandas as pd\n",
    "from lgbm_ranker import LGBMRankerModel, LGBMRanker\n",
    "from feature_tester import FeatureTester\n",
    "import numpy as np"
   ]
  },
  {
   "cell_type": "code",
   "execution_count": 11,
   "id": "3fbb87f7",
   "metadata": {},
   "outputs": [
    {
     "name": "stdout",
     "output_type": "stream",
     "text": [
      "Evaluating top 70 features\n",
      "Training on fold 1\n"
     ]
    },
    {
     "name": "stderr",
     "output_type": "stream",
     "text": [
      "/Users/rik/.pyenv/versions/3.10.12/lib/python3.10/site-packages/lightgbm/sklearn.py:861: UserWarning: Found 'ndcg_eval_at' in params. Will use it instead of 'eval_at' argument\n",
      "  _log_warning(f\"Found '{alias}' in params. Will use it instead of 'eval_at' argument\")\n"
     ]
    },
    {
     "name": "stdout",
     "output_type": "stream",
     "text": [
      "[LightGBM] [Info] Auto-choosing row-wise multi-threading, the overhead of testing was 0.173370 seconds.\n",
      "You can set `force_row_wise=true` to remove the overhead.\n",
      "And if memory is not enough, you can set `force_col_wise=true`.\n",
      "[LightGBM] [Info] Total Bins 7109\n",
      "[LightGBM] [Info] Number of data points in the train set: 3305566, number of used features: 70\n",
      "Training until validation scores don't improve for 80 rounds\n",
      "[250]\tvalid_0's ndcg@5: 0.402846\n",
      "[500]\tvalid_0's ndcg@5: 0.407179\n",
      "[750]\tvalid_0's ndcg@5: 0.407728\n",
      "Early stopping, best iteration is:\n",
      "[734]\tvalid_0's ndcg@5: 0.408029\n",
      "Training on fold 2\n"
     ]
    },
    {
     "name": "stderr",
     "output_type": "stream",
     "text": [
      "/Users/rik/.pyenv/versions/3.10.12/lib/python3.10/site-packages/lightgbm/sklearn.py:861: UserWarning: Found 'ndcg_eval_at' in params. Will use it instead of 'eval_at' argument\n",
      "  _log_warning(f\"Found '{alias}' in params. Will use it instead of 'eval_at' argument\")\n"
     ]
    },
    {
     "name": "stdout",
     "output_type": "stream",
     "text": [
      "[LightGBM] [Info] Auto-choosing row-wise multi-threading, the overhead of testing was 0.186965 seconds.\n",
      "You can set `force_row_wise=true` to remove the overhead.\n",
      "And if memory is not enough, you can set `force_col_wise=true`.\n",
      "[LightGBM] [Info] Total Bins 7123\n",
      "[LightGBM] [Info] Number of data points in the train set: 3305566, number of used features: 70\n",
      "Training until validation scores don't improve for 80 rounds\n",
      "[250]\tvalid_0's ndcg@5: 0.401155\n",
      "[500]\tvalid_0's ndcg@5: 0.405498\n",
      "[750]\tvalid_0's ndcg@5: 0.40557\n",
      "Early stopping, best iteration is:\n",
      "[686]\tvalid_0's ndcg@5: 0.405838\n",
      "Training on fold 3\n"
     ]
    },
    {
     "name": "stderr",
     "output_type": "stream",
     "text": [
      "/Users/rik/.pyenv/versions/3.10.12/lib/python3.10/site-packages/lightgbm/sklearn.py:861: UserWarning: Found 'ndcg_eval_at' in params. Will use it instead of 'eval_at' argument\n",
      "  _log_warning(f\"Found '{alias}' in params. Will use it instead of 'eval_at' argument\")\n"
     ]
    },
    {
     "name": "stdout",
     "output_type": "stream",
     "text": [
      "[LightGBM] [Info] Auto-choosing row-wise multi-threading, the overhead of testing was 0.219193 seconds.\n",
      "You can set `force_row_wise=true` to remove the overhead.\n",
      "And if memory is not enough, you can set `force_col_wise=true`.\n",
      "[LightGBM] [Info] Total Bins 7128\n",
      "[LightGBM] [Info] Number of data points in the train set: 3305562, number of used features: 70\n",
      "Training until validation scores don't improve for 80 rounds\n",
      "[250]\tvalid_0's ndcg@5: 0.403204\n",
      "[500]\tvalid_0's ndcg@5: 0.406887\n",
      "Early stopping, best iteration is:\n",
      "[559]\tvalid_0's ndcg@5: 0.407598\n",
      "Top 70 features: NDCG@5 = 0.4072\n",
      "Evaluating top 105 features\n",
      "Training on fold 1\n"
     ]
    },
    {
     "name": "stderr",
     "output_type": "stream",
     "text": [
      "/Users/rik/.pyenv/versions/3.10.12/lib/python3.10/site-packages/lightgbm/sklearn.py:861: UserWarning: Found 'ndcg_eval_at' in params. Will use it instead of 'eval_at' argument\n",
      "  _log_warning(f\"Found '{alias}' in params. Will use it instead of 'eval_at' argument\")\n"
     ]
    },
    {
     "name": "stdout",
     "output_type": "stream",
     "text": [
      "[LightGBM] [Warning] Met categorical feature which contains sparse values. Consider renumbering to consecutive integers started from zero\n",
      "[LightGBM] [Info] Auto-choosing row-wise multi-threading, the overhead of testing was 0.313460 seconds.\n",
      "You can set `force_row_wise=true` to remove the overhead.\n",
      "And if memory is not enough, you can set `force_col_wise=true`.\n",
      "[LightGBM] [Info] Total Bins 8334\n",
      "[LightGBM] [Info] Number of data points in the train set: 3305566, number of used features: 105\n",
      "Training until validation scores don't improve for 80 rounds\n",
      "[250]\tvalid_0's ndcg@5: 0.402388\n",
      "[500]\tvalid_0's ndcg@5: 0.406923\n",
      "Early stopping, best iteration is:\n",
      "[604]\tvalid_0's ndcg@5: 0.40755\n",
      "Training on fold 2\n"
     ]
    },
    {
     "name": "stderr",
     "output_type": "stream",
     "text": [
      "/Users/rik/.pyenv/versions/3.10.12/lib/python3.10/site-packages/lightgbm/sklearn.py:861: UserWarning: Found 'ndcg_eval_at' in params. Will use it instead of 'eval_at' argument\n",
      "  _log_warning(f\"Found '{alias}' in params. Will use it instead of 'eval_at' argument\")\n"
     ]
    },
    {
     "name": "stdout",
     "output_type": "stream",
     "text": [
      "[LightGBM] [Warning] Met categorical feature which contains sparse values. Consider renumbering to consecutive integers started from zero\n",
      "[LightGBM] [Info] Auto-choosing row-wise multi-threading, the overhead of testing was 0.328286 seconds.\n",
      "You can set `force_row_wise=true` to remove the overhead.\n",
      "And if memory is not enough, you can set `force_col_wise=true`.\n",
      "[LightGBM] [Info] Total Bins 8357\n",
      "[LightGBM] [Info] Number of data points in the train set: 3305566, number of used features: 105\n",
      "Training until validation scores don't improve for 80 rounds\n",
      "[250]\tvalid_0's ndcg@5: 0.401304\n",
      "[500]\tvalid_0's ndcg@5: 0.405488\n",
      "[750]\tvalid_0's ndcg@5: 0.406368\n",
      "Early stopping, best iteration is:\n",
      "[681]\tvalid_0's ndcg@5: 0.406539\n",
      "Training on fold 3\n"
     ]
    },
    {
     "name": "stderr",
     "output_type": "stream",
     "text": [
      "/Users/rik/.pyenv/versions/3.10.12/lib/python3.10/site-packages/lightgbm/sklearn.py:861: UserWarning: Found 'ndcg_eval_at' in params. Will use it instead of 'eval_at' argument\n",
      "  _log_warning(f\"Found '{alias}' in params. Will use it instead of 'eval_at' argument\")\n"
     ]
    },
    {
     "name": "stdout",
     "output_type": "stream",
     "text": [
      "[LightGBM] [Warning] Met categorical feature which contains sparse values. Consider renumbering to consecutive integers started from zero\n",
      "[LightGBM] [Info] Auto-choosing row-wise multi-threading, the overhead of testing was 0.250337 seconds.\n",
      "You can set `force_row_wise=true` to remove the overhead.\n",
      "And if memory is not enough, you can set `force_col_wise=true`.\n",
      "[LightGBM] [Info] Total Bins 8362\n",
      "[LightGBM] [Info] Number of data points in the train set: 3305562, number of used features: 105\n",
      "Training until validation scores don't improve for 80 rounds\n",
      "[250]\tvalid_0's ndcg@5: 0.402821\n",
      "[500]\tvalid_0's ndcg@5: 0.40671\n",
      "Early stopping, best iteration is:\n",
      "[638]\tvalid_0's ndcg@5: 0.408056\n",
      "Top 105 features: NDCG@5 = 0.4074\n",
      "Evaluating top 115 features\n",
      "Training on fold 1\n"
     ]
    },
    {
     "name": "stderr",
     "output_type": "stream",
     "text": [
      "/Users/rik/.pyenv/versions/3.10.12/lib/python3.10/site-packages/lightgbm/sklearn.py:861: UserWarning: Found 'ndcg_eval_at' in params. Will use it instead of 'eval_at' argument\n",
      "  _log_warning(f\"Found '{alias}' in params. Will use it instead of 'eval_at' argument\")\n"
     ]
    },
    {
     "name": "stdout",
     "output_type": "stream",
     "text": [
      "[LightGBM] [Warning] Met categorical feature which contains sparse values. Consider renumbering to consecutive integers started from zero\n",
      "[LightGBM] [Info] Auto-choosing row-wise multi-threading, the overhead of testing was 0.297172 seconds.\n",
      "You can set `force_row_wise=true` to remove the overhead.\n",
      "And if memory is not enough, you can set `force_col_wise=true`.\n",
      "[LightGBM] [Info] Total Bins 8764\n",
      "[LightGBM] [Info] Number of data points in the train set: 3305566, number of used features: 115\n",
      "Training until validation scores don't improve for 80 rounds\n",
      "[250]\tvalid_0's ndcg@5: 0.402676\n",
      "[500]\tvalid_0's ndcg@5: 0.406886\n",
      "Early stopping, best iteration is:\n",
      "[569]\tvalid_0's ndcg@5: 0.40741\n",
      "Training on fold 2\n"
     ]
    },
    {
     "name": "stderr",
     "output_type": "stream",
     "text": [
      "/Users/rik/.pyenv/versions/3.10.12/lib/python3.10/site-packages/lightgbm/sklearn.py:861: UserWarning: Found 'ndcg_eval_at' in params. Will use it instead of 'eval_at' argument\n",
      "  _log_warning(f\"Found '{alias}' in params. Will use it instead of 'eval_at' argument\")\n"
     ]
    },
    {
     "name": "stdout",
     "output_type": "stream",
     "text": [
      "[LightGBM] [Warning] Met categorical feature which contains sparse values. Consider renumbering to consecutive integers started from zero\n",
      "[LightGBM] [Info] Auto-choosing row-wise multi-threading, the overhead of testing was 0.301631 seconds.\n",
      "You can set `force_row_wise=true` to remove the overhead.\n",
      "And if memory is not enough, you can set `force_col_wise=true`.\n",
      "[LightGBM] [Info] Total Bins 8786\n",
      "[LightGBM] [Info] Number of data points in the train set: 3305566, number of used features: 115\n",
      "Training until validation scores don't improve for 80 rounds\n",
      "[250]\tvalid_0's ndcg@5: 0.401173\n",
      "[500]\tvalid_0's ndcg@5: 0.405577\n",
      "Early stopping, best iteration is:\n",
      "[594]\tvalid_0's ndcg@5: 0.406234\n",
      "Training on fold 3\n"
     ]
    },
    {
     "name": "stderr",
     "output_type": "stream",
     "text": [
      "/Users/rik/.pyenv/versions/3.10.12/lib/python3.10/site-packages/lightgbm/sklearn.py:861: UserWarning: Found 'ndcg_eval_at' in params. Will use it instead of 'eval_at' argument\n",
      "  _log_warning(f\"Found '{alias}' in params. Will use it instead of 'eval_at' argument\")\n"
     ]
    },
    {
     "name": "stdout",
     "output_type": "stream",
     "text": [
      "[LightGBM] [Warning] Met categorical feature which contains sparse values. Consider renumbering to consecutive integers started from zero\n",
      "[LightGBM] [Info] Auto-choosing row-wise multi-threading, the overhead of testing was 0.311087 seconds.\n",
      "You can set `force_row_wise=true` to remove the overhead.\n",
      "And if memory is not enough, you can set `force_col_wise=true`.\n",
      "[LightGBM] [Info] Total Bins 8792\n",
      "[LightGBM] [Info] Number of data points in the train set: 3305562, number of used features: 115\n",
      "Training until validation scores don't improve for 80 rounds\n",
      "[250]\tvalid_0's ndcg@5: 0.403109\n",
      "[500]\tvalid_0's ndcg@5: 0.407132\n",
      "Early stopping, best iteration is:\n",
      "[552]\tvalid_0's ndcg@5: 0.407777\n",
      "Top 115 features: NDCG@5 = 0.4071\n",
      "Evaluating top 125 features\n",
      "Training on fold 1\n"
     ]
    },
    {
     "name": "stderr",
     "output_type": "stream",
     "text": [
      "/Users/rik/.pyenv/versions/3.10.12/lib/python3.10/site-packages/lightgbm/sklearn.py:861: UserWarning: Found 'ndcg_eval_at' in params. Will use it instead of 'eval_at' argument\n",
      "  _log_warning(f\"Found '{alias}' in params. Will use it instead of 'eval_at' argument\")\n"
     ]
    },
    {
     "name": "stdout",
     "output_type": "stream",
     "text": [
      "[LightGBM] [Warning] Met categorical feature which contains sparse values. Consider renumbering to consecutive integers started from zero\n",
      "[LightGBM] [Info] Auto-choosing row-wise multi-threading, the overhead of testing was 0.332092 seconds.\n",
      "You can set `force_row_wise=true` to remove the overhead.\n",
      "And if memory is not enough, you can set `force_col_wise=true`.\n",
      "[LightGBM] [Info] Total Bins 8784\n",
      "[LightGBM] [Info] Number of data points in the train set: 3305566, number of used features: 125\n",
      "Training until validation scores don't improve for 80 rounds\n",
      "[250]\tvalid_0's ndcg@5: 0.402538\n",
      "[500]\tvalid_0's ndcg@5: 0.406401\n",
      "[750]\tvalid_0's ndcg@5: 0.406834\n",
      "Early stopping, best iteration is:\n",
      "[694]\tvalid_0's ndcg@5: 0.407199\n",
      "Training on fold 2\n"
     ]
    },
    {
     "name": "stderr",
     "output_type": "stream",
     "text": [
      "/Users/rik/.pyenv/versions/3.10.12/lib/python3.10/site-packages/lightgbm/sklearn.py:861: UserWarning: Found 'ndcg_eval_at' in params. Will use it instead of 'eval_at' argument\n",
      "  _log_warning(f\"Found '{alias}' in params. Will use it instead of 'eval_at' argument\")\n"
     ]
    },
    {
     "name": "stdout",
     "output_type": "stream",
     "text": [
      "[LightGBM] [Warning] Met categorical feature which contains sparse values. Consider renumbering to consecutive integers started from zero\n",
      "[LightGBM] [Info] Auto-choosing row-wise multi-threading, the overhead of testing was 0.352800 seconds.\n",
      "You can set `force_row_wise=true` to remove the overhead.\n",
      "And if memory is not enough, you can set `force_col_wise=true`.\n",
      "[LightGBM] [Info] Total Bins 8806\n",
      "[LightGBM] [Info] Number of data points in the train set: 3305566, number of used features: 125\n",
      "Training until validation scores don't improve for 80 rounds\n",
      "[250]\tvalid_0's ndcg@5: 0.40088\n",
      "[500]\tvalid_0's ndcg@5: 0.405345\n",
      "[750]\tvalid_0's ndcg@5: 0.406007\n",
      "Early stopping, best iteration is:\n",
      "[676]\tvalid_0's ndcg@5: 0.40672\n",
      "Training on fold 3\n"
     ]
    },
    {
     "name": "stderr",
     "output_type": "stream",
     "text": [
      "/Users/rik/.pyenv/versions/3.10.12/lib/python3.10/site-packages/lightgbm/sklearn.py:861: UserWarning: Found 'ndcg_eval_at' in params. Will use it instead of 'eval_at' argument\n",
      "  _log_warning(f\"Found '{alias}' in params. Will use it instead of 'eval_at' argument\")\n"
     ]
    },
    {
     "name": "stdout",
     "output_type": "stream",
     "text": [
      "[LightGBM] [Warning] Met categorical feature which contains sparse values. Consider renumbering to consecutive integers started from zero\n",
      "[LightGBM] [Info] Auto-choosing row-wise multi-threading, the overhead of testing was 0.324860 seconds.\n",
      "You can set `force_row_wise=true` to remove the overhead.\n",
      "And if memory is not enough, you can set `force_col_wise=true`.\n",
      "[LightGBM] [Info] Total Bins 8812\n",
      "[LightGBM] [Info] Number of data points in the train set: 3305562, number of used features: 125\n",
      "Training until validation scores don't improve for 80 rounds\n",
      "[250]\tvalid_0's ndcg@5: 0.402879\n",
      "[500]\tvalid_0's ndcg@5: 0.407871\n",
      "[750]\tvalid_0's ndcg@5: 0.408414\n",
      "Early stopping, best iteration is:\n",
      "[705]\tvalid_0's ndcg@5: 0.408656\n",
      "Top 125 features: NDCG@5 = 0.4075\n"
     ]
    }
   ],
   "source": [
    "train_df = pd.read_parquet(\"data/training_set_processed.parquet\")\n",
    "params = {\n",
    "    'objective': 'lambdarank',\n",
    "    'metric': 'ndcg',\n",
    "    'ndcg_eval_at': [5],\n",
    "    \"n_estimators\": 1000,\n",
    "    'learning_rate': 0.03928543917526321, \n",
    "    'num_leaves': 151, \n",
    "    'min_child_samples': 100, \n",
    "    'min_child_weight': 9.84223213747703, \n",
    "    'colsample_bytree': 0.5340379911098179, \n",
    "    'subsample': 0.9940711682871947, \n",
    "    'reg_alpha': 0.009867816340998009, \n",
    "    'reg_lambda': 8.490860770966702\n",
    "}\n",
    "lgbm_class_model = LGBMRankerModel(df = train_df, params=params)\n",
    "feature_tester = FeatureTester(lgbm_class_model, \n",
    "                               categorical_features_threshold={\"site_id\": 5000, \"visitor_location_country_id\": 1000, \"prop_country_id\": 1000, \"srch_destination_id\": 5000},\n",
    "                               impute_null_columns={'prop_review_score': 'median', 'orig_destination_distance': 'mean'})\n",
    "results = feature_tester.full_feature_selection(train_df, feature_counts = [70,105,115,125], params=params)"
   ]
  },
  {
   "cell_type": "code",
   "execution_count": 12,
   "id": "a67c0251",
   "metadata": {},
   "outputs": [],
   "source": [
    "results_df = pd.DataFrame(results)"
   ]
  },
  {
   "cell_type": "code",
   "execution_count": 13,
   "id": "b363b08c",
   "metadata": {},
   "outputs": [
    {
     "data": {
      "text/plain": [
       "[(70, 0.40715496453586986),\n",
       " (105, 0.40738166733109393),\n",
       " (115, 0.40714022495226976),\n",
       " (125, 0.4075246525868317)]"
      ]
     },
     "execution_count": 13,
     "metadata": {},
     "output_type": "execute_result"
    }
   ],
   "source": [
    "results"
   ]
  },
  {
   "cell_type": "code",
   "execution_count": 14,
   "id": "2ff81d91",
   "metadata": {},
   "outputs": [
    {
     "data": {
      "text/html": [
       "<div>\n",
       "<style scoped>\n",
       "    .dataframe tbody tr th:only-of-type {\n",
       "        vertical-align: middle;\n",
       "    }\n",
       "\n",
       "    .dataframe tbody tr th {\n",
       "        vertical-align: top;\n",
       "    }\n",
       "\n",
       "    .dataframe thead th {\n",
       "        text-align: right;\n",
       "    }\n",
       "</style>\n",
       "<table border=\"1\" class=\"dataframe\">\n",
       "  <thead>\n",
       "    <tr style=\"text-align: right;\">\n",
       "      <th></th>\n",
       "      <th>0</th>\n",
       "      <th>1</th>\n",
       "    </tr>\n",
       "  </thead>\n",
       "  <tbody>\n",
       "    <tr>\n",
       "      <th>0</th>\n",
       "      <td>70</td>\n",
       "      <td>0.407155</td>\n",
       "    </tr>\n",
       "    <tr>\n",
       "      <th>1</th>\n",
       "      <td>105</td>\n",
       "      <td>0.407382</td>\n",
       "    </tr>\n",
       "    <tr>\n",
       "      <th>2</th>\n",
       "      <td>115</td>\n",
       "      <td>0.407140</td>\n",
       "    </tr>\n",
       "    <tr>\n",
       "      <th>3</th>\n",
       "      <td>125</td>\n",
       "      <td>0.407525</td>\n",
       "    </tr>\n",
       "  </tbody>\n",
       "</table>\n",
       "</div>"
      ],
      "text/plain": [
       "     0         1\n",
       "0   70  0.407155\n",
       "1  105  0.407382\n",
       "2  115  0.407140\n",
       "3  125  0.407525"
      ]
     },
     "execution_count": 14,
     "metadata": {},
     "output_type": "execute_result"
    }
   ],
   "source": [
    "results_df"
   ]
  },
  {
   "cell_type": "code",
   "execution_count": 15,
   "id": "6ed7764c",
   "metadata": {},
   "outputs": [],
   "source": [
    "results_df.to_parquet(\"data/feature_selection_results_new_features_2.parquet\")"
   ]
  },
  {
   "cell_type": "code",
   "execution_count": 5,
   "id": "221e61ba",
   "metadata": {},
   "outputs": [
    {
     "name": "stdout",
     "output_type": "stream",
     "text": [
      "Best score: 0.40457208870818606\n",
      "Best params: {'learning_rate': 0.03928543917526321, 'num_leaves': 151, 'min_child_samples': 100, 'min_child_weight': 9.84223213747703, 'colsample_bytree': 0.5340379911098179, 'subsample': 0.9940711682871947, 'reg_alpha': 0.009867816340998009, 'reg_lambda': 8.490860770966702}\n"
     ]
    }
   ],
   "source": [
    "print(\"Best score:\", study.best_value)\n",
    "print(\"Best params:\", study.best_params)"
   ]
  },
  {
   "cell_type": "code",
   "execution_count": 4,
   "id": "18841da9",
   "metadata": {},
   "outputs": [
    {
     "name": "stderr",
     "output_type": "stream",
     "text": [
      "[I 2025-05-15 17:11:18,049] A new study created in memory with name: no-name-c2967ff1-2ef1-4571-8a9c-b939cad48e64\n"
     ]
    },
    {
     "name": "stdout",
     "output_type": "stream",
     "text": [
      "Training on fold 1\n"
     ]
    },
    {
     "name": "stderr",
     "output_type": "stream",
     "text": [
      "/Users/rik/.pyenv/versions/3.10.12/lib/python3.10/site-packages/lightgbm/sklearn.py:861: UserWarning: Found 'ndcg_eval_at' in params. Will use it instead of 'eval_at' argument\n",
      "  _log_warning(f\"Found '{alias}' in params. Will use it instead of 'eval_at' argument\")\n"
     ]
    },
    {
     "name": "stdout",
     "output_type": "stream",
     "text": [
      "Training until validation scores don't improve for 50 rounds\n",
      "[250]\tvalid_0's ndcg@5: 0.389319\n",
      "[500]\tvalid_0's ndcg@5: 0.395003\n",
      "Training on fold 2\n"
     ]
    },
    {
     "name": "stderr",
     "output_type": "stream",
     "text": [
      "/Users/rik/.pyenv/versions/3.10.12/lib/python3.10/site-packages/lightgbm/sklearn.py:861: UserWarning: Found 'ndcg_eval_at' in params. Will use it instead of 'eval_at' argument\n",
      "  _log_warning(f\"Found '{alias}' in params. Will use it instead of 'eval_at' argument\")\n"
     ]
    },
    {
     "name": "stdout",
     "output_type": "stream",
     "text": [
      "[LightGBM] [Warning] Met categorical feature which contains sparse values. Consider renumbering to consecutive integers started from zero\n",
      "Training until validation scores don't improve for 50 rounds\n",
      "[250]\tvalid_0's ndcg@5: 0.390173\n",
      "[500]\tvalid_0's ndcg@5: 0.395649\n",
      "Did not meet early stopping. Best iteration is:\n",
      "[499]\tvalid_0's ndcg@5: 0.39573\n",
      "Training on fold 3\n"
     ]
    },
    {
     "name": "stderr",
     "output_type": "stream",
     "text": [
      "/Users/rik/.pyenv/versions/3.10.12/lib/python3.10/site-packages/lightgbm/sklearn.py:861: UserWarning: Found 'ndcg_eval_at' in params. Will use it instead of 'eval_at' argument\n",
      "  _log_warning(f\"Found '{alias}' in params. Will use it instead of 'eval_at' argument\")\n"
     ]
    },
    {
     "name": "stdout",
     "output_type": "stream",
     "text": [
      "Training until validation scores don't improve for 50 rounds\n",
      "[250]\tvalid_0's ndcg@5: 0.38886\n",
      "[500]\tvalid_0's ndcg@5: 0.39454\n",
      "Training on fold 4\n"
     ]
    },
    {
     "name": "stderr",
     "output_type": "stream",
     "text": [
      "/Users/rik/.pyenv/versions/3.10.12/lib/python3.10/site-packages/lightgbm/sklearn.py:861: UserWarning: Found 'ndcg_eval_at' in params. Will use it instead of 'eval_at' argument\n",
      "  _log_warning(f\"Found '{alias}' in params. Will use it instead of 'eval_at' argument\")\n"
     ]
    },
    {
     "name": "stdout",
     "output_type": "stream",
     "text": [
      "[LightGBM] [Warning] Met categorical feature which contains sparse values. Consider renumbering to consecutive integers started from zero\n",
      "Training until validation scores don't improve for 50 rounds\n",
      "[250]\tvalid_0's ndcg@5: 0.391125\n",
      "[500]\tvalid_0's ndcg@5: 0.396616\n",
      "Did not meet early stopping. Best iteration is:\n",
      "[500]\tvalid_0's ndcg@5: 0.396616\n",
      "Training on fold 5\n"
     ]
    },
    {
     "name": "stderr",
     "output_type": "stream",
     "text": [
      "/Users/rik/.pyenv/versions/3.10.12/lib/python3.10/site-packages/lightgbm/sklearn.py:861: UserWarning: Found 'ndcg_eval_at' in params. Will use it instead of 'eval_at' argument\n",
      "  _log_warning(f\"Found '{alias}' in params. Will use it instead of 'eval_at' argument\")\n"
     ]
    },
    {
     "name": "stdout",
     "output_type": "stream",
     "text": [
      "Training until validation scores don't improve for 50 rounds\n",
      "[250]\tvalid_0's ndcg@5: 0.39211\n"
     ]
    },
    {
     "name": "stderr",
     "output_type": "stream",
     "text": [
      "[I 2025-05-15 17:20:55,498] Trial 0 finished with value: 0.3958563945208077 and parameters: {'learning_rate': 0.01353793283580609, 'num_leaves': 109, 'min_child_samples': 23, 'min_child_weight': 0.001038757676992627, 'colsample_bytree': 0.9203716050340263, 'subsample': 0.8178195587675944, 'reg_alpha': 0.35777485985040886, 'reg_lambda': 1.4517410182492345}. Best is trial 0 with value: 0.3958563945208077.\n"
     ]
    },
    {
     "name": "stdout",
     "output_type": "stream",
     "text": [
      "[500]\tvalid_0's ndcg@5: 0.397128\n",
      "Best Mean Score for all folds: 0.3958563945208077, with params: {'objective': 'lambdarank', 'metric': 'ndcg', 'ndcg_eval_at': [5], 'boosting_type': 'gbdt', 'verbosity': -1, 'n_estimators': 500, 'early_stopping_round': 30, 'learning_rate': 0.01353793283580609, 'num_leaves': 109, 'min_child_samples': 23, 'min_child_weight': 0.001038757676992627, 'colsample_bytree': 0.9203716050340263, 'subsample': 0.8178195587675944, 'reg_alpha': 0.35777485985040886, 'reg_lambda': 1.4517410182492345}\n",
      "Training on fold 1\n"
     ]
    },
    {
     "name": "stderr",
     "output_type": "stream",
     "text": [
      "/Users/rik/.pyenv/versions/3.10.12/lib/python3.10/site-packages/lightgbm/sklearn.py:861: UserWarning: Found 'ndcg_eval_at' in params. Will use it instead of 'eval_at' argument\n",
      "  _log_warning(f\"Found '{alias}' in params. Will use it instead of 'eval_at' argument\")\n"
     ]
    },
    {
     "name": "stdout",
     "output_type": "stream",
     "text": [
      "Training until validation scores don't improve for 50 rounds\n",
      "Training on fold 2\n"
     ]
    },
    {
     "name": "stderr",
     "output_type": "stream",
     "text": [
      "/Users/rik/.pyenv/versions/3.10.12/lib/python3.10/site-packages/lightgbm/sklearn.py:861: UserWarning: Found 'ndcg_eval_at' in params. Will use it instead of 'eval_at' argument\n",
      "  _log_warning(f\"Found '{alias}' in params. Will use it instead of 'eval_at' argument\")\n"
     ]
    },
    {
     "name": "stdout",
     "output_type": "stream",
     "text": [
      "[LightGBM] [Warning] Met categorical feature which contains sparse values. Consider renumbering to consecutive integers started from zero\n",
      "Training until validation scores don't improve for 50 rounds\n",
      "[250]\tvalid_0's ndcg@5: 0.403552\n",
      "Training on fold 3\n"
     ]
    },
    {
     "name": "stderr",
     "output_type": "stream",
     "text": [
      "/Users/rik/.pyenv/versions/3.10.12/lib/python3.10/site-packages/lightgbm/sklearn.py:861: UserWarning: Found 'ndcg_eval_at' in params. Will use it instead of 'eval_at' argument\n",
      "  _log_warning(f\"Found '{alias}' in params. Will use it instead of 'eval_at' argument\")\n"
     ]
    },
    {
     "name": "stdout",
     "output_type": "stream",
     "text": [
      "[LightGBM] [Warning] Met categorical feature which contains sparse values. Consider renumbering to consecutive integers started from zero\n",
      "Training until validation scores don't improve for 50 rounds\n",
      "Training on fold 4\n"
     ]
    },
    {
     "name": "stderr",
     "output_type": "stream",
     "text": [
      "/Users/rik/.pyenv/versions/3.10.12/lib/python3.10/site-packages/lightgbm/sklearn.py:861: UserWarning: Found 'ndcg_eval_at' in params. Will use it instead of 'eval_at' argument\n",
      "  _log_warning(f\"Found '{alias}' in params. Will use it instead of 'eval_at' argument\")\n"
     ]
    },
    {
     "name": "stdout",
     "output_type": "stream",
     "text": [
      "Training until validation scores don't improve for 50 rounds\n",
      "[250]\tvalid_0's ndcg@5: 0.40333\n",
      "Training on fold 5\n"
     ]
    },
    {
     "name": "stderr",
     "output_type": "stream",
     "text": [
      "/Users/rik/.pyenv/versions/3.10.12/lib/python3.10/site-packages/lightgbm/sklearn.py:861: UserWarning: Found 'ndcg_eval_at' in params. Will use it instead of 'eval_at' argument\n",
      "  _log_warning(f\"Found '{alias}' in params. Will use it instead of 'eval_at' argument\")\n"
     ]
    },
    {
     "name": "stdout",
     "output_type": "stream",
     "text": [
      "Training until validation scores don't improve for 50 rounds\n"
     ]
    },
    {
     "name": "stderr",
     "output_type": "stream",
     "text": [
      "[I 2025-05-15 17:25:09,468] Trial 1 finished with value: 0.40287664920895294 and parameters: {'learning_rate': 0.11772258760023163, 'num_leaves': 107, 'min_child_samples': 83, 'min_child_weight': 0.002029689612885156, 'colsample_bytree': 0.675505247320778, 'subsample': 0.7920366999336956, 'reg_alpha': 5.767484837031543, 'reg_lambda': 0.00131589414172406}. Best is trial 1 with value: 0.40287664920895294.\n"
     ]
    },
    {
     "name": "stdout",
     "output_type": "stream",
     "text": [
      "Best Mean Score for all folds: 0.40287664920895294, with params: {'objective': 'lambdarank', 'metric': 'ndcg', 'ndcg_eval_at': [5], 'boosting_type': 'gbdt', 'verbosity': -1, 'n_estimators': 500, 'early_stopping_round': 30, 'learning_rate': 0.11772258760023163, 'num_leaves': 107, 'min_child_samples': 83, 'min_child_weight': 0.002029689612885156, 'colsample_bytree': 0.675505247320778, 'subsample': 0.7920366999336956, 'reg_alpha': 5.767484837031543, 'reg_lambda': 0.00131589414172406}\n",
      "Training on fold 1\n"
     ]
    },
    {
     "name": "stderr",
     "output_type": "stream",
     "text": [
      "/Users/rik/.pyenv/versions/3.10.12/lib/python3.10/site-packages/lightgbm/sklearn.py:861: UserWarning: Found 'ndcg_eval_at' in params. Will use it instead of 'eval_at' argument\n",
      "  _log_warning(f\"Found '{alias}' in params. Will use it instead of 'eval_at' argument\")\n"
     ]
    },
    {
     "name": "stdout",
     "output_type": "stream",
     "text": [
      "[LightGBM] [Warning] Met categorical feature which contains sparse values. Consider renumbering to consecutive integers started from zero\n",
      "Training until validation scores don't improve for 50 rounds\n",
      "Training on fold 2\n"
     ]
    },
    {
     "name": "stderr",
     "output_type": "stream",
     "text": [
      "/Users/rik/.pyenv/versions/3.10.12/lib/python3.10/site-packages/lightgbm/sklearn.py:861: UserWarning: Found 'ndcg_eval_at' in params. Will use it instead of 'eval_at' argument\n",
      "  _log_warning(f\"Found '{alias}' in params. Will use it instead of 'eval_at' argument\")\n"
     ]
    },
    {
     "name": "stdout",
     "output_type": "stream",
     "text": [
      "Training until validation scores don't improve for 50 rounds\n",
      "Training on fold 3\n"
     ]
    },
    {
     "name": "stderr",
     "output_type": "stream",
     "text": [
      "/Users/rik/.pyenv/versions/3.10.12/lib/python3.10/site-packages/lightgbm/sklearn.py:861: UserWarning: Found 'ndcg_eval_at' in params. Will use it instead of 'eval_at' argument\n",
      "  _log_warning(f\"Found '{alias}' in params. Will use it instead of 'eval_at' argument\")\n"
     ]
    },
    {
     "name": "stdout",
     "output_type": "stream",
     "text": [
      "[LightGBM] [Warning] Met categorical feature which contains sparse values. Consider renumbering to consecutive integers started from zero\n",
      "Training until validation scores don't improve for 50 rounds\n",
      "Training on fold 4\n"
     ]
    },
    {
     "name": "stderr",
     "output_type": "stream",
     "text": [
      "/Users/rik/.pyenv/versions/3.10.12/lib/python3.10/site-packages/lightgbm/sklearn.py:861: UserWarning: Found 'ndcg_eval_at' in params. Will use it instead of 'eval_at' argument\n",
      "  _log_warning(f\"Found '{alias}' in params. Will use it instead of 'eval_at' argument\")\n"
     ]
    },
    {
     "name": "stdout",
     "output_type": "stream",
     "text": [
      "[LightGBM] [Warning] Met categorical feature which contains sparse values. Consider renumbering to consecutive integers started from zero\n",
      "Training until validation scores don't improve for 50 rounds\n",
      "Training on fold 5\n"
     ]
    },
    {
     "name": "stderr",
     "output_type": "stream",
     "text": [
      "/Users/rik/.pyenv/versions/3.10.12/lib/python3.10/site-packages/lightgbm/sklearn.py:861: UserWarning: Found 'ndcg_eval_at' in params. Will use it instead of 'eval_at' argument\n",
      "  _log_warning(f\"Found '{alias}' in params. Will use it instead of 'eval_at' argument\")\n"
     ]
    },
    {
     "name": "stdout",
     "output_type": "stream",
     "text": [
      "[LightGBM] [Warning] Met categorical feature which contains sparse values. Consider renumbering to consecutive integers started from zero\n",
      "Training until validation scores don't improve for 50 rounds\n"
     ]
    },
    {
     "name": "stderr",
     "output_type": "stream",
     "text": [
      "[I 2025-05-15 17:29:05,063] Trial 2 finished with value: 0.4007184279130385 and parameters: {'learning_rate': 0.10539239560024309, 'num_leaves': 190, 'min_child_samples': 16, 'min_child_weight': 0.19648358760400836, 'colsample_bytree': 0.9873498270754164, 'subsample': 0.5148507209121879, 'reg_alpha': 1.838783678897973, 'reg_lambda': 0.18717318836293736}. Best is trial 1 with value: 0.40287664920895294.\n"
     ]
    },
    {
     "name": "stdout",
     "output_type": "stream",
     "text": [
      "Best Mean Score for all folds: 0.4007184279130385, with params: {'objective': 'lambdarank', 'metric': 'ndcg', 'ndcg_eval_at': [5], 'boosting_type': 'gbdt', 'verbosity': -1, 'n_estimators': 500, 'early_stopping_round': 30, 'learning_rate': 0.10539239560024309, 'num_leaves': 190, 'min_child_samples': 16, 'min_child_weight': 0.19648358760400836, 'colsample_bytree': 0.9873498270754164, 'subsample': 0.5148507209121879, 'reg_alpha': 1.838783678897973, 'reg_lambda': 0.18717318836293736}\n",
      "Training on fold 1\n"
     ]
    },
    {
     "name": "stderr",
     "output_type": "stream",
     "text": [
      "/Users/rik/.pyenv/versions/3.10.12/lib/python3.10/site-packages/lightgbm/sklearn.py:861: UserWarning: Found 'ndcg_eval_at' in params. Will use it instead of 'eval_at' argument\n",
      "  _log_warning(f\"Found '{alias}' in params. Will use it instead of 'eval_at' argument\")\n"
     ]
    },
    {
     "name": "stdout",
     "output_type": "stream",
     "text": [
      "Training until validation scores don't improve for 50 rounds\n",
      "Training on fold 2\n"
     ]
    },
    {
     "name": "stderr",
     "output_type": "stream",
     "text": [
      "/Users/rik/.pyenv/versions/3.10.12/lib/python3.10/site-packages/lightgbm/sklearn.py:861: UserWarning: Found 'ndcg_eval_at' in params. Will use it instead of 'eval_at' argument\n",
      "  _log_warning(f\"Found '{alias}' in params. Will use it instead of 'eval_at' argument\")\n"
     ]
    },
    {
     "name": "stdout",
     "output_type": "stream",
     "text": [
      "[LightGBM] [Warning] Met categorical feature which contains sparse values. Consider renumbering to consecutive integers started from zero\n",
      "Training until validation scores don't improve for 50 rounds\n",
      "Training on fold 3\n"
     ]
    },
    {
     "name": "stderr",
     "output_type": "stream",
     "text": [
      "/Users/rik/.pyenv/versions/3.10.12/lib/python3.10/site-packages/lightgbm/sklearn.py:861: UserWarning: Found 'ndcg_eval_at' in params. Will use it instead of 'eval_at' argument\n",
      "  _log_warning(f\"Found '{alias}' in params. Will use it instead of 'eval_at' argument\")\n"
     ]
    },
    {
     "name": "stdout",
     "output_type": "stream",
     "text": [
      "Training until validation scores don't improve for 50 rounds\n",
      "Training on fold 4\n"
     ]
    },
    {
     "name": "stderr",
     "output_type": "stream",
     "text": [
      "/Users/rik/.pyenv/versions/3.10.12/lib/python3.10/site-packages/lightgbm/sklearn.py:861: UserWarning: Found 'ndcg_eval_at' in params. Will use it instead of 'eval_at' argument\n",
      "  _log_warning(f\"Found '{alias}' in params. Will use it instead of 'eval_at' argument\")\n"
     ]
    },
    {
     "name": "stdout",
     "output_type": "stream",
     "text": [
      "[LightGBM] [Warning] Met categorical feature which contains sparse values. Consider renumbering to consecutive integers started from zero\n",
      "Training until validation scores don't improve for 50 rounds\n",
      "Training on fold 5\n"
     ]
    },
    {
     "name": "stderr",
     "output_type": "stream",
     "text": [
      "/Users/rik/.pyenv/versions/3.10.12/lib/python3.10/site-packages/lightgbm/sklearn.py:861: UserWarning: Found 'ndcg_eval_at' in params. Will use it instead of 'eval_at' argument\n",
      "  _log_warning(f\"Found '{alias}' in params. Will use it instead of 'eval_at' argument\")\n"
     ]
    },
    {
     "name": "stdout",
     "output_type": "stream",
     "text": [
      "[LightGBM] [Warning] Met categorical feature which contains sparse values. Consider renumbering to consecutive integers started from zero\n",
      "Training until validation scores don't improve for 50 rounds\n"
     ]
    },
    {
     "name": "stderr",
     "output_type": "stream",
     "text": [
      "[I 2025-05-15 17:31:30,285] Trial 3 finished with value: 0.39638057504834195 and parameters: {'learning_rate': 0.19922664484191485, 'num_leaves': 193, 'min_child_samples': 47, 'min_child_weight': 0.004195335055043258, 'colsample_bytree': 0.7612052679094785, 'subsample': 0.8952806545289593, 'reg_alpha': 0.14634906511414322, 'reg_lambda': 0.023260367097032}. Best is trial 1 with value: 0.40287664920895294.\n"
     ]
    },
    {
     "name": "stdout",
     "output_type": "stream",
     "text": [
      "Best Mean Score for all folds: 0.39638057504834195, with params: {'objective': 'lambdarank', 'metric': 'ndcg', 'ndcg_eval_at': [5], 'boosting_type': 'gbdt', 'verbosity': -1, 'n_estimators': 500, 'early_stopping_round': 30, 'learning_rate': 0.19922664484191485, 'num_leaves': 193, 'min_child_samples': 47, 'min_child_weight': 0.004195335055043258, 'colsample_bytree': 0.7612052679094785, 'subsample': 0.8952806545289593, 'reg_alpha': 0.14634906511414322, 'reg_lambda': 0.023260367097032}\n",
      "Training on fold 1\n"
     ]
    },
    {
     "name": "stderr",
     "output_type": "stream",
     "text": [
      "/Users/rik/.pyenv/versions/3.10.12/lib/python3.10/site-packages/lightgbm/sklearn.py:861: UserWarning: Found 'ndcg_eval_at' in params. Will use it instead of 'eval_at' argument\n",
      "  _log_warning(f\"Found '{alias}' in params. Will use it instead of 'eval_at' argument\")\n"
     ]
    },
    {
     "name": "stdout",
     "output_type": "stream",
     "text": [
      "[LightGBM] [Warning] Met categorical feature which contains sparse values. Consider renumbering to consecutive integers started from zero\n",
      "Training until validation scores don't improve for 50 rounds\n",
      "[250]\tvalid_0's ndcg@5: 0.380315\n",
      "[500]\tvalid_0's ndcg@5: 0.385902\n",
      "Did not meet early stopping. Best iteration is:\n",
      "[500]\tvalid_0's ndcg@5: 0.385902\n",
      "Training on fold 2\n"
     ]
    },
    {
     "name": "stderr",
     "output_type": "stream",
     "text": [
      "/Users/rik/.pyenv/versions/3.10.12/lib/python3.10/site-packages/lightgbm/sklearn.py:861: UserWarning: Found 'ndcg_eval_at' in params. Will use it instead of 'eval_at' argument\n",
      "  _log_warning(f\"Found '{alias}' in params. Will use it instead of 'eval_at' argument\")\n"
     ]
    },
    {
     "name": "stdout",
     "output_type": "stream",
     "text": [
      "Training until validation scores don't improve for 50 rounds\n",
      "[250]\tvalid_0's ndcg@5: 0.380575\n",
      "[500]\tvalid_0's ndcg@5: 0.386379\n",
      "Did not meet early stopping. Best iteration is:\n",
      "[500]\tvalid_0's ndcg@5: 0.386379\n",
      "Training on fold 3\n"
     ]
    },
    {
     "name": "stderr",
     "output_type": "stream",
     "text": [
      "/Users/rik/.pyenv/versions/3.10.12/lib/python3.10/site-packages/lightgbm/sklearn.py:861: UserWarning: Found 'ndcg_eval_at' in params. Will use it instead of 'eval_at' argument\n",
      "  _log_warning(f\"Found '{alias}' in params. Will use it instead of 'eval_at' argument\")\n"
     ]
    },
    {
     "name": "stdout",
     "output_type": "stream",
     "text": [
      "[LightGBM] [Warning] Met categorical feature which contains sparse values. Consider renumbering to consecutive integers started from zero\n",
      "Training until validation scores don't improve for 50 rounds\n",
      "[250]\tvalid_0's ndcg@5: 0.379648\n",
      "[500]\tvalid_0's ndcg@5: 0.384978\n",
      "Did not meet early stopping. Best iteration is:\n",
      "[500]\tvalid_0's ndcg@5: 0.384978\n",
      "Training on fold 4\n"
     ]
    },
    {
     "name": "stderr",
     "output_type": "stream",
     "text": [
      "/Users/rik/.pyenv/versions/3.10.12/lib/python3.10/site-packages/lightgbm/sklearn.py:861: UserWarning: Found 'ndcg_eval_at' in params. Will use it instead of 'eval_at' argument\n",
      "  _log_warning(f\"Found '{alias}' in params. Will use it instead of 'eval_at' argument\")\n"
     ]
    },
    {
     "name": "stdout",
     "output_type": "stream",
     "text": [
      "[LightGBM] [Warning] Met categorical feature which contains sparse values. Consider renumbering to consecutive integers started from zero\n",
      "Training until validation scores don't improve for 50 rounds\n",
      "[250]\tvalid_0's ndcg@5: 0.381621\n",
      "[500]\tvalid_0's ndcg@5: 0.387014\n",
      "Did not meet early stopping. Best iteration is:\n",
      "[497]\tvalid_0's ndcg@5: 0.387073\n",
      "Training on fold 5\n"
     ]
    },
    {
     "name": "stderr",
     "output_type": "stream",
     "text": [
      "/Users/rik/.pyenv/versions/3.10.12/lib/python3.10/site-packages/lightgbm/sklearn.py:861: UserWarning: Found 'ndcg_eval_at' in params. Will use it instead of 'eval_at' argument\n",
      "  _log_warning(f\"Found '{alias}' in params. Will use it instead of 'eval_at' argument\")\n"
     ]
    },
    {
     "name": "stdout",
     "output_type": "stream",
     "text": [
      "Training until validation scores don't improve for 50 rounds\n",
      "[250]\tvalid_0's ndcg@5: 0.38172\n"
     ]
    },
    {
     "name": "stderr",
     "output_type": "stream",
     "text": [
      "[I 2025-05-15 17:38:19,378] Trial 4 finished with value: 0.3864678964624929 and parameters: {'learning_rate': 0.011685357229969487, 'num_leaves': 28, 'min_child_samples': 11, 'min_child_weight': 0.5309331316705028, 'colsample_bytree': 0.8972239933975824, 'subsample': 0.8565933534385644, 'reg_alpha': 2.0031146801633346, 'reg_lambda': 0.0014477235738691071}. Best is trial 1 with value: 0.40287664920895294.\n"
     ]
    },
    {
     "name": "stdout",
     "output_type": "stream",
     "text": [
      "[500]\tvalid_0's ndcg@5: 0.388008\n",
      "Did not meet early stopping. Best iteration is:\n",
      "[500]\tvalid_0's ndcg@5: 0.388008\n",
      "Best Mean Score for all folds: 0.3864678964624929, with params: {'objective': 'lambdarank', 'metric': 'ndcg', 'ndcg_eval_at': [5], 'boosting_type': 'gbdt', 'verbosity': -1, 'n_estimators': 500, 'early_stopping_round': 30, 'learning_rate': 0.011685357229969487, 'num_leaves': 28, 'min_child_samples': 11, 'min_child_weight': 0.5309331316705028, 'colsample_bytree': 0.8972239933975824, 'subsample': 0.8565933534385644, 'reg_alpha': 2.0031146801633346, 'reg_lambda': 0.0014477235738691071}\n",
      "Training on fold 1\n"
     ]
    },
    {
     "name": "stderr",
     "output_type": "stream",
     "text": [
      "/Users/rik/.pyenv/versions/3.10.12/lib/python3.10/site-packages/lightgbm/sklearn.py:861: UserWarning: Found 'ndcg_eval_at' in params. Will use it instead of 'eval_at' argument\n",
      "  _log_warning(f\"Found '{alias}' in params. Will use it instead of 'eval_at' argument\")\n"
     ]
    },
    {
     "name": "stdout",
     "output_type": "stream",
     "text": [
      "Training until validation scores don't improve for 50 rounds\n",
      "Training on fold 2\n"
     ]
    },
    {
     "name": "stderr",
     "output_type": "stream",
     "text": [
      "/Users/rik/.pyenv/versions/3.10.12/lib/python3.10/site-packages/lightgbm/sklearn.py:861: UserWarning: Found 'ndcg_eval_at' in params. Will use it instead of 'eval_at' argument\n",
      "  _log_warning(f\"Found '{alias}' in params. Will use it instead of 'eval_at' argument\")\n"
     ]
    },
    {
     "name": "stdout",
     "output_type": "stream",
     "text": [
      "[LightGBM] [Warning] Met categorical feature which contains sparse values. Consider renumbering to consecutive integers started from zero\n",
      "Training until validation scores don't improve for 50 rounds\n",
      "Training on fold 3\n"
     ]
    },
    {
     "name": "stderr",
     "output_type": "stream",
     "text": [
      "/Users/rik/.pyenv/versions/3.10.12/lib/python3.10/site-packages/lightgbm/sklearn.py:861: UserWarning: Found 'ndcg_eval_at' in params. Will use it instead of 'eval_at' argument\n",
      "  _log_warning(f\"Found '{alias}' in params. Will use it instead of 'eval_at' argument\")\n"
     ]
    },
    {
     "name": "stdout",
     "output_type": "stream",
     "text": [
      "[LightGBM] [Warning] Met categorical feature which contains sparse values. Consider renumbering to consecutive integers started from zero\n",
      "Training until validation scores don't improve for 50 rounds\n",
      "Training on fold 4\n"
     ]
    },
    {
     "name": "stderr",
     "output_type": "stream",
     "text": [
      "/Users/rik/.pyenv/versions/3.10.12/lib/python3.10/site-packages/lightgbm/sklearn.py:861: UserWarning: Found 'ndcg_eval_at' in params. Will use it instead of 'eval_at' argument\n",
      "  _log_warning(f\"Found '{alias}' in params. Will use it instead of 'eval_at' argument\")\n"
     ]
    },
    {
     "name": "stdout",
     "output_type": "stream",
     "text": [
      "[LightGBM] [Warning] Met categorical feature which contains sparse values. Consider renumbering to consecutive integers started from zero\n",
      "Training until validation scores don't improve for 50 rounds\n",
      "Training on fold 5\n"
     ]
    },
    {
     "name": "stderr",
     "output_type": "stream",
     "text": [
      "/Users/rik/.pyenv/versions/3.10.12/lib/python3.10/site-packages/lightgbm/sklearn.py:861: UserWarning: Found 'ndcg_eval_at' in params. Will use it instead of 'eval_at' argument\n",
      "  _log_warning(f\"Found '{alias}' in params. Will use it instead of 'eval_at' argument\")\n"
     ]
    },
    {
     "name": "stdout",
     "output_type": "stream",
     "text": [
      "[LightGBM] [Warning] Met categorical feature which contains sparse values. Consider renumbering to consecutive integers started from zero\n",
      "Training until validation scores don't improve for 50 rounds\n"
     ]
    },
    {
     "name": "stderr",
     "output_type": "stream",
     "text": [
      "[I 2025-05-15 17:41:24,472] Trial 5 finished with value: 0.3987851581518327 and parameters: {'learning_rate': 0.12160180539707627, 'num_leaves': 164, 'min_child_samples': 22, 'min_child_weight': 0.00140141906183232, 'colsample_bytree': 0.9840017464720365, 'subsample': 0.6373053107313738, 'reg_alpha': 0.0013013652619722103, 'reg_lambda': 0.013994079671141083}. Best is trial 1 with value: 0.40287664920895294.\n"
     ]
    },
    {
     "name": "stdout",
     "output_type": "stream",
     "text": [
      "Best Mean Score for all folds: 0.3987851581518327, with params: {'objective': 'lambdarank', 'metric': 'ndcg', 'ndcg_eval_at': [5], 'boosting_type': 'gbdt', 'verbosity': -1, 'n_estimators': 500, 'early_stopping_round': 30, 'learning_rate': 0.12160180539707627, 'num_leaves': 164, 'min_child_samples': 22, 'min_child_weight': 0.00140141906183232, 'colsample_bytree': 0.9840017464720365, 'subsample': 0.6373053107313738, 'reg_alpha': 0.0013013652619722103, 'reg_lambda': 0.013994079671141083}\n",
      "Training on fold 1\n"
     ]
    },
    {
     "name": "stderr",
     "output_type": "stream",
     "text": [
      "/Users/rik/.pyenv/versions/3.10.12/lib/python3.10/site-packages/lightgbm/sklearn.py:861: UserWarning: Found 'ndcg_eval_at' in params. Will use it instead of 'eval_at' argument\n",
      "  _log_warning(f\"Found '{alias}' in params. Will use it instead of 'eval_at' argument\")\n"
     ]
    },
    {
     "name": "stdout",
     "output_type": "stream",
     "text": [
      "Training until validation scores don't improve for 50 rounds\n",
      "[250]\tvalid_0's ndcg@5: 0.400491\n",
      "Training on fold 2\n"
     ]
    },
    {
     "name": "stderr",
     "output_type": "stream",
     "text": [
      "/Users/rik/.pyenv/versions/3.10.12/lib/python3.10/site-packages/lightgbm/sklearn.py:861: UserWarning: Found 'ndcg_eval_at' in params. Will use it instead of 'eval_at' argument\n",
      "  _log_warning(f\"Found '{alias}' in params. Will use it instead of 'eval_at' argument\")\n"
     ]
    },
    {
     "name": "stdout",
     "output_type": "stream",
     "text": [
      "Training until validation scores don't improve for 50 rounds\n",
      "[250]\tvalid_0's ndcg@5: 0.401821\n",
      "Training on fold 3\n"
     ]
    },
    {
     "name": "stderr",
     "output_type": "stream",
     "text": [
      "/Users/rik/.pyenv/versions/3.10.12/lib/python3.10/site-packages/lightgbm/sklearn.py:861: UserWarning: Found 'ndcg_eval_at' in params. Will use it instead of 'eval_at' argument\n",
      "  _log_warning(f\"Found '{alias}' in params. Will use it instead of 'eval_at' argument\")\n"
     ]
    },
    {
     "name": "stdout",
     "output_type": "stream",
     "text": [
      "Training until validation scores don't improve for 50 rounds\n",
      "[250]\tvalid_0's ndcg@5: 0.399663\n",
      "Training on fold 4\n"
     ]
    },
    {
     "name": "stderr",
     "output_type": "stream",
     "text": [
      "/Users/rik/.pyenv/versions/3.10.12/lib/python3.10/site-packages/lightgbm/sklearn.py:861: UserWarning: Found 'ndcg_eval_at' in params. Will use it instead of 'eval_at' argument\n",
      "  _log_warning(f\"Found '{alias}' in params. Will use it instead of 'eval_at' argument\")\n"
     ]
    },
    {
     "name": "stdout",
     "output_type": "stream",
     "text": [
      "[LightGBM] [Warning] Met categorical feature which contains sparse values. Consider renumbering to consecutive integers started from zero\n",
      "Training until validation scores don't improve for 50 rounds\n",
      "[250]\tvalid_0's ndcg@5: 0.402464\n",
      "Training on fold 5\n"
     ]
    },
    {
     "name": "stderr",
     "output_type": "stream",
     "text": [
      "/Users/rik/.pyenv/versions/3.10.12/lib/python3.10/site-packages/lightgbm/sklearn.py:861: UserWarning: Found 'ndcg_eval_at' in params. Will use it instead of 'eval_at' argument\n",
      "  _log_warning(f\"Found '{alias}' in params. Will use it instead of 'eval_at' argument\")\n"
     ]
    },
    {
     "name": "stdout",
     "output_type": "stream",
     "text": [
      "Training until validation scores don't improve for 50 rounds\n",
      "[250]\tvalid_0's ndcg@5: 0.403684\n"
     ]
    },
    {
     "name": "stderr",
     "output_type": "stream",
     "text": [
      "[I 2025-05-15 17:45:17,284] Trial 6 finished with value: 0.40204948011177216 and parameters: {'learning_rate': 0.10566931391333381, 'num_leaves': 65, 'min_child_samples': 40, 'min_child_weight': 0.001007335052607116, 'colsample_bytree': 0.7897973400210179, 'subsample': 0.5419897769349926, 'reg_alpha': 1.50694179927743, 'reg_lambda': 0.004927100143719742}. Best is trial 1 with value: 0.40287664920895294.\n"
     ]
    },
    {
     "name": "stdout",
     "output_type": "stream",
     "text": [
      "Best Mean Score for all folds: 0.40204948011177216, with params: {'objective': 'lambdarank', 'metric': 'ndcg', 'ndcg_eval_at': [5], 'boosting_type': 'gbdt', 'verbosity': -1, 'n_estimators': 500, 'early_stopping_round': 30, 'learning_rate': 0.10566931391333381, 'num_leaves': 65, 'min_child_samples': 40, 'min_child_weight': 0.001007335052607116, 'colsample_bytree': 0.7897973400210179, 'subsample': 0.5419897769349926, 'reg_alpha': 1.50694179927743, 'reg_lambda': 0.004927100143719742}\n",
      "Training on fold 1\n"
     ]
    },
    {
     "name": "stderr",
     "output_type": "stream",
     "text": [
      "/Users/rik/.pyenv/versions/3.10.12/lib/python3.10/site-packages/lightgbm/sklearn.py:861: UserWarning: Found 'ndcg_eval_at' in params. Will use it instead of 'eval_at' argument\n",
      "  _log_warning(f\"Found '{alias}' in params. Will use it instead of 'eval_at' argument\")\n"
     ]
    },
    {
     "name": "stdout",
     "output_type": "stream",
     "text": [
      "Training until validation scores don't improve for 50 rounds\n",
      "[250]\tvalid_0's ndcg@5: 0.395494\n",
      "Training on fold 2\n"
     ]
    },
    {
     "name": "stderr",
     "output_type": "stream",
     "text": [
      "/Users/rik/.pyenv/versions/3.10.12/lib/python3.10/site-packages/lightgbm/sklearn.py:861: UserWarning: Found 'ndcg_eval_at' in params. Will use it instead of 'eval_at' argument\n",
      "  _log_warning(f\"Found '{alias}' in params. Will use it instead of 'eval_at' argument\")\n"
     ]
    },
    {
     "name": "stdout",
     "output_type": "stream",
     "text": [
      "[LightGBM] [Warning] Met categorical feature which contains sparse values. Consider renumbering to consecutive integers started from zero\n",
      "Training until validation scores don't improve for 50 rounds\n",
      "[250]\tvalid_0's ndcg@5: 0.396627\n",
      "[500]\tvalid_0's ndcg@5: 0.401836\n",
      "Did not meet early stopping. Best iteration is:\n",
      "[499]\tvalid_0's ndcg@5: 0.401853\n",
      "Training on fold 3\n"
     ]
    },
    {
     "name": "stderr",
     "output_type": "stream",
     "text": [
      "/Users/rik/.pyenv/versions/3.10.12/lib/python3.10/site-packages/lightgbm/sklearn.py:861: UserWarning: Found 'ndcg_eval_at' in params. Will use it instead of 'eval_at' argument\n",
      "  _log_warning(f\"Found '{alias}' in params. Will use it instead of 'eval_at' argument\")\n"
     ]
    },
    {
     "name": "stdout",
     "output_type": "stream",
     "text": [
      "Training until validation scores don't improve for 50 rounds\n",
      "[250]\tvalid_0's ndcg@5: 0.39506\n",
      "[500]\tvalid_0's ndcg@5: 0.400181\n",
      "Training on fold 4\n"
     ]
    },
    {
     "name": "stderr",
     "output_type": "stream",
     "text": [
      "/Users/rik/.pyenv/versions/3.10.12/lib/python3.10/site-packages/lightgbm/sklearn.py:861: UserWarning: Found 'ndcg_eval_at' in params. Will use it instead of 'eval_at' argument\n",
      "  _log_warning(f\"Found '{alias}' in params. Will use it instead of 'eval_at' argument\")\n"
     ]
    },
    {
     "name": "stdout",
     "output_type": "stream",
     "text": [
      "[LightGBM] [Warning] Met categorical feature which contains sparse values. Consider renumbering to consecutive integers started from zero\n",
      "Training until validation scores don't improve for 50 rounds\n",
      "[250]\tvalid_0's ndcg@5: 0.397063\n",
      "[500]\tvalid_0's ndcg@5: 0.401894\n",
      "Did not meet early stopping. Best iteration is:\n",
      "[499]\tvalid_0's ndcg@5: 0.401986\n",
      "Training on fold 5\n"
     ]
    },
    {
     "name": "stderr",
     "output_type": "stream",
     "text": [
      "/Users/rik/.pyenv/versions/3.10.12/lib/python3.10/site-packages/lightgbm/sklearn.py:861: UserWarning: Found 'ndcg_eval_at' in params. Will use it instead of 'eval_at' argument\n",
      "  _log_warning(f\"Found '{alias}' in params. Will use it instead of 'eval_at' argument\")\n"
     ]
    },
    {
     "name": "stdout",
     "output_type": "stream",
     "text": [
      "[LightGBM] [Warning] Met categorical feature which contains sparse values. Consider renumbering to consecutive integers started from zero\n",
      "Training until validation scores don't improve for 50 rounds\n",
      "[250]\tvalid_0's ndcg@5: 0.398983\n"
     ]
    },
    {
     "name": "stderr",
     "output_type": "stream",
     "text": [
      "[I 2025-05-15 17:52:59,839] Trial 7 finished with value: 0.40152086028869494 and parameters: {'learning_rate': 0.03488282609283772, 'num_leaves': 72, 'min_child_samples': 32, 'min_child_weight': 0.001105269966748775, 'colsample_bytree': 0.6001188569963403, 'subsample': 0.6951292487158746, 'reg_alpha': 3.0257249754416518, 'reg_lambda': 0.010476749841166392}. Best is trial 1 with value: 0.40287664920895294.\n"
     ]
    },
    {
     "name": "stdout",
     "output_type": "stream",
     "text": [
      "[500]\tvalid_0's ndcg@5: 0.404111\n",
      "Best Mean Score for all folds: 0.40152086028869494, with params: {'objective': 'lambdarank', 'metric': 'ndcg', 'ndcg_eval_at': [5], 'boosting_type': 'gbdt', 'verbosity': -1, 'n_estimators': 500, 'early_stopping_round': 30, 'learning_rate': 0.03488282609283772, 'num_leaves': 72, 'min_child_samples': 32, 'min_child_weight': 0.001105269966748775, 'colsample_bytree': 0.6001188569963403, 'subsample': 0.6951292487158746, 'reg_alpha': 3.0257249754416518, 'reg_lambda': 0.010476749841166392}\n",
      "Training on fold 1\n"
     ]
    },
    {
     "name": "stderr",
     "output_type": "stream",
     "text": [
      "/Users/rik/.pyenv/versions/3.10.12/lib/python3.10/site-packages/lightgbm/sklearn.py:861: UserWarning: Found 'ndcg_eval_at' in params. Will use it instead of 'eval_at' argument\n",
      "  _log_warning(f\"Found '{alias}' in params. Will use it instead of 'eval_at' argument\")\n"
     ]
    },
    {
     "name": "stdout",
     "output_type": "stream",
     "text": [
      "[LightGBM] [Warning] Met categorical feature which contains sparse values. Consider renumbering to consecutive integers started from zero\n",
      "Training until validation scores don't improve for 50 rounds\n",
      "[250]\tvalid_0's ndcg@5: 0.388183\n",
      "[500]\tvalid_0's ndcg@5: 0.393781\n",
      "Training on fold 2\n"
     ]
    },
    {
     "name": "stderr",
     "output_type": "stream",
     "text": [
      "/Users/rik/.pyenv/versions/3.10.12/lib/python3.10/site-packages/lightgbm/sklearn.py:861: UserWarning: Found 'ndcg_eval_at' in params. Will use it instead of 'eval_at' argument\n",
      "  _log_warning(f\"Found '{alias}' in params. Will use it instead of 'eval_at' argument\")\n"
     ]
    },
    {
     "name": "stdout",
     "output_type": "stream",
     "text": [
      "Training until validation scores don't improve for 50 rounds\n",
      "[250]\tvalid_0's ndcg@5: 0.389472\n",
      "[500]\tvalid_0's ndcg@5: 0.395204\n",
      "Did not meet early stopping. Best iteration is:\n",
      "[500]\tvalid_0's ndcg@5: 0.395204\n",
      "Training on fold 3\n"
     ]
    },
    {
     "name": "stderr",
     "output_type": "stream",
     "text": [
      "/Users/rik/.pyenv/versions/3.10.12/lib/python3.10/site-packages/lightgbm/sklearn.py:861: UserWarning: Found 'ndcg_eval_at' in params. Will use it instead of 'eval_at' argument\n",
      "  _log_warning(f\"Found '{alias}' in params. Will use it instead of 'eval_at' argument\")\n"
     ]
    },
    {
     "name": "stdout",
     "output_type": "stream",
     "text": [
      "[LightGBM] [Warning] Met categorical feature which contains sparse values. Consider renumbering to consecutive integers started from zero\n",
      "Training until validation scores don't improve for 50 rounds\n",
      "[250]\tvalid_0's ndcg@5: 0.387296\n",
      "[500]\tvalid_0's ndcg@5: 0.392833\n",
      "Did not meet early stopping. Best iteration is:\n",
      "[496]\tvalid_0's ndcg@5: 0.39291\n",
      "Training on fold 4\n"
     ]
    },
    {
     "name": "stderr",
     "output_type": "stream",
     "text": [
      "/Users/rik/.pyenv/versions/3.10.12/lib/python3.10/site-packages/lightgbm/sklearn.py:861: UserWarning: Found 'ndcg_eval_at' in params. Will use it instead of 'eval_at' argument\n",
      "  _log_warning(f\"Found '{alias}' in params. Will use it instead of 'eval_at' argument\")\n"
     ]
    },
    {
     "name": "stdout",
     "output_type": "stream",
     "text": [
      "Training until validation scores don't improve for 50 rounds\n",
      "[250]\tvalid_0's ndcg@5: 0.389675\n",
      "[500]\tvalid_0's ndcg@5: 0.395325\n",
      "Training on fold 5\n"
     ]
    },
    {
     "name": "stderr",
     "output_type": "stream",
     "text": [
      "/Users/rik/.pyenv/versions/3.10.12/lib/python3.10/site-packages/lightgbm/sklearn.py:861: UserWarning: Found 'ndcg_eval_at' in params. Will use it instead of 'eval_at' argument\n",
      "  _log_warning(f\"Found '{alias}' in params. Will use it instead of 'eval_at' argument\")\n"
     ]
    },
    {
     "name": "stdout",
     "output_type": "stream",
     "text": [
      "Training until validation scores don't improve for 50 rounds\n",
      "[250]\tvalid_0's ndcg@5: 0.390484\n"
     ]
    },
    {
     "name": "stderr",
     "output_type": "stream",
     "text": [
      "[I 2025-05-15 18:01:31,232] Trial 8 finished with value: 0.3946631525629304 and parameters: {'learning_rate': 0.011728046363566665, 'num_leaves': 78, 'min_child_samples': 53, 'min_child_weight': 0.0017942163612266189, 'colsample_bytree': 0.6124949178949977, 'subsample': 0.7400757062566607, 'reg_alpha': 3.7209753509631045, 'reg_lambda': 0.569738620983603}. Best is trial 1 with value: 0.40287664920895294.\n"
     ]
    },
    {
     "name": "stdout",
     "output_type": "stream",
     "text": [
      "[500]\tvalid_0's ndcg@5: 0.39595\n",
      "Did not meet early stopping. Best iteration is:\n",
      "[491]\tvalid_0's ndcg@5: 0.395955\n",
      "Best Mean Score for all folds: 0.3946631525629304, with params: {'objective': 'lambdarank', 'metric': 'ndcg', 'ndcg_eval_at': [5], 'boosting_type': 'gbdt', 'verbosity': -1, 'n_estimators': 500, 'early_stopping_round': 30, 'learning_rate': 0.011728046363566665, 'num_leaves': 78, 'min_child_samples': 53, 'min_child_weight': 0.0017942163612266189, 'colsample_bytree': 0.6124949178949977, 'subsample': 0.7400757062566607, 'reg_alpha': 3.7209753509631045, 'reg_lambda': 0.569738620983603}\n",
      "Training on fold 1\n"
     ]
    },
    {
     "name": "stderr",
     "output_type": "stream",
     "text": [
      "/Users/rik/.pyenv/versions/3.10.12/lib/python3.10/site-packages/lightgbm/sklearn.py:861: UserWarning: Found 'ndcg_eval_at' in params. Will use it instead of 'eval_at' argument\n",
      "  _log_warning(f\"Found '{alias}' in params. Will use it instead of 'eval_at' argument\")\n"
     ]
    },
    {
     "name": "stdout",
     "output_type": "stream",
     "text": [
      "Training until validation scores don't improve for 50 rounds\n",
      "Training on fold 2\n"
     ]
    },
    {
     "name": "stderr",
     "output_type": "stream",
     "text": [
      "/Users/rik/.pyenv/versions/3.10.12/lib/python3.10/site-packages/lightgbm/sklearn.py:861: UserWarning: Found 'ndcg_eval_at' in params. Will use it instead of 'eval_at' argument\n",
      "  _log_warning(f\"Found '{alias}' in params. Will use it instead of 'eval_at' argument\")\n"
     ]
    },
    {
     "name": "stdout",
     "output_type": "stream",
     "text": [
      "Training until validation scores don't improve for 50 rounds\n",
      "Training on fold 3\n"
     ]
    },
    {
     "name": "stderr",
     "output_type": "stream",
     "text": [
      "/Users/rik/.pyenv/versions/3.10.12/lib/python3.10/site-packages/lightgbm/sklearn.py:861: UserWarning: Found 'ndcg_eval_at' in params. Will use it instead of 'eval_at' argument\n",
      "  _log_warning(f\"Found '{alias}' in params. Will use it instead of 'eval_at' argument\")\n"
     ]
    },
    {
     "name": "stdout",
     "output_type": "stream",
     "text": [
      "[LightGBM] [Warning] Met categorical feature which contains sparse values. Consider renumbering to consecutive integers started from zero\n",
      "Training until validation scores don't improve for 50 rounds\n",
      "Training on fold 4\n"
     ]
    },
    {
     "name": "stderr",
     "output_type": "stream",
     "text": [
      "/Users/rik/.pyenv/versions/3.10.12/lib/python3.10/site-packages/lightgbm/sklearn.py:861: UserWarning: Found 'ndcg_eval_at' in params. Will use it instead of 'eval_at' argument\n",
      "  _log_warning(f\"Found '{alias}' in params. Will use it instead of 'eval_at' argument\")\n"
     ]
    },
    {
     "name": "stdout",
     "output_type": "stream",
     "text": [
      "Training until validation scores don't improve for 50 rounds\n",
      "Training on fold 5\n"
     ]
    },
    {
     "name": "stderr",
     "output_type": "stream",
     "text": [
      "/Users/rik/.pyenv/versions/3.10.12/lib/python3.10/site-packages/lightgbm/sklearn.py:861: UserWarning: Found 'ndcg_eval_at' in params. Will use it instead of 'eval_at' argument\n",
      "  _log_warning(f\"Found '{alias}' in params. Will use it instead of 'eval_at' argument\")\n"
     ]
    },
    {
     "name": "stdout",
     "output_type": "stream",
     "text": [
      "[LightGBM] [Warning] Met categorical feature which contains sparse values. Consider renumbering to consecutive integers started from zero\n",
      "Training until validation scores don't improve for 50 rounds\n"
     ]
    },
    {
     "name": "stderr",
     "output_type": "stream",
     "text": [
      "[I 2025-05-15 18:03:31,586] Trial 9 finished with value: 0.3985188517650732 and parameters: {'learning_rate': 0.2641019992747582, 'num_leaves': 105, 'min_child_samples': 19, 'min_child_weight': 0.004387892547935658, 'colsample_bytree': 0.8429941640382923, 'subsample': 0.6979961157138872, 'reg_alpha': 7.063273073680338, 'reg_lambda': 0.2512272478725805}. Best is trial 1 with value: 0.40287664920895294.\n"
     ]
    },
    {
     "name": "stdout",
     "output_type": "stream",
     "text": [
      "Best Mean Score for all folds: 0.3985188517650732, with params: {'objective': 'lambdarank', 'metric': 'ndcg', 'ndcg_eval_at': [5], 'boosting_type': 'gbdt', 'verbosity': -1, 'n_estimators': 500, 'early_stopping_round': 30, 'learning_rate': 0.2641019992747582, 'num_leaves': 105, 'min_child_samples': 19, 'min_child_weight': 0.004387892547935658, 'colsample_bytree': 0.8429941640382923, 'subsample': 0.6979961157138872, 'reg_alpha': 7.063273073680338, 'reg_lambda': 0.2512272478725805}\n",
      "Training on fold 1\n"
     ]
    },
    {
     "name": "stderr",
     "output_type": "stream",
     "text": [
      "/Users/rik/.pyenv/versions/3.10.12/lib/python3.10/site-packages/lightgbm/sklearn.py:861: UserWarning: Found 'ndcg_eval_at' in params. Will use it instead of 'eval_at' argument\n",
      "  _log_warning(f\"Found '{alias}' in params. Will use it instead of 'eval_at' argument\")\n"
     ]
    },
    {
     "name": "stdout",
     "output_type": "stream",
     "text": [
      "[LightGBM] [Warning] Met categorical feature which contains sparse values. Consider renumbering to consecutive integers started from zero\n",
      "Training until validation scores don't improve for 50 rounds\n",
      "[250]\tvalid_0's ndcg@5: 0.399922\n",
      "Training on fold 2\n"
     ]
    },
    {
     "name": "stderr",
     "output_type": "stream",
     "text": [
      "/Users/rik/.pyenv/versions/3.10.12/lib/python3.10/site-packages/lightgbm/sklearn.py:861: UserWarning: Found 'ndcg_eval_at' in params. Will use it instead of 'eval_at' argument\n",
      "  _log_warning(f\"Found '{alias}' in params. Will use it instead of 'eval_at' argument\")\n"
     ]
    },
    {
     "name": "stdout",
     "output_type": "stream",
     "text": [
      "[LightGBM] [Warning] Met categorical feature which contains sparse values. Consider renumbering to consecutive integers started from zero\n",
      "Training until validation scores don't improve for 50 rounds\n",
      "[250]\tvalid_0's ndcg@5: 0.400977\n",
      "[500]\tvalid_0's ndcg@5: 0.404996\n",
      "Training on fold 3\n"
     ]
    },
    {
     "name": "stderr",
     "output_type": "stream",
     "text": [
      "/Users/rik/.pyenv/versions/3.10.12/lib/python3.10/site-packages/lightgbm/sklearn.py:861: UserWarning: Found 'ndcg_eval_at' in params. Will use it instead of 'eval_at' argument\n",
      "  _log_warning(f\"Found '{alias}' in params. Will use it instead of 'eval_at' argument\")\n"
     ]
    },
    {
     "name": "stdout",
     "output_type": "stream",
     "text": [
      "[LightGBM] [Warning] Met categorical feature which contains sparse values. Consider renumbering to consecutive integers started from zero\n",
      "Training until validation scores don't improve for 50 rounds\n",
      "[250]\tvalid_0's ndcg@5: 0.399365\n",
      "Training on fold 4\n"
     ]
    },
    {
     "name": "stderr",
     "output_type": "stream",
     "text": [
      "/Users/rik/.pyenv/versions/3.10.12/lib/python3.10/site-packages/lightgbm/sklearn.py:861: UserWarning: Found 'ndcg_eval_at' in params. Will use it instead of 'eval_at' argument\n",
      "  _log_warning(f\"Found '{alias}' in params. Will use it instead of 'eval_at' argument\")\n"
     ]
    },
    {
     "name": "stdout",
     "output_type": "stream",
     "text": [
      "Training until validation scores don't improve for 50 rounds\n",
      "[250]\tvalid_0's ndcg@5: 0.402028\n",
      "Training on fold 5\n"
     ]
    },
    {
     "name": "stderr",
     "output_type": "stream",
     "text": [
      "/Users/rik/.pyenv/versions/3.10.12/lib/python3.10/site-packages/lightgbm/sklearn.py:861: UserWarning: Found 'ndcg_eval_at' in params. Will use it instead of 'eval_at' argument\n",
      "  _log_warning(f\"Found '{alias}' in params. Will use it instead of 'eval_at' argument\")\n"
     ]
    },
    {
     "name": "stdout",
     "output_type": "stream",
     "text": [
      "Training until validation scores don't improve for 50 rounds\n",
      "[250]\tvalid_0's ndcg@5: 0.403242\n"
     ]
    },
    {
     "name": "stderr",
     "output_type": "stream",
     "text": [
      "[I 2025-05-15 18:10:51,714] Trial 10 finished with value: 0.4042627922336286 and parameters: {'learning_rate': 0.04716384441773926, 'num_leaves': 143, 'min_child_samples': 86, 'min_child_weight': 4.672897079697607, 'colsample_bytree': 0.6786367575645589, 'subsample': 0.9924839373604529, 'reg_alpha': 0.010906521867156668, 'reg_lambda': 8.987195843068315}. Best is trial 10 with value: 0.4042627922336286.\n"
     ]
    },
    {
     "name": "stdout",
     "output_type": "stream",
     "text": [
      "Best Mean Score for all folds: 0.4042627922336286, with params: {'objective': 'lambdarank', 'metric': 'ndcg', 'ndcg_eval_at': [5], 'boosting_type': 'gbdt', 'verbosity': -1, 'n_estimators': 500, 'early_stopping_round': 30, 'learning_rate': 0.04716384441773926, 'num_leaves': 143, 'min_child_samples': 86, 'min_child_weight': 4.672897079697607, 'colsample_bytree': 0.6786367575645589, 'subsample': 0.9924839373604529, 'reg_alpha': 0.010906521867156668, 'reg_lambda': 8.987195843068315}\n",
      "Training on fold 1\n"
     ]
    },
    {
     "name": "stderr",
     "output_type": "stream",
     "text": [
      "/Users/rik/.pyenv/versions/3.10.12/lib/python3.10/site-packages/lightgbm/sklearn.py:861: UserWarning: Found 'ndcg_eval_at' in params. Will use it instead of 'eval_at' argument\n",
      "  _log_warning(f\"Found '{alias}' in params. Will use it instead of 'eval_at' argument\")\n"
     ]
    },
    {
     "name": "stdout",
     "output_type": "stream",
     "text": [
      "Training until validation scores don't improve for 50 rounds\n",
      "[250]\tvalid_0's ndcg@5: 0.40015\n",
      "Training on fold 2\n"
     ]
    },
    {
     "name": "stderr",
     "output_type": "stream",
     "text": [
      "/Users/rik/.pyenv/versions/3.10.12/lib/python3.10/site-packages/lightgbm/sklearn.py:861: UserWarning: Found 'ndcg_eval_at' in params. Will use it instead of 'eval_at' argument\n",
      "  _log_warning(f\"Found '{alias}' in params. Will use it instead of 'eval_at' argument\")\n"
     ]
    },
    {
     "name": "stdout",
     "output_type": "stream",
     "text": [
      "Training until validation scores don't improve for 50 rounds\n",
      "[250]\tvalid_0's ndcg@5: 0.401356\n",
      "[500]\tvalid_0's ndcg@5: 0.404983\n",
      "Training on fold 3\n"
     ]
    },
    {
     "name": "stderr",
     "output_type": "stream",
     "text": [
      "/Users/rik/.pyenv/versions/3.10.12/lib/python3.10/site-packages/lightgbm/sklearn.py:861: UserWarning: Found 'ndcg_eval_at' in params. Will use it instead of 'eval_at' argument\n",
      "  _log_warning(f\"Found '{alias}' in params. Will use it instead of 'eval_at' argument\")\n"
     ]
    },
    {
     "name": "stdout",
     "output_type": "stream",
     "text": [
      "Training until validation scores don't improve for 50 rounds\n",
      "[250]\tvalid_0's ndcg@5: 0.399651\n",
      "Training on fold 4\n"
     ]
    },
    {
     "name": "stderr",
     "output_type": "stream",
     "text": [
      "/Users/rik/.pyenv/versions/3.10.12/lib/python3.10/site-packages/lightgbm/sklearn.py:861: UserWarning: Found 'ndcg_eval_at' in params. Will use it instead of 'eval_at' argument\n",
      "  _log_warning(f\"Found '{alias}' in params. Will use it instead of 'eval_at' argument\")\n"
     ]
    },
    {
     "name": "stdout",
     "output_type": "stream",
     "text": [
      "Training until validation scores don't improve for 50 rounds\n",
      "[250]\tvalid_0's ndcg@5: 0.401881\n",
      "Training on fold 5\n"
     ]
    },
    {
     "name": "stderr",
     "output_type": "stream",
     "text": [
      "/Users/rik/.pyenv/versions/3.10.12/lib/python3.10/site-packages/lightgbm/sklearn.py:861: UserWarning: Found 'ndcg_eval_at' in params. Will use it instead of 'eval_at' argument\n",
      "  _log_warning(f\"Found '{alias}' in params. Will use it instead of 'eval_at' argument\")\n"
     ]
    },
    {
     "name": "stdout",
     "output_type": "stream",
     "text": [
      "[LightGBM] [Warning] Met categorical feature which contains sparse values. Consider renumbering to consecutive integers started from zero\n",
      "Training until validation scores don't improve for 50 rounds\n",
      "[250]\tvalid_0's ndcg@5: 0.40316\n"
     ]
    },
    {
     "name": "stderr",
     "output_type": "stream",
     "text": [
      "[I 2025-05-15 18:18:00,803] Trial 11 finished with value: 0.40384720969313115 and parameters: {'learning_rate': 0.0436419638860274, 'num_leaves': 147, 'min_child_samples': 87, 'min_child_weight': 7.229594172056366, 'colsample_bytree': 0.6854928222295855, 'subsample': 0.9937951252009307, 'reg_alpha': 0.009773244820253492, 'reg_lambda': 8.917353091918994}. Best is trial 10 with value: 0.4042627922336286.\n"
     ]
    },
    {
     "name": "stdout",
     "output_type": "stream",
     "text": [
      "Best Mean Score for all folds: 0.40384720969313115, with params: {'objective': 'lambdarank', 'metric': 'ndcg', 'ndcg_eval_at': [5], 'boosting_type': 'gbdt', 'verbosity': -1, 'n_estimators': 500, 'early_stopping_round': 30, 'learning_rate': 0.0436419638860274, 'num_leaves': 147, 'min_child_samples': 87, 'min_child_weight': 7.229594172056366, 'colsample_bytree': 0.6854928222295855, 'subsample': 0.9937951252009307, 'reg_alpha': 0.009773244820253492, 'reg_lambda': 8.917353091918994}\n",
      "Training on fold 1\n"
     ]
    },
    {
     "name": "stderr",
     "output_type": "stream",
     "text": [
      "/Users/rik/.pyenv/versions/3.10.12/lib/python3.10/site-packages/lightgbm/sklearn.py:861: UserWarning: Found 'ndcg_eval_at' in params. Will use it instead of 'eval_at' argument\n",
      "  _log_warning(f\"Found '{alias}' in params. Will use it instead of 'eval_at' argument\")\n"
     ]
    },
    {
     "name": "stdout",
     "output_type": "stream",
     "text": [
      "Training until validation scores don't improve for 50 rounds\n",
      "[250]\tvalid_0's ndcg@5: 0.400254\n",
      "Training on fold 2\n"
     ]
    },
    {
     "name": "stderr",
     "output_type": "stream",
     "text": [
      "/Users/rik/.pyenv/versions/3.10.12/lib/python3.10/site-packages/lightgbm/sklearn.py:861: UserWarning: Found 'ndcg_eval_at' in params. Will use it instead of 'eval_at' argument\n",
      "  _log_warning(f\"Found '{alias}' in params. Will use it instead of 'eval_at' argument\")\n"
     ]
    },
    {
     "name": "stdout",
     "output_type": "stream",
     "text": [
      "Training until validation scores don't improve for 50 rounds\n",
      "[250]\tvalid_0's ndcg@5: 0.401504\n",
      "Training on fold 3\n"
     ]
    },
    {
     "name": "stderr",
     "output_type": "stream",
     "text": [
      "/Users/rik/.pyenv/versions/3.10.12/lib/python3.10/site-packages/lightgbm/sklearn.py:861: UserWarning: Found 'ndcg_eval_at' in params. Will use it instead of 'eval_at' argument\n",
      "  _log_warning(f\"Found '{alias}' in params. Will use it instead of 'eval_at' argument\")\n"
     ]
    },
    {
     "name": "stdout",
     "output_type": "stream",
     "text": [
      "[LightGBM] [Warning] Met categorical feature which contains sparse values. Consider renumbering to consecutive integers started from zero\n",
      "Training until validation scores don't improve for 50 rounds\n",
      "[250]\tvalid_0's ndcg@5: 0.399294\n",
      "Training on fold 4\n"
     ]
    },
    {
     "name": "stderr",
     "output_type": "stream",
     "text": [
      "/Users/rik/.pyenv/versions/3.10.12/lib/python3.10/site-packages/lightgbm/sklearn.py:861: UserWarning: Found 'ndcg_eval_at' in params. Will use it instead of 'eval_at' argument\n",
      "  _log_warning(f\"Found '{alias}' in params. Will use it instead of 'eval_at' argument\")\n"
     ]
    },
    {
     "name": "stdout",
     "output_type": "stream",
     "text": [
      "Training until validation scores don't improve for 50 rounds\n",
      "[250]\tvalid_0's ndcg@5: 0.401507\n",
      "[500]\tvalid_0's ndcg@5: 0.406072\n",
      "Training on fold 5\n"
     ]
    },
    {
     "name": "stderr",
     "output_type": "stream",
     "text": [
      "/Users/rik/.pyenv/versions/3.10.12/lib/python3.10/site-packages/lightgbm/sklearn.py:861: UserWarning: Found 'ndcg_eval_at' in params. Will use it instead of 'eval_at' argument\n",
      "  _log_warning(f\"Found '{alias}' in params. Will use it instead of 'eval_at' argument\")\n"
     ]
    },
    {
     "name": "stdout",
     "output_type": "stream",
     "text": [
      "Training until validation scores don't improve for 50 rounds\n",
      "[250]\tvalid_0's ndcg@5: 0.401731\n"
     ]
    },
    {
     "name": "stderr",
     "output_type": "stream",
     "text": [
      "[I 2025-05-15 18:27:17,111] Trial 12 finished with value: 0.40457208870818606 and parameters: {'learning_rate': 0.03928543917526321, 'num_leaves': 151, 'min_child_samples': 100, 'min_child_weight': 9.84223213747703, 'colsample_bytree': 0.5340379911098179, 'subsample': 0.9940711682871947, 'reg_alpha': 0.009867816340998009, 'reg_lambda': 8.490860770966702}. Best is trial 12 with value: 0.40457208870818606.\n"
     ]
    },
    {
     "name": "stdout",
     "output_type": "stream",
     "text": [
      "[500]\tvalid_0's ndcg@5: 0.406958\n",
      "Did not meet early stopping. Best iteration is:\n",
      "[479]\tvalid_0's ndcg@5: 0.40698\n",
      "Best Mean Score for all folds: 0.40457208870818606, with params: {'objective': 'lambdarank', 'metric': 'ndcg', 'ndcg_eval_at': [5], 'boosting_type': 'gbdt', 'verbosity': -1, 'n_estimators': 500, 'early_stopping_round': 30, 'learning_rate': 0.03928543917526321, 'num_leaves': 151, 'min_child_samples': 100, 'min_child_weight': 9.84223213747703, 'colsample_bytree': 0.5340379911098179, 'subsample': 0.9940711682871947, 'reg_alpha': 0.009867816340998009, 'reg_lambda': 8.490860770966702}\n",
      "Training on fold 1\n"
     ]
    },
    {
     "name": "stderr",
     "output_type": "stream",
     "text": [
      "/Users/rik/.pyenv/versions/3.10.12/lib/python3.10/site-packages/lightgbm/sklearn.py:861: UserWarning: Found 'ndcg_eval_at' in params. Will use it instead of 'eval_at' argument\n",
      "  _log_warning(f\"Found '{alias}' in params. Will use it instead of 'eval_at' argument\")\n"
     ]
    },
    {
     "name": "stdout",
     "output_type": "stream",
     "text": [
      "[LightGBM] [Warning] Met categorical feature which contains sparse values. Consider renumbering to consecutive integers started from zero\n",
      "Training until validation scores don't improve for 50 rounds\n",
      "Training on fold 2\n"
     ]
    },
    {
     "name": "stderr",
     "output_type": "stream",
     "text": [
      "/Users/rik/.pyenv/versions/3.10.12/lib/python3.10/site-packages/lightgbm/sklearn.py:861: UserWarning: Found 'ndcg_eval_at' in params. Will use it instead of 'eval_at' argument\n",
      "  _log_warning(f\"Found '{alias}' in params. Will use it instead of 'eval_at' argument\")\n"
     ]
    },
    {
     "name": "stdout",
     "output_type": "stream",
     "text": [
      "[LightGBM] [Warning] Met categorical feature which contains sparse values. Consider renumbering to consecutive integers started from zero\n",
      "Training until validation scores don't improve for 50 rounds\n",
      "[250]\tvalid_0's ndcg@5: 0.398015\n",
      "[500]\tvalid_0's ndcg@5: 0.403394\n",
      "Training on fold 3\n"
     ]
    },
    {
     "name": "stderr",
     "output_type": "stream",
     "text": [
      "/Users/rik/.pyenv/versions/3.10.12/lib/python3.10/site-packages/lightgbm/sklearn.py:861: UserWarning: Found 'ndcg_eval_at' in params. Will use it instead of 'eval_at' argument\n",
      "  _log_warning(f\"Found '{alias}' in params. Will use it instead of 'eval_at' argument\")\n"
     ]
    },
    {
     "name": "stdout",
     "output_type": "stream",
     "text": [
      "[LightGBM] [Warning] Met categorical feature which contains sparse values. Consider renumbering to consecutive integers started from zero\n",
      "Training until validation scores don't improve for 50 rounds\n",
      "[250]\tvalid_0's ndcg@5: 0.396677\n",
      "[500]\tvalid_0's ndcg@5: 0.401538\n",
      "Did not meet early stopping. Best iteration is:\n",
      "[492]\tvalid_0's ndcg@5: 0.401844\n",
      "Training on fold 4\n"
     ]
    },
    {
     "name": "stderr",
     "output_type": "stream",
     "text": [
      "/Users/rik/.pyenv/versions/3.10.12/lib/python3.10/site-packages/lightgbm/sklearn.py:861: UserWarning: Found 'ndcg_eval_at' in params. Will use it instead of 'eval_at' argument\n",
      "  _log_warning(f\"Found '{alias}' in params. Will use it instead of 'eval_at' argument\")\n"
     ]
    },
    {
     "name": "stdout",
     "output_type": "stream",
     "text": [
      "Training until validation scores don't improve for 50 rounds\n",
      "[250]\tvalid_0's ndcg@5: 0.398946\n",
      "[500]\tvalid_0's ndcg@5: 0.403629\n",
      "Training on fold 5\n"
     ]
    },
    {
     "name": "stderr",
     "output_type": "stream",
     "text": [
      "/Users/rik/.pyenv/versions/3.10.12/lib/python3.10/site-packages/lightgbm/sklearn.py:861: UserWarning: Found 'ndcg_eval_at' in params. Will use it instead of 'eval_at' argument\n",
      "  _log_warning(f\"Found '{alias}' in params. Will use it instead of 'eval_at' argument\")\n"
     ]
    },
    {
     "name": "stdout",
     "output_type": "stream",
     "text": [
      "Training until validation scores don't improve for 50 rounds\n",
      "[250]\tvalid_0's ndcg@5: 0.399824\n"
     ]
    },
    {
     "name": "stderr",
     "output_type": "stream",
     "text": [
      "[I 2025-05-15 18:37:01,066] Trial 13 finished with value: 0.4020187701300501 and parameters: {'learning_rate': 0.02537116319053543, 'num_leaves': 145, 'min_child_samples': 100, 'min_child_weight': 9.558097100846046, 'colsample_bytree': 0.5095657289002956, 'subsample': 0.9562412020338363, 'reg_alpha': 0.01675009027875313, 'reg_lambda': 8.809680074357555}. Best is trial 12 with value: 0.40457208870818606.\n"
     ]
    },
    {
     "name": "stdout",
     "output_type": "stream",
     "text": [
      "[500]\tvalid_0's ndcg@5: 0.404263\n",
      "Best Mean Score for all folds: 0.4020187701300501, with params: {'objective': 'lambdarank', 'metric': 'ndcg', 'ndcg_eval_at': [5], 'boosting_type': 'gbdt', 'verbosity': -1, 'n_estimators': 500, 'early_stopping_round': 30, 'learning_rate': 0.02537116319053543, 'num_leaves': 145, 'min_child_samples': 100, 'min_child_weight': 9.558097100846046, 'colsample_bytree': 0.5095657289002956, 'subsample': 0.9562412020338363, 'reg_alpha': 0.01675009027875313, 'reg_lambda': 8.809680074357555}\n",
      "Training on fold 1\n"
     ]
    },
    {
     "name": "stderr",
     "output_type": "stream",
     "text": [
      "/Users/rik/.pyenv/versions/3.10.12/lib/python3.10/site-packages/lightgbm/sklearn.py:861: UserWarning: Found 'ndcg_eval_at' in params. Will use it instead of 'eval_at' argument\n",
      "  _log_warning(f\"Found '{alias}' in params. Will use it instead of 'eval_at' argument\")\n"
     ]
    },
    {
     "name": "stdout",
     "output_type": "stream",
     "text": [
      "[LightGBM] [Warning] Met categorical feature which contains sparse values. Consider renumbering to consecutive integers started from zero\n",
      "Training until validation scores don't improve for 50 rounds\n",
      "Training on fold 2\n"
     ]
    },
    {
     "name": "stderr",
     "output_type": "stream",
     "text": [
      "/Users/rik/.pyenv/versions/3.10.12/lib/python3.10/site-packages/lightgbm/sklearn.py:861: UserWarning: Found 'ndcg_eval_at' in params. Will use it instead of 'eval_at' argument\n",
      "  _log_warning(f\"Found '{alias}' in params. Will use it instead of 'eval_at' argument\")\n"
     ]
    },
    {
     "name": "stdout",
     "output_type": "stream",
     "text": [
      "[LightGBM] [Warning] Met categorical feature which contains sparse values. Consider renumbering to consecutive integers started from zero\n",
      "Training until validation scores don't improve for 50 rounds\n",
      "[250]\tvalid_0's ndcg@5: 0.402753\n",
      "Training on fold 3\n"
     ]
    },
    {
     "name": "stderr",
     "output_type": "stream",
     "text": [
      "/Users/rik/.pyenv/versions/3.10.12/lib/python3.10/site-packages/lightgbm/sklearn.py:861: UserWarning: Found 'ndcg_eval_at' in params. Will use it instead of 'eval_at' argument\n",
      "  _log_warning(f\"Found '{alias}' in params. Will use it instead of 'eval_at' argument\")\n"
     ]
    },
    {
     "name": "stdout",
     "output_type": "stream",
     "text": [
      "Training until validation scores don't improve for 50 rounds\n",
      "[250]\tvalid_0's ndcg@5: 0.400767\n",
      "Training on fold 4\n"
     ]
    },
    {
     "name": "stderr",
     "output_type": "stream",
     "text": [
      "/Users/rik/.pyenv/versions/3.10.12/lib/python3.10/site-packages/lightgbm/sklearn.py:861: UserWarning: Found 'ndcg_eval_at' in params. Will use it instead of 'eval_at' argument\n",
      "  _log_warning(f\"Found '{alias}' in params. Will use it instead of 'eval_at' argument\")\n"
     ]
    },
    {
     "name": "stdout",
     "output_type": "stream",
     "text": [
      "Training until validation scores don't improve for 50 rounds\n",
      "[250]\tvalid_0's ndcg@5: 0.403434\n",
      "Training on fold 5\n"
     ]
    },
    {
     "name": "stderr",
     "output_type": "stream",
     "text": [
      "/Users/rik/.pyenv/versions/3.10.12/lib/python3.10/site-packages/lightgbm/sklearn.py:861: UserWarning: Found 'ndcg_eval_at' in params. Will use it instead of 'eval_at' argument\n",
      "  _log_warning(f\"Found '{alias}' in params. Will use it instead of 'eval_at' argument\")\n"
     ]
    },
    {
     "name": "stdout",
     "output_type": "stream",
     "text": [
      "[LightGBM] [Warning] Met categorical feature which contains sparse values. Consider renumbering to consecutive integers started from zero\n",
      "Training until validation scores don't improve for 50 rounds\n",
      "[250]\tvalid_0's ndcg@5: 0.403731\n"
     ]
    },
    {
     "name": "stderr",
     "output_type": "stream",
     "text": [
      "[I 2025-05-15 18:43:42,263] Trial 14 finished with value: 0.4032689146997071 and parameters: {'learning_rate': 0.06094937998176398, 'num_leaves': 142, 'min_child_samples': 68, 'min_child_weight': 2.1868789146252965, 'colsample_bytree': 0.5003808044718133, 'subsample': 0.9121873171209933, 'reg_alpha': 0.015023644257163779, 'reg_lambda': 2.040267274440809}. Best is trial 12 with value: 0.40457208870818606.\n"
     ]
    },
    {
     "name": "stdout",
     "output_type": "stream",
     "text": [
      "Best Mean Score for all folds: 0.4032689146997071, with params: {'objective': 'lambdarank', 'metric': 'ndcg', 'ndcg_eval_at': [5], 'boosting_type': 'gbdt', 'verbosity': -1, 'n_estimators': 500, 'early_stopping_round': 30, 'learning_rate': 0.06094937998176398, 'num_leaves': 142, 'min_child_samples': 68, 'min_child_weight': 2.1868789146252965, 'colsample_bytree': 0.5003808044718133, 'subsample': 0.9121873171209933, 'reg_alpha': 0.015023644257163779, 'reg_lambda': 2.040267274440809}\n",
      "Training on fold 1\n"
     ]
    },
    {
     "name": "stderr",
     "output_type": "stream",
     "text": [
      "/Users/rik/.pyenv/versions/3.10.12/lib/python3.10/site-packages/lightgbm/sklearn.py:861: UserWarning: Found 'ndcg_eval_at' in params. Will use it instead of 'eval_at' argument\n",
      "  _log_warning(f\"Found '{alias}' in params. Will use it instead of 'eval_at' argument\")\n"
     ]
    },
    {
     "name": "stdout",
     "output_type": "stream",
     "text": [
      "Training until validation scores don't improve for 50 rounds\n",
      "[250]\tvalid_0's ndcg@5: 0.397948\n",
      "[500]\tvalid_0's ndcg@5: 0.402538\n",
      "Did not meet early stopping. Best iteration is:\n",
      "[500]\tvalid_0's ndcg@5: 0.402538\n",
      "Training on fold 2\n"
     ]
    },
    {
     "name": "stderr",
     "output_type": "stream",
     "text": [
      "/Users/rik/.pyenv/versions/3.10.12/lib/python3.10/site-packages/lightgbm/sklearn.py:861: UserWarning: Found 'ndcg_eval_at' in params. Will use it instead of 'eval_at' argument\n",
      "  _log_warning(f\"Found '{alias}' in params. Will use it instead of 'eval_at' argument\")\n"
     ]
    },
    {
     "name": "stdout",
     "output_type": "stream",
     "text": [
      "[LightGBM] [Warning] Met categorical feature which contains sparse values. Consider renumbering to consecutive integers started from zero\n",
      "Training until validation scores don't improve for 50 rounds\n",
      "[250]\tvalid_0's ndcg@5: 0.398223\n",
      "Training on fold 3\n"
     ]
    },
    {
     "name": "stderr",
     "output_type": "stream",
     "text": [
      "/Users/rik/.pyenv/versions/3.10.12/lib/python3.10/site-packages/lightgbm/sklearn.py:861: UserWarning: Found 'ndcg_eval_at' in params. Will use it instead of 'eval_at' argument\n",
      "  _log_warning(f\"Found '{alias}' in params. Will use it instead of 'eval_at' argument\")\n"
     ]
    },
    {
     "name": "stdout",
     "output_type": "stream",
     "text": [
      "Training until validation scores don't improve for 50 rounds\n",
      "[250]\tvalid_0's ndcg@5: 0.396938\n",
      "[500]\tvalid_0's ndcg@5: 0.400562\n",
      "Training on fold 4\n"
     ]
    },
    {
     "name": "stderr",
     "output_type": "stream",
     "text": [
      "/Users/rik/.pyenv/versions/3.10.12/lib/python3.10/site-packages/lightgbm/sklearn.py:861: UserWarning: Found 'ndcg_eval_at' in params. Will use it instead of 'eval_at' argument\n",
      "  _log_warning(f\"Found '{alias}' in params. Will use it instead of 'eval_at' argument\")\n"
     ]
    },
    {
     "name": "stdout",
     "output_type": "stream",
     "text": [
      "[LightGBM] [Warning] Met categorical feature which contains sparse values. Consider renumbering to consecutive integers started from zero\n",
      "Training until validation scores don't improve for 50 rounds\n",
      "[250]\tvalid_0's ndcg@5: 0.399409\n",
      "Training on fold 5\n"
     ]
    },
    {
     "name": "stderr",
     "output_type": "stream",
     "text": [
      "/Users/rik/.pyenv/versions/3.10.12/lib/python3.10/site-packages/lightgbm/sklearn.py:861: UserWarning: Found 'ndcg_eval_at' in params. Will use it instead of 'eval_at' argument\n",
      "  _log_warning(f\"Found '{alias}' in params. Will use it instead of 'eval_at' argument\")\n"
     ]
    },
    {
     "name": "stdout",
     "output_type": "stream",
     "text": [
      "Training until validation scores don't improve for 50 rounds\n",
      "[250]\tvalid_0's ndcg@5: 0.399756\n"
     ]
    },
    {
     "name": "stderr",
     "output_type": "stream",
     "text": [
      "[I 2025-05-15 18:53:51,859] Trial 15 finished with value: 0.4023796419988054 and parameters: {'learning_rate': 0.023680467138457645, 'num_leaves': 164, 'min_child_samples': 95, 'min_child_weight': 1.6829317701799547, 'colsample_bytree': 0.6020960865970354, 'subsample': 0.9720230490488547, 'reg_alpha': 0.005657793725594371, 'reg_lambda': 2.516034829522605}. Best is trial 12 with value: 0.40457208870818606.\n"
     ]
    },
    {
     "name": "stdout",
     "output_type": "stream",
     "text": [
      "[500]\tvalid_0's ndcg@5: 0.404803\n",
      "Did not meet early stopping. Best iteration is:\n",
      "[500]\tvalid_0's ndcg@5: 0.404803\n",
      "Best Mean Score for all folds: 0.4023796419988054, with params: {'objective': 'lambdarank', 'metric': 'ndcg', 'ndcg_eval_at': [5], 'boosting_type': 'gbdt', 'verbosity': -1, 'n_estimators': 500, 'early_stopping_round': 30, 'learning_rate': 0.023680467138457645, 'num_leaves': 164, 'min_child_samples': 95, 'min_child_weight': 1.6829317701799547, 'colsample_bytree': 0.6020960865970354, 'subsample': 0.9720230490488547, 'reg_alpha': 0.005657793725594371, 'reg_lambda': 2.516034829522605}\n",
      "Training on fold 1\n"
     ]
    },
    {
     "name": "stderr",
     "output_type": "stream",
     "text": [
      "/Users/rik/.pyenv/versions/3.10.12/lib/python3.10/site-packages/lightgbm/sklearn.py:861: UserWarning: Found 'ndcg_eval_at' in params. Will use it instead of 'eval_at' argument\n",
      "  _log_warning(f\"Found '{alias}' in params. Will use it instead of 'eval_at' argument\")\n"
     ]
    },
    {
     "name": "stdout",
     "output_type": "stream",
     "text": [
      "[LightGBM] [Warning] Met categorical feature which contains sparse values. Consider renumbering to consecutive integers started from zero\n",
      "Training until validation scores don't improve for 50 rounds\n",
      "[250]\tvalid_0's ndcg@5: 0.401189\n",
      "Training on fold 2\n"
     ]
    },
    {
     "name": "stderr",
     "output_type": "stream",
     "text": [
      "/Users/rik/.pyenv/versions/3.10.12/lib/python3.10/site-packages/lightgbm/sklearn.py:861: UserWarning: Found 'ndcg_eval_at' in params. Will use it instead of 'eval_at' argument\n",
      "  _log_warning(f\"Found '{alias}' in params. Will use it instead of 'eval_at' argument\")\n"
     ]
    },
    {
     "name": "stdout",
     "output_type": "stream",
     "text": [
      "[LightGBM] [Warning] Met categorical feature which contains sparse values. Consider renumbering to consecutive integers started from zero\n",
      "Training until validation scores don't improve for 50 rounds\n",
      "[250]\tvalid_0's ndcg@5: 0.402591\n",
      "Training on fold 3\n"
     ]
    },
    {
     "name": "stderr",
     "output_type": "stream",
     "text": [
      "/Users/rik/.pyenv/versions/3.10.12/lib/python3.10/site-packages/lightgbm/sklearn.py:861: UserWarning: Found 'ndcg_eval_at' in params. Will use it instead of 'eval_at' argument\n",
      "  _log_warning(f\"Found '{alias}' in params. Will use it instead of 'eval_at' argument\")\n"
     ]
    },
    {
     "name": "stdout",
     "output_type": "stream",
     "text": [
      "Training until validation scores don't improve for 50 rounds\n",
      "[250]\tvalid_0's ndcg@5: 0.399561\n",
      "Training on fold 4\n"
     ]
    },
    {
     "name": "stderr",
     "output_type": "stream",
     "text": [
      "/Users/rik/.pyenv/versions/3.10.12/lib/python3.10/site-packages/lightgbm/sklearn.py:861: UserWarning: Found 'ndcg_eval_at' in params. Will use it instead of 'eval_at' argument\n",
      "  _log_warning(f\"Found '{alias}' in params. Will use it instead of 'eval_at' argument\")\n"
     ]
    },
    {
     "name": "stdout",
     "output_type": "stream",
     "text": [
      "[LightGBM] [Warning] Met categorical feature which contains sparse values. Consider renumbering to consecutive integers started from zero\n",
      "Training until validation scores don't improve for 50 rounds\n",
      "[250]\tvalid_0's ndcg@5: 0.403109\n",
      "Training on fold 5\n"
     ]
    },
    {
     "name": "stderr",
     "output_type": "stream",
     "text": [
      "/Users/rik/.pyenv/versions/3.10.12/lib/python3.10/site-packages/lightgbm/sklearn.py:861: UserWarning: Found 'ndcg_eval_at' in params. Will use it instead of 'eval_at' argument\n",
      "  _log_warning(f\"Found '{alias}' in params. Will use it instead of 'eval_at' argument\")\n"
     ]
    },
    {
     "name": "stdout",
     "output_type": "stream",
     "text": [
      "[LightGBM] [Warning] Met categorical feature which contains sparse values. Consider renumbering to consecutive integers started from zero\n",
      "Training until validation scores don't improve for 50 rounds\n",
      "[250]\tvalid_0's ndcg@5: 0.403651\n"
     ]
    },
    {
     "name": "stderr",
     "output_type": "stream",
     "text": [
      "[I 2025-05-15 18:59:19,746] Trial 16 finished with value: 0.4029468353696052 and parameters: {'learning_rate': 0.06924817461363197, 'num_leaves': 129, 'min_child_samples': 71, 'min_child_weight': 0.055787248823315067, 'colsample_bytree': 0.686668264227194, 'subsample': 0.9163827518484847, 'reg_alpha': 0.04531712343483434, 'reg_lambda': 4.38963253874874}. Best is trial 12 with value: 0.40457208870818606.\n"
     ]
    },
    {
     "name": "stdout",
     "output_type": "stream",
     "text": [
      "Best Mean Score for all folds: 0.4029468353696052, with params: {'objective': 'lambdarank', 'metric': 'ndcg', 'ndcg_eval_at': [5], 'boosting_type': 'gbdt', 'verbosity': -1, 'n_estimators': 500, 'early_stopping_round': 30, 'learning_rate': 0.06924817461363197, 'num_leaves': 129, 'min_child_samples': 71, 'min_child_weight': 0.055787248823315067, 'colsample_bytree': 0.686668264227194, 'subsample': 0.9163827518484847, 'reg_alpha': 0.04531712343483434, 'reg_lambda': 4.38963253874874}\n",
      "Training on fold 1\n"
     ]
    },
    {
     "name": "stderr",
     "output_type": "stream",
     "text": [
      "/Users/rik/.pyenv/versions/3.10.12/lib/python3.10/site-packages/lightgbm/sklearn.py:861: UserWarning: Found 'ndcg_eval_at' in params. Will use it instead of 'eval_at' argument\n",
      "  _log_warning(f\"Found '{alias}' in params. Will use it instead of 'eval_at' argument\")\n"
     ]
    },
    {
     "name": "stdout",
     "output_type": "stream",
     "text": [
      "Training until validation scores don't improve for 50 rounds\n",
      "[250]\tvalid_0's ndcg@5: 0.398193\n",
      "[500]\tvalid_0's ndcg@5: 0.401701\n",
      "Did not meet early stopping. Best iteration is:\n",
      "[488]\tvalid_0's ndcg@5: 0.402033\n",
      "Training on fold 2\n"
     ]
    },
    {
     "name": "stderr",
     "output_type": "stream",
     "text": [
      "/Users/rik/.pyenv/versions/3.10.12/lib/python3.10/site-packages/lightgbm/sklearn.py:861: UserWarning: Found 'ndcg_eval_at' in params. Will use it instead of 'eval_at' argument\n",
      "  _log_warning(f\"Found '{alias}' in params. Will use it instead of 'eval_at' argument\")\n"
     ]
    },
    {
     "name": "stdout",
     "output_type": "stream",
     "text": [
      "[LightGBM] [Warning] Met categorical feature which contains sparse values. Consider renumbering to consecutive integers started from zero\n",
      "Training until validation scores don't improve for 50 rounds\n",
      "[250]\tvalid_0's ndcg@5: 0.398227\n",
      "[500]\tvalid_0's ndcg@5: 0.40204\n",
      "Training on fold 3\n"
     ]
    },
    {
     "name": "stderr",
     "output_type": "stream",
     "text": [
      "/Users/rik/.pyenv/versions/3.10.12/lib/python3.10/site-packages/lightgbm/sklearn.py:861: UserWarning: Found 'ndcg_eval_at' in params. Will use it instead of 'eval_at' argument\n",
      "  _log_warning(f\"Found '{alias}' in params. Will use it instead of 'eval_at' argument\")\n"
     ]
    },
    {
     "name": "stdout",
     "output_type": "stream",
     "text": [
      "[LightGBM] [Warning] Met categorical feature which contains sparse values. Consider renumbering to consecutive integers started from zero\n",
      "Training until validation scores don't improve for 50 rounds\n",
      "[250]\tvalid_0's ndcg@5: 0.397472\n",
      "Training on fold 4\n"
     ]
    },
    {
     "name": "stderr",
     "output_type": "stream",
     "text": [
      "/Users/rik/.pyenv/versions/3.10.12/lib/python3.10/site-packages/lightgbm/sklearn.py:861: UserWarning: Found 'ndcg_eval_at' in params. Will use it instead of 'eval_at' argument\n",
      "  _log_warning(f\"Found '{alias}' in params. Will use it instead of 'eval_at' argument\")\n"
     ]
    },
    {
     "name": "stdout",
     "output_type": "stream",
     "text": [
      "Training until validation scores don't improve for 50 rounds\n",
      "[250]\tvalid_0's ndcg@5: 0.399869\n",
      "[500]\tvalid_0's ndcg@5: 0.403491\n",
      "Did not meet early stopping. Best iteration is:\n",
      "[483]\tvalid_0's ndcg@5: 0.403757\n",
      "Training on fold 5\n"
     ]
    },
    {
     "name": "stderr",
     "output_type": "stream",
     "text": [
      "/Users/rik/.pyenv/versions/3.10.12/lib/python3.10/site-packages/lightgbm/sklearn.py:861: UserWarning: Found 'ndcg_eval_at' in params. Will use it instead of 'eval_at' argument\n",
      "  _log_warning(f\"Found '{alias}' in params. Will use it instead of 'eval_at' argument\")\n"
     ]
    },
    {
     "name": "stdout",
     "output_type": "stream",
     "text": [
      "Training until validation scores don't improve for 50 rounds\n",
      "[250]\tvalid_0's ndcg@5: 0.401323\n"
     ]
    },
    {
     "name": "stderr",
     "output_type": "stream",
     "text": [
      "[I 2025-05-15 19:10:30,142] Trial 17 finished with value: 0.40292906751663543 and parameters: {'learning_rate': 0.02470684796500176, 'num_leaves': 169, 'min_child_samples': 74, 'min_child_weight': 2.9088697712174927, 'colsample_bytree': 0.5479813743359992, 'subsample': 0.9970862593452823, 'reg_alpha': 0.0017578269449808142, 'reg_lambda': 0.05410183383648026}. Best is trial 12 with value: 0.40457208870818606.\n"
     ]
    },
    {
     "name": "stdout",
     "output_type": "stream",
     "text": [
      "[500]\tvalid_0's ndcg@5: 0.405202\n",
      "Best Mean Score for all folds: 0.40292906751663543, with params: {'objective': 'lambdarank', 'metric': 'ndcg', 'ndcg_eval_at': [5], 'boosting_type': 'gbdt', 'verbosity': -1, 'n_estimators': 500, 'early_stopping_round': 30, 'learning_rate': 0.02470684796500176, 'num_leaves': 169, 'min_child_samples': 74, 'min_child_weight': 2.9088697712174927, 'colsample_bytree': 0.5479813743359992, 'subsample': 0.9970862593452823, 'reg_alpha': 0.0017578269449808142, 'reg_lambda': 0.05410183383648026}\n",
      "Training on fold 1\n"
     ]
    },
    {
     "name": "stderr",
     "output_type": "stream",
     "text": [
      "/Users/rik/.pyenv/versions/3.10.12/lib/python3.10/site-packages/lightgbm/sklearn.py:861: UserWarning: Found 'ndcg_eval_at' in params. Will use it instead of 'eval_at' argument\n",
      "  _log_warning(f\"Found '{alias}' in params. Will use it instead of 'eval_at' argument\")\n"
     ]
    },
    {
     "name": "stdout",
     "output_type": "stream",
     "text": [
      "Training until validation scores don't improve for 50 rounds\n",
      "[250]\tvalid_0's ndcg@5: 0.39991\n",
      "Training on fold 2\n"
     ]
    },
    {
     "name": "stderr",
     "output_type": "stream",
     "text": [
      "/Users/rik/.pyenv/versions/3.10.12/lib/python3.10/site-packages/lightgbm/sklearn.py:861: UserWarning: Found 'ndcg_eval_at' in params. Will use it instead of 'eval_at' argument\n",
      "  _log_warning(f\"Found '{alias}' in params. Will use it instead of 'eval_at' argument\")\n"
     ]
    },
    {
     "name": "stdout",
     "output_type": "stream",
     "text": [
      "Training until validation scores don't improve for 50 rounds\n",
      "[250]\tvalid_0's ndcg@5: 0.400824\n",
      "[500]\tvalid_0's ndcg@5: 0.40429\n",
      "Did not meet early stopping. Best iteration is:\n",
      "[485]\tvalid_0's ndcg@5: 0.404599\n",
      "Training on fold 3\n"
     ]
    },
    {
     "name": "stderr",
     "output_type": "stream",
     "text": [
      "/Users/rik/.pyenv/versions/3.10.12/lib/python3.10/site-packages/lightgbm/sklearn.py:861: UserWarning: Found 'ndcg_eval_at' in params. Will use it instead of 'eval_at' argument\n",
      "  _log_warning(f\"Found '{alias}' in params. Will use it instead of 'eval_at' argument\")\n"
     ]
    },
    {
     "name": "stdout",
     "output_type": "stream",
     "text": [
      "[LightGBM] [Warning] Met categorical feature which contains sparse values. Consider renumbering to consecutive integers started from zero\n",
      "Training until validation scores don't improve for 50 rounds\n",
      "[250]\tvalid_0's ndcg@5: 0.398751\n",
      "Training on fold 4\n"
     ]
    },
    {
     "name": "stderr",
     "output_type": "stream",
     "text": [
      "/Users/rik/.pyenv/versions/3.10.12/lib/python3.10/site-packages/lightgbm/sklearn.py:861: UserWarning: Found 'ndcg_eval_at' in params. Will use it instead of 'eval_at' argument\n",
      "  _log_warning(f\"Found '{alias}' in params. Will use it instead of 'eval_at' argument\")\n"
     ]
    },
    {
     "name": "stdout",
     "output_type": "stream",
     "text": [
      "Training until validation scores don't improve for 50 rounds\n",
      "[250]\tvalid_0's ndcg@5: 0.401252\n",
      "Training on fold 5\n"
     ]
    },
    {
     "name": "stderr",
     "output_type": "stream",
     "text": [
      "/Users/rik/.pyenv/versions/3.10.12/lib/python3.10/site-packages/lightgbm/sklearn.py:861: UserWarning: Found 'ndcg_eval_at' in params. Will use it instead of 'eval_at' argument\n",
      "  _log_warning(f\"Found '{alias}' in params. Will use it instead of 'eval_at' argument\")\n"
     ]
    },
    {
     "name": "stdout",
     "output_type": "stream",
     "text": [
      "Training until validation scores don't improve for 50 rounds\n",
      "[250]\tvalid_0's ndcg@5: 0.402454\n"
     ]
    },
    {
     "name": "stderr",
     "output_type": "stream",
     "text": [
      "[I 2025-05-15 19:19:07,201] Trial 18 finished with value: 0.40369091840659166 and parameters: {'learning_rate': 0.04380398995812445, 'num_leaves': 128, 'min_child_samples': 60, 'min_child_weight': 0.023557459494318693, 'colsample_bytree': 0.6449381001358514, 'subsample': 0.87755680137911, 'reg_alpha': 0.004178890891776688, 'reg_lambda': 0.7422216765888561}. Best is trial 12 with value: 0.40457208870818606.\n"
     ]
    },
    {
     "name": "stdout",
     "output_type": "stream",
     "text": [
      "Best Mean Score for all folds: 0.40369091840659166, with params: {'objective': 'lambdarank', 'metric': 'ndcg', 'ndcg_eval_at': [5], 'boosting_type': 'gbdt', 'verbosity': -1, 'n_estimators': 500, 'early_stopping_round': 30, 'learning_rate': 0.04380398995812445, 'num_leaves': 128, 'min_child_samples': 60, 'min_child_weight': 0.023557459494318693, 'colsample_bytree': 0.6449381001358514, 'subsample': 0.87755680137911, 'reg_alpha': 0.004178890891776688, 'reg_lambda': 0.7422216765888561}\n",
      "Training on fold 1\n"
     ]
    },
    {
     "name": "stderr",
     "output_type": "stream",
     "text": [
      "/Users/rik/.pyenv/versions/3.10.12/lib/python3.10/site-packages/lightgbm/sklearn.py:861: UserWarning: Found 'ndcg_eval_at' in params. Will use it instead of 'eval_at' argument\n",
      "  _log_warning(f\"Found '{alias}' in params. Will use it instead of 'eval_at' argument\")\n"
     ]
    },
    {
     "name": "stdout",
     "output_type": "stream",
     "text": [
      "Training until validation scores don't improve for 50 rounds\n",
      "[250]\tvalid_0's ndcg@5: 0.395282\n",
      "[500]\tvalid_0's ndcg@5: 0.399892\n",
      "Did not meet early stopping. Best iteration is:\n",
      "[492]\tvalid_0's ndcg@5: 0.400122\n",
      "Training on fold 2\n"
     ]
    },
    {
     "name": "stderr",
     "output_type": "stream",
     "text": [
      "/Users/rik/.pyenv/versions/3.10.12/lib/python3.10/site-packages/lightgbm/sklearn.py:861: UserWarning: Found 'ndcg_eval_at' in params. Will use it instead of 'eval_at' argument\n",
      "  _log_warning(f\"Found '{alias}' in params. Will use it instead of 'eval_at' argument\")\n"
     ]
    },
    {
     "name": "stdout",
     "output_type": "stream",
     "text": [
      "Training until validation scores don't improve for 50 rounds\n",
      "[250]\tvalid_0's ndcg@5: 0.396961\n",
      "[500]\tvalid_0's ndcg@5: 0.401501\n",
      "Training on fold 3\n"
     ]
    },
    {
     "name": "stderr",
     "output_type": "stream",
     "text": [
      "/Users/rik/.pyenv/versions/3.10.12/lib/python3.10/site-packages/lightgbm/sklearn.py:861: UserWarning: Found 'ndcg_eval_at' in params. Will use it instead of 'eval_at' argument\n",
      "  _log_warning(f\"Found '{alias}' in params. Will use it instead of 'eval_at' argument\")\n"
     ]
    },
    {
     "name": "stdout",
     "output_type": "stream",
     "text": [
      "Training until validation scores don't improve for 50 rounds\n",
      "[250]\tvalid_0's ndcg@5: 0.395372\n",
      "Training on fold 4\n"
     ]
    },
    {
     "name": "stderr",
     "output_type": "stream",
     "text": [
      "/Users/rik/.pyenv/versions/3.10.12/lib/python3.10/site-packages/lightgbm/sklearn.py:861: UserWarning: Found 'ndcg_eval_at' in params. Will use it instead of 'eval_at' argument\n",
      "  _log_warning(f\"Found '{alias}' in params. Will use it instead of 'eval_at' argument\")\n"
     ]
    },
    {
     "name": "stdout",
     "output_type": "stream",
     "text": [
      "[LightGBM] [Warning] Met categorical feature which contains sparse values. Consider renumbering to consecutive integers started from zero\n",
      "Training until validation scores don't improve for 50 rounds\n",
      "[250]\tvalid_0's ndcg@5: 0.396762\n",
      "[500]\tvalid_0's ndcg@5: 0.401596\n",
      "Training on fold 5\n"
     ]
    },
    {
     "name": "stderr",
     "output_type": "stream",
     "text": [
      "/Users/rik/.pyenv/versions/3.10.12/lib/python3.10/site-packages/lightgbm/sklearn.py:861: UserWarning: Found 'ndcg_eval_at' in params. Will use it instead of 'eval_at' argument\n",
      "  _log_warning(f\"Found '{alias}' in params. Will use it instead of 'eval_at' argument\")\n"
     ]
    },
    {
     "name": "stdout",
     "output_type": "stream",
     "text": [
      "[LightGBM] [Warning] Met categorical feature which contains sparse values. Consider renumbering to consecutive integers started from zero\n",
      "Training until validation scores don't improve for 50 rounds\n",
      "[250]\tvalid_0's ndcg@5: 0.398477\n"
     ]
    },
    {
     "name": "stderr",
     "output_type": "stream",
     "text": [
      "[I 2025-05-15 19:31:21,789] Trial 19 finished with value: 0.4012707643347436 and parameters: {'learning_rate': 0.017934156295032012, 'num_leaves': 176, 'min_child_samples': 89, 'min_child_weight': 0.5968557296705133, 'colsample_bytree': 0.7290105130968847, 'subsample': 0.8234398539807097, 'reg_alpha': 0.04219419925029159, 'reg_lambda': 0.7010020433158609}. Best is trial 12 with value: 0.40457208870818606.\n"
     ]
    },
    {
     "name": "stdout",
     "output_type": "stream",
     "text": [
      "[500]\tvalid_0's ndcg@5: 0.403424\n",
      "Best Mean Score for all folds: 0.4012707643347436, with params: {'objective': 'lambdarank', 'metric': 'ndcg', 'ndcg_eval_at': [5], 'boosting_type': 'gbdt', 'verbosity': -1, 'n_estimators': 500, 'early_stopping_round': 30, 'learning_rate': 0.017934156295032012, 'num_leaves': 176, 'min_child_samples': 89, 'min_child_weight': 0.5968557296705133, 'colsample_bytree': 0.7290105130968847, 'subsample': 0.8234398539807097, 'reg_alpha': 0.04219419925029159, 'reg_lambda': 0.7010020433158609}\n",
      "Training on fold 1\n"
     ]
    },
    {
     "name": "stderr",
     "output_type": "stream",
     "text": [
      "/Users/rik/.pyenv/versions/3.10.12/lib/python3.10/site-packages/lightgbm/sklearn.py:861: UserWarning: Found 'ndcg_eval_at' in params. Will use it instead of 'eval_at' argument\n",
      "  _log_warning(f\"Found '{alias}' in params. Will use it instead of 'eval_at' argument\")\n"
     ]
    },
    {
     "name": "stdout",
     "output_type": "stream",
     "text": [
      "Training until validation scores don't improve for 50 rounds\n",
      "[250]\tvalid_0's ndcg@5: 0.397427\n",
      "Training on fold 2\n"
     ]
    },
    {
     "name": "stderr",
     "output_type": "stream",
     "text": [
      "/Users/rik/.pyenv/versions/3.10.12/lib/python3.10/site-packages/lightgbm/sklearn.py:861: UserWarning: Found 'ndcg_eval_at' in params. Will use it instead of 'eval_at' argument\n",
      "  _log_warning(f\"Found '{alias}' in params. Will use it instead of 'eval_at' argument\")\n"
     ]
    },
    {
     "name": "stdout",
     "output_type": "stream",
     "text": [
      "Training until validation scores don't improve for 50 rounds\n",
      "[250]\tvalid_0's ndcg@5: 0.397371\n",
      "[500]\tvalid_0's ndcg@5: 0.401952\n",
      "Did not meet early stopping. Best iteration is:\n",
      "[488]\tvalid_0's ndcg@5: 0.402204\n",
      "Training on fold 3\n"
     ]
    },
    {
     "name": "stderr",
     "output_type": "stream",
     "text": [
      "/Users/rik/.pyenv/versions/3.10.12/lib/python3.10/site-packages/lightgbm/sklearn.py:861: UserWarning: Found 'ndcg_eval_at' in params. Will use it instead of 'eval_at' argument\n",
      "  _log_warning(f\"Found '{alias}' in params. Will use it instead of 'eval_at' argument\")\n"
     ]
    },
    {
     "name": "stdout",
     "output_type": "stream",
     "text": [
      "Training until validation scores don't improve for 50 rounds\n",
      "[250]\tvalid_0's ndcg@5: 0.396144\n",
      "[500]\tvalid_0's ndcg@5: 0.40094\n",
      "Training on fold 4\n"
     ]
    },
    {
     "name": "stderr",
     "output_type": "stream",
     "text": [
      "/Users/rik/.pyenv/versions/3.10.12/lib/python3.10/site-packages/lightgbm/sklearn.py:861: UserWarning: Found 'ndcg_eval_at' in params. Will use it instead of 'eval_at' argument\n",
      "  _log_warning(f\"Found '{alias}' in params. Will use it instead of 'eval_at' argument\")\n"
     ]
    },
    {
     "name": "stdout",
     "output_type": "stream",
     "text": [
      "[LightGBM] [Warning] Met categorical feature which contains sparse values. Consider renumbering to consecutive integers started from zero\n",
      "Training until validation scores don't improve for 50 rounds\n",
      "[250]\tvalid_0's ndcg@5: 0.397617\n",
      "Training on fold 5\n"
     ]
    },
    {
     "name": "stderr",
     "output_type": "stream",
     "text": [
      "/Users/rik/.pyenv/versions/3.10.12/lib/python3.10/site-packages/lightgbm/sklearn.py:861: UserWarning: Found 'ndcg_eval_at' in params. Will use it instead of 'eval_at' argument\n",
      "  _log_warning(f\"Found '{alias}' in params. Will use it instead of 'eval_at' argument\")\n"
     ]
    },
    {
     "name": "stdout",
     "output_type": "stream",
     "text": [
      "Training until validation scores don't improve for 50 rounds\n",
      "[250]\tvalid_0's ndcg@5: 0.399717\n"
     ]
    },
    {
     "name": "stderr",
     "output_type": "stream",
     "text": [
      "[I 2025-05-15 19:41:43,812] Trial 20 finished with value: 0.4017924806276897 and parameters: {'learning_rate': 0.03400097453901416, 'num_leaves': 87, 'min_child_samples': 79, 'min_child_weight': 0.6341325192199437, 'colsample_bytree': 0.554110475457941, 'subsample': 0.9470959679664099, 'reg_alpha': 0.041102738198215506, 'reg_lambda': 4.289171081053375}. Best is trial 12 with value: 0.40457208870818606.\n"
     ]
    },
    {
     "name": "stdout",
     "output_type": "stream",
     "text": [
      "[500]\tvalid_0's ndcg@5: 0.404124\n",
      "Did not meet early stopping. Best iteration is:\n",
      "[492]\tvalid_0's ndcg@5: 0.404338\n",
      "Best Mean Score for all folds: 0.4017924806276897, with params: {'objective': 'lambdarank', 'metric': 'ndcg', 'ndcg_eval_at': [5], 'boosting_type': 'gbdt', 'verbosity': -1, 'n_estimators': 500, 'early_stopping_round': 30, 'learning_rate': 0.03400097453901416, 'num_leaves': 87, 'min_child_samples': 79, 'min_child_weight': 0.6341325192199437, 'colsample_bytree': 0.554110475457941, 'subsample': 0.9470959679664099, 'reg_alpha': 0.041102738198215506, 'reg_lambda': 4.289171081053375}\n",
      "Training on fold 1\n"
     ]
    },
    {
     "name": "stderr",
     "output_type": "stream",
     "text": [
      "/Users/rik/.pyenv/versions/3.10.12/lib/python3.10/site-packages/lightgbm/sklearn.py:861: UserWarning: Found 'ndcg_eval_at' in params. Will use it instead of 'eval_at' argument\n",
      "  _log_warning(f\"Found '{alias}' in params. Will use it instead of 'eval_at' argument\")\n"
     ]
    },
    {
     "name": "stdout",
     "output_type": "stream",
     "text": [
      "[LightGBM] [Warning] Met categorical feature which contains sparse values. Consider renumbering to consecutive integers started from zero\n",
      "Training until validation scores don't improve for 50 rounds\n",
      "[250]\tvalid_0's ndcg@5: 0.400421\n",
      "Training on fold 2\n"
     ]
    },
    {
     "name": "stderr",
     "output_type": "stream",
     "text": [
      "/Users/rik/.pyenv/versions/3.10.12/lib/python3.10/site-packages/lightgbm/sklearn.py:861: UserWarning: Found 'ndcg_eval_at' in params. Will use it instead of 'eval_at' argument\n",
      "  _log_warning(f\"Found '{alias}' in params. Will use it instead of 'eval_at' argument\")\n"
     ]
    },
    {
     "name": "stdout",
     "output_type": "stream",
     "text": [
      "Training until validation scores don't improve for 50 rounds\n",
      "[250]\tvalid_0's ndcg@5: 0.400712\n",
      "Training on fold 3\n"
     ]
    },
    {
     "name": "stderr",
     "output_type": "stream",
     "text": [
      "/Users/rik/.pyenv/versions/3.10.12/lib/python3.10/site-packages/lightgbm/sklearn.py:861: UserWarning: Found 'ndcg_eval_at' in params. Will use it instead of 'eval_at' argument\n",
      "  _log_warning(f\"Found '{alias}' in params. Will use it instead of 'eval_at' argument\")\n"
     ]
    },
    {
     "name": "stdout",
     "output_type": "stream",
     "text": [
      "Training until validation scores don't improve for 50 rounds\n",
      "[250]\tvalid_0's ndcg@5: 0.399064\n",
      "Training on fold 4\n"
     ]
    },
    {
     "name": "stderr",
     "output_type": "stream",
     "text": [
      "/Users/rik/.pyenv/versions/3.10.12/lib/python3.10/site-packages/lightgbm/sklearn.py:861: UserWarning: Found 'ndcg_eval_at' in params. Will use it instead of 'eval_at' argument\n",
      "  _log_warning(f\"Found '{alias}' in params. Will use it instead of 'eval_at' argument\")\n"
     ]
    },
    {
     "name": "stdout",
     "output_type": "stream",
     "text": [
      "Training until validation scores don't improve for 50 rounds\n",
      "[250]\tvalid_0's ndcg@5: 0.40166\n",
      "Training on fold 5\n"
     ]
    },
    {
     "name": "stderr",
     "output_type": "stream",
     "text": [
      "/Users/rik/.pyenv/versions/3.10.12/lib/python3.10/site-packages/lightgbm/sklearn.py:861: UserWarning: Found 'ndcg_eval_at' in params. Will use it instead of 'eval_at' argument\n",
      "  _log_warning(f\"Found '{alias}' in params. Will use it instead of 'eval_at' argument\")\n"
     ]
    },
    {
     "name": "stdout",
     "output_type": "stream",
     "text": [
      "Training until validation scores don't improve for 50 rounds\n",
      "[250]\tvalid_0's ndcg@5: 0.403631\n"
     ]
    },
    {
     "name": "stderr",
     "output_type": "stream",
     "text": [
      "[I 2025-05-15 19:49:45,468] Trial 21 finished with value: 0.40289725157256073 and parameters: {'learning_rate': 0.04629060019125932, 'num_leaves': 145, 'min_child_samples': 88, 'min_child_weight': 9.809395319515453, 'colsample_bytree': 0.7156738944405231, 'subsample': 0.9976602241402006, 'reg_alpha': 0.008284295878066035, 'reg_lambda': 8.330798792024952}. Best is trial 12 with value: 0.40457208870818606.\n"
     ]
    },
    {
     "name": "stdout",
     "output_type": "stream",
     "text": [
      "Best Mean Score for all folds: 0.40289725157256073, with params: {'objective': 'lambdarank', 'metric': 'ndcg', 'ndcg_eval_at': [5], 'boosting_type': 'gbdt', 'verbosity': -1, 'n_estimators': 500, 'early_stopping_round': 30, 'learning_rate': 0.04629060019125932, 'num_leaves': 145, 'min_child_samples': 88, 'min_child_weight': 9.809395319515453, 'colsample_bytree': 0.7156738944405231, 'subsample': 0.9976602241402006, 'reg_alpha': 0.008284295878066035, 'reg_lambda': 8.330798792024952}\n",
      "Training on fold 1\n"
     ]
    },
    {
     "name": "stderr",
     "output_type": "stream",
     "text": [
      "/Users/rik/.pyenv/versions/3.10.12/lib/python3.10/site-packages/lightgbm/sklearn.py:861: UserWarning: Found 'ndcg_eval_at' in params. Will use it instead of 'eval_at' argument\n",
      "  _log_warning(f\"Found '{alias}' in params. Will use it instead of 'eval_at' argument\")\n"
     ]
    },
    {
     "name": "stdout",
     "output_type": "stream",
     "text": [
      "Training until validation scores don't improve for 50 rounds\n",
      "[250]\tvalid_0's ndcg@5: 0.401025\n",
      "Training on fold 2\n"
     ]
    },
    {
     "name": "stderr",
     "output_type": "stream",
     "text": [
      "/Users/rik/.pyenv/versions/3.10.12/lib/python3.10/site-packages/lightgbm/sklearn.py:861: UserWarning: Found 'ndcg_eval_at' in params. Will use it instead of 'eval_at' argument\n",
      "  _log_warning(f\"Found '{alias}' in params. Will use it instead of 'eval_at' argument\")\n"
     ]
    },
    {
     "name": "stdout",
     "output_type": "stream",
     "text": [
      "Training until validation scores don't improve for 50 rounds\n",
      "[250]\tvalid_0's ndcg@5: 0.403469\n",
      "Training on fold 3\n"
     ]
    },
    {
     "name": "stderr",
     "output_type": "stream",
     "text": [
      "/Users/rik/.pyenv/versions/3.10.12/lib/python3.10/site-packages/lightgbm/sklearn.py:861: UserWarning: Found 'ndcg_eval_at' in params. Will use it instead of 'eval_at' argument\n",
      "  _log_warning(f\"Found '{alias}' in params. Will use it instead of 'eval_at' argument\")\n"
     ]
    },
    {
     "name": "stdout",
     "output_type": "stream",
     "text": [
      "[LightGBM] [Warning] Met categorical feature which contains sparse values. Consider renumbering to consecutive integers started from zero\n",
      "Training until validation scores don't improve for 50 rounds\n",
      "[250]\tvalid_0's ndcg@5: 0.400064\n",
      "Training on fold 4\n"
     ]
    },
    {
     "name": "stderr",
     "output_type": "stream",
     "text": [
      "/Users/rik/.pyenv/versions/3.10.12/lib/python3.10/site-packages/lightgbm/sklearn.py:861: UserWarning: Found 'ndcg_eval_at' in params. Will use it instead of 'eval_at' argument\n",
      "  _log_warning(f\"Found '{alias}' in params. Will use it instead of 'eval_at' argument\")\n"
     ]
    },
    {
     "name": "stdout",
     "output_type": "stream",
     "text": [
      "[LightGBM] [Warning] Met categorical feature which contains sparse values. Consider renumbering to consecutive integers started from zero\n",
      "Training until validation scores don't improve for 50 rounds\n",
      "[250]\tvalid_0's ndcg@5: 0.40355\n",
      "Training on fold 5\n"
     ]
    },
    {
     "name": "stderr",
     "output_type": "stream",
     "text": [
      "/Users/rik/.pyenv/versions/3.10.12/lib/python3.10/site-packages/lightgbm/sklearn.py:861: UserWarning: Found 'ndcg_eval_at' in params. Will use it instead of 'eval_at' argument\n",
      "  _log_warning(f\"Found '{alias}' in params. Will use it instead of 'eval_at' argument\")\n"
     ]
    },
    {
     "name": "stdout",
     "output_type": "stream",
     "text": [
      "[LightGBM] [Warning] Met categorical feature which contains sparse values. Consider renumbering to consecutive integers started from zero\n",
      "Training until validation scores don't improve for 50 rounds\n",
      "[250]\tvalid_0's ndcg@5: 0.404652\n"
     ]
    },
    {
     "name": "stderr",
     "output_type": "stream",
     "text": [
      "[I 2025-05-15 19:55:39,702] Trial 22 finished with value: 0.403144492263854 and parameters: {'learning_rate': 0.07453844648334998, 'num_leaves': 128, 'min_child_samples': 99, 'min_child_weight': 4.2498234671654105, 'colsample_bytree': 0.8124065777027079, 'subsample': 0.93922041162452, 'reg_alpha': 0.003315538240853051, 'reg_lambda': 9.113904535799835}. Best is trial 12 with value: 0.40457208870818606.\n"
     ]
    },
    {
     "name": "stdout",
     "output_type": "stream",
     "text": [
      "Best Mean Score for all folds: 0.403144492263854, with params: {'objective': 'lambdarank', 'metric': 'ndcg', 'ndcg_eval_at': [5], 'boosting_type': 'gbdt', 'verbosity': -1, 'n_estimators': 500, 'early_stopping_round': 30, 'learning_rate': 0.07453844648334998, 'num_leaves': 128, 'min_child_samples': 99, 'min_child_weight': 4.2498234671654105, 'colsample_bytree': 0.8124065777027079, 'subsample': 0.93922041162452, 'reg_alpha': 0.003315538240853051, 'reg_lambda': 9.113904535799835}\n",
      "Training on fold 1\n"
     ]
    },
    {
     "name": "stderr",
     "output_type": "stream",
     "text": [
      "/Users/rik/.pyenv/versions/3.10.12/lib/python3.10/site-packages/lightgbm/sklearn.py:861: UserWarning: Found 'ndcg_eval_at' in params. Will use it instead of 'eval_at' argument\n",
      "  _log_warning(f\"Found '{alias}' in params. Will use it instead of 'eval_at' argument\")\n"
     ]
    },
    {
     "name": "stdout",
     "output_type": "stream",
     "text": [
      "[LightGBM] [Warning] Met categorical feature which contains sparse values. Consider renumbering to consecutive integers started from zero\n",
      "Training until validation scores don't improve for 50 rounds\n",
      "[250]\tvalid_0's ndcg@5: 0.400063\n",
      "Training on fold 2\n"
     ]
    },
    {
     "name": "stderr",
     "output_type": "stream",
     "text": [
      "/Users/rik/.pyenv/versions/3.10.12/lib/python3.10/site-packages/lightgbm/sklearn.py:861: UserWarning: Found 'ndcg_eval_at' in params. Will use it instead of 'eval_at' argument\n",
      "  _log_warning(f\"Found '{alias}' in params. Will use it instead of 'eval_at' argument\")\n"
     ]
    },
    {
     "name": "stdout",
     "output_type": "stream",
     "text": [
      "Training until validation scores don't improve for 50 rounds\n",
      "[250]\tvalid_0's ndcg@5: 0.400584\n",
      "[500]\tvalid_0's ndcg@5: 0.40417\n",
      "Training on fold 3\n"
     ]
    },
    {
     "name": "stderr",
     "output_type": "stream",
     "text": [
      "/Users/rik/.pyenv/versions/3.10.12/lib/python3.10/site-packages/lightgbm/sklearn.py:861: UserWarning: Found 'ndcg_eval_at' in params. Will use it instead of 'eval_at' argument\n",
      "  _log_warning(f\"Found '{alias}' in params. Will use it instead of 'eval_at' argument\")\n"
     ]
    },
    {
     "name": "stdout",
     "output_type": "stream",
     "text": [
      "Training until validation scores don't improve for 50 rounds\n",
      "[250]\tvalid_0's ndcg@5: 0.398839\n",
      "Training on fold 4\n"
     ]
    },
    {
     "name": "stderr",
     "output_type": "stream",
     "text": [
      "/Users/rik/.pyenv/versions/3.10.12/lib/python3.10/site-packages/lightgbm/sklearn.py:861: UserWarning: Found 'ndcg_eval_at' in params. Will use it instead of 'eval_at' argument\n",
      "  _log_warning(f\"Found '{alias}' in params. Will use it instead of 'eval_at' argument\")\n"
     ]
    },
    {
     "name": "stdout",
     "output_type": "stream",
     "text": [
      "[LightGBM] [Warning] Met categorical feature which contains sparse values. Consider renumbering to consecutive integers started from zero\n",
      "Training until validation scores don't improve for 50 rounds\n",
      "[250]\tvalid_0's ndcg@5: 0.401247\n",
      "Training on fold 5\n"
     ]
    },
    {
     "name": "stderr",
     "output_type": "stream",
     "text": [
      "/Users/rik/.pyenv/versions/3.10.12/lib/python3.10/site-packages/lightgbm/sklearn.py:861: UserWarning: Found 'ndcg_eval_at' in params. Will use it instead of 'eval_at' argument\n",
      "  _log_warning(f\"Found '{alias}' in params. Will use it instead of 'eval_at' argument\")\n"
     ]
    },
    {
     "name": "stdout",
     "output_type": "stream",
     "text": [
      "Training until validation scores don't improve for 50 rounds\n",
      "[250]\tvalid_0's ndcg@5: 0.401862\n"
     ]
    },
    {
     "name": "stderr",
     "output_type": "stream",
     "text": [
      "[I 2025-05-15 20:04:46,745] Trial 23 finished with value: 0.4037103523021381 and parameters: {'learning_rate': 0.03549988854873114, 'num_leaves': 153, 'min_child_samples': 87, 'min_child_weight': 5.1114592072007925, 'colsample_bytree': 0.6554686414716796, 'subsample': 0.9995228116366203, 'reg_alpha': 0.015116388817389062, 'reg_lambda': 3.7638546106397763}. Best is trial 12 with value: 0.40457208870818606.\n"
     ]
    },
    {
     "name": "stdout",
     "output_type": "stream",
     "text": [
      "[500]\tvalid_0's ndcg@5: 0.40632\n",
      "Best Mean Score for all folds: 0.4037103523021381, with params: {'objective': 'lambdarank', 'metric': 'ndcg', 'ndcg_eval_at': [5], 'boosting_type': 'gbdt', 'verbosity': -1, 'n_estimators': 500, 'early_stopping_round': 30, 'learning_rate': 0.03549988854873114, 'num_leaves': 153, 'min_child_samples': 87, 'min_child_weight': 5.1114592072007925, 'colsample_bytree': 0.6554686414716796, 'subsample': 0.9995228116366203, 'reg_alpha': 0.015116388817389062, 'reg_lambda': 3.7638546106397763}\n",
      "Training on fold 1\n"
     ]
    },
    {
     "name": "stderr",
     "output_type": "stream",
     "text": [
      "/Users/rik/.pyenv/versions/3.10.12/lib/python3.10/site-packages/lightgbm/sklearn.py:861: UserWarning: Found 'ndcg_eval_at' in params. Will use it instead of 'eval_at' argument\n",
      "  _log_warning(f\"Found '{alias}' in params. Will use it instead of 'eval_at' argument\")\n"
     ]
    },
    {
     "name": "stdout",
     "output_type": "stream",
     "text": [
      "Training until validation scores don't improve for 50 rounds\n",
      "Training on fold 2\n"
     ]
    },
    {
     "name": "stderr",
     "output_type": "stream",
     "text": [
      "/Users/rik/.pyenv/versions/3.10.12/lib/python3.10/site-packages/lightgbm/sklearn.py:861: UserWarning: Found 'ndcg_eval_at' in params. Will use it instead of 'eval_at' argument\n",
      "  _log_warning(f\"Found '{alias}' in params. Will use it instead of 'eval_at' argument\")\n"
     ]
    },
    {
     "name": "stdout",
     "output_type": "stream",
     "text": [
      "Training until validation scores don't improve for 50 rounds\n",
      "Training on fold 3\n"
     ]
    },
    {
     "name": "stderr",
     "output_type": "stream",
     "text": [
      "/Users/rik/.pyenv/versions/3.10.12/lib/python3.10/site-packages/lightgbm/sklearn.py:861: UserWarning: Found 'ndcg_eval_at' in params. Will use it instead of 'eval_at' argument\n",
      "  _log_warning(f\"Found '{alias}' in params. Will use it instead of 'eval_at' argument\")\n"
     ]
    },
    {
     "name": "stdout",
     "output_type": "stream",
     "text": [
      "Training until validation scores don't improve for 50 rounds\n",
      "[250]\tvalid_0's ndcg@5: 0.400583\n",
      "Training on fold 4\n"
     ]
    },
    {
     "name": "stderr",
     "output_type": "stream",
     "text": [
      "/Users/rik/.pyenv/versions/3.10.12/lib/python3.10/site-packages/lightgbm/sklearn.py:861: UserWarning: Found 'ndcg_eval_at' in params. Will use it instead of 'eval_at' argument\n",
      "  _log_warning(f\"Found '{alias}' in params. Will use it instead of 'eval_at' argument\")\n"
     ]
    },
    {
     "name": "stdout",
     "output_type": "stream",
     "text": [
      "Training until validation scores don't improve for 50 rounds\n",
      "Training on fold 5\n"
     ]
    },
    {
     "name": "stderr",
     "output_type": "stream",
     "text": [
      "/Users/rik/.pyenv/versions/3.10.12/lib/python3.10/site-packages/lightgbm/sklearn.py:861: UserWarning: Found 'ndcg_eval_at' in params. Will use it instead of 'eval_at' argument\n",
      "  _log_warning(f\"Found '{alias}' in params. Will use it instead of 'eval_at' argument\")\n"
     ]
    },
    {
     "name": "stdout",
     "output_type": "stream",
     "text": [
      "[LightGBM] [Warning] Met categorical feature which contains sparse values. Consider renumbering to consecutive integers started from zero\n",
      "Training until validation scores don't improve for 50 rounds\n",
      "[250]\tvalid_0's ndcg@5: 0.403777\n"
     ]
    },
    {
     "name": "stderr",
     "output_type": "stream",
     "text": [
      "[I 2025-05-15 20:10:44,065] Trial 24 finished with value: 0.40223724548796114 and parameters: {'learning_rate': 0.050137311288207524, 'num_leaves': 178, 'min_child_samples': 62, 'min_child_weight': 0.8428482548777867, 'colsample_bytree': 0.5532496729070379, 'subsample': 0.8586276047249468, 'reg_alpha': 0.09718990948275773, 'reg_lambda': 1.3769382148943379}. Best is trial 12 with value: 0.40457208870818606.\n"
     ]
    },
    {
     "name": "stdout",
     "output_type": "stream",
     "text": [
      "Best Mean Score for all folds: 0.40223724548796114, with params: {'objective': 'lambdarank', 'metric': 'ndcg', 'ndcg_eval_at': [5], 'boosting_type': 'gbdt', 'verbosity': -1, 'n_estimators': 500, 'early_stopping_round': 30, 'learning_rate': 0.050137311288207524, 'num_leaves': 178, 'min_child_samples': 62, 'min_child_weight': 0.8428482548777867, 'colsample_bytree': 0.5532496729070379, 'subsample': 0.8586276047249468, 'reg_alpha': 0.09718990948275773, 'reg_lambda': 1.3769382148943379}\n",
      "Training on fold 1\n"
     ]
    },
    {
     "name": "stderr",
     "output_type": "stream",
     "text": [
      "/Users/rik/.pyenv/versions/3.10.12/lib/python3.10/site-packages/lightgbm/sklearn.py:861: UserWarning: Found 'ndcg_eval_at' in params. Will use it instead of 'eval_at' argument\n",
      "  _log_warning(f\"Found '{alias}' in params. Will use it instead of 'eval_at' argument\")\n"
     ]
    },
    {
     "name": "stdout",
     "output_type": "stream",
     "text": [
      "Training until validation scores don't improve for 50 rounds\n",
      "[250]\tvalid_0's ndcg@5: 0.402062\n",
      "Training on fold 2\n"
     ]
    },
    {
     "name": "stderr",
     "output_type": "stream",
     "text": [
      "/Users/rik/.pyenv/versions/3.10.12/lib/python3.10/site-packages/lightgbm/sklearn.py:861: UserWarning: Found 'ndcg_eval_at' in params. Will use it instead of 'eval_at' argument\n",
      "  _log_warning(f\"Found '{alias}' in params. Will use it instead of 'eval_at' argument\")\n"
     ]
    },
    {
     "name": "stdout",
     "output_type": "stream",
     "text": [
      "[LightGBM] [Warning] Met categorical feature which contains sparse values. Consider renumbering to consecutive integers started from zero\n",
      "Training until validation scores don't improve for 50 rounds\n",
      "[250]\tvalid_0's ndcg@5: 0.402213\n",
      "Training on fold 3\n"
     ]
    },
    {
     "name": "stderr",
     "output_type": "stream",
     "text": [
      "/Users/rik/.pyenv/versions/3.10.12/lib/python3.10/site-packages/lightgbm/sklearn.py:861: UserWarning: Found 'ndcg_eval_at' in params. Will use it instead of 'eval_at' argument\n",
      "  _log_warning(f\"Found '{alias}' in params. Will use it instead of 'eval_at' argument\")\n"
     ]
    },
    {
     "name": "stdout",
     "output_type": "stream",
     "text": [
      "Training until validation scores don't improve for 50 rounds\n",
      "[250]\tvalid_0's ndcg@5: 0.400086\n",
      "Training on fold 4\n"
     ]
    },
    {
     "name": "stderr",
     "output_type": "stream",
     "text": [
      "/Users/rik/.pyenv/versions/3.10.12/lib/python3.10/site-packages/lightgbm/sklearn.py:861: UserWarning: Found 'ndcg_eval_at' in params. Will use it instead of 'eval_at' argument\n",
      "  _log_warning(f\"Found '{alias}' in params. Will use it instead of 'eval_at' argument\")\n"
     ]
    },
    {
     "name": "stdout",
     "output_type": "stream",
     "text": [
      "[LightGBM] [Warning] Met categorical feature which contains sparse values. Consider renumbering to consecutive integers started from zero\n",
      "Training until validation scores don't improve for 50 rounds\n",
      "[250]\tvalid_0's ndcg@5: 0.403266\n",
      "Training on fold 5\n"
     ]
    },
    {
     "name": "stderr",
     "output_type": "stream",
     "text": [
      "/Users/rik/.pyenv/versions/3.10.12/lib/python3.10/site-packages/lightgbm/sklearn.py:861: UserWarning: Found 'ndcg_eval_at' in params. Will use it instead of 'eval_at' argument\n",
      "  _log_warning(f\"Found '{alias}' in params. Will use it instead of 'eval_at' argument\")\n"
     ]
    },
    {
     "name": "stdout",
     "output_type": "stream",
     "text": [
      "[LightGBM] [Warning] Met categorical feature which contains sparse values. Consider renumbering to consecutive integers started from zero\n",
      "Training until validation scores don't improve for 50 rounds\n",
      "[250]\tvalid_0's ndcg@5: 0.405662\n"
     ]
    },
    {
     "name": "stderr",
     "output_type": "stream",
     "text": [
      "[I 2025-05-15 20:15:52,284] Trial 25 finished with value: 0.4032739216509474 and parameters: {'learning_rate': 0.08021179615349197, 'num_leaves': 126, 'min_child_samples': 92, 'min_child_weight': 1.197365466710325, 'colsample_bytree': 0.7145352256245123, 'subsample': 0.9293073749719085, 'reg_alpha': 0.002188785046869602, 'reg_lambda': 5.85327552197201}. Best is trial 12 with value: 0.40457208870818606.\n"
     ]
    },
    {
     "name": "stdout",
     "output_type": "stream",
     "text": [
      "Best Mean Score for all folds: 0.4032739216509474, with params: {'objective': 'lambdarank', 'metric': 'ndcg', 'ndcg_eval_at': [5], 'boosting_type': 'gbdt', 'verbosity': -1, 'n_estimators': 500, 'early_stopping_round': 30, 'learning_rate': 0.08021179615349197, 'num_leaves': 126, 'min_child_samples': 92, 'min_child_weight': 1.197365466710325, 'colsample_bytree': 0.7145352256245123, 'subsample': 0.9293073749719085, 'reg_alpha': 0.002188785046869602, 'reg_lambda': 5.85327552197201}\n",
      "Training on fold 1\n"
     ]
    },
    {
     "name": "stderr",
     "output_type": "stream",
     "text": [
      "/Users/rik/.pyenv/versions/3.10.12/lib/python3.10/site-packages/lightgbm/sklearn.py:861: UserWarning: Found 'ndcg_eval_at' in params. Will use it instead of 'eval_at' argument\n",
      "  _log_warning(f\"Found '{alias}' in params. Will use it instead of 'eval_at' argument\")\n"
     ]
    },
    {
     "name": "stdout",
     "output_type": "stream",
     "text": [
      "[LightGBM] [Warning] Met categorical feature which contains sparse values. Consider renumbering to consecutive integers started from zero\n",
      "Training until validation scores don't improve for 50 rounds\n",
      "[250]\tvalid_0's ndcg@5: 0.395805\n",
      "[500]\tvalid_0's ndcg@5: 0.400768\n",
      "Training on fold 2\n"
     ]
    },
    {
     "name": "stderr",
     "output_type": "stream",
     "text": [
      "/Users/rik/.pyenv/versions/3.10.12/lib/python3.10/site-packages/lightgbm/sklearn.py:861: UserWarning: Found 'ndcg_eval_at' in params. Will use it instead of 'eval_at' argument\n",
      "  _log_warning(f\"Found '{alias}' in params. Will use it instead of 'eval_at' argument\")\n"
     ]
    },
    {
     "name": "stdout",
     "output_type": "stream",
     "text": [
      "Training until validation scores don't improve for 50 rounds\n",
      "[250]\tvalid_0's ndcg@5: 0.396582\n",
      "[500]\tvalid_0's ndcg@5: 0.401856\n",
      "Did not meet early stopping. Best iteration is:\n",
      "[492]\tvalid_0's ndcg@5: 0.40196\n",
      "Training on fold 3\n"
     ]
    },
    {
     "name": "stderr",
     "output_type": "stream",
     "text": [
      "/Users/rik/.pyenv/versions/3.10.12/lib/python3.10/site-packages/lightgbm/sklearn.py:861: UserWarning: Found 'ndcg_eval_at' in params. Will use it instead of 'eval_at' argument\n",
      "  _log_warning(f\"Found '{alias}' in params. Will use it instead of 'eval_at' argument\")\n"
     ]
    },
    {
     "name": "stdout",
     "output_type": "stream",
     "text": [
      "[LightGBM] [Warning] Met categorical feature which contains sparse values. Consider renumbering to consecutive integers started from zero\n",
      "Training until validation scores don't improve for 50 rounds\n",
      "[250]\tvalid_0's ndcg@5: 0.395627\n",
      "[500]\tvalid_0's ndcg@5: 0.399672\n",
      "Training on fold 4\n"
     ]
    },
    {
     "name": "stderr",
     "output_type": "stream",
     "text": [
      "/Users/rik/.pyenv/versions/3.10.12/lib/python3.10/site-packages/lightgbm/sklearn.py:861: UserWarning: Found 'ndcg_eval_at' in params. Will use it instead of 'eval_at' argument\n",
      "  _log_warning(f\"Found '{alias}' in params. Will use it instead of 'eval_at' argument\")\n"
     ]
    },
    {
     "name": "stdout",
     "output_type": "stream",
     "text": [
      "[LightGBM] [Warning] Met categorical feature which contains sparse values. Consider renumbering to consecutive integers started from zero\n",
      "Training until validation scores don't improve for 50 rounds\n",
      "[250]\tvalid_0's ndcg@5: 0.397604\n",
      "[500]\tvalid_0's ndcg@5: 0.402051\n",
      "Training on fold 5\n"
     ]
    },
    {
     "name": "stderr",
     "output_type": "stream",
     "text": [
      "/Users/rik/.pyenv/versions/3.10.12/lib/python3.10/site-packages/lightgbm/sklearn.py:861: UserWarning: Found 'ndcg_eval_at' in params. Will use it instead of 'eval_at' argument\n",
      "  _log_warning(f\"Found '{alias}' in params. Will use it instead of 'eval_at' argument\")\n"
     ]
    },
    {
     "name": "stdout",
     "output_type": "stream",
     "text": [
      "Training until validation scores don't improve for 50 rounds\n",
      "[250]\tvalid_0's ndcg@5: 0.398259\n"
     ]
    },
    {
     "name": "stderr",
     "output_type": "stream",
     "text": [
      "[I 2025-05-15 20:25:45,817] Trial 26 finished with value: 0.4015338725824244 and parameters: {'learning_rate': 0.019143290101657332, 'num_leaves': 157, 'min_child_samples': 77, 'min_child_weight': 5.689233837609927, 'colsample_bytree': 0.6309449849092831, 'subsample': 0.9666732458357803, 'reg_alpha': 0.00893295940534998, 'reg_lambda': 0.3763966371725306}. Best is trial 12 with value: 0.40457208870818606.\n"
     ]
    },
    {
     "name": "stdout",
     "output_type": "stream",
     "text": [
      "[500]\tvalid_0's ndcg@5: 0.403059\n",
      "Best Mean Score for all folds: 0.4015338725824244, with params: {'objective': 'lambdarank', 'metric': 'ndcg', 'ndcg_eval_at': [5], 'boosting_type': 'gbdt', 'verbosity': -1, 'n_estimators': 500, 'early_stopping_round': 30, 'learning_rate': 0.019143290101657332, 'num_leaves': 157, 'min_child_samples': 77, 'min_child_weight': 5.689233837609927, 'colsample_bytree': 0.6309449849092831, 'subsample': 0.9666732458357803, 'reg_alpha': 0.00893295940534998, 'reg_lambda': 0.3763966371725306}\n",
      "Training on fold 1\n"
     ]
    },
    {
     "name": "stderr",
     "output_type": "stream",
     "text": [
      "/Users/rik/.pyenv/versions/3.10.12/lib/python3.10/site-packages/lightgbm/sklearn.py:861: UserWarning: Found 'ndcg_eval_at' in params. Will use it instead of 'eval_at' argument\n",
      "  _log_warning(f\"Found '{alias}' in params. Will use it instead of 'eval_at' argument\")\n"
     ]
    },
    {
     "name": "stdout",
     "output_type": "stream",
     "text": [
      "[LightGBM] [Warning] Met categorical feature which contains sparse values. Consider renumbering to consecutive integers started from zero\n",
      "Training until validation scores don't improve for 50 rounds\n",
      "[250]\tvalid_0's ndcg@5: 0.397332\n",
      "Training on fold 2\n"
     ]
    },
    {
     "name": "stderr",
     "output_type": "stream",
     "text": [
      "/Users/rik/.pyenv/versions/3.10.12/lib/python3.10/site-packages/lightgbm/sklearn.py:861: UserWarning: Found 'ndcg_eval_at' in params. Will use it instead of 'eval_at' argument\n",
      "  _log_warning(f\"Found '{alias}' in params. Will use it instead of 'eval_at' argument\")\n"
     ]
    },
    {
     "name": "stdout",
     "output_type": "stream",
     "text": [
      "[LightGBM] [Warning] Met categorical feature which contains sparse values. Consider renumbering to consecutive integers started from zero\n",
      "Training until validation scores don't improve for 50 rounds\n",
      "[250]\tvalid_0's ndcg@5: 0.397936\n",
      "Training on fold 3\n"
     ]
    },
    {
     "name": "stderr",
     "output_type": "stream",
     "text": [
      "/Users/rik/.pyenv/versions/3.10.12/lib/python3.10/site-packages/lightgbm/sklearn.py:861: UserWarning: Found 'ndcg_eval_at' in params. Will use it instead of 'eval_at' argument\n",
      "  _log_warning(f\"Found '{alias}' in params. Will use it instead of 'eval_at' argument\")\n"
     ]
    },
    {
     "name": "stdout",
     "output_type": "stream",
     "text": [
      "[LightGBM] [Warning] Met categorical feature which contains sparse values. Consider renumbering to consecutive integers started from zero\n",
      "Training until validation scores don't improve for 50 rounds\n",
      "[250]\tvalid_0's ndcg@5: 0.39719\n",
      "[500]\tvalid_0's ndcg@5: 0.400604\n",
      "Did not meet early stopping. Best iteration is:\n",
      "[493]\tvalid_0's ndcg@5: 0.40074\n",
      "Training on fold 4\n"
     ]
    },
    {
     "name": "stderr",
     "output_type": "stream",
     "text": [
      "/Users/rik/.pyenv/versions/3.10.12/lib/python3.10/site-packages/lightgbm/sklearn.py:861: UserWarning: Found 'ndcg_eval_at' in params. Will use it instead of 'eval_at' argument\n",
      "  _log_warning(f\"Found '{alias}' in params. Will use it instead of 'eval_at' argument\")\n"
     ]
    },
    {
     "name": "stdout",
     "output_type": "stream",
     "text": [
      "[LightGBM] [Warning] Met categorical feature which contains sparse values. Consider renumbering to consecutive integers started from zero\n",
      "Training until validation scores don't improve for 50 rounds\n",
      "[250]\tvalid_0's ndcg@5: 0.399374\n",
      "[500]\tvalid_0's ndcg@5: 0.403591\n",
      "Did not meet early stopping. Best iteration is:\n",
      "[482]\tvalid_0's ndcg@5: 0.403633\n",
      "Training on fold 5\n"
     ]
    },
    {
     "name": "stderr",
     "output_type": "stream",
     "text": [
      "/Users/rik/.pyenv/versions/3.10.12/lib/python3.10/site-packages/lightgbm/sklearn.py:861: UserWarning: Found 'ndcg_eval_at' in params. Will use it instead of 'eval_at' argument\n",
      "  _log_warning(f\"Found '{alias}' in params. Will use it instead of 'eval_at' argument\")\n"
     ]
    },
    {
     "name": "stdout",
     "output_type": "stream",
     "text": [
      "[LightGBM] [Warning] Met categorical feature which contains sparse values. Consider renumbering to consecutive integers started from zero\n",
      "Training until validation scores don't improve for 50 rounds\n",
      "[250]\tvalid_0's ndcg@5: 0.400257\n"
     ]
    },
    {
     "name": "stderr",
     "output_type": "stream",
     "text": [
      "[I 2025-05-15 20:33:01,930] Trial 27 finished with value: 0.4023068694801092 and parameters: {'learning_rate': 0.03888077118289801, 'num_leaves': 91, 'min_child_samples': 82, 'min_child_weight': 0.22185653120784585, 'colsample_bytree': 0.7584848433713534, 'subsample': 0.5986580430042238, 'reg_alpha': 0.02311015392016251, 'reg_lambda': 0.10142319766880649}. Best is trial 12 with value: 0.40457208870818606.\n"
     ]
    },
    {
     "name": "stdout",
     "output_type": "stream",
     "text": [
      "[500]\tvalid_0's ndcg@5: 0.405242\n",
      "Best Mean Score for all folds: 0.4023068694801092, with params: {'objective': 'lambdarank', 'metric': 'ndcg', 'ndcg_eval_at': [5], 'boosting_type': 'gbdt', 'verbosity': -1, 'n_estimators': 500, 'early_stopping_round': 30, 'learning_rate': 0.03888077118289801, 'num_leaves': 91, 'min_child_samples': 82, 'min_child_weight': 0.22185653120784585, 'colsample_bytree': 0.7584848433713534, 'subsample': 0.5986580430042238, 'reg_alpha': 0.02311015392016251, 'reg_lambda': 0.10142319766880649}\n",
      "Training on fold 1\n"
     ]
    },
    {
     "name": "stderr",
     "output_type": "stream",
     "text": [
      "/Users/rik/.pyenv/versions/3.10.12/lib/python3.10/site-packages/lightgbm/sklearn.py:861: UserWarning: Found 'ndcg_eval_at' in params. Will use it instead of 'eval_at' argument\n",
      "  _log_warning(f\"Found '{alias}' in params. Will use it instead of 'eval_at' argument\")\n"
     ]
    },
    {
     "name": "stdout",
     "output_type": "stream",
     "text": [
      "[LightGBM] [Warning] Met categorical feature which contains sparse values. Consider renumbering to consecutive integers started from zero\n",
      "Training until validation scores don't improve for 50 rounds\n",
      "[250]\tvalid_0's ndcg@5: 0.398808\n",
      "Training on fold 2\n"
     ]
    },
    {
     "name": "stderr",
     "output_type": "stream",
     "text": [
      "/Users/rik/.pyenv/versions/3.10.12/lib/python3.10/site-packages/lightgbm/sklearn.py:861: UserWarning: Found 'ndcg_eval_at' in params. Will use it instead of 'eval_at' argument\n",
      "  _log_warning(f\"Found '{alias}' in params. Will use it instead of 'eval_at' argument\")\n"
     ]
    },
    {
     "name": "stdout",
     "output_type": "stream",
     "text": [
      "Training until validation scores don't improve for 50 rounds\n",
      "[250]\tvalid_0's ndcg@5: 0.398252\n",
      "[500]\tvalid_0's ndcg@5: 0.403518\n",
      "Training on fold 3\n"
     ]
    },
    {
     "name": "stderr",
     "output_type": "stream",
     "text": [
      "/Users/rik/.pyenv/versions/3.10.12/lib/python3.10/site-packages/lightgbm/sklearn.py:861: UserWarning: Found 'ndcg_eval_at' in params. Will use it instead of 'eval_at' argument\n",
      "  _log_warning(f\"Found '{alias}' in params. Will use it instead of 'eval_at' argument\")\n"
     ]
    },
    {
     "name": "stdout",
     "output_type": "stream",
     "text": [
      "[LightGBM] [Warning] Met categorical feature which contains sparse values. Consider renumbering to consecutive integers started from zero\n",
      "Training until validation scores don't improve for 50 rounds\n",
      "[250]\tvalid_0's ndcg@5: 0.398202\n",
      "[500]\tvalid_0's ndcg@5: 0.400967\n",
      "Did not meet early stopping. Best iteration is:\n",
      "[470]\tvalid_0's ndcg@5: 0.401311\n",
      "Training on fold 4\n"
     ]
    },
    {
     "name": "stderr",
     "output_type": "stream",
     "text": [
      "/Users/rik/.pyenv/versions/3.10.12/lib/python3.10/site-packages/lightgbm/sklearn.py:861: UserWarning: Found 'ndcg_eval_at' in params. Will use it instead of 'eval_at' argument\n",
      "  _log_warning(f\"Found '{alias}' in params. Will use it instead of 'eval_at' argument\")\n"
     ]
    },
    {
     "name": "stdout",
     "output_type": "stream",
     "text": [
      "[LightGBM] [Warning] Met categorical feature which contains sparse values. Consider renumbering to consecutive integers started from zero\n",
      "Training until validation scores don't improve for 50 rounds\n",
      "[250]\tvalid_0's ndcg@5: 0.399755\n",
      "[500]\tvalid_0's ndcg@5: 0.403717\n",
      "Did not meet early stopping. Best iteration is:\n",
      "[482]\tvalid_0's ndcg@5: 0.404119\n",
      "Training on fold 5\n"
     ]
    },
    {
     "name": "stderr",
     "output_type": "stream",
     "text": [
      "/Users/rik/.pyenv/versions/3.10.12/lib/python3.10/site-packages/lightgbm/sklearn.py:861: UserWarning: Found 'ndcg_eval_at' in params. Will use it instead of 'eval_at' argument\n",
      "  _log_warning(f\"Found '{alias}' in params. Will use it instead of 'eval_at' argument\")\n"
     ]
    },
    {
     "name": "stdout",
     "output_type": "stream",
     "text": [
      "[LightGBM] [Warning] Met categorical feature which contains sparse values. Consider renumbering to consecutive integers started from zero\n",
      "Training until validation scores don't improve for 50 rounds\n",
      "[250]\tvalid_0's ndcg@5: 0.401\n"
     ]
    },
    {
     "name": "stderr",
     "output_type": "stream",
     "text": [
      "[I 2025-05-15 20:42:22,076] Trial 28 finished with value: 0.4032005468093794 and parameters: {'learning_rate': 0.02898750130880053, 'num_leaves': 139, 'min_child_samples': 64, 'min_child_weight': 2.470191837270944, 'colsample_bytree': 0.5802809060100309, 'subsample': 0.8912044551059729, 'reg_alpha': 0.4303043615141358, 'reg_lambda': 2.649427442501025}. Best is trial 12 with value: 0.40457208870818606.\n"
     ]
    },
    {
     "name": "stdout",
     "output_type": "stream",
     "text": [
      "Best Mean Score for all folds: 0.4032005468093794, with params: {'objective': 'lambdarank', 'metric': 'ndcg', 'ndcg_eval_at': [5], 'boosting_type': 'gbdt', 'verbosity': -1, 'n_estimators': 500, 'early_stopping_round': 30, 'learning_rate': 0.02898750130880053, 'num_leaves': 139, 'min_child_samples': 64, 'min_child_weight': 2.470191837270944, 'colsample_bytree': 0.5802809060100309, 'subsample': 0.8912044551059729, 'reg_alpha': 0.4303043615141358, 'reg_lambda': 2.649427442501025}\n",
      "Training on fold 1\n"
     ]
    },
    {
     "name": "stderr",
     "output_type": "stream",
     "text": [
      "/Users/rik/.pyenv/versions/3.10.12/lib/python3.10/site-packages/lightgbm/sklearn.py:861: UserWarning: Found 'ndcg_eval_at' in params. Will use it instead of 'eval_at' argument\n",
      "  _log_warning(f\"Found '{alias}' in params. Will use it instead of 'eval_at' argument\")\n"
     ]
    },
    {
     "name": "stdout",
     "output_type": "stream",
     "text": [
      "Training until validation scores don't improve for 50 rounds\n",
      "[250]\tvalid_0's ndcg@5: 0.393865\n",
      "[500]\tvalid_0's ndcg@5: 0.399149\n",
      "Did not meet early stopping. Best iteration is:\n",
      "[500]\tvalid_0's ndcg@5: 0.399149\n",
      "Training on fold 2\n"
     ]
    },
    {
     "name": "stderr",
     "output_type": "stream",
     "text": [
      "/Users/rik/.pyenv/versions/3.10.12/lib/python3.10/site-packages/lightgbm/sklearn.py:861: UserWarning: Found 'ndcg_eval_at' in params. Will use it instead of 'eval_at' argument\n",
      "  _log_warning(f\"Found '{alias}' in params. Will use it instead of 'eval_at' argument\")\n"
     ]
    },
    {
     "name": "stdout",
     "output_type": "stream",
     "text": [
      "[LightGBM] [Warning] Met categorical feature which contains sparse values. Consider renumbering to consecutive integers started from zero\n",
      "Training until validation scores don't improve for 50 rounds\n",
      "[250]\tvalid_0's ndcg@5: 0.39374\n",
      "[500]\tvalid_0's ndcg@5: 0.399361\n",
      "Did not meet early stopping. Best iteration is:\n",
      "[496]\tvalid_0's ndcg@5: 0.399422\n",
      "Training on fold 3\n"
     ]
    },
    {
     "name": "stderr",
     "output_type": "stream",
     "text": [
      "/Users/rik/.pyenv/versions/3.10.12/lib/python3.10/site-packages/lightgbm/sklearn.py:861: UserWarning: Found 'ndcg_eval_at' in params. Will use it instead of 'eval_at' argument\n",
      "  _log_warning(f\"Found '{alias}' in params. Will use it instead of 'eval_at' argument\")\n"
     ]
    },
    {
     "name": "stdout",
     "output_type": "stream",
     "text": [
      "Training until validation scores don't improve for 50 rounds\n",
      "[250]\tvalid_0's ndcg@5: 0.392703\n",
      "[500]\tvalid_0's ndcg@5: 0.398577\n",
      "Training on fold 4\n"
     ]
    },
    {
     "name": "stderr",
     "output_type": "stream",
     "text": [
      "/Users/rik/.pyenv/versions/3.10.12/lib/python3.10/site-packages/lightgbm/sklearn.py:861: UserWarning: Found 'ndcg_eval_at' in params. Will use it instead of 'eval_at' argument\n",
      "  _log_warning(f\"Found '{alias}' in params. Will use it instead of 'eval_at' argument\")\n"
     ]
    },
    {
     "name": "stdout",
     "output_type": "stream",
     "text": [
      "Training until validation scores don't improve for 50 rounds\n",
      "[250]\tvalid_0's ndcg@5: 0.394882\n",
      "[500]\tvalid_0's ndcg@5: 0.400359\n",
      "Did not meet early stopping. Best iteration is:\n",
      "[500]\tvalid_0's ndcg@5: 0.400359\n",
      "Training on fold 5\n"
     ]
    },
    {
     "name": "stderr",
     "output_type": "stream",
     "text": [
      "/Users/rik/.pyenv/versions/3.10.12/lib/python3.10/site-packages/lightgbm/sklearn.py:861: UserWarning: Found 'ndcg_eval_at' in params. Will use it instead of 'eval_at' argument\n",
      "  _log_warning(f\"Found '{alias}' in params. Will use it instead of 'eval_at' argument\")\n"
     ]
    },
    {
     "name": "stdout",
     "output_type": "stream",
     "text": [
      "Training until validation scores don't improve for 50 rounds\n",
      "[250]\tvalid_0's ndcg@5: 0.396049\n"
     ]
    },
    {
     "name": "stderr",
     "output_type": "stream",
     "text": [
      "[I 2025-05-15 20:51:32,830] Trial 29 finished with value: 0.39978979387772207 and parameters: {'learning_rate': 0.016983003461569054, 'num_leaves': 117, 'min_child_samples': 95, 'min_child_weight': 0.30349468528605017, 'colsample_bytree': 0.6788446298945453, 'subsample': 0.8168399854963975, 'reg_alpha': 0.11892819310330384, 'reg_lambda': 1.416684625663619}. Best is trial 12 with value: 0.40457208870818606.\n"
     ]
    },
    {
     "name": "stdout",
     "output_type": "stream",
     "text": [
      "[500]\tvalid_0's ndcg@5: 0.401441\n",
      "Did not meet early stopping. Best iteration is:\n",
      "[500]\tvalid_0's ndcg@5: 0.401441\n",
      "Best Mean Score for all folds: 0.39978979387772207, with params: {'objective': 'lambdarank', 'metric': 'ndcg', 'ndcg_eval_at': [5], 'boosting_type': 'gbdt', 'verbosity': -1, 'n_estimators': 500, 'early_stopping_round': 30, 'learning_rate': 0.016983003461569054, 'num_leaves': 117, 'min_child_samples': 95, 'min_child_weight': 0.30349468528605017, 'colsample_bytree': 0.6788446298945453, 'subsample': 0.8168399854963975, 'reg_alpha': 0.11892819310330384, 'reg_lambda': 1.416684625663619}\n",
      "Training on fold 1\n"
     ]
    },
    {
     "name": "stderr",
     "output_type": "stream",
     "text": [
      "/Users/rik/.pyenv/versions/3.10.12/lib/python3.10/site-packages/lightgbm/sklearn.py:861: UserWarning: Found 'ndcg_eval_at' in params. Will use it instead of 'eval_at' argument\n",
      "  _log_warning(f\"Found '{alias}' in params. Will use it instead of 'eval_at' argument\")\n"
     ]
    },
    {
     "name": "stdout",
     "output_type": "stream",
     "text": [
      "[LightGBM] [Warning] Met categorical feature which contains sparse values. Consider renumbering to consecutive integers started from zero\n",
      "Training until validation scores don't improve for 50 rounds\n",
      "[250]\tvalid_0's ndcg@5: 0.397405\n",
      "[500]\tvalid_0's ndcg@5: 0.400965\n",
      "Training on fold 2\n"
     ]
    },
    {
     "name": "stderr",
     "output_type": "stream",
     "text": [
      "/Users/rik/.pyenv/versions/3.10.12/lib/python3.10/site-packages/lightgbm/sklearn.py:861: UserWarning: Found 'ndcg_eval_at' in params. Will use it instead of 'eval_at' argument\n",
      "  _log_warning(f\"Found '{alias}' in params. Will use it instead of 'eval_at' argument\")\n"
     ]
    },
    {
     "name": "stdout",
     "output_type": "stream",
     "text": [
      "Training until validation scores don't improve for 50 rounds\n",
      "[250]\tvalid_0's ndcg@5: 0.397579\n",
      "[500]\tvalid_0's ndcg@5: 0.402734\n",
      "Training on fold 3\n"
     ]
    },
    {
     "name": "stderr",
     "output_type": "stream",
     "text": [
      "/Users/rik/.pyenv/versions/3.10.12/lib/python3.10/site-packages/lightgbm/sklearn.py:861: UserWarning: Found 'ndcg_eval_at' in params. Will use it instead of 'eval_at' argument\n",
      "  _log_warning(f\"Found '{alias}' in params. Will use it instead of 'eval_at' argument\")\n"
     ]
    },
    {
     "name": "stdout",
     "output_type": "stream",
     "text": [
      "Training until validation scores don't improve for 50 rounds\n",
      "[250]\tvalid_0's ndcg@5: 0.396949\n",
      "Training on fold 4\n"
     ]
    },
    {
     "name": "stderr",
     "output_type": "stream",
     "text": [
      "/Users/rik/.pyenv/versions/3.10.12/lib/python3.10/site-packages/lightgbm/sklearn.py:861: UserWarning: Found 'ndcg_eval_at' in params. Will use it instead of 'eval_at' argument\n",
      "  _log_warning(f\"Found '{alias}' in params. Will use it instead of 'eval_at' argument\")\n"
     ]
    },
    {
     "name": "stdout",
     "output_type": "stream",
     "text": [
      "Training until validation scores don't improve for 50 rounds\n",
      "[250]\tvalid_0's ndcg@5: 0.397985\n",
      "[500]\tvalid_0's ndcg@5: 0.403031\n",
      "Did not meet early stopping. Best iteration is:\n",
      "[500]\tvalid_0's ndcg@5: 0.403031\n",
      "Training on fold 5\n"
     ]
    },
    {
     "name": "stderr",
     "output_type": "stream",
     "text": [
      "/Users/rik/.pyenv/versions/3.10.12/lib/python3.10/site-packages/lightgbm/sklearn.py:861: UserWarning: Found 'ndcg_eval_at' in params. Will use it instead of 'eval_at' argument\n",
      "  _log_warning(f\"Found '{alias}' in params. Will use it instead of 'eval_at' argument\")\n"
     ]
    },
    {
     "name": "stdout",
     "output_type": "stream",
     "text": [
      "Training until validation scores don't improve for 50 rounds\n",
      "[250]\tvalid_0's ndcg@5: 0.400245\n"
     ]
    },
    {
     "name": "stderr",
     "output_type": "stream",
     "text": [
      "[I 2025-05-15 20:57:18,005] Trial 30 finished with value: 0.40194784760406294 and parameters: {'learning_rate': 0.05759176371661271, 'num_leaves': 51, 'min_child_samples': 85, 'min_child_weight': 9.945051982664937, 'colsample_bytree': 0.8427347239689936, 'subsample': 0.772588217354702, 'reg_alpha': 0.0010081744320325123, 'reg_lambda': 1.222762116289912}. Best is trial 12 with value: 0.40457208870818606.\n"
     ]
    },
    {
     "name": "stdout",
     "output_type": "stream",
     "text": [
      "Best Mean Score for all folds: 0.40194784760406294, with params: {'objective': 'lambdarank', 'metric': 'ndcg', 'ndcg_eval_at': [5], 'boosting_type': 'gbdt', 'verbosity': -1, 'n_estimators': 500, 'early_stopping_round': 30, 'learning_rate': 0.05759176371661271, 'num_leaves': 51, 'min_child_samples': 85, 'min_child_weight': 9.945051982664937, 'colsample_bytree': 0.8427347239689936, 'subsample': 0.772588217354702, 'reg_alpha': 0.0010081744320325123, 'reg_lambda': 1.222762116289912}\n",
      "Training on fold 1\n"
     ]
    },
    {
     "name": "stderr",
     "output_type": "stream",
     "text": [
      "/Users/rik/.pyenv/versions/3.10.12/lib/python3.10/site-packages/lightgbm/sklearn.py:861: UserWarning: Found 'ndcg_eval_at' in params. Will use it instead of 'eval_at' argument\n",
      "  _log_warning(f\"Found '{alias}' in params. Will use it instead of 'eval_at' argument\")\n"
     ]
    },
    {
     "name": "stdout",
     "output_type": "stream",
     "text": [
      "[LightGBM] [Warning] Met categorical feature which contains sparse values. Consider renumbering to consecutive integers started from zero\n",
      "Training until validation scores don't improve for 50 rounds\n",
      "[250]\tvalid_0's ndcg@5: 0.398932\n",
      "[500]\tvalid_0's ndcg@5: 0.402985\n",
      "Training on fold 2\n"
     ]
    },
    {
     "name": "stderr",
     "output_type": "stream",
     "text": [
      "/Users/rik/.pyenv/versions/3.10.12/lib/python3.10/site-packages/lightgbm/sklearn.py:861: UserWarning: Found 'ndcg_eval_at' in params. Will use it instead of 'eval_at' argument\n",
      "  _log_warning(f\"Found '{alias}' in params. Will use it instead of 'eval_at' argument\")\n"
     ]
    },
    {
     "name": "stdout",
     "output_type": "stream",
     "text": [
      "[LightGBM] [Warning] Met categorical feature which contains sparse values. Consider renumbering to consecutive integers started from zero\n",
      "Training until validation scores don't improve for 50 rounds\n",
      "[250]\tvalid_0's ndcg@5: 0.399548\n",
      "Training on fold 3\n"
     ]
    },
    {
     "name": "stderr",
     "output_type": "stream",
     "text": [
      "/Users/rik/.pyenv/versions/3.10.12/lib/python3.10/site-packages/lightgbm/sklearn.py:861: UserWarning: Found 'ndcg_eval_at' in params. Will use it instead of 'eval_at' argument\n",
      "  _log_warning(f\"Found '{alias}' in params. Will use it instead of 'eval_at' argument\")\n"
     ]
    },
    {
     "name": "stdout",
     "output_type": "stream",
     "text": [
      "[LightGBM] [Warning] Met categorical feature which contains sparse values. Consider renumbering to consecutive integers started from zero\n",
      "Training until validation scores don't improve for 50 rounds\n",
      "[250]\tvalid_0's ndcg@5: 0.398082\n",
      "Training on fold 4\n"
     ]
    },
    {
     "name": "stderr",
     "output_type": "stream",
     "text": [
      "/Users/rik/.pyenv/versions/3.10.12/lib/python3.10/site-packages/lightgbm/sklearn.py:861: UserWarning: Found 'ndcg_eval_at' in params. Will use it instead of 'eval_at' argument\n",
      "  _log_warning(f\"Found '{alias}' in params. Will use it instead of 'eval_at' argument\")\n"
     ]
    },
    {
     "name": "stdout",
     "output_type": "stream",
     "text": [
      "Training until validation scores don't improve for 50 rounds\n",
      "[250]\tvalid_0's ndcg@5: 0.400148\n",
      "Training on fold 5\n"
     ]
    },
    {
     "name": "stderr",
     "output_type": "stream",
     "text": [
      "/Users/rik/.pyenv/versions/3.10.12/lib/python3.10/site-packages/lightgbm/sklearn.py:861: UserWarning: Found 'ndcg_eval_at' in params. Will use it instead of 'eval_at' argument\n",
      "  _log_warning(f\"Found '{alias}' in params. Will use it instead of 'eval_at' argument\")\n"
     ]
    },
    {
     "name": "stdout",
     "output_type": "stream",
     "text": [
      "Training until validation scores don't improve for 50 rounds\n",
      "[250]\tvalid_0's ndcg@5: 0.402234\n"
     ]
    },
    {
     "name": "stderr",
     "output_type": "stream",
     "text": [
      "[I 2025-05-15 21:04:24,835] Trial 31 finished with value: 0.402073085741975 and parameters: {'learning_rate': 0.03139664490278936, 'num_leaves': 153, 'min_child_samples': 91, 'min_child_weight': 4.884113691181257, 'colsample_bytree': 0.6530464885234786, 'subsample': 0.9956183194671039, 'reg_alpha': 0.01163107940524748, 'reg_lambda': 3.604075742340849}. Best is trial 12 with value: 0.40457208870818606.\n"
     ]
    },
    {
     "name": "stdout",
     "output_type": "stream",
     "text": [
      "Best Mean Score for all folds: 0.402073085741975, with params: {'objective': 'lambdarank', 'metric': 'ndcg', 'ndcg_eval_at': [5], 'boosting_type': 'gbdt', 'verbosity': -1, 'n_estimators': 500, 'early_stopping_round': 30, 'learning_rate': 0.03139664490278936, 'num_leaves': 153, 'min_child_samples': 91, 'min_child_weight': 4.884113691181257, 'colsample_bytree': 0.6530464885234786, 'subsample': 0.9956183194671039, 'reg_alpha': 0.01163107940524748, 'reg_lambda': 3.604075742340849}\n",
      "Training on fold 1\n"
     ]
    },
    {
     "name": "stderr",
     "output_type": "stream",
     "text": [
      "/Users/rik/.pyenv/versions/3.10.12/lib/python3.10/site-packages/lightgbm/sklearn.py:861: UserWarning: Found 'ndcg_eval_at' in params. Will use it instead of 'eval_at' argument\n",
      "  _log_warning(f\"Found '{alias}' in params. Will use it instead of 'eval_at' argument\")\n"
     ]
    },
    {
     "name": "stdout",
     "output_type": "stream",
     "text": [
      "Training until validation scores don't improve for 50 rounds\n",
      "[250]\tvalid_0's ndcg@5: 0.400717\n",
      "Training on fold 2\n"
     ]
    },
    {
     "name": "stderr",
     "output_type": "stream",
     "text": [
      "/Users/rik/.pyenv/versions/3.10.12/lib/python3.10/site-packages/lightgbm/sklearn.py:861: UserWarning: Found 'ndcg_eval_at' in params. Will use it instead of 'eval_at' argument\n",
      "  _log_warning(f\"Found '{alias}' in params. Will use it instead of 'eval_at' argument\")\n"
     ]
    },
    {
     "name": "stdout",
     "output_type": "stream",
     "text": [
      "[LightGBM] [Warning] Met categorical feature which contains sparse values. Consider renumbering to consecutive integers started from zero\n",
      "Training until validation scores don't improve for 50 rounds\n",
      "[250]\tvalid_0's ndcg@5: 0.401565\n",
      "Training on fold 3\n"
     ]
    },
    {
     "name": "stderr",
     "output_type": "stream",
     "text": [
      "/Users/rik/.pyenv/versions/3.10.12/lib/python3.10/site-packages/lightgbm/sklearn.py:861: UserWarning: Found 'ndcg_eval_at' in params. Will use it instead of 'eval_at' argument\n",
      "  _log_warning(f\"Found '{alias}' in params. Will use it instead of 'eval_at' argument\")\n"
     ]
    },
    {
     "name": "stdout",
     "output_type": "stream",
     "text": [
      "[LightGBM] [Warning] Met categorical feature which contains sparse values. Consider renumbering to consecutive integers started from zero\n",
      "Training until validation scores don't improve for 50 rounds\n",
      "[250]\tvalid_0's ndcg@5: 0.399541\n",
      "Training on fold 4\n"
     ]
    },
    {
     "name": "stderr",
     "output_type": "stream",
     "text": [
      "/Users/rik/.pyenv/versions/3.10.12/lib/python3.10/site-packages/lightgbm/sklearn.py:861: UserWarning: Found 'ndcg_eval_at' in params. Will use it instead of 'eval_at' argument\n",
      "  _log_warning(f\"Found '{alias}' in params. Will use it instead of 'eval_at' argument\")\n"
     ]
    },
    {
     "name": "stdout",
     "output_type": "stream",
     "text": [
      "[LightGBM] [Warning] Met categorical feature which contains sparse values. Consider renumbering to consecutive integers started from zero\n",
      "Training until validation scores don't improve for 50 rounds\n",
      "[250]\tvalid_0's ndcg@5: 0.403184\n",
      "Training on fold 5\n"
     ]
    },
    {
     "name": "stderr",
     "output_type": "stream",
     "text": [
      "/Users/rik/.pyenv/versions/3.10.12/lib/python3.10/site-packages/lightgbm/sklearn.py:861: UserWarning: Found 'ndcg_eval_at' in params. Will use it instead of 'eval_at' argument\n",
      "  _log_warning(f\"Found '{alias}' in params. Will use it instead of 'eval_at' argument\")\n"
     ]
    },
    {
     "name": "stdout",
     "output_type": "stream",
     "text": [
      "[LightGBM] [Warning] Met categorical feature which contains sparse values. Consider renumbering to consecutive integers started from zero\n",
      "Training until validation scores don't improve for 50 rounds\n",
      "[250]\tvalid_0's ndcg@5: 0.403846\n"
     ]
    },
    {
     "name": "stderr",
     "output_type": "stream",
     "text": [
      "[I 2025-05-15 21:12:17,555] Trial 32 finished with value: 0.4041431702088403 and parameters: {'learning_rate': 0.041485310022528296, 'num_leaves': 182, 'min_child_samples': 83, 'min_child_weight': 4.487732639417395, 'colsample_bytree': 0.6916597126373863, 'subsample': 0.9719703143722394, 'reg_alpha': 0.026653100640437563, 'reg_lambda': 9.732879264068098}. Best is trial 12 with value: 0.40457208870818606.\n"
     ]
    },
    {
     "name": "stdout",
     "output_type": "stream",
     "text": [
      "Best Mean Score for all folds: 0.4041431702088403, with params: {'objective': 'lambdarank', 'metric': 'ndcg', 'ndcg_eval_at': [5], 'boosting_type': 'gbdt', 'verbosity': -1, 'n_estimators': 500, 'early_stopping_round': 30, 'learning_rate': 0.041485310022528296, 'num_leaves': 182, 'min_child_samples': 83, 'min_child_weight': 4.487732639417395, 'colsample_bytree': 0.6916597126373863, 'subsample': 0.9719703143722394, 'reg_alpha': 0.026653100640437563, 'reg_lambda': 9.732879264068098}\n",
      "Training on fold 1\n"
     ]
    },
    {
     "name": "stderr",
     "output_type": "stream",
     "text": [
      "/Users/rik/.pyenv/versions/3.10.12/lib/python3.10/site-packages/lightgbm/sklearn.py:861: UserWarning: Found 'ndcg_eval_at' in params. Will use it instead of 'eval_at' argument\n",
      "  _log_warning(f\"Found '{alias}' in params. Will use it instead of 'eval_at' argument\")\n"
     ]
    },
    {
     "name": "stdout",
     "output_type": "stream",
     "text": [
      "Training until validation scores don't improve for 50 rounds\n",
      "[250]\tvalid_0's ndcg@5: 0.402249\n",
      "Training on fold 2\n"
     ]
    },
    {
     "name": "stderr",
     "output_type": "stream",
     "text": [
      "/Users/rik/.pyenv/versions/3.10.12/lib/python3.10/site-packages/lightgbm/sklearn.py:861: UserWarning: Found 'ndcg_eval_at' in params. Will use it instead of 'eval_at' argument\n",
      "  _log_warning(f\"Found '{alias}' in params. Will use it instead of 'eval_at' argument\")\n"
     ]
    },
    {
     "name": "stdout",
     "output_type": "stream",
     "text": [
      "[LightGBM] [Warning] Met categorical feature which contains sparse values. Consider renumbering to consecutive integers started from zero\n",
      "Training until validation scores don't improve for 50 rounds\n",
      "Training on fold 3\n"
     ]
    },
    {
     "name": "stderr",
     "output_type": "stream",
     "text": [
      "/Users/rik/.pyenv/versions/3.10.12/lib/python3.10/site-packages/lightgbm/sklearn.py:861: UserWarning: Found 'ndcg_eval_at' in params. Will use it instead of 'eval_at' argument\n",
      "  _log_warning(f\"Found '{alias}' in params. Will use it instead of 'eval_at' argument\")\n"
     ]
    },
    {
     "name": "stdout",
     "output_type": "stream",
     "text": [
      "Training until validation scores don't improve for 50 rounds\n",
      "[250]\tvalid_0's ndcg@5: 0.401579\n",
      "Training on fold 4\n"
     ]
    },
    {
     "name": "stderr",
     "output_type": "stream",
     "text": [
      "/Users/rik/.pyenv/versions/3.10.12/lib/python3.10/site-packages/lightgbm/sklearn.py:861: UserWarning: Found 'ndcg_eval_at' in params. Will use it instead of 'eval_at' argument\n",
      "  _log_warning(f\"Found '{alias}' in params. Will use it instead of 'eval_at' argument\")\n"
     ]
    },
    {
     "name": "stdout",
     "output_type": "stream",
     "text": [
      "[LightGBM] [Warning] Met categorical feature which contains sparse values. Consider renumbering to consecutive integers started from zero\n",
      "Training until validation scores don't improve for 50 rounds\n",
      "Training on fold 5\n"
     ]
    },
    {
     "name": "stderr",
     "output_type": "stream",
     "text": [
      "/Users/rik/.pyenv/versions/3.10.12/lib/python3.10/site-packages/lightgbm/sklearn.py:861: UserWarning: Found 'ndcg_eval_at' in params. Will use it instead of 'eval_at' argument\n",
      "  _log_warning(f\"Found '{alias}' in params. Will use it instead of 'eval_at' argument\")\n"
     ]
    },
    {
     "name": "stdout",
     "output_type": "stream",
     "text": [
      "[LightGBM] [Warning] Met categorical feature which contains sparse values. Consider renumbering to consecutive integers started from zero\n",
      "Training until validation scores don't improve for 50 rounds\n",
      "[250]\tvalid_0's ndcg@5: 0.404689\n"
     ]
    },
    {
     "name": "stderr",
     "output_type": "stream",
     "text": [
      "[I 2025-05-15 21:16:57,197] Trial 33 finished with value: 0.40336604945128707 and parameters: {'learning_rate': 0.08607426641371449, 'num_leaves': 179, 'min_child_samples': 78, 'min_child_weight': 1.4207547302235648, 'colsample_bytree': 0.69385848841305, 'subsample': 0.9612284062324317, 'reg_alpha': 0.024749296134938845, 'reg_lambda': 9.500259021298428}. Best is trial 12 with value: 0.40457208870818606.\n"
     ]
    },
    {
     "name": "stdout",
     "output_type": "stream",
     "text": [
      "Best Mean Score for all folds: 0.40336604945128707, with params: {'objective': 'lambdarank', 'metric': 'ndcg', 'ndcg_eval_at': [5], 'boosting_type': 'gbdt', 'verbosity': -1, 'n_estimators': 500, 'early_stopping_round': 30, 'learning_rate': 0.08607426641371449, 'num_leaves': 179, 'min_child_samples': 78, 'min_child_weight': 1.4207547302235648, 'colsample_bytree': 0.69385848841305, 'subsample': 0.9612284062324317, 'reg_alpha': 0.024749296134938845, 'reg_lambda': 9.500259021298428}\n",
      "Training on fold 1\n"
     ]
    },
    {
     "name": "stderr",
     "output_type": "stream",
     "text": [
      "/Users/rik/.pyenv/versions/3.10.12/lib/python3.10/site-packages/lightgbm/sklearn.py:861: UserWarning: Found 'ndcg_eval_at' in params. Will use it instead of 'eval_at' argument\n",
      "  _log_warning(f\"Found '{alias}' in params. Will use it instead of 'eval_at' argument\")\n"
     ]
    },
    {
     "name": "stdout",
     "output_type": "stream",
     "text": [
      "Training until validation scores don't improve for 50 rounds\n",
      "[250]\tvalid_0's ndcg@5: 0.401468\n",
      "Training on fold 2\n"
     ]
    },
    {
     "name": "stderr",
     "output_type": "stream",
     "text": [
      "/Users/rik/.pyenv/versions/3.10.12/lib/python3.10/site-packages/lightgbm/sklearn.py:861: UserWarning: Found 'ndcg_eval_at' in params. Will use it instead of 'eval_at' argument\n",
      "  _log_warning(f\"Found '{alias}' in params. Will use it instead of 'eval_at' argument\")\n"
     ]
    },
    {
     "name": "stdout",
     "output_type": "stream",
     "text": [
      "Training until validation scores don't improve for 50 rounds\n",
      "[250]\tvalid_0's ndcg@5: 0.401119\n",
      "Training on fold 3\n"
     ]
    },
    {
     "name": "stderr",
     "output_type": "stream",
     "text": [
      "/Users/rik/.pyenv/versions/3.10.12/lib/python3.10/site-packages/lightgbm/sklearn.py:861: UserWarning: Found 'ndcg_eval_at' in params. Will use it instead of 'eval_at' argument\n",
      "  _log_warning(f\"Found '{alias}' in params. Will use it instead of 'eval_at' argument\")\n"
     ]
    },
    {
     "name": "stdout",
     "output_type": "stream",
     "text": [
      "[LightGBM] [Warning] Met categorical feature which contains sparse values. Consider renumbering to consecutive integers started from zero\n",
      "Training until validation scores don't improve for 50 rounds\n",
      "[250]\tvalid_0's ndcg@5: 0.400449\n",
      "Training on fold 4\n"
     ]
    },
    {
     "name": "stderr",
     "output_type": "stream",
     "text": [
      "/Users/rik/.pyenv/versions/3.10.12/lib/python3.10/site-packages/lightgbm/sklearn.py:861: UserWarning: Found 'ndcg_eval_at' in params. Will use it instead of 'eval_at' argument\n",
      "  _log_warning(f\"Found '{alias}' in params. Will use it instead of 'eval_at' argument\")\n"
     ]
    },
    {
     "name": "stdout",
     "output_type": "stream",
     "text": [
      "[LightGBM] [Warning] Met categorical feature which contains sparse values. Consider renumbering to consecutive integers started from zero\n",
      "Training until validation scores don't improve for 50 rounds\n",
      "[250]\tvalid_0's ndcg@5: 0.403281\n",
      "Training on fold 5\n"
     ]
    },
    {
     "name": "stderr",
     "output_type": "stream",
     "text": [
      "/Users/rik/.pyenv/versions/3.10.12/lib/python3.10/site-packages/lightgbm/sklearn.py:861: UserWarning: Found 'ndcg_eval_at' in params. Will use it instead of 'eval_at' argument\n",
      "  _log_warning(f\"Found '{alias}' in params. Will use it instead of 'eval_at' argument\")\n"
     ]
    },
    {
     "name": "stdout",
     "output_type": "stream",
     "text": [
      "[LightGBM] [Warning] Met categorical feature which contains sparse values. Consider renumbering to consecutive integers started from zero\n",
      "Training until validation scores don't improve for 50 rounds\n",
      "[250]\tvalid_0's ndcg@5: 0.403653\n"
     ]
    },
    {
     "name": "stderr",
     "output_type": "stream",
     "text": [
      "[I 2025-05-15 21:23:42,510] Trial 34 finished with value: 0.40333076998237943 and parameters: {'learning_rate': 0.043998916156264986, 'num_leaves': 198, 'min_child_samples': 82, 'min_child_weight': 3.335036303885393, 'colsample_bytree': 0.7371810705375883, 'subsample': 0.9243574705684505, 'reg_alpha': 0.06110235408390649, 'reg_lambda': 4.498503602238481}. Best is trial 12 with value: 0.40457208870818606.\n"
     ]
    },
    {
     "name": "stdout",
     "output_type": "stream",
     "text": [
      "Best Mean Score for all folds: 0.40333076998237943, with params: {'objective': 'lambdarank', 'metric': 'ndcg', 'ndcg_eval_at': [5], 'boosting_type': 'gbdt', 'verbosity': -1, 'n_estimators': 500, 'early_stopping_round': 30, 'learning_rate': 0.043998916156264986, 'num_leaves': 198, 'min_child_samples': 82, 'min_child_weight': 3.335036303885393, 'colsample_bytree': 0.7371810705375883, 'subsample': 0.9243574705684505, 'reg_alpha': 0.06110235408390649, 'reg_lambda': 4.498503602238481}\n",
      "Training on fold 1\n"
     ]
    },
    {
     "name": "stderr",
     "output_type": "stream",
     "text": [
      "/Users/rik/.pyenv/versions/3.10.12/lib/python3.10/site-packages/lightgbm/sklearn.py:861: UserWarning: Found 'ndcg_eval_at' in params. Will use it instead of 'eval_at' argument\n",
      "  _log_warning(f\"Found '{alias}' in params. Will use it instead of 'eval_at' argument\")\n"
     ]
    },
    {
     "name": "stdout",
     "output_type": "stream",
     "text": [
      "[LightGBM] [Warning] Met categorical feature which contains sparse values. Consider renumbering to consecutive integers started from zero\n",
      "Training until validation scores don't improve for 50 rounds\n",
      "[250]\tvalid_0's ndcg@5: 0.401262\n",
      "Training on fold 2\n"
     ]
    },
    {
     "name": "stderr",
     "output_type": "stream",
     "text": [
      "/Users/rik/.pyenv/versions/3.10.12/lib/python3.10/site-packages/lightgbm/sklearn.py:861: UserWarning: Found 'ndcg_eval_at' in params. Will use it instead of 'eval_at' argument\n",
      "  _log_warning(f\"Found '{alias}' in params. Will use it instead of 'eval_at' argument\")\n"
     ]
    },
    {
     "name": "stdout",
     "output_type": "stream",
     "text": [
      "[LightGBM] [Warning] Met categorical feature which contains sparse values. Consider renumbering to consecutive integers started from zero\n",
      "Training until validation scores don't improve for 50 rounds\n",
      "Training on fold 3\n"
     ]
    },
    {
     "name": "stderr",
     "output_type": "stream",
     "text": [
      "/Users/rik/.pyenv/versions/3.10.12/lib/python3.10/site-packages/lightgbm/sklearn.py:861: UserWarning: Found 'ndcg_eval_at' in params. Will use it instead of 'eval_at' argument\n",
      "  _log_warning(f\"Found '{alias}' in params. Will use it instead of 'eval_at' argument\")\n"
     ]
    },
    {
     "name": "stdout",
     "output_type": "stream",
     "text": [
      "[LightGBM] [Warning] Met categorical feature which contains sparse values. Consider renumbering to consecutive integers started from zero\n",
      "Training until validation scores don't improve for 50 rounds\n",
      "[250]\tvalid_0's ndcg@5: 0.400401\n",
      "Training on fold 4\n"
     ]
    },
    {
     "name": "stderr",
     "output_type": "stream",
     "text": [
      "/Users/rik/.pyenv/versions/3.10.12/lib/python3.10/site-packages/lightgbm/sklearn.py:861: UserWarning: Found 'ndcg_eval_at' in params. Will use it instead of 'eval_at' argument\n",
      "  _log_warning(f\"Found '{alias}' in params. Will use it instead of 'eval_at' argument\")\n"
     ]
    },
    {
     "name": "stdout",
     "output_type": "stream",
     "text": [
      "[LightGBM] [Warning] Met categorical feature which contains sparse values. Consider renumbering to consecutive integers started from zero\n",
      "Training until validation scores don't improve for 50 rounds\n",
      "[250]\tvalid_0's ndcg@5: 0.403017\n",
      "Training on fold 5\n"
     ]
    },
    {
     "name": "stderr",
     "output_type": "stream",
     "text": [
      "/Users/rik/.pyenv/versions/3.10.12/lib/python3.10/site-packages/lightgbm/sklearn.py:861: UserWarning: Found 'ndcg_eval_at' in params. Will use it instead of 'eval_at' argument\n",
      "  _log_warning(f\"Found '{alias}' in params. Will use it instead of 'eval_at' argument\")\n"
     ]
    },
    {
     "name": "stdout",
     "output_type": "stream",
     "text": [
      "[LightGBM] [Warning] Met categorical feature which contains sparse values. Consider renumbering to consecutive integers started from zero\n",
      "Training until validation scores don't improve for 50 rounds\n",
      "[250]\tvalid_0's ndcg@5: 0.403648\n"
     ]
    },
    {
     "name": "stderr",
     "output_type": "stream",
     "text": [
      "[I 2025-05-15 21:29:34,201] Trial 35 finished with value: 0.4029320517854762 and parameters: {'learning_rate': 0.05324772985523692, 'num_leaves': 187, 'min_child_samples': 100, 'min_child_weight': 0.07899263014062982, 'colsample_bytree': 0.7680909363434515, 'subsample': 0.972497974008688, 'reg_alpha': 0.005871329017750601, 'reg_lambda': 5.864192807381555}. Best is trial 12 with value: 0.40457208870818606.\n"
     ]
    },
    {
     "name": "stdout",
     "output_type": "stream",
     "text": [
      "Best Mean Score for all folds: 0.4029320517854762, with params: {'objective': 'lambdarank', 'metric': 'ndcg', 'ndcg_eval_at': [5], 'boosting_type': 'gbdt', 'verbosity': -1, 'n_estimators': 500, 'early_stopping_round': 30, 'learning_rate': 0.05324772985523692, 'num_leaves': 187, 'min_child_samples': 100, 'min_child_weight': 0.07899263014062982, 'colsample_bytree': 0.7680909363434515, 'subsample': 0.972497974008688, 'reg_alpha': 0.005871329017750601, 'reg_lambda': 5.864192807381555}\n",
      "Training on fold 1\n"
     ]
    },
    {
     "name": "stderr",
     "output_type": "stream",
     "text": [
      "/Users/rik/.pyenv/versions/3.10.12/lib/python3.10/site-packages/lightgbm/sklearn.py:861: UserWarning: Found 'ndcg_eval_at' in params. Will use it instead of 'eval_at' argument\n",
      "  _log_warning(f\"Found '{alias}' in params. Will use it instead of 'eval_at' argument\")\n"
     ]
    },
    {
     "name": "stdout",
     "output_type": "stream",
     "text": [
      "Training until validation scores don't improve for 50 rounds\n",
      "Training on fold 2\n"
     ]
    },
    {
     "name": "stderr",
     "output_type": "stream",
     "text": [
      "/Users/rik/.pyenv/versions/3.10.12/lib/python3.10/site-packages/lightgbm/sklearn.py:861: UserWarning: Found 'ndcg_eval_at' in params. Will use it instead of 'eval_at' argument\n",
      "  _log_warning(f\"Found '{alias}' in params. Will use it instead of 'eval_at' argument\")\n"
     ]
    },
    {
     "name": "stdout",
     "output_type": "stream",
     "text": [
      "Training until validation scores don't improve for 50 rounds\n",
      "Training on fold 3\n"
     ]
    },
    {
     "name": "stderr",
     "output_type": "stream",
     "text": [
      "/Users/rik/.pyenv/versions/3.10.12/lib/python3.10/site-packages/lightgbm/sklearn.py:861: UserWarning: Found 'ndcg_eval_at' in params. Will use it instead of 'eval_at' argument\n",
      "  _log_warning(f\"Found '{alias}' in params. Will use it instead of 'eval_at' argument\")\n"
     ]
    },
    {
     "name": "stdout",
     "output_type": "stream",
     "text": [
      "[LightGBM] [Warning] Met categorical feature which contains sparse values. Consider renumbering to consecutive integers started from zero\n",
      "Training until validation scores don't improve for 50 rounds\n",
      "Training on fold 4\n"
     ]
    },
    {
     "name": "stderr",
     "output_type": "stream",
     "text": [
      "/Users/rik/.pyenv/versions/3.10.12/lib/python3.10/site-packages/lightgbm/sklearn.py:861: UserWarning: Found 'ndcg_eval_at' in params. Will use it instead of 'eval_at' argument\n",
      "  _log_warning(f\"Found '{alias}' in params. Will use it instead of 'eval_at' argument\")\n"
     ]
    },
    {
     "name": "stdout",
     "output_type": "stream",
     "text": [
      "[LightGBM] [Warning] Met categorical feature which contains sparse values. Consider renumbering to consecutive integers started from zero\n",
      "Training until validation scores don't improve for 50 rounds\n",
      "Training on fold 5\n"
     ]
    },
    {
     "name": "stderr",
     "output_type": "stream",
     "text": [
      "/Users/rik/.pyenv/versions/3.10.12/lib/python3.10/site-packages/lightgbm/sklearn.py:861: UserWarning: Found 'ndcg_eval_at' in params. Will use it instead of 'eval_at' argument\n",
      "  _log_warning(f\"Found '{alias}' in params. Will use it instead of 'eval_at' argument\")\n"
     ]
    },
    {
     "name": "stdout",
     "output_type": "stream",
     "text": [
      "[LightGBM] [Warning] Met categorical feature which contains sparse values. Consider renumbering to consecutive integers started from zero\n",
      "Training until validation scores don't improve for 50 rounds\n"
     ]
    },
    {
     "name": "stderr",
     "output_type": "stream",
     "text": [
      "[I 2025-05-15 21:32:36,731] Trial 36 finished with value: 0.39999644220843045 and parameters: {'learning_rate': 0.13682889113848237, 'num_leaves': 187, 'min_child_samples': 93, 'min_child_weight': 6.08183860665976, 'colsample_bytree': 0.8934286680874793, 'subsample': 0.8513931061977613, 'reg_alpha': 0.0028886357323524166, 'reg_lambda': 2.655003150377943}. Best is trial 12 with value: 0.40457208870818606.\n"
     ]
    },
    {
     "name": "stdout",
     "output_type": "stream",
     "text": [
      "Best Mean Score for all folds: 0.39999644220843045, with params: {'objective': 'lambdarank', 'metric': 'ndcg', 'ndcg_eval_at': [5], 'boosting_type': 'gbdt', 'verbosity': -1, 'n_estimators': 500, 'early_stopping_round': 30, 'learning_rate': 0.13682889113848237, 'num_leaves': 187, 'min_child_samples': 93, 'min_child_weight': 6.08183860665976, 'colsample_bytree': 0.8934286680874793, 'subsample': 0.8513931061977613, 'reg_alpha': 0.0028886357323524166, 'reg_lambda': 2.655003150377943}\n",
      "Training on fold 1\n"
     ]
    },
    {
     "name": "stderr",
     "output_type": "stream",
     "text": [
      "/Users/rik/.pyenv/versions/3.10.12/lib/python3.10/site-packages/lightgbm/sklearn.py:861: UserWarning: Found 'ndcg_eval_at' in params. Will use it instead of 'eval_at' argument\n",
      "  _log_warning(f\"Found '{alias}' in params. Will use it instead of 'eval_at' argument\")\n"
     ]
    },
    {
     "name": "stdout",
     "output_type": "stream",
     "text": [
      "[LightGBM] [Warning] Met categorical feature which contains sparse values. Consider renumbering to consecutive integers started from zero\n",
      "Training until validation scores don't improve for 50 rounds\n",
      "[250]\tvalid_0's ndcg@5: 0.398382\n",
      "Training on fold 2\n"
     ]
    },
    {
     "name": "stderr",
     "output_type": "stream",
     "text": [
      "/Users/rik/.pyenv/versions/3.10.12/lib/python3.10/site-packages/lightgbm/sklearn.py:861: UserWarning: Found 'ndcg_eval_at' in params. Will use it instead of 'eval_at' argument\n",
      "  _log_warning(f\"Found '{alias}' in params. Will use it instead of 'eval_at' argument\")\n"
     ]
    },
    {
     "name": "stdout",
     "output_type": "stream",
     "text": [
      "[LightGBM] [Warning] Met categorical feature which contains sparse values. Consider renumbering to consecutive integers started from zero\n",
      "Training until validation scores don't improve for 50 rounds\n",
      "[250]\tvalid_0's ndcg@5: 0.399368\n",
      "[500]\tvalid_0's ndcg@5: 0.403157\n",
      "Training on fold 3\n"
     ]
    },
    {
     "name": "stderr",
     "output_type": "stream",
     "text": [
      "/Users/rik/.pyenv/versions/3.10.12/lib/python3.10/site-packages/lightgbm/sklearn.py:861: UserWarning: Found 'ndcg_eval_at' in params. Will use it instead of 'eval_at' argument\n",
      "  _log_warning(f\"Found '{alias}' in params. Will use it instead of 'eval_at' argument\")\n"
     ]
    },
    {
     "name": "stdout",
     "output_type": "stream",
     "text": [
      "[LightGBM] [Warning] Met categorical feature which contains sparse values. Consider renumbering to consecutive integers started from zero\n",
      "Training until validation scores don't improve for 50 rounds\n",
      "[250]\tvalid_0's ndcg@5: 0.397497\n",
      "Training on fold 4\n"
     ]
    },
    {
     "name": "stderr",
     "output_type": "stream",
     "text": [
      "/Users/rik/.pyenv/versions/3.10.12/lib/python3.10/site-packages/lightgbm/sklearn.py:861: UserWarning: Found 'ndcg_eval_at' in params. Will use it instead of 'eval_at' argument\n",
      "  _log_warning(f\"Found '{alias}' in params. Will use it instead of 'eval_at' argument\")\n"
     ]
    },
    {
     "name": "stdout",
     "output_type": "stream",
     "text": [
      "[LightGBM] [Warning] Met categorical feature which contains sparse values. Consider renumbering to consecutive integers started from zero\n",
      "Training until validation scores don't improve for 50 rounds\n",
      "[250]\tvalid_0's ndcg@5: 0.400177\n",
      "Training on fold 5\n"
     ]
    },
    {
     "name": "stderr",
     "output_type": "stream",
     "text": [
      "/Users/rik/.pyenv/versions/3.10.12/lib/python3.10/site-packages/lightgbm/sklearn.py:861: UserWarning: Found 'ndcg_eval_at' in params. Will use it instead of 'eval_at' argument\n",
      "  _log_warning(f\"Found '{alias}' in params. Will use it instead of 'eval_at' argument\")\n"
     ]
    },
    {
     "name": "stdout",
     "output_type": "stream",
     "text": [
      "[LightGBM] [Warning] Met categorical feature which contains sparse values. Consider renumbering to consecutive integers started from zero\n",
      "Training until validation scores don't improve for 50 rounds\n",
      "[250]\tvalid_0's ndcg@5: 0.401113\n"
     ]
    },
    {
     "name": "stderr",
     "output_type": "stream",
     "text": [
      "[I 2025-05-15 21:40:08,919] Trial 37 finished with value: 0.403047729355008 and parameters: {'learning_rate': 0.04113217764782974, 'num_leaves': 109, 'min_child_samples': 55, 'min_child_weight': 0.020044610121815108, 'colsample_bytree': 0.7918704844026976, 'subsample': 0.8934971750767513, 'reg_alpha': 0.4536602511620391, 'reg_lambda': 6.237380870831964}. Best is trial 12 with value: 0.40457208870818606.\n"
     ]
    },
    {
     "name": "stdout",
     "output_type": "stream",
     "text": [
      "[500]\tvalid_0's ndcg@5: 0.405255\n",
      "Best Mean Score for all folds: 0.403047729355008, with params: {'objective': 'lambdarank', 'metric': 'ndcg', 'ndcg_eval_at': [5], 'boosting_type': 'gbdt', 'verbosity': -1, 'n_estimators': 500, 'early_stopping_round': 30, 'learning_rate': 0.04113217764782974, 'num_leaves': 109, 'min_child_samples': 55, 'min_child_weight': 0.020044610121815108, 'colsample_bytree': 0.7918704844026976, 'subsample': 0.8934971750767513, 'reg_alpha': 0.4536602511620391, 'reg_lambda': 6.237380870831964}\n",
      "Training on fold 1\n"
     ]
    },
    {
     "name": "stderr",
     "output_type": "stream",
     "text": [
      "/Users/rik/.pyenv/versions/3.10.12/lib/python3.10/site-packages/lightgbm/sklearn.py:861: UserWarning: Found 'ndcg_eval_at' in params. Will use it instead of 'eval_at' argument\n",
      "  _log_warning(f\"Found '{alias}' in params. Will use it instead of 'eval_at' argument\")\n"
     ]
    },
    {
     "name": "stdout",
     "output_type": "stream",
     "text": [
      "[LightGBM] [Warning] Met categorical feature which contains sparse values. Consider renumbering to consecutive integers started from zero\n",
      "Training until validation scores don't improve for 50 rounds\n",
      "[250]\tvalid_0's ndcg@5: 0.400691\n",
      "Training on fold 2\n"
     ]
    },
    {
     "name": "stderr",
     "output_type": "stream",
     "text": [
      "/Users/rik/.pyenv/versions/3.10.12/lib/python3.10/site-packages/lightgbm/sklearn.py:861: UserWarning: Found 'ndcg_eval_at' in params. Will use it instead of 'eval_at' argument\n",
      "  _log_warning(f\"Found '{alias}' in params. Will use it instead of 'eval_at' argument\")\n"
     ]
    },
    {
     "name": "stdout",
     "output_type": "stream",
     "text": [
      "Training until validation scores don't improve for 50 rounds\n",
      "[250]\tvalid_0's ndcg@5: 0.401286\n",
      "Training on fold 3\n"
     ]
    },
    {
     "name": "stderr",
     "output_type": "stream",
     "text": [
      "/Users/rik/.pyenv/versions/3.10.12/lib/python3.10/site-packages/lightgbm/sklearn.py:861: UserWarning: Found 'ndcg_eval_at' in params. Will use it instead of 'eval_at' argument\n",
      "  _log_warning(f\"Found '{alias}' in params. Will use it instead of 'eval_at' argument\")\n"
     ]
    },
    {
     "name": "stdout",
     "output_type": "stream",
     "text": [
      "Training until validation scores don't improve for 50 rounds\n",
      "[250]\tvalid_0's ndcg@5: 0.400748\n",
      "Training on fold 4\n"
     ]
    },
    {
     "name": "stderr",
     "output_type": "stream",
     "text": [
      "/Users/rik/.pyenv/versions/3.10.12/lib/python3.10/site-packages/lightgbm/sklearn.py:861: UserWarning: Found 'ndcg_eval_at' in params. Will use it instead of 'eval_at' argument\n",
      "  _log_warning(f\"Found '{alias}' in params. Will use it instead of 'eval_at' argument\")\n"
     ]
    },
    {
     "name": "stdout",
     "output_type": "stream",
     "text": [
      "[LightGBM] [Warning] Met categorical feature which contains sparse values. Consider renumbering to consecutive integers started from zero\n",
      "Training until validation scores don't improve for 50 rounds\n",
      "[250]\tvalid_0's ndcg@5: 0.402902\n",
      "Training on fold 5\n"
     ]
    },
    {
     "name": "stderr",
     "output_type": "stream",
     "text": [
      "/Users/rik/.pyenv/versions/3.10.12/lib/python3.10/site-packages/lightgbm/sklearn.py:861: UserWarning: Found 'ndcg_eval_at' in params. Will use it instead of 'eval_at' argument\n",
      "  _log_warning(f\"Found '{alias}' in params. Will use it instead of 'eval_at' argument\")\n"
     ]
    },
    {
     "name": "stdout",
     "output_type": "stream",
     "text": [
      "Training until validation scores don't improve for 50 rounds\n",
      "[250]\tvalid_0's ndcg@5: 0.404182\n"
     ]
    },
    {
     "name": "stderr",
     "output_type": "stream",
     "text": [
      "[I 2025-05-15 21:45:27,539] Trial 38 finished with value: 0.40255515473079784 and parameters: {'learning_rate': 0.06420561384806033, 'num_leaves': 160, 'min_child_samples': 45, 'min_child_weight': 1.151276625292529, 'colsample_bytree': 0.6989895641363102, 'subsample': 0.9755499074659055, 'reg_alpha': 0.027945308151979195, 'reg_lambda': 0.002519092221640135}. Best is trial 12 with value: 0.40457208870818606.\n"
     ]
    },
    {
     "name": "stdout",
     "output_type": "stream",
     "text": [
      "Best Mean Score for all folds: 0.40255515473079784, with params: {'objective': 'lambdarank', 'metric': 'ndcg', 'ndcg_eval_at': [5], 'boosting_type': 'gbdt', 'verbosity': -1, 'n_estimators': 500, 'early_stopping_round': 30, 'learning_rate': 0.06420561384806033, 'num_leaves': 160, 'min_child_samples': 45, 'min_child_weight': 1.151276625292529, 'colsample_bytree': 0.6989895641363102, 'subsample': 0.9755499074659055, 'reg_alpha': 0.027945308151979195, 'reg_lambda': 0.002519092221640135}\n",
      "Training on fold 1\n"
     ]
    },
    {
     "name": "stderr",
     "output_type": "stream",
     "text": [
      "/Users/rik/.pyenv/versions/3.10.12/lib/python3.10/site-packages/lightgbm/sklearn.py:861: UserWarning: Found 'ndcg_eval_at' in params. Will use it instead of 'eval_at' argument\n",
      "  _log_warning(f\"Found '{alias}' in params. Will use it instead of 'eval_at' argument\")\n"
     ]
    },
    {
     "name": "stdout",
     "output_type": "stream",
     "text": [
      "[LightGBM] [Warning] Met categorical feature which contains sparse values. Consider renumbering to consecutive integers started from zero\n",
      "Training until validation scores don't improve for 50 rounds\n",
      "[250]\tvalid_0's ndcg@5: 0.398798\n",
      "[500]\tvalid_0's ndcg@5: 0.402461\n",
      "Did not meet early stopping. Best iteration is:\n",
      "[500]\tvalid_0's ndcg@5: 0.402461\n",
      "Training on fold 2\n"
     ]
    },
    {
     "name": "stderr",
     "output_type": "stream",
     "text": [
      "/Users/rik/.pyenv/versions/3.10.12/lib/python3.10/site-packages/lightgbm/sklearn.py:861: UserWarning: Found 'ndcg_eval_at' in params. Will use it instead of 'eval_at' argument\n",
      "  _log_warning(f\"Found '{alias}' in params. Will use it instead of 'eval_at' argument\")\n"
     ]
    },
    {
     "name": "stdout",
     "output_type": "stream",
     "text": [
      "Training until validation scores don't improve for 50 rounds\n",
      "[250]\tvalid_0's ndcg@5: 0.399581\n",
      "Training on fold 3\n"
     ]
    },
    {
     "name": "stderr",
     "output_type": "stream",
     "text": [
      "/Users/rik/.pyenv/versions/3.10.12/lib/python3.10/site-packages/lightgbm/sklearn.py:861: UserWarning: Found 'ndcg_eval_at' in params. Will use it instead of 'eval_at' argument\n",
      "  _log_warning(f\"Found '{alias}' in params. Will use it instead of 'eval_at' argument\")\n"
     ]
    },
    {
     "name": "stdout",
     "output_type": "stream",
     "text": [
      "[LightGBM] [Warning] Met categorical feature which contains sparse values. Consider renumbering to consecutive integers started from zero\n",
      "Training until validation scores don't improve for 50 rounds\n",
      "[250]\tvalid_0's ndcg@5: 0.397879\n",
      "[500]\tvalid_0's ndcg@5: 0.401232\n",
      "Training on fold 4\n"
     ]
    },
    {
     "name": "stderr",
     "output_type": "stream",
     "text": [
      "/Users/rik/.pyenv/versions/3.10.12/lib/python3.10/site-packages/lightgbm/sklearn.py:861: UserWarning: Found 'ndcg_eval_at' in params. Will use it instead of 'eval_at' argument\n",
      "  _log_warning(f\"Found '{alias}' in params. Will use it instead of 'eval_at' argument\")\n"
     ]
    },
    {
     "name": "stdout",
     "output_type": "stream",
     "text": [
      "[LightGBM] [Warning] Met categorical feature which contains sparse values. Consider renumbering to consecutive integers started from zero\n",
      "Training until validation scores don't improve for 50 rounds\n",
      "[250]\tvalid_0's ndcg@5: 0.400298\n",
      "[500]\tvalid_0's ndcg@5: 0.404508\n",
      "Training on fold 5\n"
     ]
    },
    {
     "name": "stderr",
     "output_type": "stream",
     "text": [
      "/Users/rik/.pyenv/versions/3.10.12/lib/python3.10/site-packages/lightgbm/sklearn.py:861: UserWarning: Found 'ndcg_eval_at' in params. Will use it instead of 'eval_at' argument\n",
      "  _log_warning(f\"Found '{alias}' in params. Will use it instead of 'eval_at' argument\")\n"
     ]
    },
    {
     "name": "stdout",
     "output_type": "stream",
     "text": [
      "Training until validation scores don't improve for 50 rounds\n",
      "[250]\tvalid_0's ndcg@5: 0.401258\n"
     ]
    },
    {
     "name": "stderr",
     "output_type": "stream",
     "text": [
      "[I 2025-05-15 21:55:34,320] Trial 39 finished with value: 0.40342836071465465 and parameters: {'learning_rate': 0.027997050050125736, 'num_leaves': 168, 'min_child_samples': 70, 'min_child_weight': 7.2304948591638984, 'colsample_bytree': 0.5762998322208241, 'subsample': 0.9415380821978099, 'reg_alpha': 0.26947452030276153, 'reg_lambda': 1.8481052259225679}. Best is trial 12 with value: 0.40457208870818606.\n"
     ]
    },
    {
     "name": "stdout",
     "output_type": "stream",
     "text": [
      "[500]\tvalid_0's ndcg@5: 0.405257\n",
      "Best Mean Score for all folds: 0.40342836071465465, with params: {'objective': 'lambdarank', 'metric': 'ndcg', 'ndcg_eval_at': [5], 'boosting_type': 'gbdt', 'verbosity': -1, 'n_estimators': 500, 'early_stopping_round': 30, 'learning_rate': 0.027997050050125736, 'num_leaves': 168, 'min_child_samples': 70, 'min_child_weight': 7.2304948591638984, 'colsample_bytree': 0.5762998322208241, 'subsample': 0.9415380821978099, 'reg_alpha': 0.26947452030276153, 'reg_lambda': 1.8481052259225679}\n",
      "Training on fold 1\n"
     ]
    },
    {
     "name": "stderr",
     "output_type": "stream",
     "text": [
      "/Users/rik/.pyenv/versions/3.10.12/lib/python3.10/site-packages/lightgbm/sklearn.py:861: UserWarning: Found 'ndcg_eval_at' in params. Will use it instead of 'eval_at' argument\n",
      "  _log_warning(f\"Found '{alias}' in params. Will use it instead of 'eval_at' argument\")\n"
     ]
    },
    {
     "name": "stdout",
     "output_type": "stream",
     "text": [
      "Training until validation scores don't improve for 50 rounds\n",
      "Training on fold 2\n"
     ]
    },
    {
     "name": "stderr",
     "output_type": "stream",
     "text": [
      "/Users/rik/.pyenv/versions/3.10.12/lib/python3.10/site-packages/lightgbm/sklearn.py:861: UserWarning: Found 'ndcg_eval_at' in params. Will use it instead of 'eval_at' argument\n",
      "  _log_warning(f\"Found '{alias}' in params. Will use it instead of 'eval_at' argument\")\n"
     ]
    },
    {
     "name": "stdout",
     "output_type": "stream",
     "text": [
      "Training until validation scores don't improve for 50 rounds\n",
      "[250]\tvalid_0's ndcg@5: 0.401287\n",
      "Training on fold 3\n"
     ]
    },
    {
     "name": "stderr",
     "output_type": "stream",
     "text": [
      "/Users/rik/.pyenv/versions/3.10.12/lib/python3.10/site-packages/lightgbm/sklearn.py:861: UserWarning: Found 'ndcg_eval_at' in params. Will use it instead of 'eval_at' argument\n",
      "  _log_warning(f\"Found '{alias}' in params. Will use it instead of 'eval_at' argument\")\n"
     ]
    },
    {
     "name": "stdout",
     "output_type": "stream",
     "text": [
      "[LightGBM] [Warning] Met categorical feature which contains sparse values. Consider renumbering to consecutive integers started from zero\n",
      "Training until validation scores don't improve for 50 rounds\n",
      "Training on fold 4\n"
     ]
    },
    {
     "name": "stderr",
     "output_type": "stream",
     "text": [
      "/Users/rik/.pyenv/versions/3.10.12/lib/python3.10/site-packages/lightgbm/sklearn.py:861: UserWarning: Found 'ndcg_eval_at' in params. Will use it instead of 'eval_at' argument\n",
      "  _log_warning(f\"Found '{alias}' in params. Will use it instead of 'eval_at' argument\")\n"
     ]
    },
    {
     "name": "stdout",
     "output_type": "stream",
     "text": [
      "[LightGBM] [Warning] Met categorical feature which contains sparse values. Consider renumbering to consecutive integers started from zero\n",
      "Training until validation scores don't improve for 50 rounds\n",
      "[250]\tvalid_0's ndcg@5: 0.403567\n",
      "Training on fold 5\n"
     ]
    },
    {
     "name": "stderr",
     "output_type": "stream",
     "text": [
      "/Users/rik/.pyenv/versions/3.10.12/lib/python3.10/site-packages/lightgbm/sklearn.py:861: UserWarning: Found 'ndcg_eval_at' in params. Will use it instead of 'eval_at' argument\n",
      "  _log_warning(f\"Found '{alias}' in params. Will use it instead of 'eval_at' argument\")\n"
     ]
    },
    {
     "name": "stdout",
     "output_type": "stream",
     "text": [
      "Training until validation scores don't improve for 50 rounds\n",
      "[250]\tvalid_0's ndcg@5: 0.403604\n"
     ]
    },
    {
     "name": "stderr",
     "output_type": "stream",
     "text": [
      "[I 2025-05-15 21:59:50,346] Trial 40 finished with value: 0.402042596746054 and parameters: {'learning_rate': 0.09333145104649668, 'num_leaves': 137, 'min_child_samples': 84, 'min_child_weight': 0.38641059889226, 'colsample_bytree': 0.62457021288873, 'subsample': 0.9107335130068208, 'reg_alpha': 0.07427040723093328, 'reg_lambda': 1.0231247718115815}. Best is trial 12 with value: 0.40457208870818606.\n"
     ]
    },
    {
     "name": "stdout",
     "output_type": "stream",
     "text": [
      "Best Mean Score for all folds: 0.402042596746054, with params: {'objective': 'lambdarank', 'metric': 'ndcg', 'ndcg_eval_at': [5], 'boosting_type': 'gbdt', 'verbosity': -1, 'n_estimators': 500, 'early_stopping_round': 30, 'learning_rate': 0.09333145104649668, 'num_leaves': 137, 'min_child_samples': 84, 'min_child_weight': 0.38641059889226, 'colsample_bytree': 0.62457021288873, 'subsample': 0.9107335130068208, 'reg_alpha': 0.07427040723093328, 'reg_lambda': 1.0231247718115815}\n",
      "Training on fold 1\n"
     ]
    },
    {
     "name": "stderr",
     "output_type": "stream",
     "text": [
      "/Users/rik/.pyenv/versions/3.10.12/lib/python3.10/site-packages/lightgbm/sklearn.py:861: UserWarning: Found 'ndcg_eval_at' in params. Will use it instead of 'eval_at' argument\n",
      "  _log_warning(f\"Found '{alias}' in params. Will use it instead of 'eval_at' argument\")\n"
     ]
    },
    {
     "name": "stdout",
     "output_type": "stream",
     "text": [
      "[LightGBM] [Warning] Met categorical feature which contains sparse values. Consider renumbering to consecutive integers started from zero\n",
      "Training until validation scores don't improve for 50 rounds\n",
      "[250]\tvalid_0's ndcg@5: 0.399471\n",
      "Training on fold 2\n"
     ]
    },
    {
     "name": "stderr",
     "output_type": "stream",
     "text": [
      "/Users/rik/.pyenv/versions/3.10.12/lib/python3.10/site-packages/lightgbm/sklearn.py:861: UserWarning: Found 'ndcg_eval_at' in params. Will use it instead of 'eval_at' argument\n",
      "  _log_warning(f\"Found '{alias}' in params. Will use it instead of 'eval_at' argument\")\n"
     ]
    },
    {
     "name": "stdout",
     "output_type": "stream",
     "text": [
      "Training until validation scores don't improve for 50 rounds\n",
      "[250]\tvalid_0's ndcg@5: 0.400487\n",
      "Training on fold 3\n"
     ]
    },
    {
     "name": "stderr",
     "output_type": "stream",
     "text": [
      "/Users/rik/.pyenv/versions/3.10.12/lib/python3.10/site-packages/lightgbm/sklearn.py:861: UserWarning: Found 'ndcg_eval_at' in params. Will use it instead of 'eval_at' argument\n",
      "  _log_warning(f\"Found '{alias}' in params. Will use it instead of 'eval_at' argument\")\n"
     ]
    },
    {
     "name": "stdout",
     "output_type": "stream",
     "text": [
      "[LightGBM] [Warning] Met categorical feature which contains sparse values. Consider renumbering to consecutive integers started from zero\n",
      "Training until validation scores don't improve for 50 rounds\n",
      "[250]\tvalid_0's ndcg@5: 0.399361\n",
      "Training on fold 4\n"
     ]
    },
    {
     "name": "stderr",
     "output_type": "stream",
     "text": [
      "/Users/rik/.pyenv/versions/3.10.12/lib/python3.10/site-packages/lightgbm/sklearn.py:861: UserWarning: Found 'ndcg_eval_at' in params. Will use it instead of 'eval_at' argument\n",
      "  _log_warning(f\"Found '{alias}' in params. Will use it instead of 'eval_at' argument\")\n"
     ]
    },
    {
     "name": "stdout",
     "output_type": "stream",
     "text": [
      "Training until validation scores don't improve for 50 rounds\n",
      "[250]\tvalid_0's ndcg@5: 0.401075\n",
      "Training on fold 5\n"
     ]
    },
    {
     "name": "stderr",
     "output_type": "stream",
     "text": [
      "/Users/rik/.pyenv/versions/3.10.12/lib/python3.10/site-packages/lightgbm/sklearn.py:861: UserWarning: Found 'ndcg_eval_at' in params. Will use it instead of 'eval_at' argument\n",
      "  _log_warning(f\"Found '{alias}' in params. Will use it instead of 'eval_at' argument\")\n"
     ]
    },
    {
     "name": "stdout",
     "output_type": "stream",
     "text": [
      "[LightGBM] [Warning] Met categorical feature which contains sparse values. Consider renumbering to consecutive integers started from zero\n",
      "Training until validation scores don't improve for 50 rounds\n",
      "[250]\tvalid_0's ndcg@5: 0.401826\n"
     ]
    },
    {
     "name": "stderr",
     "output_type": "stream",
     "text": [
      "[I 2025-05-15 22:06:59,362] Trial 41 finished with value: 0.4026830207636598 and parameters: {'learning_rate': 0.035981849911466975, 'num_leaves': 153, 'min_child_samples': 87, 'min_child_weight': 4.078151830619057, 'colsample_bytree': 0.6557047523254497, 'subsample': 0.9990843048436024, 'reg_alpha': 0.007578390983871997, 'reg_lambda': 3.470357795457901}. Best is trial 12 with value: 0.40457208870818606.\n"
     ]
    },
    {
     "name": "stdout",
     "output_type": "stream",
     "text": [
      "Best Mean Score for all folds: 0.4026830207636598, with params: {'objective': 'lambdarank', 'metric': 'ndcg', 'ndcg_eval_at': [5], 'boosting_type': 'gbdt', 'verbosity': -1, 'n_estimators': 500, 'early_stopping_round': 30, 'learning_rate': 0.035981849911466975, 'num_leaves': 153, 'min_child_samples': 87, 'min_child_weight': 4.078151830619057, 'colsample_bytree': 0.6557047523254497, 'subsample': 0.9990843048436024, 'reg_alpha': 0.007578390983871997, 'reg_lambda': 3.470357795457901}\n",
      "Training on fold 1\n"
     ]
    },
    {
     "name": "stderr",
     "output_type": "stream",
     "text": [
      "/Users/rik/.pyenv/versions/3.10.12/lib/python3.10/site-packages/lightgbm/sklearn.py:861: UserWarning: Found 'ndcg_eval_at' in params. Will use it instead of 'eval_at' argument\n",
      "  _log_warning(f\"Found '{alias}' in params. Will use it instead of 'eval_at' argument\")\n"
     ]
    },
    {
     "name": "stdout",
     "output_type": "stream",
     "text": [
      "[LightGBM] [Warning] Met categorical feature which contains sparse values. Consider renumbering to consecutive integers started from zero\n",
      "Training until validation scores don't improve for 50 rounds\n",
      "[250]\tvalid_0's ndcg@5: 0.397729\n",
      "[500]\tvalid_0's ndcg@5: 0.402567\n",
      "Training on fold 2\n"
     ]
    },
    {
     "name": "stderr",
     "output_type": "stream",
     "text": [
      "/Users/rik/.pyenv/versions/3.10.12/lib/python3.10/site-packages/lightgbm/sklearn.py:861: UserWarning: Found 'ndcg_eval_at' in params. Will use it instead of 'eval_at' argument\n",
      "  _log_warning(f\"Found '{alias}' in params. Will use it instead of 'eval_at' argument\")\n"
     ]
    },
    {
     "name": "stdout",
     "output_type": "stream",
     "text": [
      "[LightGBM] [Warning] Met categorical feature which contains sparse values. Consider renumbering to consecutive integers started from zero\n",
      "Training until validation scores don't improve for 50 rounds\n",
      "[250]\tvalid_0's ndcg@5: 0.399416\n",
      "[500]\tvalid_0's ndcg@5: 0.403471\n",
      "Training on fold 3\n"
     ]
    },
    {
     "name": "stderr",
     "output_type": "stream",
     "text": [
      "/Users/rik/.pyenv/versions/3.10.12/lib/python3.10/site-packages/lightgbm/sklearn.py:861: UserWarning: Found 'ndcg_eval_at' in params. Will use it instead of 'eval_at' argument\n",
      "  _log_warning(f\"Found '{alias}' in params. Will use it instead of 'eval_at' argument\")\n"
     ]
    },
    {
     "name": "stdout",
     "output_type": "stream",
     "text": [
      "[LightGBM] [Warning] Met categorical feature which contains sparse values. Consider renumbering to consecutive integers started from zero\n",
      "Training until validation scores don't improve for 50 rounds\n",
      "[250]\tvalid_0's ndcg@5: 0.398109\n",
      "Training on fold 4\n"
     ]
    },
    {
     "name": "stderr",
     "output_type": "stream",
     "text": [
      "/Users/rik/.pyenv/versions/3.10.12/lib/python3.10/site-packages/lightgbm/sklearn.py:861: UserWarning: Found 'ndcg_eval_at' in params. Will use it instead of 'eval_at' argument\n",
      "  _log_warning(f\"Found '{alias}' in params. Will use it instead of 'eval_at' argument\")\n"
     ]
    },
    {
     "name": "stdout",
     "output_type": "stream",
     "text": [
      "[LightGBM] [Warning] Met categorical feature which contains sparse values. Consider renumbering to consecutive integers started from zero\n",
      "Training until validation scores don't improve for 50 rounds\n",
      "[250]\tvalid_0's ndcg@5: 0.400588\n",
      "[500]\tvalid_0's ndcg@5: 0.405087\n",
      "Did not meet early stopping. Best iteration is:\n",
      "[500]\tvalid_0's ndcg@5: 0.405087\n",
      "Training on fold 5\n"
     ]
    },
    {
     "name": "stderr",
     "output_type": "stream",
     "text": [
      "/Users/rik/.pyenv/versions/3.10.12/lib/python3.10/site-packages/lightgbm/sklearn.py:861: UserWarning: Found 'ndcg_eval_at' in params. Will use it instead of 'eval_at' argument\n",
      "  _log_warning(f\"Found '{alias}' in params. Will use it instead of 'eval_at' argument\")\n"
     ]
    },
    {
     "name": "stdout",
     "output_type": "stream",
     "text": [
      "[LightGBM] [Warning] Met categorical feature which contains sparse values. Consider renumbering to consecutive integers started from zero\n",
      "Training until validation scores don't improve for 50 rounds\n",
      "[250]\tvalid_0's ndcg@5: 0.401178\n"
     ]
    },
    {
     "name": "stderr",
     "output_type": "stream",
     "text": [
      "[I 2025-05-15 22:15:07,983] Trial 42 finished with value: 0.4037166896888899 and parameters: {'learning_rate': 0.037992288208062316, 'num_leaves': 117, 'min_child_samples': 95, 'min_child_weight': 2.483565764375647, 'colsample_bytree': 0.6695450862236724, 'subsample': 0.979560741925973, 'reg_alpha': 0.014967322930987422, 'reg_lambda': 6.112591731565729}. Best is trial 12 with value: 0.40457208870818606.\n"
     ]
    },
    {
     "name": "stdout",
     "output_type": "stream",
     "text": [
      "[500]\tvalid_0's ndcg@5: 0.405756\n",
      "Did not meet early stopping. Best iteration is:\n",
      "[493]\tvalid_0's ndcg@5: 0.405941\n",
      "Best Mean Score for all folds: 0.4037166896888899, with params: {'objective': 'lambdarank', 'metric': 'ndcg', 'ndcg_eval_at': [5], 'boosting_type': 'gbdt', 'verbosity': -1, 'n_estimators': 500, 'early_stopping_round': 30, 'learning_rate': 0.037992288208062316, 'num_leaves': 117, 'min_child_samples': 95, 'min_child_weight': 2.483565764375647, 'colsample_bytree': 0.6695450862236724, 'subsample': 0.979560741925973, 'reg_alpha': 0.014967322930987422, 'reg_lambda': 6.112591731565729}\n",
      "Training on fold 1\n"
     ]
    },
    {
     "name": "stderr",
     "output_type": "stream",
     "text": [
      "/Users/rik/.pyenv/versions/3.10.12/lib/python3.10/site-packages/lightgbm/sklearn.py:861: UserWarning: Found 'ndcg_eval_at' in params. Will use it instead of 'eval_at' argument\n",
      "  _log_warning(f\"Found '{alias}' in params. Will use it instead of 'eval_at' argument\")\n"
     ]
    },
    {
     "name": "stdout",
     "output_type": "stream",
     "text": [
      "Training until validation scores don't improve for 50 rounds\n",
      "[250]\tvalid_0's ndcg@5: 0.40041\n",
      "[500]\tvalid_0's ndcg@5: 0.402996\n",
      "Training on fold 2\n"
     ]
    },
    {
     "name": "stderr",
     "output_type": "stream",
     "text": [
      "/Users/rik/.pyenv/versions/3.10.12/lib/python3.10/site-packages/lightgbm/sklearn.py:861: UserWarning: Found 'ndcg_eval_at' in params. Will use it instead of 'eval_at' argument\n",
      "  _log_warning(f\"Found '{alias}' in params. Will use it instead of 'eval_at' argument\")\n"
     ]
    },
    {
     "name": "stdout",
     "output_type": "stream",
     "text": [
      "Training until validation scores don't improve for 50 rounds\n",
      "[250]\tvalid_0's ndcg@5: 0.401893\n",
      "Training on fold 3\n"
     ]
    },
    {
     "name": "stderr",
     "output_type": "stream",
     "text": [
      "/Users/rik/.pyenv/versions/3.10.12/lib/python3.10/site-packages/lightgbm/sklearn.py:861: UserWarning: Found 'ndcg_eval_at' in params. Will use it instead of 'eval_at' argument\n",
      "  _log_warning(f\"Found '{alias}' in params. Will use it instead of 'eval_at' argument\")\n"
     ]
    },
    {
     "name": "stdout",
     "output_type": "stream",
     "text": [
      "[LightGBM] [Warning] Met categorical feature which contains sparse values. Consider renumbering to consecutive integers started from zero\n",
      "Training until validation scores don't improve for 50 rounds\n",
      "[250]\tvalid_0's ndcg@5: 0.399896\n",
      "Training on fold 4\n"
     ]
    },
    {
     "name": "stderr",
     "output_type": "stream",
     "text": [
      "/Users/rik/.pyenv/versions/3.10.12/lib/python3.10/site-packages/lightgbm/sklearn.py:861: UserWarning: Found 'ndcg_eval_at' in params. Will use it instead of 'eval_at' argument\n",
      "  _log_warning(f\"Found '{alias}' in params. Will use it instead of 'eval_at' argument\")\n"
     ]
    },
    {
     "name": "stdout",
     "output_type": "stream",
     "text": [
      "[LightGBM] [Warning] Met categorical feature which contains sparse values. Consider renumbering to consecutive integers started from zero\n",
      "Training until validation scores don't improve for 50 rounds\n",
      "[250]\tvalid_0's ndcg@5: 0.401269\n",
      "Training on fold 5\n"
     ]
    },
    {
     "name": "stderr",
     "output_type": "stream",
     "text": [
      "/Users/rik/.pyenv/versions/3.10.12/lib/python3.10/site-packages/lightgbm/sklearn.py:861: UserWarning: Found 'ndcg_eval_at' in params. Will use it instead of 'eval_at' argument\n",
      "  _log_warning(f\"Found '{alias}' in params. Will use it instead of 'eval_at' argument\")\n"
     ]
    },
    {
     "name": "stdout",
     "output_type": "stream",
     "text": [
      "Training until validation scores don't improve for 50 rounds\n",
      "[250]\tvalid_0's ndcg@5: 0.402558\n"
     ]
    },
    {
     "name": "stderr",
     "output_type": "stream",
     "text": [
      "[I 2025-05-15 22:21:54,777] Trial 43 finished with value: 0.40380352505939676 and parameters: {'learning_rate': 0.053668266578211915, 'num_leaves': 116, 'min_child_samples': 94, 'min_child_weight': 2.2961513069055295, 'colsample_bytree': 0.7423316365184125, 'subsample': 0.9513730724351823, 'reg_alpha': 0.02135630278067279, 'reg_lambda': 9.21487454429653}. Best is trial 12 with value: 0.40457208870818606.\n"
     ]
    },
    {
     "name": "stdout",
     "output_type": "stream",
     "text": [
      "[500]\tvalid_0's ndcg@5: 0.405751\n",
      "Did not meet early stopping. Best iteration is:\n",
      "[471]\tvalid_0's ndcg@5: 0.406515\n",
      "Best Mean Score for all folds: 0.40380352505939676, with params: {'objective': 'lambdarank', 'metric': 'ndcg', 'ndcg_eval_at': [5], 'boosting_type': 'gbdt', 'verbosity': -1, 'n_estimators': 500, 'early_stopping_round': 30, 'learning_rate': 0.053668266578211915, 'num_leaves': 116, 'min_child_samples': 94, 'min_child_weight': 2.2961513069055295, 'colsample_bytree': 0.7423316365184125, 'subsample': 0.9513730724351823, 'reg_alpha': 0.02135630278067279, 'reg_lambda': 9.21487454429653}\n",
      "Training on fold 1\n"
     ]
    },
    {
     "name": "stderr",
     "output_type": "stream",
     "text": [
      "/Users/rik/.pyenv/versions/3.10.12/lib/python3.10/site-packages/lightgbm/sklearn.py:861: UserWarning: Found 'ndcg_eval_at' in params. Will use it instead of 'eval_at' argument\n",
      "  _log_warning(f\"Found '{alias}' in params. Will use it instead of 'eval_at' argument\")\n"
     ]
    },
    {
     "name": "stdout",
     "output_type": "stream",
     "text": [
      "Training until validation scores don't improve for 50 rounds\n",
      "[250]\tvalid_0's ndcg@5: 0.399134\n",
      "[500]\tvalid_0's ndcg@5: 0.402928\n",
      "Training on fold 2\n"
     ]
    },
    {
     "name": "stderr",
     "output_type": "stream",
     "text": [
      "/Users/rik/.pyenv/versions/3.10.12/lib/python3.10/site-packages/lightgbm/sklearn.py:861: UserWarning: Found 'ndcg_eval_at' in params. Will use it instead of 'eval_at' argument\n",
      "  _log_warning(f\"Found '{alias}' in params. Will use it instead of 'eval_at' argument\")\n"
     ]
    },
    {
     "name": "stdout",
     "output_type": "stream",
     "text": [
      "Training until validation scores don't improve for 50 rounds\n",
      "[250]\tvalid_0's ndcg@5: 0.400976\n",
      "Training on fold 3\n"
     ]
    },
    {
     "name": "stderr",
     "output_type": "stream",
     "text": [
      "/Users/rik/.pyenv/versions/3.10.12/lib/python3.10/site-packages/lightgbm/sklearn.py:861: UserWarning: Found 'ndcg_eval_at' in params. Will use it instead of 'eval_at' argument\n",
      "  _log_warning(f\"Found '{alias}' in params. Will use it instead of 'eval_at' argument\")\n"
     ]
    },
    {
     "name": "stdout",
     "output_type": "stream",
     "text": [
      "[LightGBM] [Warning] Met categorical feature which contains sparse values. Consider renumbering to consecutive integers started from zero\n",
      "Training until validation scores don't improve for 50 rounds\n",
      "[250]\tvalid_0's ndcg@5: 0.398787\n",
      "Training on fold 4\n"
     ]
    },
    {
     "name": "stderr",
     "output_type": "stream",
     "text": [
      "/Users/rik/.pyenv/versions/3.10.12/lib/python3.10/site-packages/lightgbm/sklearn.py:861: UserWarning: Found 'ndcg_eval_at' in params. Will use it instead of 'eval_at' argument\n",
      "  _log_warning(f\"Found '{alias}' in params. Will use it instead of 'eval_at' argument\")\n"
     ]
    },
    {
     "name": "stdout",
     "output_type": "stream",
     "text": [
      "[LightGBM] [Warning] Met categorical feature which contains sparse values. Consider renumbering to consecutive integers started from zero\n",
      "Training until validation scores don't improve for 50 rounds\n",
      "[250]\tvalid_0's ndcg@5: 0.400705\n",
      "Training on fold 5\n"
     ]
    },
    {
     "name": "stderr",
     "output_type": "stream",
     "text": [
      "/Users/rik/.pyenv/versions/3.10.12/lib/python3.10/site-packages/lightgbm/sklearn.py:861: UserWarning: Found 'ndcg_eval_at' in params. Will use it instead of 'eval_at' argument\n",
      "  _log_warning(f\"Found '{alias}' in params. Will use it instead of 'eval_at' argument\")\n"
     ]
    },
    {
     "name": "stdout",
     "output_type": "stream",
     "text": [
      "[LightGBM] [Warning] Met categorical feature which contains sparse values. Consider renumbering to consecutive integers started from zero\n",
      "Training until validation scores don't improve for 50 rounds\n",
      "[250]\tvalid_0's ndcg@5: 0.402797\n"
     ]
    },
    {
     "name": "stderr",
     "output_type": "stream",
     "text": [
      "[I 2025-05-15 22:28:39,309] Trial 44 finished with value: 0.4036863516060274 and parameters: {'learning_rate': 0.05321951651054681, 'num_leaves': 99, 'min_child_samples': 96, 'min_child_weight': 1.7275254766897639, 'colsample_bytree': 0.7506226174813649, 'subsample': 0.9392148424946936, 'reg_alpha': 0.030728270359789627, 'reg_lambda': 7.182606399717906}. Best is trial 12 with value: 0.40457208870818606.\n"
     ]
    },
    {
     "name": "stdout",
     "output_type": "stream",
     "text": [
      "[500]\tvalid_0's ndcg@5: 0.405919\n",
      "Did not meet early stopping. Best iteration is:\n",
      "[471]\tvalid_0's ndcg@5: 0.405975\n",
      "Best Mean Score for all folds: 0.4036863516060274, with params: {'objective': 'lambdarank', 'metric': 'ndcg', 'ndcg_eval_at': [5], 'boosting_type': 'gbdt', 'verbosity': -1, 'n_estimators': 500, 'early_stopping_round': 30, 'learning_rate': 0.05321951651054681, 'num_leaves': 99, 'min_child_samples': 96, 'min_child_weight': 1.7275254766897639, 'colsample_bytree': 0.7506226174813649, 'subsample': 0.9392148424946936, 'reg_alpha': 0.030728270359789627, 'reg_lambda': 7.182606399717906}\n",
      "Training on fold 1\n"
     ]
    },
    {
     "name": "stderr",
     "output_type": "stream",
     "text": [
      "/Users/rik/.pyenv/versions/3.10.12/lib/python3.10/site-packages/lightgbm/sklearn.py:861: UserWarning: Found 'ndcg_eval_at' in params. Will use it instead of 'eval_at' argument\n",
      "  _log_warning(f\"Found '{alias}' in params. Will use it instead of 'eval_at' argument\")\n"
     ]
    },
    {
     "name": "stdout",
     "output_type": "stream",
     "text": [
      "[LightGBM] [Warning] Met categorical feature which contains sparse values. Consider renumbering to consecutive integers started from zero\n",
      "Training until validation scores don't improve for 50 rounds\n",
      "[250]\tvalid_0's ndcg@5: 0.396588\n",
      "Training on fold 2\n"
     ]
    },
    {
     "name": "stderr",
     "output_type": "stream",
     "text": [
      "/Users/rik/.pyenv/versions/3.10.12/lib/python3.10/site-packages/lightgbm/sklearn.py:861: UserWarning: Found 'ndcg_eval_at' in params. Will use it instead of 'eval_at' argument\n",
      "  _log_warning(f\"Found '{alias}' in params. Will use it instead of 'eval_at' argument\")\n"
     ]
    },
    {
     "name": "stdout",
     "output_type": "stream",
     "text": [
      "Training until validation scores don't improve for 50 rounds\n",
      "[250]\tvalid_0's ndcg@5: 0.397339\n",
      "Training on fold 3\n"
     ]
    },
    {
     "name": "stderr",
     "output_type": "stream",
     "text": [
      "/Users/rik/.pyenv/versions/3.10.12/lib/python3.10/site-packages/lightgbm/sklearn.py:861: UserWarning: Found 'ndcg_eval_at' in params. Will use it instead of 'eval_at' argument\n",
      "  _log_warning(f\"Found '{alias}' in params. Will use it instead of 'eval_at' argument\")\n"
     ]
    },
    {
     "name": "stdout",
     "output_type": "stream",
     "text": [
      "[LightGBM] [Warning] Met categorical feature which contains sparse values. Consider renumbering to consecutive integers started from zero\n",
      "Training until validation scores don't improve for 50 rounds\n",
      "[250]\tvalid_0's ndcg@5: 0.396793\n",
      "Training on fold 4\n"
     ]
    },
    {
     "name": "stderr",
     "output_type": "stream",
     "text": [
      "/Users/rik/.pyenv/versions/3.10.12/lib/python3.10/site-packages/lightgbm/sklearn.py:861: UserWarning: Found 'ndcg_eval_at' in params. Will use it instead of 'eval_at' argument\n",
      "  _log_warning(f\"Found '{alias}' in params. Will use it instead of 'eval_at' argument\")\n"
     ]
    },
    {
     "name": "stdout",
     "output_type": "stream",
     "text": [
      "[LightGBM] [Warning] Met categorical feature which contains sparse values. Consider renumbering to consecutive integers started from zero\n",
      "Training until validation scores don't improve for 50 rounds\n",
      "[250]\tvalid_0's ndcg@5: 0.398499\n",
      "Training on fold 5\n"
     ]
    },
    {
     "name": "stderr",
     "output_type": "stream",
     "text": [
      "/Users/rik/.pyenv/versions/3.10.12/lib/python3.10/site-packages/lightgbm/sklearn.py:861: UserWarning: Found 'ndcg_eval_at' in params. Will use it instead of 'eval_at' argument\n",
      "  _log_warning(f\"Found '{alias}' in params. Will use it instead of 'eval_at' argument\")\n"
     ]
    },
    {
     "name": "stdout",
     "output_type": "stream",
     "text": [
      "[LightGBM] [Warning] Met categorical feature which contains sparse values. Consider renumbering to consecutive integers started from zero\n",
      "Training until validation scores don't improve for 50 rounds\n",
      "[250]\tvalid_0's ndcg@5: 0.400469\n"
     ]
    },
    {
     "name": "stderr",
     "output_type": "stream",
     "text": [
      "[I 2025-05-15 22:31:56,598] Trial 45 finished with value: 0.399205996624829 and parameters: {'learning_rate': 0.1498869693927751, 'num_leaves': 22, 'min_child_samples': 11, 'min_child_weight': 3.3756734282486005, 'colsample_bytree': 0.7803279565624026, 'subsample': 0.9529968025082491, 'reg_alpha': 0.005491435361065212, 'reg_lambda': 2.187557845042581}. Best is trial 12 with value: 0.40457208870818606.\n"
     ]
    },
    {
     "name": "stdout",
     "output_type": "stream",
     "text": [
      "Best Mean Score for all folds: 0.399205996624829, with params: {'objective': 'lambdarank', 'metric': 'ndcg', 'ndcg_eval_at': [5], 'boosting_type': 'gbdt', 'verbosity': -1, 'n_estimators': 500, 'early_stopping_round': 30, 'learning_rate': 0.1498869693927751, 'num_leaves': 22, 'min_child_samples': 11, 'min_child_weight': 3.3756734282486005, 'colsample_bytree': 0.7803279565624026, 'subsample': 0.9529968025082491, 'reg_alpha': 0.005491435361065212, 'reg_lambda': 2.187557845042581}\n",
      "Training on fold 1\n"
     ]
    },
    {
     "name": "stderr",
     "output_type": "stream",
     "text": [
      "/Users/rik/.pyenv/versions/3.10.12/lib/python3.10/site-packages/lightgbm/sklearn.py:861: UserWarning: Found 'ndcg_eval_at' in params. Will use it instead of 'eval_at' argument\n",
      "  _log_warning(f\"Found '{alias}' in params. Will use it instead of 'eval_at' argument\")\n"
     ]
    },
    {
     "name": "stdout",
     "output_type": "stream",
     "text": [
      "Training until validation scores don't improve for 50 rounds\n",
      "[250]\tvalid_0's ndcg@5: 0.39529\n",
      "[500]\tvalid_0's ndcg@5: 0.400937\n",
      "Training on fold 2\n"
     ]
    },
    {
     "name": "stderr",
     "output_type": "stream",
     "text": [
      "/Users/rik/.pyenv/versions/3.10.12/lib/python3.10/site-packages/lightgbm/sklearn.py:861: UserWarning: Found 'ndcg_eval_at' in params. Will use it instead of 'eval_at' argument\n",
      "  _log_warning(f\"Found '{alias}' in params. Will use it instead of 'eval_at' argument\")\n"
     ]
    },
    {
     "name": "stdout",
     "output_type": "stream",
     "text": [
      "[LightGBM] [Warning] Met categorical feature which contains sparse values. Consider renumbering to consecutive integers started from zero\n",
      "Training until validation scores don't improve for 50 rounds\n",
      "[250]\tvalid_0's ndcg@5: 0.396511\n",
      "[500]\tvalid_0's ndcg@5: 0.402472\n",
      "Did not meet early stopping. Best iteration is:\n",
      "[499]\tvalid_0's ndcg@5: 0.402525\n",
      "Training on fold 3\n"
     ]
    },
    {
     "name": "stderr",
     "output_type": "stream",
     "text": [
      "/Users/rik/.pyenv/versions/3.10.12/lib/python3.10/site-packages/lightgbm/sklearn.py:861: UserWarning: Found 'ndcg_eval_at' in params. Will use it instead of 'eval_at' argument\n",
      "  _log_warning(f\"Found '{alias}' in params. Will use it instead of 'eval_at' argument\")\n"
     ]
    },
    {
     "name": "stdout",
     "output_type": "stream",
     "text": [
      "Training until validation scores don't improve for 50 rounds\n",
      "[250]\tvalid_0's ndcg@5: 0.394624\n",
      "[500]\tvalid_0's ndcg@5: 0.399928\n",
      "Training on fold 4\n"
     ]
    },
    {
     "name": "stderr",
     "output_type": "stream",
     "text": [
      "/Users/rik/.pyenv/versions/3.10.12/lib/python3.10/site-packages/lightgbm/sklearn.py:861: UserWarning: Found 'ndcg_eval_at' in params. Will use it instead of 'eval_at' argument\n",
      "  _log_warning(f\"Found '{alias}' in params. Will use it instead of 'eval_at' argument\")\n"
     ]
    },
    {
     "name": "stdout",
     "output_type": "stream",
     "text": [
      "[LightGBM] [Warning] Met categorical feature which contains sparse values. Consider renumbering to consecutive integers started from zero\n",
      "Training until validation scores don't improve for 50 rounds\n",
      "[250]\tvalid_0's ndcg@5: 0.397286\n",
      "[500]\tvalid_0's ndcg@5: 0.402451\n",
      "Did not meet early stopping. Best iteration is:\n",
      "[487]\tvalid_0's ndcg@5: 0.402616\n",
      "Training on fold 5\n"
     ]
    },
    {
     "name": "stderr",
     "output_type": "stream",
     "text": [
      "/Users/rik/.pyenv/versions/3.10.12/lib/python3.10/site-packages/lightgbm/sklearn.py:861: UserWarning: Found 'ndcg_eval_at' in params. Will use it instead of 'eval_at' argument\n",
      "  _log_warning(f\"Found '{alias}' in params. Will use it instead of 'eval_at' argument\")\n"
     ]
    },
    {
     "name": "stdout",
     "output_type": "stream",
     "text": [
      "[LightGBM] [Warning] Met categorical feature which contains sparse values. Consider renumbering to consecutive integers started from zero\n",
      "Training until validation scores don't improve for 50 rounds\n",
      "[250]\tvalid_0's ndcg@5: 0.39763\n"
     ]
    },
    {
     "name": "stderr",
     "output_type": "stream",
     "text": [
      "[I 2025-05-15 22:42:44,083] Trial 46 finished with value: 0.4019164895444514 and parameters: {'learning_rate': 0.020765544110613772, 'num_leaves': 133, 'min_child_samples': 74, 'min_child_weight': 7.070392146864234, 'colsample_bytree': 0.5230171375219226, 'subsample': 0.650805096021714, 'reg_alpha': 0.01074129382863436, 'reg_lambda': 9.96887292508075}. Best is trial 12 with value: 0.40457208870818606.\n"
     ]
    },
    {
     "name": "stdout",
     "output_type": "stream",
     "text": [
      "[500]\tvalid_0's ndcg@5: 0.40348\n",
      "Best Mean Score for all folds: 0.4019164895444514, with params: {'objective': 'lambdarank', 'metric': 'ndcg', 'ndcg_eval_at': [5], 'boosting_type': 'gbdt', 'verbosity': -1, 'n_estimators': 500, 'early_stopping_round': 30, 'learning_rate': 0.020765544110613772, 'num_leaves': 133, 'min_child_samples': 74, 'min_child_weight': 7.070392146864234, 'colsample_bytree': 0.5230171375219226, 'subsample': 0.650805096021714, 'reg_alpha': 0.01074129382863436, 'reg_lambda': 9.96887292508075}\n",
      "Training on fold 1\n"
     ]
    },
    {
     "name": "stderr",
     "output_type": "stream",
     "text": [
      "/Users/rik/.pyenv/versions/3.10.12/lib/python3.10/site-packages/lightgbm/sklearn.py:861: UserWarning: Found 'ndcg_eval_at' in params. Will use it instead of 'eval_at' argument\n",
      "  _log_warning(f\"Found '{alias}' in params. Will use it instead of 'eval_at' argument\")\n"
     ]
    },
    {
     "name": "stdout",
     "output_type": "stream",
     "text": [
      "[LightGBM] [Warning] Met categorical feature which contains sparse values. Consider renumbering to consecutive integers started from zero\n",
      "Training until validation scores don't improve for 50 rounds\n",
      "[250]\tvalid_0's ndcg@5: 0.399682\n",
      "Training on fold 2\n"
     ]
    },
    {
     "name": "stderr",
     "output_type": "stream",
     "text": [
      "/Users/rik/.pyenv/versions/3.10.12/lib/python3.10/site-packages/lightgbm/sklearn.py:861: UserWarning: Found 'ndcg_eval_at' in params. Will use it instead of 'eval_at' argument\n",
      "  _log_warning(f\"Found '{alias}' in params. Will use it instead of 'eval_at' argument\")\n"
     ]
    },
    {
     "name": "stdout",
     "output_type": "stream",
     "text": [
      "[LightGBM] [Warning] Met categorical feature which contains sparse values. Consider renumbering to consecutive integers started from zero\n",
      "Training until validation scores don't improve for 50 rounds\n",
      "[250]\tvalid_0's ndcg@5: 0.401743\n",
      "Training on fold 3\n"
     ]
    },
    {
     "name": "stderr",
     "output_type": "stream",
     "text": [
      "/Users/rik/.pyenv/versions/3.10.12/lib/python3.10/site-packages/lightgbm/sklearn.py:861: UserWarning: Found 'ndcg_eval_at' in params. Will use it instead of 'eval_at' argument\n",
      "  _log_warning(f\"Found '{alias}' in params. Will use it instead of 'eval_at' argument\")\n"
     ]
    },
    {
     "name": "stdout",
     "output_type": "stream",
     "text": [
      "Training until validation scores don't improve for 50 rounds\n",
      "[250]\tvalid_0's ndcg@5: 0.39946\n",
      "Training on fold 4\n"
     ]
    },
    {
     "name": "stderr",
     "output_type": "stream",
     "text": [
      "/Users/rik/.pyenv/versions/3.10.12/lib/python3.10/site-packages/lightgbm/sklearn.py:861: UserWarning: Found 'ndcg_eval_at' in params. Will use it instead of 'eval_at' argument\n",
      "  _log_warning(f\"Found '{alias}' in params. Will use it instead of 'eval_at' argument\")\n"
     ]
    },
    {
     "name": "stdout",
     "output_type": "stream",
     "text": [
      "Training until validation scores don't improve for 50 rounds\n",
      "[250]\tvalid_0's ndcg@5: 0.401537\n",
      "Training on fold 5\n"
     ]
    },
    {
     "name": "stderr",
     "output_type": "stream",
     "text": [
      "/Users/rik/.pyenv/versions/3.10.12/lib/python3.10/site-packages/lightgbm/sklearn.py:861: UserWarning: Found 'ndcg_eval_at' in params. Will use it instead of 'eval_at' argument\n",
      "  _log_warning(f\"Found '{alias}' in params. Will use it instead of 'eval_at' argument\")\n"
     ]
    },
    {
     "name": "stdout",
     "output_type": "stream",
     "text": [
      "[LightGBM] [Warning] Met categorical feature which contains sparse values. Consider renumbering to consecutive integers started from zero\n",
      "Training until validation scores don't improve for 50 rounds\n",
      "[250]\tvalid_0's ndcg@5: 0.402576\n"
     ]
    },
    {
     "name": "stderr",
     "output_type": "stream",
     "text": [
      "[I 2025-05-15 22:48:30,812] Trial 47 finished with value: 0.40205673106905443 and parameters: {'learning_rate': 0.05840413271596713, 'num_leaves': 120, 'min_child_samples': 32, 'min_child_weight': 1.9097541577196238, 'colsample_bytree': 0.8101454296541938, 'subsample': 0.8743190192153588, 'reg_alpha': 0.16289526864432327, 'reg_lambda': 0.04074847334682025}. Best is trial 12 with value: 0.40457208870818606.\n"
     ]
    },
    {
     "name": "stdout",
     "output_type": "stream",
     "text": [
      "Best Mean Score for all folds: 0.40205673106905443, with params: {'objective': 'lambdarank', 'metric': 'ndcg', 'ndcg_eval_at': [5], 'boosting_type': 'gbdt', 'verbosity': -1, 'n_estimators': 500, 'early_stopping_round': 30, 'learning_rate': 0.05840413271596713, 'num_leaves': 120, 'min_child_samples': 32, 'min_child_weight': 1.9097541577196238, 'colsample_bytree': 0.8101454296541938, 'subsample': 0.8743190192153588, 'reg_alpha': 0.16289526864432327, 'reg_lambda': 0.04074847334682025}\n",
      "Training on fold 1\n"
     ]
    },
    {
     "name": "stderr",
     "output_type": "stream",
     "text": [
      "/Users/rik/.pyenv/versions/3.10.12/lib/python3.10/site-packages/lightgbm/sklearn.py:861: UserWarning: Found 'ndcg_eval_at' in params. Will use it instead of 'eval_at' argument\n",
      "  _log_warning(f\"Found '{alias}' in params. Will use it instead of 'eval_at' argument\")\n"
     ]
    },
    {
     "name": "stdout",
     "output_type": "stream",
     "text": [
      "Training until validation scores don't improve for 50 rounds\n",
      "[250]\tvalid_0's ndcg@5: 0.393422\n",
      "[500]\tvalid_0's ndcg@5: 0.398048\n",
      "Did not meet early stopping. Best iteration is:\n",
      "[499]\tvalid_0's ndcg@5: 0.398144\n",
      "Training on fold 2\n"
     ]
    },
    {
     "name": "stderr",
     "output_type": "stream",
     "text": [
      "/Users/rik/.pyenv/versions/3.10.12/lib/python3.10/site-packages/lightgbm/sklearn.py:861: UserWarning: Found 'ndcg_eval_at' in params. Will use it instead of 'eval_at' argument\n",
      "  _log_warning(f\"Found '{alias}' in params. Will use it instead of 'eval_at' argument\")\n"
     ]
    },
    {
     "name": "stdout",
     "output_type": "stream",
     "text": [
      "[LightGBM] [Warning] Met categorical feature which contains sparse values. Consider renumbering to consecutive integers started from zero\n",
      "Training until validation scores don't improve for 50 rounds\n",
      "[250]\tvalid_0's ndcg@5: 0.393682\n",
      "[500]\tvalid_0's ndcg@5: 0.398906\n",
      "Did not meet early stopping. Best iteration is:\n",
      "[497]\tvalid_0's ndcg@5: 0.398961\n",
      "Training on fold 3\n"
     ]
    },
    {
     "name": "stderr",
     "output_type": "stream",
     "text": [
      "/Users/rik/.pyenv/versions/3.10.12/lib/python3.10/site-packages/lightgbm/sklearn.py:861: UserWarning: Found 'ndcg_eval_at' in params. Will use it instead of 'eval_at' argument\n",
      "  _log_warning(f\"Found '{alias}' in params. Will use it instead of 'eval_at' argument\")\n"
     ]
    },
    {
     "name": "stdout",
     "output_type": "stream",
     "text": [
      "[LightGBM] [Warning] Met categorical feature which contains sparse values. Consider renumbering to consecutive integers started from zero\n",
      "Training until validation scores don't improve for 50 rounds\n",
      "[250]\tvalid_0's ndcg@5: 0.392172\n",
      "[500]\tvalid_0's ndcg@5: 0.397266\n",
      "Did not meet early stopping. Best iteration is:\n",
      "[496]\tvalid_0's ndcg@5: 0.397282\n",
      "Training on fold 4\n"
     ]
    },
    {
     "name": "stderr",
     "output_type": "stream",
     "text": [
      "/Users/rik/.pyenv/versions/3.10.12/lib/python3.10/site-packages/lightgbm/sklearn.py:861: UserWarning: Found 'ndcg_eval_at' in params. Will use it instead of 'eval_at' argument\n",
      "  _log_warning(f\"Found '{alias}' in params. Will use it instead of 'eval_at' argument\")\n"
     ]
    },
    {
     "name": "stdout",
     "output_type": "stream",
     "text": [
      "[LightGBM] [Warning] Met categorical feature which contains sparse values. Consider renumbering to consecutive integers started from zero\n",
      "Training until validation scores don't improve for 50 rounds\n",
      "[250]\tvalid_0's ndcg@5: 0.39511\n",
      "[500]\tvalid_0's ndcg@5: 0.39956\n",
      "Did not meet early stopping. Best iteration is:\n",
      "[500]\tvalid_0's ndcg@5: 0.39956\n",
      "Training on fold 5\n"
     ]
    },
    {
     "name": "stderr",
     "output_type": "stream",
     "text": [
      "/Users/rik/.pyenv/versions/3.10.12/lib/python3.10/site-packages/lightgbm/sklearn.py:861: UserWarning: Found 'ndcg_eval_at' in params. Will use it instead of 'eval_at' argument\n",
      "  _log_warning(f\"Found '{alias}' in params. Will use it instead of 'eval_at' argument\")\n"
     ]
    },
    {
     "name": "stdout",
     "output_type": "stream",
     "text": [
      "[LightGBM] [Warning] Met categorical feature which contains sparse values. Consider renumbering to consecutive integers started from zero\n",
      "Training until validation scores don't improve for 50 rounds\n",
      "[250]\tvalid_0's ndcg@5: 0.395564\n"
     ]
    },
    {
     "name": "stderr",
     "output_type": "stream",
     "text": [
      "[I 2025-05-15 22:58:19,592] Trial 48 finished with value: 0.39840352987707217 and parameters: {'learning_rate': 0.013976041305094979, 'num_leaves': 146, 'min_child_samples': 90, 'min_child_weight': 6.930490363588314, 'colsample_bytree': 0.7187183940024297, 'subsample': 0.5198759857016001, 'reg_alpha': 0.019645181563496483, 'reg_lambda': 0.007313973843100328}. Best is trial 12 with value: 0.40457208870818606.\n"
     ]
    },
    {
     "name": "stdout",
     "output_type": "stream",
     "text": [
      "Best Mean Score for all folds: 0.39840352987707217, with params: {'objective': 'lambdarank', 'metric': 'ndcg', 'ndcg_eval_at': [5], 'boosting_type': 'gbdt', 'verbosity': -1, 'n_estimators': 500, 'early_stopping_round': 30, 'learning_rate': 0.013976041305094979, 'num_leaves': 146, 'min_child_samples': 90, 'min_child_weight': 6.930490363588314, 'colsample_bytree': 0.7187183940024297, 'subsample': 0.5198759857016001, 'reg_alpha': 0.019645181563496483, 'reg_lambda': 0.007313973843100328}\n",
      "Training on fold 1\n"
     ]
    },
    {
     "name": "stderr",
     "output_type": "stream",
     "text": [
      "/Users/rik/.pyenv/versions/3.10.12/lib/python3.10/site-packages/lightgbm/sklearn.py:861: UserWarning: Found 'ndcg_eval_at' in params. Will use it instead of 'eval_at' argument\n",
      "  _log_warning(f\"Found '{alias}' in params. Will use it instead of 'eval_at' argument\")\n"
     ]
    },
    {
     "name": "stdout",
     "output_type": "stream",
     "text": [
      "[LightGBM] [Warning] Met categorical feature which contains sparse values. Consider renumbering to consecutive integers started from zero\n",
      "Training until validation scores don't improve for 50 rounds\n",
      "[250]\tvalid_0's ndcg@5: 0.400513\n",
      "Training on fold 2\n"
     ]
    },
    {
     "name": "stderr",
     "output_type": "stream",
     "text": [
      "/Users/rik/.pyenv/versions/3.10.12/lib/python3.10/site-packages/lightgbm/sklearn.py:861: UserWarning: Found 'ndcg_eval_at' in params. Will use it instead of 'eval_at' argument\n",
      "  _log_warning(f\"Found '{alias}' in params. Will use it instead of 'eval_at' argument\")\n"
     ]
    },
    {
     "name": "stdout",
     "output_type": "stream",
     "text": [
      "[LightGBM] [Warning] Met categorical feature which contains sparse values. Consider renumbering to consecutive integers started from zero\n",
      "Training until validation scores don't improve for 50 rounds\n",
      "[250]\tvalid_0's ndcg@5: 0.400891\n",
      "Training on fold 3\n"
     ]
    },
    {
     "name": "stderr",
     "output_type": "stream",
     "text": [
      "/Users/rik/.pyenv/versions/3.10.12/lib/python3.10/site-packages/lightgbm/sklearn.py:861: UserWarning: Found 'ndcg_eval_at' in params. Will use it instead of 'eval_at' argument\n",
      "  _log_warning(f\"Found '{alias}' in params. Will use it instead of 'eval_at' argument\")\n"
     ]
    },
    {
     "name": "stdout",
     "output_type": "stream",
     "text": [
      "Training until validation scores don't improve for 50 rounds\n",
      "[250]\tvalid_0's ndcg@5: 0.398514\n",
      "Training on fold 4\n"
     ]
    },
    {
     "name": "stderr",
     "output_type": "stream",
     "text": [
      "/Users/rik/.pyenv/versions/3.10.12/lib/python3.10/site-packages/lightgbm/sklearn.py:861: UserWarning: Found 'ndcg_eval_at' in params. Will use it instead of 'eval_at' argument\n",
      "  _log_warning(f\"Found '{alias}' in params. Will use it instead of 'eval_at' argument\")\n"
     ]
    },
    {
     "name": "stdout",
     "output_type": "stream",
     "text": [
      "[LightGBM] [Warning] Met categorical feature which contains sparse values. Consider renumbering to consecutive integers started from zero\n",
      "Training until validation scores don't improve for 50 rounds\n",
      "[250]\tvalid_0's ndcg@5: 0.401896\n",
      "Training on fold 5\n"
     ]
    },
    {
     "name": "stderr",
     "output_type": "stream",
     "text": [
      "/Users/rik/.pyenv/versions/3.10.12/lib/python3.10/site-packages/lightgbm/sklearn.py:861: UserWarning: Found 'ndcg_eval_at' in params. Will use it instead of 'eval_at' argument\n",
      "  _log_warning(f\"Found '{alias}' in params. Will use it instead of 'eval_at' argument\")\n"
     ]
    },
    {
     "name": "stdout",
     "output_type": "stream",
     "text": [
      "Training until validation scores don't improve for 50 rounds\n",
      "[250]\tvalid_0's ndcg@5: 0.402137\n"
     ]
    },
    {
     "name": "stderr",
     "output_type": "stream",
     "text": [
      "[I 2025-05-15 23:05:32,140] Trial 49 finished with value: 0.40288963427840735 and parameters: {'learning_rate': 0.04806111692983611, 'num_leaves': 172, 'min_child_samples': 80, 'min_child_weight': 0.8755640014348787, 'colsample_bytree': 0.940672539980574, 'subsample': 0.7180102864419045, 'reg_alpha': 0.05629445506660526, 'reg_lambda': 5.072066560119577}. Best is trial 12 with value: 0.40457208870818606.\n"
     ]
    },
    {
     "name": "stdout",
     "output_type": "stream",
     "text": [
      "Best Mean Score for all folds: 0.40288963427840735, with params: {'objective': 'lambdarank', 'metric': 'ndcg', 'ndcg_eval_at': [5], 'boosting_type': 'gbdt', 'verbosity': -1, 'n_estimators': 500, 'early_stopping_round': 30, 'learning_rate': 0.04806111692983611, 'num_leaves': 172, 'min_child_samples': 80, 'min_child_weight': 0.8755640014348787, 'colsample_bytree': 0.940672539980574, 'subsample': 0.7180102864419045, 'reg_alpha': 0.05629445506660526, 'reg_lambda': 5.072066560119577}\n",
      "Best score: 0.40457208870818606\n",
      "Best params: {'learning_rate': 0.03928543917526321, 'num_leaves': 151, 'min_child_samples': 100, 'min_child_weight': 9.84223213747703, 'colsample_bytree': 0.5340379911098179, 'subsample': 0.9940711682871947, 'reg_alpha': 0.009867816340998009, 'reg_lambda': 8.490860770966702}\n"
     ]
    }
   ],
   "source": [
    "train_df = pd.read_parquet(\"data/training_set_processed.parquet\")\n",
    "lgbm_class_model = LGBMRankerModel(\n",
    "    df = train_df,\n",
    "    objective=\"lambdarank\",\n",
    "    metric=\"ndcg\",\n",
    "    ndcg_eval_at=[5],\n",
    "    n_estimators=1000,\n",
    "    learning_rate= 0.03427673821049949,\n",
    "    num_leaves= 79,\n",
    "    min_child_samples=50,\n",
    "    reg_alpha= 0.0001416721648867782,\n",
    "    reg_lambda= 0.12245976197134716\n",
    ")\n",
    "feature_tester = FeatureTester(lgbm_class_model)\n",
    "study = feature_tester.run_full_hpo(train_df, n_trials=50)\n",
    "print(\"Best score:\", study.best_value)\n",
    "print(\"Best params:\", study.best_params)"
   ]
  },
  {
   "cell_type": "code",
   "execution_count": 7,
   "id": "bc91dbf4",
   "metadata": {},
   "outputs": [],
   "source": [
    "study_df = study.trials_dataframe()"
   ]
  },
  {
   "cell_type": "code",
   "execution_count": 13,
   "id": "4202172a",
   "metadata": {},
   "outputs": [
    {
     "data": {
      "text/html": [
       "<div>\n",
       "<style scoped>\n",
       "    .dataframe tbody tr th:only-of-type {\n",
       "        vertical-align: middle;\n",
       "    }\n",
       "\n",
       "    .dataframe tbody tr th {\n",
       "        vertical-align: top;\n",
       "    }\n",
       "\n",
       "    .dataframe thead th {\n",
       "        text-align: right;\n",
       "    }\n",
       "</style>\n",
       "<table border=\"1\" class=\"dataframe\">\n",
       "  <thead>\n",
       "    <tr style=\"text-align: right;\">\n",
       "      <th></th>\n",
       "      <th>number</th>\n",
       "      <th>value</th>\n",
       "      <th>datetime_start</th>\n",
       "      <th>datetime_complete</th>\n",
       "      <th>duration</th>\n",
       "      <th>params_colsample_bytree</th>\n",
       "      <th>params_learning_rate</th>\n",
       "      <th>params_min_child_samples</th>\n",
       "      <th>params_min_child_weight</th>\n",
       "      <th>params_num_leaves</th>\n",
       "      <th>params_reg_alpha</th>\n",
       "      <th>params_reg_lambda</th>\n",
       "      <th>params_subsample</th>\n",
       "      <th>state</th>\n",
       "    </tr>\n",
       "  </thead>\n",
       "  <tbody>\n",
       "    <tr>\n",
       "      <th>12</th>\n",
       "      <td>12</td>\n",
       "      <td>0.404572</td>\n",
       "      <td>2025-05-15 18:18:00.803820</td>\n",
       "      <td>2025-05-15 18:27:17.111209</td>\n",
       "      <td>0 days 00:09:16.307389</td>\n",
       "      <td>0.534038</td>\n",
       "      <td>0.039285</td>\n",
       "      <td>100</td>\n",
       "      <td>9.842232</td>\n",
       "      <td>151</td>\n",
       "      <td>0.009868</td>\n",
       "      <td>8.490861</td>\n",
       "      <td>0.994071</td>\n",
       "      <td>COMPLETE</td>\n",
       "    </tr>\n",
       "    <tr>\n",
       "      <th>10</th>\n",
       "      <td>10</td>\n",
       "      <td>0.404263</td>\n",
       "      <td>2025-05-15 18:03:31.587135</td>\n",
       "      <td>2025-05-15 18:10:51.713750</td>\n",
       "      <td>0 days 00:07:20.126615</td>\n",
       "      <td>0.678637</td>\n",
       "      <td>0.047164</td>\n",
       "      <td>86</td>\n",
       "      <td>4.672897</td>\n",
       "      <td>143</td>\n",
       "      <td>0.010907</td>\n",
       "      <td>8.987196</td>\n",
       "      <td>0.992484</td>\n",
       "      <td>COMPLETE</td>\n",
       "    </tr>\n",
       "    <tr>\n",
       "      <th>32</th>\n",
       "      <td>32</td>\n",
       "      <td>0.404143</td>\n",
       "      <td>2025-05-15 21:04:24.836251</td>\n",
       "      <td>2025-05-15 21:12:17.554860</td>\n",
       "      <td>0 days 00:07:52.718609</td>\n",
       "      <td>0.691660</td>\n",
       "      <td>0.041485</td>\n",
       "      <td>83</td>\n",
       "      <td>4.487733</td>\n",
       "      <td>182</td>\n",
       "      <td>0.026653</td>\n",
       "      <td>9.732879</td>\n",
       "      <td>0.971970</td>\n",
       "      <td>COMPLETE</td>\n",
       "    </tr>\n",
       "    <tr>\n",
       "      <th>11</th>\n",
       "      <td>11</td>\n",
       "      <td>0.403847</td>\n",
       "      <td>2025-05-15 18:10:51.714671</td>\n",
       "      <td>2025-05-15 18:18:00.802860</td>\n",
       "      <td>0 days 00:07:09.088189</td>\n",
       "      <td>0.685493</td>\n",
       "      <td>0.043642</td>\n",
       "      <td>87</td>\n",
       "      <td>7.229594</td>\n",
       "      <td>147</td>\n",
       "      <td>0.009773</td>\n",
       "      <td>8.917353</td>\n",
       "      <td>0.993795</td>\n",
       "      <td>COMPLETE</td>\n",
       "    </tr>\n",
       "    <tr>\n",
       "      <th>43</th>\n",
       "      <td>43</td>\n",
       "      <td>0.403804</td>\n",
       "      <td>2025-05-15 22:15:07.983712</td>\n",
       "      <td>2025-05-15 22:21:54.777453</td>\n",
       "      <td>0 days 00:06:46.793741</td>\n",
       "      <td>0.742332</td>\n",
       "      <td>0.053668</td>\n",
       "      <td>94</td>\n",
       "      <td>2.296151</td>\n",
       "      <td>116</td>\n",
       "      <td>0.021356</td>\n",
       "      <td>9.214875</td>\n",
       "      <td>0.951373</td>\n",
       "      <td>COMPLETE</td>\n",
       "    </tr>\n",
       "    <tr>\n",
       "      <th>42</th>\n",
       "      <td>42</td>\n",
       "      <td>0.403717</td>\n",
       "      <td>2025-05-15 22:06:59.363129</td>\n",
       "      <td>2025-05-15 22:15:07.982774</td>\n",
       "      <td>0 days 00:08:08.619645</td>\n",
       "      <td>0.669545</td>\n",
       "      <td>0.037992</td>\n",
       "      <td>95</td>\n",
       "      <td>2.483566</td>\n",
       "      <td>117</td>\n",
       "      <td>0.014967</td>\n",
       "      <td>6.112592</td>\n",
       "      <td>0.979561</td>\n",
       "      <td>COMPLETE</td>\n",
       "    </tr>\n",
       "    <tr>\n",
       "      <th>23</th>\n",
       "      <td>23</td>\n",
       "      <td>0.403710</td>\n",
       "      <td>2025-05-15 19:55:39.703544</td>\n",
       "      <td>2025-05-15 20:04:46.744708</td>\n",
       "      <td>0 days 00:09:07.041164</td>\n",
       "      <td>0.655469</td>\n",
       "      <td>0.035500</td>\n",
       "      <td>87</td>\n",
       "      <td>5.111459</td>\n",
       "      <td>153</td>\n",
       "      <td>0.015116</td>\n",
       "      <td>3.763855</td>\n",
       "      <td>0.999523</td>\n",
       "      <td>COMPLETE</td>\n",
       "    </tr>\n",
       "    <tr>\n",
       "      <th>18</th>\n",
       "      <td>18</td>\n",
       "      <td>0.403691</td>\n",
       "      <td>2025-05-15 19:10:30.143613</td>\n",
       "      <td>2025-05-15 19:19:07.200694</td>\n",
       "      <td>0 days 00:08:37.057081</td>\n",
       "      <td>0.644938</td>\n",
       "      <td>0.043804</td>\n",
       "      <td>60</td>\n",
       "      <td>0.023557</td>\n",
       "      <td>128</td>\n",
       "      <td>0.004179</td>\n",
       "      <td>0.742222</td>\n",
       "      <td>0.877557</td>\n",
       "      <td>COMPLETE</td>\n",
       "    </tr>\n",
       "    <tr>\n",
       "      <th>44</th>\n",
       "      <td>44</td>\n",
       "      <td>0.403686</td>\n",
       "      <td>2025-05-15 22:21:54.778439</td>\n",
       "      <td>2025-05-15 22:28:39.309180</td>\n",
       "      <td>0 days 00:06:44.530741</td>\n",
       "      <td>0.750623</td>\n",
       "      <td>0.053220</td>\n",
       "      <td>96</td>\n",
       "      <td>1.727525</td>\n",
       "      <td>99</td>\n",
       "      <td>0.030728</td>\n",
       "      <td>7.182606</td>\n",
       "      <td>0.939215</td>\n",
       "      <td>COMPLETE</td>\n",
       "    </tr>\n",
       "    <tr>\n",
       "      <th>39</th>\n",
       "      <td>39</td>\n",
       "      <td>0.403428</td>\n",
       "      <td>2025-05-15 21:45:27.539809</td>\n",
       "      <td>2025-05-15 21:55:34.320050</td>\n",
       "      <td>0 days 00:10:06.780241</td>\n",
       "      <td>0.576300</td>\n",
       "      <td>0.027997</td>\n",
       "      <td>70</td>\n",
       "      <td>7.230495</td>\n",
       "      <td>168</td>\n",
       "      <td>0.269475</td>\n",
       "      <td>1.848105</td>\n",
       "      <td>0.941538</td>\n",
       "      <td>COMPLETE</td>\n",
       "    </tr>\n",
       "    <tr>\n",
       "      <th>33</th>\n",
       "      <td>33</td>\n",
       "      <td>0.403366</td>\n",
       "      <td>2025-05-15 21:12:17.555752</td>\n",
       "      <td>2025-05-15 21:16:57.197270</td>\n",
       "      <td>0 days 00:04:39.641518</td>\n",
       "      <td>0.693858</td>\n",
       "      <td>0.086074</td>\n",
       "      <td>78</td>\n",
       "      <td>1.420755</td>\n",
       "      <td>179</td>\n",
       "      <td>0.024749</td>\n",
       "      <td>9.500259</td>\n",
       "      <td>0.961228</td>\n",
       "      <td>COMPLETE</td>\n",
       "    </tr>\n",
       "    <tr>\n",
       "      <th>34</th>\n",
       "      <td>34</td>\n",
       "      <td>0.403331</td>\n",
       "      <td>2025-05-15 21:16:57.198145</td>\n",
       "      <td>2025-05-15 21:23:42.509790</td>\n",
       "      <td>0 days 00:06:45.311645</td>\n",
       "      <td>0.737181</td>\n",
       "      <td>0.043999</td>\n",
       "      <td>82</td>\n",
       "      <td>3.335036</td>\n",
       "      <td>198</td>\n",
       "      <td>0.061102</td>\n",
       "      <td>4.498504</td>\n",
       "      <td>0.924357</td>\n",
       "      <td>COMPLETE</td>\n",
       "    </tr>\n",
       "    <tr>\n",
       "      <th>25</th>\n",
       "      <td>25</td>\n",
       "      <td>0.403274</td>\n",
       "      <td>2025-05-15 20:10:44.065596</td>\n",
       "      <td>2025-05-15 20:15:52.283752</td>\n",
       "      <td>0 days 00:05:08.218156</td>\n",
       "      <td>0.714535</td>\n",
       "      <td>0.080212</td>\n",
       "      <td>92</td>\n",
       "      <td>1.197365</td>\n",
       "      <td>126</td>\n",
       "      <td>0.002189</td>\n",
       "      <td>5.853276</td>\n",
       "      <td>0.929307</td>\n",
       "      <td>COMPLETE</td>\n",
       "    </tr>\n",
       "    <tr>\n",
       "      <th>14</th>\n",
       "      <td>14</td>\n",
       "      <td>0.403269</td>\n",
       "      <td>2025-05-15 18:37:01.067446</td>\n",
       "      <td>2025-05-15 18:43:42.263416</td>\n",
       "      <td>0 days 00:06:41.195970</td>\n",
       "      <td>0.500381</td>\n",
       "      <td>0.060949</td>\n",
       "      <td>68</td>\n",
       "      <td>2.186879</td>\n",
       "      <td>142</td>\n",
       "      <td>0.015024</td>\n",
       "      <td>2.040267</td>\n",
       "      <td>0.912187</td>\n",
       "      <td>COMPLETE</td>\n",
       "    </tr>\n",
       "    <tr>\n",
       "      <th>28</th>\n",
       "      <td>28</td>\n",
       "      <td>0.403201</td>\n",
       "      <td>2025-05-15 20:33:01.931463</td>\n",
       "      <td>2025-05-15 20:42:22.075871</td>\n",
       "      <td>0 days 00:09:20.144408</td>\n",
       "      <td>0.580281</td>\n",
       "      <td>0.028988</td>\n",
       "      <td>64</td>\n",
       "      <td>2.470192</td>\n",
       "      <td>139</td>\n",
       "      <td>0.430304</td>\n",
       "      <td>2.649427</td>\n",
       "      <td>0.891204</td>\n",
       "      <td>COMPLETE</td>\n",
       "    </tr>\n",
       "    <tr>\n",
       "      <th>22</th>\n",
       "      <td>22</td>\n",
       "      <td>0.403144</td>\n",
       "      <td>2025-05-15 19:49:45.469353</td>\n",
       "      <td>2025-05-15 19:55:39.702280</td>\n",
       "      <td>0 days 00:05:54.232927</td>\n",
       "      <td>0.812407</td>\n",
       "      <td>0.074538</td>\n",
       "      <td>99</td>\n",
       "      <td>4.249823</td>\n",
       "      <td>128</td>\n",
       "      <td>0.003316</td>\n",
       "      <td>9.113905</td>\n",
       "      <td>0.939220</td>\n",
       "      <td>COMPLETE</td>\n",
       "    </tr>\n",
       "    <tr>\n",
       "      <th>37</th>\n",
       "      <td>37</td>\n",
       "      <td>0.403048</td>\n",
       "      <td>2025-05-15 21:32:36.731997</td>\n",
       "      <td>2025-05-15 21:40:08.919117</td>\n",
       "      <td>0 days 00:07:32.187120</td>\n",
       "      <td>0.791870</td>\n",
       "      <td>0.041132</td>\n",
       "      <td>55</td>\n",
       "      <td>0.020045</td>\n",
       "      <td>109</td>\n",
       "      <td>0.453660</td>\n",
       "      <td>6.237381</td>\n",
       "      <td>0.893497</td>\n",
       "      <td>COMPLETE</td>\n",
       "    </tr>\n",
       "    <tr>\n",
       "      <th>16</th>\n",
       "      <td>16</td>\n",
       "      <td>0.402947</td>\n",
       "      <td>2025-05-15 18:53:51.860064</td>\n",
       "      <td>2025-05-15 18:59:19.746125</td>\n",
       "      <td>0 days 00:05:27.886061</td>\n",
       "      <td>0.686668</td>\n",
       "      <td>0.069248</td>\n",
       "      <td>71</td>\n",
       "      <td>0.055787</td>\n",
       "      <td>129</td>\n",
       "      <td>0.045317</td>\n",
       "      <td>4.389633</td>\n",
       "      <td>0.916383</td>\n",
       "      <td>COMPLETE</td>\n",
       "    </tr>\n",
       "    <tr>\n",
       "      <th>35</th>\n",
       "      <td>35</td>\n",
       "      <td>0.402932</td>\n",
       "      <td>2025-05-15 21:23:42.510670</td>\n",
       "      <td>2025-05-15 21:29:34.201051</td>\n",
       "      <td>0 days 00:05:51.690381</td>\n",
       "      <td>0.768091</td>\n",
       "      <td>0.053248</td>\n",
       "      <td>100</td>\n",
       "      <td>0.078993</td>\n",
       "      <td>187</td>\n",
       "      <td>0.005871</td>\n",
       "      <td>5.864193</td>\n",
       "      <td>0.972498</td>\n",
       "      <td>COMPLETE</td>\n",
       "    </tr>\n",
       "    <tr>\n",
       "      <th>17</th>\n",
       "      <td>17</td>\n",
       "      <td>0.402929</td>\n",
       "      <td>2025-05-15 18:59:19.747142</td>\n",
       "      <td>2025-05-15 19:10:30.142540</td>\n",
       "      <td>0 days 00:11:10.395398</td>\n",
       "      <td>0.547981</td>\n",
       "      <td>0.024707</td>\n",
       "      <td>74</td>\n",
       "      <td>2.908870</td>\n",
       "      <td>169</td>\n",
       "      <td>0.001758</td>\n",
       "      <td>0.054102</td>\n",
       "      <td>0.997086</td>\n",
       "      <td>COMPLETE</td>\n",
       "    </tr>\n",
       "    <tr>\n",
       "      <th>21</th>\n",
       "      <td>21</td>\n",
       "      <td>0.402897</td>\n",
       "      <td>2025-05-15 19:41:43.812802</td>\n",
       "      <td>2025-05-15 19:49:45.468003</td>\n",
       "      <td>0 days 00:08:01.655201</td>\n",
       "      <td>0.715674</td>\n",
       "      <td>0.046291</td>\n",
       "      <td>88</td>\n",
       "      <td>9.809395</td>\n",
       "      <td>145</td>\n",
       "      <td>0.008284</td>\n",
       "      <td>8.330799</td>\n",
       "      <td>0.997660</td>\n",
       "      <td>COMPLETE</td>\n",
       "    </tr>\n",
       "    <tr>\n",
       "      <th>49</th>\n",
       "      <td>49</td>\n",
       "      <td>0.402890</td>\n",
       "      <td>2025-05-15 22:58:19.592633</td>\n",
       "      <td>2025-05-15 23:05:32.140273</td>\n",
       "      <td>0 days 00:07:12.547640</td>\n",
       "      <td>0.940673</td>\n",
       "      <td>0.048061</td>\n",
       "      <td>80</td>\n",
       "      <td>0.875564</td>\n",
       "      <td>172</td>\n",
       "      <td>0.056294</td>\n",
       "      <td>5.072067</td>\n",
       "      <td>0.718010</td>\n",
       "      <td>COMPLETE</td>\n",
       "    </tr>\n",
       "    <tr>\n",
       "      <th>1</th>\n",
       "      <td>1</td>\n",
       "      <td>0.402877</td>\n",
       "      <td>2025-05-15 17:20:55.499286</td>\n",
       "      <td>2025-05-15 17:25:09.467811</td>\n",
       "      <td>0 days 00:04:13.968525</td>\n",
       "      <td>0.675505</td>\n",
       "      <td>0.117723</td>\n",
       "      <td>83</td>\n",
       "      <td>0.002030</td>\n",
       "      <td>107</td>\n",
       "      <td>5.767485</td>\n",
       "      <td>0.001316</td>\n",
       "      <td>0.792037</td>\n",
       "      <td>COMPLETE</td>\n",
       "    </tr>\n",
       "    <tr>\n",
       "      <th>41</th>\n",
       "      <td>41</td>\n",
       "      <td>0.402683</td>\n",
       "      <td>2025-05-15 21:59:50.346923</td>\n",
       "      <td>2025-05-15 22:06:59.362252</td>\n",
       "      <td>0 days 00:07:09.015329</td>\n",
       "      <td>0.655705</td>\n",
       "      <td>0.035982</td>\n",
       "      <td>87</td>\n",
       "      <td>4.078152</td>\n",
       "      <td>153</td>\n",
       "      <td>0.007578</td>\n",
       "      <td>3.470358</td>\n",
       "      <td>0.999084</td>\n",
       "      <td>COMPLETE</td>\n",
       "    </tr>\n",
       "    <tr>\n",
       "      <th>38</th>\n",
       "      <td>38</td>\n",
       "      <td>0.402555</td>\n",
       "      <td>2025-05-15 21:40:08.920060</td>\n",
       "      <td>2025-05-15 21:45:27.538885</td>\n",
       "      <td>0 days 00:05:18.618825</td>\n",
       "      <td>0.698990</td>\n",
       "      <td>0.064206</td>\n",
       "      <td>45</td>\n",
       "      <td>1.151277</td>\n",
       "      <td>160</td>\n",
       "      <td>0.027945</td>\n",
       "      <td>0.002519</td>\n",
       "      <td>0.975550</td>\n",
       "      <td>COMPLETE</td>\n",
       "    </tr>\n",
       "    <tr>\n",
       "      <th>15</th>\n",
       "      <td>15</td>\n",
       "      <td>0.402380</td>\n",
       "      <td>2025-05-15 18:43:42.264430</td>\n",
       "      <td>2025-05-15 18:53:51.859061</td>\n",
       "      <td>0 days 00:10:09.594631</td>\n",
       "      <td>0.602096</td>\n",
       "      <td>0.023680</td>\n",
       "      <td>95</td>\n",
       "      <td>1.682932</td>\n",
       "      <td>164</td>\n",
       "      <td>0.005658</td>\n",
       "      <td>2.516035</td>\n",
       "      <td>0.972023</td>\n",
       "      <td>COMPLETE</td>\n",
       "    </tr>\n",
       "    <tr>\n",
       "      <th>27</th>\n",
       "      <td>27</td>\n",
       "      <td>0.402307</td>\n",
       "      <td>2025-05-15 20:25:45.818367</td>\n",
       "      <td>2025-05-15 20:33:01.930428</td>\n",
       "      <td>0 days 00:07:16.112061</td>\n",
       "      <td>0.758485</td>\n",
       "      <td>0.038881</td>\n",
       "      <td>82</td>\n",
       "      <td>0.221857</td>\n",
       "      <td>91</td>\n",
       "      <td>0.023110</td>\n",
       "      <td>0.101423</td>\n",
       "      <td>0.598658</td>\n",
       "      <td>COMPLETE</td>\n",
       "    </tr>\n",
       "    <tr>\n",
       "      <th>24</th>\n",
       "      <td>24</td>\n",
       "      <td>0.402237</td>\n",
       "      <td>2025-05-15 20:04:46.745819</td>\n",
       "      <td>2025-05-15 20:10:44.064649</td>\n",
       "      <td>0 days 00:05:57.318830</td>\n",
       "      <td>0.553250</td>\n",
       "      <td>0.050137</td>\n",
       "      <td>62</td>\n",
       "      <td>0.842848</td>\n",
       "      <td>178</td>\n",
       "      <td>0.097190</td>\n",
       "      <td>1.376938</td>\n",
       "      <td>0.858628</td>\n",
       "      <td>COMPLETE</td>\n",
       "    </tr>\n",
       "    <tr>\n",
       "      <th>31</th>\n",
       "      <td>31</td>\n",
       "      <td>0.402073</td>\n",
       "      <td>2025-05-15 20:57:18.006386</td>\n",
       "      <td>2025-05-15 21:04:24.835322</td>\n",
       "      <td>0 days 00:07:06.828936</td>\n",
       "      <td>0.653046</td>\n",
       "      <td>0.031397</td>\n",
       "      <td>91</td>\n",
       "      <td>4.884114</td>\n",
       "      <td>153</td>\n",
       "      <td>0.011631</td>\n",
       "      <td>3.604076</td>\n",
       "      <td>0.995618</td>\n",
       "      <td>COMPLETE</td>\n",
       "    </tr>\n",
       "    <tr>\n",
       "      <th>47</th>\n",
       "      <td>47</td>\n",
       "      <td>0.402057</td>\n",
       "      <td>2025-05-15 22:42:44.083912</td>\n",
       "      <td>2025-05-15 22:48:30.811966</td>\n",
       "      <td>0 days 00:05:46.728054</td>\n",
       "      <td>0.810145</td>\n",
       "      <td>0.058404</td>\n",
       "      <td>32</td>\n",
       "      <td>1.909754</td>\n",
       "      <td>120</td>\n",
       "      <td>0.162895</td>\n",
       "      <td>0.040748</td>\n",
       "      <td>0.874319</td>\n",
       "      <td>COMPLETE</td>\n",
       "    </tr>\n",
       "    <tr>\n",
       "      <th>6</th>\n",
       "      <td>6</td>\n",
       "      <td>0.402049</td>\n",
       "      <td>2025-05-15 17:41:24.472911</td>\n",
       "      <td>2025-05-15 17:45:17.284197</td>\n",
       "      <td>0 days 00:03:52.811286</td>\n",
       "      <td>0.789797</td>\n",
       "      <td>0.105669</td>\n",
       "      <td>40</td>\n",
       "      <td>0.001007</td>\n",
       "      <td>65</td>\n",
       "      <td>1.506942</td>\n",
       "      <td>0.004927</td>\n",
       "      <td>0.541990</td>\n",
       "      <td>COMPLETE</td>\n",
       "    </tr>\n",
       "    <tr>\n",
       "      <th>40</th>\n",
       "      <td>40</td>\n",
       "      <td>0.402043</td>\n",
       "      <td>2025-05-15 21:55:34.320963</td>\n",
       "      <td>2025-05-15 21:59:50.346030</td>\n",
       "      <td>0 days 00:04:16.025067</td>\n",
       "      <td>0.624570</td>\n",
       "      <td>0.093331</td>\n",
       "      <td>84</td>\n",
       "      <td>0.386411</td>\n",
       "      <td>137</td>\n",
       "      <td>0.074270</td>\n",
       "      <td>1.023125</td>\n",
       "      <td>0.910734</td>\n",
       "      <td>COMPLETE</td>\n",
       "    </tr>\n",
       "    <tr>\n",
       "      <th>13</th>\n",
       "      <td>13</td>\n",
       "      <td>0.402019</td>\n",
       "      <td>2025-05-15 18:27:17.112188</td>\n",
       "      <td>2025-05-15 18:37:01.066332</td>\n",
       "      <td>0 days 00:09:43.954144</td>\n",
       "      <td>0.509566</td>\n",
       "      <td>0.025371</td>\n",
       "      <td>100</td>\n",
       "      <td>9.558097</td>\n",
       "      <td>145</td>\n",
       "      <td>0.016750</td>\n",
       "      <td>8.809680</td>\n",
       "      <td>0.956241</td>\n",
       "      <td>COMPLETE</td>\n",
       "    </tr>\n",
       "    <tr>\n",
       "      <th>30</th>\n",
       "      <td>30</td>\n",
       "      <td>0.401948</td>\n",
       "      <td>2025-05-15 20:51:32.830717</td>\n",
       "      <td>2025-05-15 20:57:18.005420</td>\n",
       "      <td>0 days 00:05:45.174703</td>\n",
       "      <td>0.842735</td>\n",
       "      <td>0.057592</td>\n",
       "      <td>85</td>\n",
       "      <td>9.945052</td>\n",
       "      <td>51</td>\n",
       "      <td>0.001008</td>\n",
       "      <td>1.222762</td>\n",
       "      <td>0.772588</td>\n",
       "      <td>COMPLETE</td>\n",
       "    </tr>\n",
       "    <tr>\n",
       "      <th>46</th>\n",
       "      <td>46</td>\n",
       "      <td>0.401916</td>\n",
       "      <td>2025-05-15 22:31:56.599171</td>\n",
       "      <td>2025-05-15 22:42:44.082915</td>\n",
       "      <td>0 days 00:10:47.483744</td>\n",
       "      <td>0.523017</td>\n",
       "      <td>0.020766</td>\n",
       "      <td>74</td>\n",
       "      <td>7.070392</td>\n",
       "      <td>133</td>\n",
       "      <td>0.010741</td>\n",
       "      <td>9.968873</td>\n",
       "      <td>0.650805</td>\n",
       "      <td>COMPLETE</td>\n",
       "    </tr>\n",
       "    <tr>\n",
       "      <th>20</th>\n",
       "      <td>20</td>\n",
       "      <td>0.401792</td>\n",
       "      <td>2025-05-15 19:31:21.789928</td>\n",
       "      <td>2025-05-15 19:41:43.811495</td>\n",
       "      <td>0 days 00:10:22.021567</td>\n",
       "      <td>0.554110</td>\n",
       "      <td>0.034001</td>\n",
       "      <td>79</td>\n",
       "      <td>0.634133</td>\n",
       "      <td>87</td>\n",
       "      <td>0.041103</td>\n",
       "      <td>4.289171</td>\n",
       "      <td>0.947096</td>\n",
       "      <td>COMPLETE</td>\n",
       "    </tr>\n",
       "    <tr>\n",
       "      <th>26</th>\n",
       "      <td>26</td>\n",
       "      <td>0.401534</td>\n",
       "      <td>2025-05-15 20:15:52.284673</td>\n",
       "      <td>2025-05-15 20:25:45.817418</td>\n",
       "      <td>0 days 00:09:53.532745</td>\n",
       "      <td>0.630945</td>\n",
       "      <td>0.019143</td>\n",
       "      <td>77</td>\n",
       "      <td>5.689234</td>\n",
       "      <td>157</td>\n",
       "      <td>0.008933</td>\n",
       "      <td>0.376397</td>\n",
       "      <td>0.966673</td>\n",
       "      <td>COMPLETE</td>\n",
       "    </tr>\n",
       "    <tr>\n",
       "      <th>7</th>\n",
       "      <td>7</td>\n",
       "      <td>0.401521</td>\n",
       "      <td>2025-05-15 17:45:17.285165</td>\n",
       "      <td>2025-05-15 17:52:59.839357</td>\n",
       "      <td>0 days 00:07:42.554192</td>\n",
       "      <td>0.600119</td>\n",
       "      <td>0.034883</td>\n",
       "      <td>32</td>\n",
       "      <td>0.001105</td>\n",
       "      <td>72</td>\n",
       "      <td>3.025725</td>\n",
       "      <td>0.010477</td>\n",
       "      <td>0.695129</td>\n",
       "      <td>COMPLETE</td>\n",
       "    </tr>\n",
       "    <tr>\n",
       "      <th>19</th>\n",
       "      <td>19</td>\n",
       "      <td>0.401271</td>\n",
       "      <td>2025-05-15 19:19:07.202180</td>\n",
       "      <td>2025-05-15 19:31:21.788645</td>\n",
       "      <td>0 days 00:12:14.586465</td>\n",
       "      <td>0.729011</td>\n",
       "      <td>0.017934</td>\n",
       "      <td>89</td>\n",
       "      <td>0.596856</td>\n",
       "      <td>176</td>\n",
       "      <td>0.042194</td>\n",
       "      <td>0.701002</td>\n",
       "      <td>0.823440</td>\n",
       "      <td>COMPLETE</td>\n",
       "    </tr>\n",
       "    <tr>\n",
       "      <th>2</th>\n",
       "      <td>2</td>\n",
       "      <td>0.400718</td>\n",
       "      <td>2025-05-15 17:25:09.468790</td>\n",
       "      <td>2025-05-15 17:29:05.063176</td>\n",
       "      <td>0 days 00:03:55.594386</td>\n",
       "      <td>0.987350</td>\n",
       "      <td>0.105392</td>\n",
       "      <td>16</td>\n",
       "      <td>0.196484</td>\n",
       "      <td>190</td>\n",
       "      <td>1.838784</td>\n",
       "      <td>0.187173</td>\n",
       "      <td>0.514851</td>\n",
       "      <td>COMPLETE</td>\n",
       "    </tr>\n",
       "    <tr>\n",
       "      <th>36</th>\n",
       "      <td>36</td>\n",
       "      <td>0.399996</td>\n",
       "      <td>2025-05-15 21:29:34.201963</td>\n",
       "      <td>2025-05-15 21:32:36.731091</td>\n",
       "      <td>0 days 00:03:02.529128</td>\n",
       "      <td>0.893429</td>\n",
       "      <td>0.136829</td>\n",
       "      <td>93</td>\n",
       "      <td>6.081839</td>\n",
       "      <td>187</td>\n",
       "      <td>0.002889</td>\n",
       "      <td>2.655003</td>\n",
       "      <td>0.851393</td>\n",
       "      <td>COMPLETE</td>\n",
       "    </tr>\n",
       "    <tr>\n",
       "      <th>29</th>\n",
       "      <td>29</td>\n",
       "      <td>0.399790</td>\n",
       "      <td>2025-05-15 20:42:22.076871</td>\n",
       "      <td>2025-05-15 20:51:32.829784</td>\n",
       "      <td>0 days 00:09:10.752913</td>\n",
       "      <td>0.678845</td>\n",
       "      <td>0.016983</td>\n",
       "      <td>95</td>\n",
       "      <td>0.303495</td>\n",
       "      <td>117</td>\n",
       "      <td>0.118928</td>\n",
       "      <td>1.416685</td>\n",
       "      <td>0.816840</td>\n",
       "      <td>COMPLETE</td>\n",
       "    </tr>\n",
       "    <tr>\n",
       "      <th>45</th>\n",
       "      <td>45</td>\n",
       "      <td>0.399206</td>\n",
       "      <td>2025-05-15 22:28:39.310147</td>\n",
       "      <td>2025-05-15 22:31:56.598179</td>\n",
       "      <td>0 days 00:03:17.288032</td>\n",
       "      <td>0.780328</td>\n",
       "      <td>0.149887</td>\n",
       "      <td>11</td>\n",
       "      <td>3.375673</td>\n",
       "      <td>22</td>\n",
       "      <td>0.005491</td>\n",
       "      <td>2.187558</td>\n",
       "      <td>0.952997</td>\n",
       "      <td>COMPLETE</td>\n",
       "    </tr>\n",
       "    <tr>\n",
       "      <th>5</th>\n",
       "      <td>5</td>\n",
       "      <td>0.398785</td>\n",
       "      <td>2025-05-15 17:38:19.379618</td>\n",
       "      <td>2025-05-15 17:41:24.471926</td>\n",
       "      <td>0 days 00:03:05.092308</td>\n",
       "      <td>0.984002</td>\n",
       "      <td>0.121602</td>\n",
       "      <td>22</td>\n",
       "      <td>0.001401</td>\n",
       "      <td>164</td>\n",
       "      <td>0.001301</td>\n",
       "      <td>0.013994</td>\n",
       "      <td>0.637305</td>\n",
       "      <td>COMPLETE</td>\n",
       "    </tr>\n",
       "    <tr>\n",
       "      <th>9</th>\n",
       "      <td>9</td>\n",
       "      <td>0.398519</td>\n",
       "      <td>2025-05-15 18:01:31.233068</td>\n",
       "      <td>2025-05-15 18:03:31.586141</td>\n",
       "      <td>0 days 00:02:00.353073</td>\n",
       "      <td>0.842994</td>\n",
       "      <td>0.264102</td>\n",
       "      <td>19</td>\n",
       "      <td>0.004388</td>\n",
       "      <td>105</td>\n",
       "      <td>7.063273</td>\n",
       "      <td>0.251227</td>\n",
       "      <td>0.697996</td>\n",
       "      <td>COMPLETE</td>\n",
       "    </tr>\n",
       "    <tr>\n",
       "      <th>48</th>\n",
       "      <td>48</td>\n",
       "      <td>0.398404</td>\n",
       "      <td>2025-05-15 22:48:30.812961</td>\n",
       "      <td>2025-05-15 22:58:19.591679</td>\n",
       "      <td>0 days 00:09:48.778718</td>\n",
       "      <td>0.718718</td>\n",
       "      <td>0.013976</td>\n",
       "      <td>90</td>\n",
       "      <td>6.930490</td>\n",
       "      <td>146</td>\n",
       "      <td>0.019645</td>\n",
       "      <td>0.007314</td>\n",
       "      <td>0.519876</td>\n",
       "      <td>COMPLETE</td>\n",
       "    </tr>\n",
       "    <tr>\n",
       "      <th>3</th>\n",
       "      <td>3</td>\n",
       "      <td>0.396381</td>\n",
       "      <td>2025-05-15 17:29:05.064095</td>\n",
       "      <td>2025-05-15 17:31:30.285070</td>\n",
       "      <td>0 days 00:02:25.220975</td>\n",
       "      <td>0.761205</td>\n",
       "      <td>0.199227</td>\n",
       "      <td>47</td>\n",
       "      <td>0.004195</td>\n",
       "      <td>193</td>\n",
       "      <td>0.146349</td>\n",
       "      <td>0.023260</td>\n",
       "      <td>0.895281</td>\n",
       "      <td>COMPLETE</td>\n",
       "    </tr>\n",
       "    <tr>\n",
       "      <th>0</th>\n",
       "      <td>0</td>\n",
       "      <td>0.395856</td>\n",
       "      <td>2025-05-15 17:11:18.559925</td>\n",
       "      <td>2025-05-15 17:20:55.498249</td>\n",
       "      <td>0 days 00:09:36.938324</td>\n",
       "      <td>0.920372</td>\n",
       "      <td>0.013538</td>\n",
       "      <td>23</td>\n",
       "      <td>0.001039</td>\n",
       "      <td>109</td>\n",
       "      <td>0.357775</td>\n",
       "      <td>1.451741</td>\n",
       "      <td>0.817820</td>\n",
       "      <td>COMPLETE</td>\n",
       "    </tr>\n",
       "    <tr>\n",
       "      <th>8</th>\n",
       "      <td>8</td>\n",
       "      <td>0.394663</td>\n",
       "      <td>2025-05-15 17:52:59.840265</td>\n",
       "      <td>2025-05-15 18:01:31.232153</td>\n",
       "      <td>0 days 00:08:31.391888</td>\n",
       "      <td>0.612495</td>\n",
       "      <td>0.011728</td>\n",
       "      <td>53</td>\n",
       "      <td>0.001794</td>\n",
       "      <td>78</td>\n",
       "      <td>3.720975</td>\n",
       "      <td>0.569739</td>\n",
       "      <td>0.740076</td>\n",
       "      <td>COMPLETE</td>\n",
       "    </tr>\n",
       "    <tr>\n",
       "      <th>4</th>\n",
       "      <td>4</td>\n",
       "      <td>0.386468</td>\n",
       "      <td>2025-05-15 17:31:30.286008</td>\n",
       "      <td>2025-05-15 17:38:19.378389</td>\n",
       "      <td>0 days 00:06:49.092381</td>\n",
       "      <td>0.897224</td>\n",
       "      <td>0.011685</td>\n",
       "      <td>11</td>\n",
       "      <td>0.530933</td>\n",
       "      <td>28</td>\n",
       "      <td>2.003115</td>\n",
       "      <td>0.001448</td>\n",
       "      <td>0.856593</td>\n",
       "      <td>COMPLETE</td>\n",
       "    </tr>\n",
       "  </tbody>\n",
       "</table>\n",
       "</div>"
      ],
      "text/plain": [
       "    number     value             datetime_start          datetime_complete  \\\n",
       "12      12  0.404572 2025-05-15 18:18:00.803820 2025-05-15 18:27:17.111209   \n",
       "10      10  0.404263 2025-05-15 18:03:31.587135 2025-05-15 18:10:51.713750   \n",
       "32      32  0.404143 2025-05-15 21:04:24.836251 2025-05-15 21:12:17.554860   \n",
       "11      11  0.403847 2025-05-15 18:10:51.714671 2025-05-15 18:18:00.802860   \n",
       "43      43  0.403804 2025-05-15 22:15:07.983712 2025-05-15 22:21:54.777453   \n",
       "42      42  0.403717 2025-05-15 22:06:59.363129 2025-05-15 22:15:07.982774   \n",
       "23      23  0.403710 2025-05-15 19:55:39.703544 2025-05-15 20:04:46.744708   \n",
       "18      18  0.403691 2025-05-15 19:10:30.143613 2025-05-15 19:19:07.200694   \n",
       "44      44  0.403686 2025-05-15 22:21:54.778439 2025-05-15 22:28:39.309180   \n",
       "39      39  0.403428 2025-05-15 21:45:27.539809 2025-05-15 21:55:34.320050   \n",
       "33      33  0.403366 2025-05-15 21:12:17.555752 2025-05-15 21:16:57.197270   \n",
       "34      34  0.403331 2025-05-15 21:16:57.198145 2025-05-15 21:23:42.509790   \n",
       "25      25  0.403274 2025-05-15 20:10:44.065596 2025-05-15 20:15:52.283752   \n",
       "14      14  0.403269 2025-05-15 18:37:01.067446 2025-05-15 18:43:42.263416   \n",
       "28      28  0.403201 2025-05-15 20:33:01.931463 2025-05-15 20:42:22.075871   \n",
       "22      22  0.403144 2025-05-15 19:49:45.469353 2025-05-15 19:55:39.702280   \n",
       "37      37  0.403048 2025-05-15 21:32:36.731997 2025-05-15 21:40:08.919117   \n",
       "16      16  0.402947 2025-05-15 18:53:51.860064 2025-05-15 18:59:19.746125   \n",
       "35      35  0.402932 2025-05-15 21:23:42.510670 2025-05-15 21:29:34.201051   \n",
       "17      17  0.402929 2025-05-15 18:59:19.747142 2025-05-15 19:10:30.142540   \n",
       "21      21  0.402897 2025-05-15 19:41:43.812802 2025-05-15 19:49:45.468003   \n",
       "49      49  0.402890 2025-05-15 22:58:19.592633 2025-05-15 23:05:32.140273   \n",
       "1        1  0.402877 2025-05-15 17:20:55.499286 2025-05-15 17:25:09.467811   \n",
       "41      41  0.402683 2025-05-15 21:59:50.346923 2025-05-15 22:06:59.362252   \n",
       "38      38  0.402555 2025-05-15 21:40:08.920060 2025-05-15 21:45:27.538885   \n",
       "15      15  0.402380 2025-05-15 18:43:42.264430 2025-05-15 18:53:51.859061   \n",
       "27      27  0.402307 2025-05-15 20:25:45.818367 2025-05-15 20:33:01.930428   \n",
       "24      24  0.402237 2025-05-15 20:04:46.745819 2025-05-15 20:10:44.064649   \n",
       "31      31  0.402073 2025-05-15 20:57:18.006386 2025-05-15 21:04:24.835322   \n",
       "47      47  0.402057 2025-05-15 22:42:44.083912 2025-05-15 22:48:30.811966   \n",
       "6        6  0.402049 2025-05-15 17:41:24.472911 2025-05-15 17:45:17.284197   \n",
       "40      40  0.402043 2025-05-15 21:55:34.320963 2025-05-15 21:59:50.346030   \n",
       "13      13  0.402019 2025-05-15 18:27:17.112188 2025-05-15 18:37:01.066332   \n",
       "30      30  0.401948 2025-05-15 20:51:32.830717 2025-05-15 20:57:18.005420   \n",
       "46      46  0.401916 2025-05-15 22:31:56.599171 2025-05-15 22:42:44.082915   \n",
       "20      20  0.401792 2025-05-15 19:31:21.789928 2025-05-15 19:41:43.811495   \n",
       "26      26  0.401534 2025-05-15 20:15:52.284673 2025-05-15 20:25:45.817418   \n",
       "7        7  0.401521 2025-05-15 17:45:17.285165 2025-05-15 17:52:59.839357   \n",
       "19      19  0.401271 2025-05-15 19:19:07.202180 2025-05-15 19:31:21.788645   \n",
       "2        2  0.400718 2025-05-15 17:25:09.468790 2025-05-15 17:29:05.063176   \n",
       "36      36  0.399996 2025-05-15 21:29:34.201963 2025-05-15 21:32:36.731091   \n",
       "29      29  0.399790 2025-05-15 20:42:22.076871 2025-05-15 20:51:32.829784   \n",
       "45      45  0.399206 2025-05-15 22:28:39.310147 2025-05-15 22:31:56.598179   \n",
       "5        5  0.398785 2025-05-15 17:38:19.379618 2025-05-15 17:41:24.471926   \n",
       "9        9  0.398519 2025-05-15 18:01:31.233068 2025-05-15 18:03:31.586141   \n",
       "48      48  0.398404 2025-05-15 22:48:30.812961 2025-05-15 22:58:19.591679   \n",
       "3        3  0.396381 2025-05-15 17:29:05.064095 2025-05-15 17:31:30.285070   \n",
       "0        0  0.395856 2025-05-15 17:11:18.559925 2025-05-15 17:20:55.498249   \n",
       "8        8  0.394663 2025-05-15 17:52:59.840265 2025-05-15 18:01:31.232153   \n",
       "4        4  0.386468 2025-05-15 17:31:30.286008 2025-05-15 17:38:19.378389   \n",
       "\n",
       "                 duration  params_colsample_bytree  params_learning_rate  \\\n",
       "12 0 days 00:09:16.307389                 0.534038              0.039285   \n",
       "10 0 days 00:07:20.126615                 0.678637              0.047164   \n",
       "32 0 days 00:07:52.718609                 0.691660              0.041485   \n",
       "11 0 days 00:07:09.088189                 0.685493              0.043642   \n",
       "43 0 days 00:06:46.793741                 0.742332              0.053668   \n",
       "42 0 days 00:08:08.619645                 0.669545              0.037992   \n",
       "23 0 days 00:09:07.041164                 0.655469              0.035500   \n",
       "18 0 days 00:08:37.057081                 0.644938              0.043804   \n",
       "44 0 days 00:06:44.530741                 0.750623              0.053220   \n",
       "39 0 days 00:10:06.780241                 0.576300              0.027997   \n",
       "33 0 days 00:04:39.641518                 0.693858              0.086074   \n",
       "34 0 days 00:06:45.311645                 0.737181              0.043999   \n",
       "25 0 days 00:05:08.218156                 0.714535              0.080212   \n",
       "14 0 days 00:06:41.195970                 0.500381              0.060949   \n",
       "28 0 days 00:09:20.144408                 0.580281              0.028988   \n",
       "22 0 days 00:05:54.232927                 0.812407              0.074538   \n",
       "37 0 days 00:07:32.187120                 0.791870              0.041132   \n",
       "16 0 days 00:05:27.886061                 0.686668              0.069248   \n",
       "35 0 days 00:05:51.690381                 0.768091              0.053248   \n",
       "17 0 days 00:11:10.395398                 0.547981              0.024707   \n",
       "21 0 days 00:08:01.655201                 0.715674              0.046291   \n",
       "49 0 days 00:07:12.547640                 0.940673              0.048061   \n",
       "1  0 days 00:04:13.968525                 0.675505              0.117723   \n",
       "41 0 days 00:07:09.015329                 0.655705              0.035982   \n",
       "38 0 days 00:05:18.618825                 0.698990              0.064206   \n",
       "15 0 days 00:10:09.594631                 0.602096              0.023680   \n",
       "27 0 days 00:07:16.112061                 0.758485              0.038881   \n",
       "24 0 days 00:05:57.318830                 0.553250              0.050137   \n",
       "31 0 days 00:07:06.828936                 0.653046              0.031397   \n",
       "47 0 days 00:05:46.728054                 0.810145              0.058404   \n",
       "6  0 days 00:03:52.811286                 0.789797              0.105669   \n",
       "40 0 days 00:04:16.025067                 0.624570              0.093331   \n",
       "13 0 days 00:09:43.954144                 0.509566              0.025371   \n",
       "30 0 days 00:05:45.174703                 0.842735              0.057592   \n",
       "46 0 days 00:10:47.483744                 0.523017              0.020766   \n",
       "20 0 days 00:10:22.021567                 0.554110              0.034001   \n",
       "26 0 days 00:09:53.532745                 0.630945              0.019143   \n",
       "7  0 days 00:07:42.554192                 0.600119              0.034883   \n",
       "19 0 days 00:12:14.586465                 0.729011              0.017934   \n",
       "2  0 days 00:03:55.594386                 0.987350              0.105392   \n",
       "36 0 days 00:03:02.529128                 0.893429              0.136829   \n",
       "29 0 days 00:09:10.752913                 0.678845              0.016983   \n",
       "45 0 days 00:03:17.288032                 0.780328              0.149887   \n",
       "5  0 days 00:03:05.092308                 0.984002              0.121602   \n",
       "9  0 days 00:02:00.353073                 0.842994              0.264102   \n",
       "48 0 days 00:09:48.778718                 0.718718              0.013976   \n",
       "3  0 days 00:02:25.220975                 0.761205              0.199227   \n",
       "0  0 days 00:09:36.938324                 0.920372              0.013538   \n",
       "8  0 days 00:08:31.391888                 0.612495              0.011728   \n",
       "4  0 days 00:06:49.092381                 0.897224              0.011685   \n",
       "\n",
       "    params_min_child_samples  params_min_child_weight  params_num_leaves  \\\n",
       "12                       100                 9.842232                151   \n",
       "10                        86                 4.672897                143   \n",
       "32                        83                 4.487733                182   \n",
       "11                        87                 7.229594                147   \n",
       "43                        94                 2.296151                116   \n",
       "42                        95                 2.483566                117   \n",
       "23                        87                 5.111459                153   \n",
       "18                        60                 0.023557                128   \n",
       "44                        96                 1.727525                 99   \n",
       "39                        70                 7.230495                168   \n",
       "33                        78                 1.420755                179   \n",
       "34                        82                 3.335036                198   \n",
       "25                        92                 1.197365                126   \n",
       "14                        68                 2.186879                142   \n",
       "28                        64                 2.470192                139   \n",
       "22                        99                 4.249823                128   \n",
       "37                        55                 0.020045                109   \n",
       "16                        71                 0.055787                129   \n",
       "35                       100                 0.078993                187   \n",
       "17                        74                 2.908870                169   \n",
       "21                        88                 9.809395                145   \n",
       "49                        80                 0.875564                172   \n",
       "1                         83                 0.002030                107   \n",
       "41                        87                 4.078152                153   \n",
       "38                        45                 1.151277                160   \n",
       "15                        95                 1.682932                164   \n",
       "27                        82                 0.221857                 91   \n",
       "24                        62                 0.842848                178   \n",
       "31                        91                 4.884114                153   \n",
       "47                        32                 1.909754                120   \n",
       "6                         40                 0.001007                 65   \n",
       "40                        84                 0.386411                137   \n",
       "13                       100                 9.558097                145   \n",
       "30                        85                 9.945052                 51   \n",
       "46                        74                 7.070392                133   \n",
       "20                        79                 0.634133                 87   \n",
       "26                        77                 5.689234                157   \n",
       "7                         32                 0.001105                 72   \n",
       "19                        89                 0.596856                176   \n",
       "2                         16                 0.196484                190   \n",
       "36                        93                 6.081839                187   \n",
       "29                        95                 0.303495                117   \n",
       "45                        11                 3.375673                 22   \n",
       "5                         22                 0.001401                164   \n",
       "9                         19                 0.004388                105   \n",
       "48                        90                 6.930490                146   \n",
       "3                         47                 0.004195                193   \n",
       "0                         23                 0.001039                109   \n",
       "8                         53                 0.001794                 78   \n",
       "4                         11                 0.530933                 28   \n",
       "\n",
       "    params_reg_alpha  params_reg_lambda  params_subsample     state  \n",
       "12          0.009868           8.490861          0.994071  COMPLETE  \n",
       "10          0.010907           8.987196          0.992484  COMPLETE  \n",
       "32          0.026653           9.732879          0.971970  COMPLETE  \n",
       "11          0.009773           8.917353          0.993795  COMPLETE  \n",
       "43          0.021356           9.214875          0.951373  COMPLETE  \n",
       "42          0.014967           6.112592          0.979561  COMPLETE  \n",
       "23          0.015116           3.763855          0.999523  COMPLETE  \n",
       "18          0.004179           0.742222          0.877557  COMPLETE  \n",
       "44          0.030728           7.182606          0.939215  COMPLETE  \n",
       "39          0.269475           1.848105          0.941538  COMPLETE  \n",
       "33          0.024749           9.500259          0.961228  COMPLETE  \n",
       "34          0.061102           4.498504          0.924357  COMPLETE  \n",
       "25          0.002189           5.853276          0.929307  COMPLETE  \n",
       "14          0.015024           2.040267          0.912187  COMPLETE  \n",
       "28          0.430304           2.649427          0.891204  COMPLETE  \n",
       "22          0.003316           9.113905          0.939220  COMPLETE  \n",
       "37          0.453660           6.237381          0.893497  COMPLETE  \n",
       "16          0.045317           4.389633          0.916383  COMPLETE  \n",
       "35          0.005871           5.864193          0.972498  COMPLETE  \n",
       "17          0.001758           0.054102          0.997086  COMPLETE  \n",
       "21          0.008284           8.330799          0.997660  COMPLETE  \n",
       "49          0.056294           5.072067          0.718010  COMPLETE  \n",
       "1           5.767485           0.001316          0.792037  COMPLETE  \n",
       "41          0.007578           3.470358          0.999084  COMPLETE  \n",
       "38          0.027945           0.002519          0.975550  COMPLETE  \n",
       "15          0.005658           2.516035          0.972023  COMPLETE  \n",
       "27          0.023110           0.101423          0.598658  COMPLETE  \n",
       "24          0.097190           1.376938          0.858628  COMPLETE  \n",
       "31          0.011631           3.604076          0.995618  COMPLETE  \n",
       "47          0.162895           0.040748          0.874319  COMPLETE  \n",
       "6           1.506942           0.004927          0.541990  COMPLETE  \n",
       "40          0.074270           1.023125          0.910734  COMPLETE  \n",
       "13          0.016750           8.809680          0.956241  COMPLETE  \n",
       "30          0.001008           1.222762          0.772588  COMPLETE  \n",
       "46          0.010741           9.968873          0.650805  COMPLETE  \n",
       "20          0.041103           4.289171          0.947096  COMPLETE  \n",
       "26          0.008933           0.376397          0.966673  COMPLETE  \n",
       "7           3.025725           0.010477          0.695129  COMPLETE  \n",
       "19          0.042194           0.701002          0.823440  COMPLETE  \n",
       "2           1.838784           0.187173          0.514851  COMPLETE  \n",
       "36          0.002889           2.655003          0.851393  COMPLETE  \n",
       "29          0.118928           1.416685          0.816840  COMPLETE  \n",
       "45          0.005491           2.187558          0.952997  COMPLETE  \n",
       "5           0.001301           0.013994          0.637305  COMPLETE  \n",
       "9           7.063273           0.251227          0.697996  COMPLETE  \n",
       "48          0.019645           0.007314          0.519876  COMPLETE  \n",
       "3           0.146349           0.023260          0.895281  COMPLETE  \n",
       "0           0.357775           1.451741          0.817820  COMPLETE  \n",
       "8           3.720975           0.569739          0.740076  COMPLETE  \n",
       "4           2.003115           0.001448          0.856593  COMPLETE  "
      ]
     },
     "execution_count": 13,
     "metadata": {},
     "output_type": "execute_result"
    }
   ],
   "source": [
    "study_df.sort_values(\"value\", ascending=False)"
   ]
  }
 ],
 "metadata": {
  "kernelspec": {
   "display_name": "3.10.12",
   "language": "python",
   "name": "python3"
  },
  "language_info": {
   "codemirror_mode": {
    "name": "ipython",
    "version": 3
   },
   "file_extension": ".py",
   "mimetype": "text/x-python",
   "name": "python",
   "nbconvert_exporter": "python",
   "pygments_lexer": "ipython3",
   "version": "3.10.12"
  }
 },
 "nbformat": 4,
 "nbformat_minor": 5
}
