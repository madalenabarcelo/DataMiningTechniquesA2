{
 "cells": [
  {
   "cell_type": "code",
   "execution_count": 2,
   "id": "3f1266d2",
   "metadata": {},
   "outputs": [
    {
     "name": "stdout",
     "output_type": "stream",
     "text": [
      "Path (/Users/madalenabarcelo/Desktop/BA/DMT/assignment_2/DataMiningTechniquesA2) already exists in sys.path\n"
     ]
    }
   ],
   "source": [
    "%load_ext autoreload\n",
    "%autoreload 2\n",
    "%run ./initializer"
   ]
  },
  {
   "cell_type": "code",
   "execution_count": 3,
   "id": "fecde38d",
   "metadata": {},
   "outputs": [],
   "source": [
    "import pandas as pd\n",
    "import numpy as np\n",
    "from item_similarity import ClusteredItemBasedCF"
   ]
  },
  {
   "cell_type": "code",
   "execution_count": 4,
   "id": "c15dc4d9",
   "metadata": {},
   "outputs": [],
   "source": [
    "train_df = pd.read_parquet(\"data/training_set_processed.parquet\")\n",
    "test_df = pd.read_parquet(\"data/test_set_processed.parquet\")"
   ]
  },
  {
   "cell_type": "code",
   "execution_count": null,
   "id": "03aa93eb",
   "metadata": {},
   "outputs": [],
   "source": [
    "# Initialize model\n",
    "cf_model = ClusteredItemBasedCF(k=5, n_clusters=10)\n",
    "\n",
    "\n",
    "item_feature_cols = ['prop_starrating', 'prop_review_score', 'prop_location_score1']\n",
    "\n",
    "# Only keep one row per prop_id with its features\n",
    "item_features_df = train_df[['prop_id'] + item_feature_cols].drop_duplicates('prop_id').dropna()\n",
    "\n",
    "# Handle bad values\n",
    "item_features_df.replace([np.inf, -np.inf], np.nan, inplace=True)  # Replace inf\n",
    "item_features_df.dropna(inplace=True)  # Drop rows with NaNs\n",
    "\n",
    "# Sample a portion of training data for efficiency\n",
    "sampled_train_df = train_df.sample(frac=0.01, random_state=42)\n",
    "\n",
    "# Set up item-to-cluster mapping\n",
    "#clusters = cf_model.cluster_items(item_features_df, features=item_feature_cols)\n",
    "#cf_model.item_to_cluster = dict(zip(clusters['prop_id'], clusters['cluster']))\n",
    "\n",
    "# Format and train model\n",
    "cf_model.format_and_train(sampled_train_df, item_features=item_features_df, feature_cols=item_feature_cols)\n",
    "\n",
    "# === 4. Predict scores for test users ===\n",
    "pred_df = cf_model.predict_for_test_users(test_df)\n",
    "\n",
    "# === 5. Sort predictions by score ===\n",
    "pred_df = pred_df.sort_values(by=['srch_id', 'score'], ascending=[True, False])\n",
    "\n",
    "# export csv for submission\n",
    "pred_df[[\"srch_id\", \"prop_id\"]].to_csv(\"submission.csv\", index=False)"
   ]
  }
 ],
 "metadata": {
  "kernelspec": {
   "display_name": ".venv",
   "language": "python",
   "name": "python3"
  },
  "language_info": {
   "codemirror_mode": {
    "name": "ipython",
    "version": 3
   },
   "file_extension": ".py",
   "mimetype": "text/x-python",
   "name": "python",
   "nbconvert_exporter": "python",
   "pygments_lexer": "ipython3",
   "version": "3.10.16"
  }
 },
 "nbformat": 4,
 "nbformat_minor": 5
}
