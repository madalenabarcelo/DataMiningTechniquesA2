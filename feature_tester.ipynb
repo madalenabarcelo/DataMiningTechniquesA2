{
 "cells": [
  {
   "cell_type": "code",
   "execution_count": null,
   "id": "e882a1b3",
   "metadata": {},
   "outputs": [],
   "source": [
    "%load_ext autoreload\n",
    "%autoreload 2\n",
    "%run ./initializer"
   ]
  },
  {
   "cell_type": "code",
   "execution_count": null,
   "id": "3c4cd098",
   "metadata": {},
   "outputs": [],
   "source": [
    "import pandas as pd\n",
    "from lgbm_ranker import LGBMRankerModel, LGBMRanker\n",
    "from feature_tester import FeatureTester\n",
    "import numpy as np"
   ]
  },
  {
   "cell_type": "code",
   "execution_count": null,
   "id": "940224a1",
   "metadata": {},
   "outputs": [],
   "source": [
    "train_df = pd.read_parquet(\"data/training_set_processed.parquet\")"
   ]
  },
  {
   "cell_type": "code",
   "execution_count": null,
   "id": "674af584",
   "metadata": {},
   "outputs": [],
   "source": [
    "lgbm_class_model = LGBMRankerModel(\n",
    "    df = train_df,              # Only initialized to get column names\n",
    "    objective=\"lambdarank\",\n",
    "    metric=\"ndcg\",\n",
    "    ndcg_eval_at=[5],\n",
    "    n_estimators=1000,\n",
    "    learning_rate=0.05,\n",
    ")"
   ]
  },
  {
   "cell_type": "code",
   "execution_count": null,
   "id": "3da4de6b",
   "metadata": {},
   "outputs": [],
   "source": [
    "impute_null_columns = {\"visitor_hist_starrating\": \"median\", \"visitor_hist_adr_usd\": \"mean\", \"prop_review_score\": \"median\", \"orig_destination_distance\": \"mean\", \"prop_log_historical_price\":\"mean\"}\n",
    "feature_tester = FeatureTester(lgbm_class_model, impute_null_columns=impute_null_columns)"
   ]
  },
  {
   "cell_type": "code",
   "execution_count": null,
   "id": "8b81e75d",
   "metadata": {},
   "outputs": [],
   "source": [
    "model_opt, model_opt_not_imputed = feature_tester.test_na_fill_method()"
   ]
  }
 ],
 "metadata": {
  "kernelspec": {
   "display_name": "3.10.12",
   "language": "python",
   "name": "python3"
  },
  "language_info": {
   "name": "python",
   "version": "3.10.12"
  }
 },
 "nbformat": 4,
 "nbformat_minor": 5
}
