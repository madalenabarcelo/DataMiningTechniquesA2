{
 "cells": [
  {
   "cell_type": "code",
   "execution_count": 3,
   "id": "0f1133c9",
   "metadata": {},
   "outputs": [
    {
     "name": "stdout",
     "output_type": "stream",
     "text": [
      "Path (/Users/rik/Documents/VU/DMT/DataMiningTechniquesA2) already exists in sys.path\n"
     ]
    }
   ],
   "source": [
    "%load_ext autoreload\n",
    "%autoreload 2\n",
    "%run ./initializer"
   ]
  },
  {
   "cell_type": "code",
   "execution_count": 4,
   "id": "8f2ee368",
   "metadata": {},
   "outputs": [],
   "source": [
    "import polars as pl\n",
    "from data_preparation import DataPreparer"
   ]
  },
  {
   "cell_type": "code",
   "execution_count": 5,
   "id": "1316859d",
   "metadata": {},
   "outputs": [
    {
     "name": "stdout",
     "output_type": "stream",
     "text": [
      "Data uploaded to data/training_set_processed.parquet\n",
      "Data uploaded to data/test_set_processed.parquet\n"
     ]
    }
   ],
   "source": [
    "data_preparer = DataPreparer()\n",
    "data_preparer.load_and_preprocess_data(\"training_set_VU_DM.csv\", \"training_set_processed\")\n",
    "data_preparer.load_and_preprocess_data(\"test_set_VU_DM.csv\", \"test_set_processed\")"
   ]
  },
  {
   "cell_type": "code",
   "execution_count": 6,
   "id": "76a4d11d",
   "metadata": {},
   "outputs": [],
   "source": [
    "train_df = pl.read_parquet(\"data/training_set_processed.parquet\")\n",
    "test_df = pl.read_parquet(\"data/test_set_processed.parquet\")"
   ]
  },
  {
   "cell_type": "code",
   "execution_count": 7,
   "id": "ee4175bc",
   "metadata": {},
   "outputs": [
    {
     "data": {
      "text/html": [
       "<div><style>\n",
       ".dataframe > thead > tr,\n",
       ".dataframe > tbody > tr {\n",
       "  text-align: right;\n",
       "  white-space: pre-wrap;\n",
       "}\n",
       "</style>\n",
       "<small>shape: (4_958_347, 96)</small><table border=\"1\" class=\"dataframe\"><thead><tr><th>srch_id</th><th>site_id</th><th>visitor_location_country_id</th><th>visitor_hist_starrating</th><th>visitor_hist_adr_usd</th><th>prop_country_id</th><th>prop_id</th><th>prop_starrating</th><th>prop_review_score</th><th>prop_brand_bool</th><th>prop_location_score1</th><th>prop_location_score2</th><th>prop_log_historical_price</th><th>position</th><th>price_usd</th><th>promotion_flag</th><th>srch_destination_id</th><th>srch_length_of_stay</th><th>srch_booking_window</th><th>srch_adults_count</th><th>srch_children_count</th><th>srch_room_count</th><th>srch_saturday_night_bool</th><th>srch_query_affinity_score</th><th>orig_destination_distance</th><th>random_bool</th><th>comp1_rate</th><th>comp1_inv</th><th>comp1_rate_percent_diff</th><th>comp2_rate</th><th>comp2_inv</th><th>comp2_rate_percent_diff</th><th>comp3_rate</th><th>comp3_inv</th><th>comp3_rate_percent_diff</th><th>comp4_rate</th><th>comp4_inv</th><th>&hellip;</th><th>is_night</th><th>is_spring</th><th>is_summer</th><th>is_autumn</th><th>is_winter</th><th>is_weekend</th><th>visitor_hist_starrating_flag</th><th>visitor_hist_adr_usd_flag</th><th>prop_review_score_flag</th><th>srch_query_affinity_score_flag</th><th>orig_destination_distance_flag</th><th>comp1_rate_flag</th><th>comp2_rate_flag</th><th>comp3_rate_flag</th><th>comp4_rate_flag</th><th>comp5_rate_flag</th><th>comp6_rate_flag</th><th>comp7_rate_flag</th><th>comp8_rate_flag</th><th>comp1_inv_flag</th><th>comp2_inv_flag</th><th>comp3_inv_flag</th><th>comp4_inv_flag</th><th>comp5_inv_flag</th><th>comp6_inv_flag</th><th>comp7_inv_flag</th><th>comp8_inv_flag</th><th>comp1_rate_percent_diff_flag</th><th>comp2_rate_percent_diff_flag</th><th>comp3_rate_percent_diff_flag</th><th>comp4_rate_percent_diff_flag</th><th>comp5_rate_percent_diff_flag</th><th>comp6_rate_percent_diff_flag</th><th>comp7_rate_percent_diff_flag</th><th>comp8_rate_percent_diff_flag</th><th>prop_review_score_zero_flag</th><th>prop_log_historical_price_zero_flag</th></tr><tr><td>i32</td><td>i8</td><td>i16</td><td>f32</td><td>f32</td><td>i16</td><td>i32</td><td>i8</td><td>f32</td><td>i8</td><td>f32</td><td>f32</td><td>f32</td><td>i8</td><td>f32</td><td>i8</td><td>i16</td><td>i8</td><td>i16</td><td>i8</td><td>i8</td><td>i8</td><td>i8</td><td>f32</td><td>f32</td><td>i8</td><td>i8</td><td>i8</td><td>i16</td><td>i8</td><td>i8</td><td>i32</td><td>i8</td><td>i8</td><td>i32</td><td>i8</td><td>i8</td><td>&hellip;</td><td>i8</td><td>i8</td><td>i8</td><td>i8</td><td>i8</td><td>i8</td><td>i8</td><td>i8</td><td>i8</td><td>i8</td><td>i8</td><td>i8</td><td>i8</td><td>i8</td><td>i8</td><td>i8</td><td>i8</td><td>i8</td><td>i8</td><td>i8</td><td>i8</td><td>i8</td><td>i8</td><td>i8</td><td>i8</td><td>i8</td><td>i8</td><td>i8</td><td>i8</td><td>i8</td><td>i8</td><td>i8</td><td>i8</td><td>i8</td><td>i8</td><td>i8</td><td>i8</td></tr></thead><tbody><tr><td>1</td><td>12</td><td>187</td><td>null</td><td>null</td><td>219</td><td>893</td><td>3</td><td>3.5</td><td>1</td><td>2.83</td><td>0.0438</td><td>4.95</td><td>27</td><td>104.769997</td><td>0</td><td>23246</td><td>1</td><td>0</td><td>4</td><td>0</td><td>1</td><td>1</td><td>null</td><td>null</td><td>1</td><td>null</td><td>null</td><td>null</td><td>0</td><td>0</td><td>null</td><td>0</td><td>0</td><td>null</td><td>null</td><td>null</td><td>&hellip;</td><td>0</td><td>1</td><td>0</td><td>0</td><td>0</td><td>0</td><td>1</td><td>1</td><td>0</td><td>1</td><td>1</td><td>1</td><td>0</td><td>0</td><td>1</td><td>0</td><td>1</td><td>1</td><td>0</td><td>1</td><td>0</td><td>0</td><td>1</td><td>0</td><td>1</td><td>1</td><td>0</td><td>1</td><td>1</td><td>1</td><td>1</td><td>1</td><td>1</td><td>1</td><td>1</td><td>0</td><td>0</td></tr><tr><td>1</td><td>12</td><td>187</td><td>null</td><td>null</td><td>219</td><td>10404</td><td>4</td><td>4.0</td><td>1</td><td>2.2</td><td>0.0149</td><td>5.03</td><td>26</td><td>170.740005</td><td>0</td><td>23246</td><td>1</td><td>0</td><td>4</td><td>0</td><td>1</td><td>1</td><td>null</td><td>null</td><td>1</td><td>null</td><td>null</td><td>null</td><td>null</td><td>null</td><td>null</td><td>0</td><td>0</td><td>null</td><td>null</td><td>null</td><td>&hellip;</td><td>0</td><td>1</td><td>0</td><td>0</td><td>0</td><td>0</td><td>1</td><td>1</td><td>0</td><td>1</td><td>1</td><td>1</td><td>1</td><td>0</td><td>1</td><td>0</td><td>1</td><td>1</td><td>0</td><td>1</td><td>1</td><td>0</td><td>1</td><td>0</td><td>1</td><td>1</td><td>0</td><td>1</td><td>1</td><td>1</td><td>1</td><td>1</td><td>1</td><td>1</td><td>1</td><td>0</td><td>0</td></tr><tr><td>1</td><td>12</td><td>187</td><td>null</td><td>null</td><td>219</td><td>21315</td><td>3</td><td>4.5</td><td>1</td><td>2.2</td><td>0.0245</td><td>4.92</td><td>21</td><td>179.800003</td><td>0</td><td>23246</td><td>1</td><td>0</td><td>4</td><td>0</td><td>1</td><td>1</td><td>null</td><td>null</td><td>1</td><td>null</td><td>null</td><td>null</td><td>0</td><td>0</td><td>null</td><td>0</td><td>0</td><td>null</td><td>null</td><td>null</td><td>&hellip;</td><td>0</td><td>1</td><td>0</td><td>0</td><td>0</td><td>0</td><td>1</td><td>1</td><td>0</td><td>1</td><td>1</td><td>1</td><td>0</td><td>0</td><td>1</td><td>0</td><td>1</td><td>1</td><td>0</td><td>1</td><td>0</td><td>0</td><td>1</td><td>0</td><td>1</td><td>1</td><td>0</td><td>1</td><td>1</td><td>1</td><td>1</td><td>1</td><td>1</td><td>1</td><td>1</td><td>0</td><td>0</td></tr><tr><td>1</td><td>12</td><td>187</td><td>null</td><td>null</td><td>219</td><td>27348</td><td>2</td><td>4.0</td><td>1</td><td>2.83</td><td>0.0125</td><td>4.39</td><td>34</td><td>602.77002</td><td>0</td><td>23246</td><td>1</td><td>0</td><td>4</td><td>0</td><td>1</td><td>1</td><td>null</td><td>null</td><td>1</td><td>null</td><td>null</td><td>null</td><td>-1</td><td>0</td><td>5</td><td>-1</td><td>0</td><td>5</td><td>null</td><td>null</td><td>&hellip;</td><td>0</td><td>1</td><td>0</td><td>0</td><td>0</td><td>0</td><td>1</td><td>1</td><td>0</td><td>1</td><td>1</td><td>1</td><td>0</td><td>0</td><td>1</td><td>0</td><td>1</td><td>1</td><td>0</td><td>1</td><td>0</td><td>0</td><td>1</td><td>0</td><td>1</td><td>1</td><td>0</td><td>1</td><td>0</td><td>0</td><td>1</td><td>1</td><td>1</td><td>1</td><td>0</td><td>0</td><td>0</td></tr><tr><td>1</td><td>12</td><td>187</td><td>null</td><td>null</td><td>219</td><td>29604</td><td>4</td><td>3.5</td><td>1</td><td>2.64</td><td>0.1241</td><td>4.93</td><td>4</td><td>143.580002</td><td>0</td><td>23246</td><td>1</td><td>0</td><td>4</td><td>0</td><td>1</td><td>1</td><td>null</td><td>null</td><td>1</td><td>null</td><td>null</td><td>null</td><td>0</td><td>0</td><td>null</td><td>0</td><td>0</td><td>null</td><td>null</td><td>null</td><td>&hellip;</td><td>0</td><td>1</td><td>0</td><td>0</td><td>0</td><td>0</td><td>1</td><td>1</td><td>0</td><td>1</td><td>1</td><td>1</td><td>0</td><td>0</td><td>1</td><td>0</td><td>1</td><td>1</td><td>0</td><td>1</td><td>0</td><td>0</td><td>1</td><td>0</td><td>1</td><td>1</td><td>0</td><td>1</td><td>1</td><td>1</td><td>1</td><td>1</td><td>1</td><td>1</td><td>1</td><td>0</td><td>0</td></tr><tr><td>&hellip;</td><td>&hellip;</td><td>&hellip;</td><td>&hellip;</td><td>&hellip;</td><td>&hellip;</td><td>&hellip;</td><td>&hellip;</td><td>&hellip;</td><td>&hellip;</td><td>&hellip;</td><td>&hellip;</td><td>&hellip;</td><td>&hellip;</td><td>&hellip;</td><td>&hellip;</td><td>&hellip;</td><td>&hellip;</td><td>&hellip;</td><td>&hellip;</td><td>&hellip;</td><td>&hellip;</td><td>&hellip;</td><td>&hellip;</td><td>&hellip;</td><td>&hellip;</td><td>&hellip;</td><td>&hellip;</td><td>&hellip;</td><td>&hellip;</td><td>&hellip;</td><td>&hellip;</td><td>&hellip;</td><td>&hellip;</td><td>&hellip;</td><td>&hellip;</td><td>&hellip;</td><td>&hellip;</td><td>&hellip;</td><td>&hellip;</td><td>&hellip;</td><td>&hellip;</td><td>&hellip;</td><td>&hellip;</td><td>&hellip;</td><td>&hellip;</td><td>&hellip;</td><td>&hellip;</td><td>&hellip;</td><td>&hellip;</td><td>&hellip;</td><td>&hellip;</td><td>&hellip;</td><td>&hellip;</td><td>&hellip;</td><td>&hellip;</td><td>&hellip;</td><td>&hellip;</td><td>&hellip;</td><td>&hellip;</td><td>&hellip;</td><td>&hellip;</td><td>&hellip;</td><td>&hellip;</td><td>&hellip;</td><td>&hellip;</td><td>&hellip;</td><td>&hellip;</td><td>&hellip;</td><td>&hellip;</td><td>&hellip;</td><td>&hellip;</td><td>&hellip;</td><td>&hellip;</td><td>&hellip;</td></tr><tr><td>332785</td><td>5</td><td>219</td><td>null</td><td>null</td><td>219</td><td>77700</td><td>3</td><td>4.0</td><td>1</td><td>1.61</td><td>0.0471</td><td>null</td><td>2</td><td>118.0</td><td>0</td><td>16974</td><td>1</td><td>21</td><td>3</td><td>0</td><td>1</td><td>0</td><td>null</td><td>550.919983</td><td>0</td><td>null</td><td>null</td><td>null</td><td>null</td><td>null</td><td>null</td><td>null</td><td>null</td><td>null</td><td>null</td><td>null</td><td>&hellip;</td><td>0</td><td>0</td><td>1</td><td>0</td><td>0</td><td>0</td><td>1</td><td>1</td><td>0</td><td>1</td><td>0</td><td>1</td><td>1</td><td>1</td><td>1</td><td>1</td><td>1</td><td>1</td><td>1</td><td>1</td><td>1</td><td>1</td><td>1</td><td>1</td><td>1</td><td>1</td><td>1</td><td>1</td><td>1</td><td>1</td><td>1</td><td>1</td><td>1</td><td>1</td><td>1</td><td>0</td><td>1</td></tr><tr><td>332785</td><td>5</td><td>219</td><td>null</td><td>null</td><td>219</td><td>88083</td><td>3</td><td>4.0</td><td>1</td><td>1.95</td><td>0.152</td><td>null</td><td>3</td><td>89.0</td><td>0</td><td>16974</td><td>1</td><td>21</td><td>3</td><td>0</td><td>1</td><td>0</td><td>null</td><td>553.140015</td><td>0</td><td>null</td><td>null</td><td>null</td><td>null</td><td>null</td><td>null</td><td>null</td><td>null</td><td>null</td><td>null</td><td>null</td><td>&hellip;</td><td>0</td><td>0</td><td>1</td><td>0</td><td>0</td><td>0</td><td>1</td><td>1</td><td>0</td><td>1</td><td>0</td><td>1</td><td>1</td><td>1</td><td>1</td><td>1</td><td>1</td><td>1</td><td>1</td><td>1</td><td>1</td><td>1</td><td>1</td><td>1</td><td>1</td><td>1</td><td>1</td><td>1</td><td>1</td><td>1</td><td>1</td><td>1</td><td>1</td><td>1</td><td>1</td><td>0</td><td>1</td></tr><tr><td>332785</td><td>5</td><td>219</td><td>null</td><td>null</td><td>219</td><td>94508</td><td>3</td><td>3.5</td><td>1</td><td>1.1</td><td>0.0164</td><td>null</td><td>4</td><td>99.0</td><td>0</td><td>16974</td><td>1</td><td>21</td><td>3</td><td>0</td><td>1</td><td>0</td><td>null</td><td>544.429993</td><td>0</td><td>null</td><td>null</td><td>null</td><td>null</td><td>null</td><td>null</td><td>null</td><td>null</td><td>null</td><td>null</td><td>null</td><td>&hellip;</td><td>0</td><td>0</td><td>1</td><td>0</td><td>0</td><td>0</td><td>1</td><td>1</td><td>0</td><td>1</td><td>0</td><td>1</td><td>1</td><td>1</td><td>1</td><td>1</td><td>1</td><td>1</td><td>1</td><td>1</td><td>1</td><td>1</td><td>1</td><td>1</td><td>1</td><td>1</td><td>1</td><td>1</td><td>1</td><td>1</td><td>1</td><td>1</td><td>1</td><td>1</td><td>1</td><td>0</td><td>1</td></tr><tr><td>332785</td><td>5</td><td>219</td><td>null</td><td>null</td><td>219</td><td>128360</td><td>3</td><td>5.0</td><td>1</td><td>1.95</td><td>0.0662</td><td>null</td><td>1</td><td>139.0</td><td>0</td><td>16974</td><td>1</td><td>21</td><td>3</td><td>0</td><td>1</td><td>0</td><td>null</td><td>550.380005</td><td>0</td><td>null</td><td>null</td><td>null</td><td>null</td><td>null</td><td>null</td><td>null</td><td>null</td><td>null</td><td>null</td><td>null</td><td>&hellip;</td><td>0</td><td>0</td><td>1</td><td>0</td><td>0</td><td>0</td><td>1</td><td>1</td><td>0</td><td>1</td><td>0</td><td>1</td><td>1</td><td>1</td><td>1</td><td>1</td><td>1</td><td>1</td><td>1</td><td>1</td><td>1</td><td>1</td><td>1</td><td>1</td><td>1</td><td>1</td><td>1</td><td>1</td><td>1</td><td>1</td><td>1</td><td>1</td><td>1</td><td>1</td><td>1</td><td>0</td><td>1</td></tr><tr><td>332785</td><td>5</td><td>219</td><td>null</td><td>null</td><td>219</td><td>134949</td><td>3</td><td>2.5</td><td>1</td><td>1.1</td><td>null</td><td>null</td><td>6</td><td>61.0</td><td>0</td><td>16974</td><td>1</td><td>21</td><td>3</td><td>0</td><td>1</td><td>0</td><td>null</td><td>583.25</td><td>0</td><td>null</td><td>null</td><td>null</td><td>null</td><td>null</td><td>null</td><td>null</td><td>null</td><td>null</td><td>null</td><td>null</td><td>&hellip;</td><td>0</td><td>0</td><td>1</td><td>0</td><td>0</td><td>0</td><td>1</td><td>1</td><td>0</td><td>1</td><td>0</td><td>1</td><td>1</td><td>1</td><td>1</td><td>1</td><td>1</td><td>1</td><td>1</td><td>1</td><td>1</td><td>1</td><td>1</td><td>1</td><td>1</td><td>1</td><td>1</td><td>1</td><td>1</td><td>1</td><td>1</td><td>1</td><td>1</td><td>1</td><td>1</td><td>0</td><td>1</td></tr></tbody></table></div>"
      ],
      "text/plain": [
       "shape: (4_958_347, 96)\n",
       "┌─────────┬─────────┬────────────┬────────────┬───┬────────────┬───────────┬───────────┬───────────┐\n",
       "│ srch_id ┆ site_id ┆ visitor_lo ┆ visitor_hi ┆ … ┆ comp7_rate ┆ comp8_rat ┆ prop_revi ┆ prop_log_ │\n",
       "│ ---     ┆ ---     ┆ cation_cou ┆ st_starrat ┆   ┆ _percent_d ┆ e_percent ┆ ew_score_ ┆ historica │\n",
       "│ i32     ┆ i8      ┆ ntry_id    ┆ ing        ┆   ┆ iff_flag   ┆ _diff_fla ┆ zero_flag ┆ l_price_z │\n",
       "│         ┆         ┆ ---        ┆ ---        ┆   ┆ ---        ┆ g         ┆ ---       ┆ ero…      │\n",
       "│         ┆         ┆ i16        ┆ f32        ┆   ┆ i8         ┆ ---       ┆ i8        ┆ ---       │\n",
       "│         ┆         ┆            ┆            ┆   ┆            ┆ i8        ┆           ┆ i8        │\n",
       "╞═════════╪═════════╪════════════╪════════════╪═══╪════════════╪═══════════╪═══════════╪═══════════╡\n",
       "│ 1       ┆ 12      ┆ 187        ┆ null       ┆ … ┆ 1          ┆ 1         ┆ 0         ┆ 0         │\n",
       "│ 1       ┆ 12      ┆ 187        ┆ null       ┆ … ┆ 1          ┆ 1         ┆ 0         ┆ 0         │\n",
       "│ 1       ┆ 12      ┆ 187        ┆ null       ┆ … ┆ 1          ┆ 1         ┆ 0         ┆ 0         │\n",
       "│ 1       ┆ 12      ┆ 187        ┆ null       ┆ … ┆ 1          ┆ 0         ┆ 0         ┆ 0         │\n",
       "│ 1       ┆ 12      ┆ 187        ┆ null       ┆ … ┆ 1          ┆ 1         ┆ 0         ┆ 0         │\n",
       "│ …       ┆ …       ┆ …          ┆ …          ┆ … ┆ …          ┆ …         ┆ …         ┆ …         │\n",
       "│ 332785  ┆ 5       ┆ 219        ┆ null       ┆ … ┆ 1          ┆ 1         ┆ 0         ┆ 1         │\n",
       "│ 332785  ┆ 5       ┆ 219        ┆ null       ┆ … ┆ 1          ┆ 1         ┆ 0         ┆ 1         │\n",
       "│ 332785  ┆ 5       ┆ 219        ┆ null       ┆ … ┆ 1          ┆ 1         ┆ 0         ┆ 1         │\n",
       "│ 332785  ┆ 5       ┆ 219        ┆ null       ┆ … ┆ 1          ┆ 1         ┆ 0         ┆ 1         │\n",
       "│ 332785  ┆ 5       ┆ 219        ┆ null       ┆ … ┆ 1          ┆ 1         ┆ 0         ┆ 1         │\n",
       "└─────────┴─────────┴────────────┴────────────┴───┴────────────┴───────────┴───────────┴───────────┘"
      ]
     },
     "execution_count": 7,
     "metadata": {},
     "output_type": "execute_result"
    }
   ],
   "source": [
    "train_df"
   ]
  },
  {
   "cell_type": "code",
   "execution_count": 9,
   "id": "f6359426",
   "metadata": {},
   "outputs": [
    {
     "data": {
      "text/html": [
       "<div><style>\n",
       ".dataframe > thead > tr,\n",
       ".dataframe > tbody > tr {\n",
       "  text-align: right;\n",
       "  white-space: pre-wrap;\n",
       "}\n",
       "</style>\n",
       "<small>shape: (4_958_347, 97)</small><table border=\"1\" class=\"dataframe\"><thead><tr><th>srch_id</th><th>site_id</th><th>visitor_location_country_id</th><th>visitor_hist_starrating</th><th>visitor_hist_adr_usd</th><th>prop_country_id</th><th>prop_id</th><th>prop_starrating</th><th>prop_review_score</th><th>prop_brand_bool</th><th>prop_location_score1</th><th>prop_location_score2</th><th>prop_log_historical_price</th><th>position</th><th>price_usd</th><th>promotion_flag</th><th>srch_destination_id</th><th>srch_length_of_stay</th><th>srch_booking_window</th><th>srch_adults_count</th><th>srch_children_count</th><th>srch_room_count</th><th>srch_saturday_night_bool</th><th>srch_query_affinity_score</th><th>orig_destination_distance</th><th>random_bool</th><th>comp1_rate</th><th>comp1_inv</th><th>comp1_rate_percent_diff</th><th>comp2_rate</th><th>comp2_inv</th><th>comp2_rate_percent_diff</th><th>comp3_rate</th><th>comp3_inv</th><th>comp3_rate_percent_diff</th><th>comp4_rate</th><th>comp4_inv</th><th>&hellip;</th><th>is_spring</th><th>is_summer</th><th>is_autumn</th><th>is_winter</th><th>is_weekend</th><th>visitor_hist_starrating_flag</th><th>visitor_hist_adr_usd_flag</th><th>prop_review_score_flag</th><th>srch_query_affinity_score_flag</th><th>orig_destination_distance_flag</th><th>comp1_rate_flag</th><th>comp2_rate_flag</th><th>comp3_rate_flag</th><th>comp4_rate_flag</th><th>comp5_rate_flag</th><th>comp6_rate_flag</th><th>comp7_rate_flag</th><th>comp8_rate_flag</th><th>comp1_inv_flag</th><th>comp2_inv_flag</th><th>comp3_inv_flag</th><th>comp4_inv_flag</th><th>comp5_inv_flag</th><th>comp6_inv_flag</th><th>comp7_inv_flag</th><th>comp8_inv_flag</th><th>comp1_rate_percent_diff_flag</th><th>comp2_rate_percent_diff_flag</th><th>comp3_rate_percent_diff_flag</th><th>comp4_rate_percent_diff_flag</th><th>comp5_rate_percent_diff_flag</th><th>comp6_rate_percent_diff_flag</th><th>comp7_rate_percent_diff_flag</th><th>comp8_rate_percent_diff_flag</th><th>prop_review_score_zero_flag</th><th>prop_log_historical_price_zero_flag</th><th>srch_id_count</th></tr><tr><td>i32</td><td>i8</td><td>i16</td><td>f32</td><td>f32</td><td>i16</td><td>i32</td><td>i8</td><td>f32</td><td>i8</td><td>f32</td><td>f32</td><td>f32</td><td>i8</td><td>f32</td><td>i8</td><td>i16</td><td>i8</td><td>i16</td><td>i8</td><td>i8</td><td>i8</td><td>i8</td><td>f32</td><td>f32</td><td>i8</td><td>i8</td><td>i8</td><td>i16</td><td>i8</td><td>i8</td><td>i32</td><td>i8</td><td>i8</td><td>i32</td><td>i8</td><td>i8</td><td>&hellip;</td><td>i8</td><td>i8</td><td>i8</td><td>i8</td><td>i8</td><td>i8</td><td>i8</td><td>i8</td><td>i8</td><td>i8</td><td>i8</td><td>i8</td><td>i8</td><td>i8</td><td>i8</td><td>i8</td><td>i8</td><td>i8</td><td>i8</td><td>i8</td><td>i8</td><td>i8</td><td>i8</td><td>i8</td><td>i8</td><td>i8</td><td>i8</td><td>i8</td><td>i8</td><td>i8</td><td>i8</td><td>i8</td><td>i8</td><td>i8</td><td>i8</td><td>i8</td><td>u32</td></tr></thead><tbody><tr><td>1</td><td>12</td><td>187</td><td>null</td><td>null</td><td>219</td><td>893</td><td>3</td><td>3.5</td><td>1</td><td>2.83</td><td>0.0438</td><td>4.95</td><td>27</td><td>104.769997</td><td>0</td><td>23246</td><td>1</td><td>0</td><td>4</td><td>0</td><td>1</td><td>1</td><td>null</td><td>null</td><td>1</td><td>null</td><td>null</td><td>null</td><td>0</td><td>0</td><td>null</td><td>0</td><td>0</td><td>null</td><td>null</td><td>null</td><td>&hellip;</td><td>1</td><td>0</td><td>0</td><td>0</td><td>0</td><td>1</td><td>1</td><td>0</td><td>1</td><td>1</td><td>1</td><td>0</td><td>0</td><td>1</td><td>0</td><td>1</td><td>1</td><td>0</td><td>1</td><td>0</td><td>0</td><td>1</td><td>0</td><td>1</td><td>1</td><td>0</td><td>1</td><td>1</td><td>1</td><td>1</td><td>1</td><td>1</td><td>1</td><td>1</td><td>0</td><td>0</td><td>28</td></tr><tr><td>1</td><td>12</td><td>187</td><td>null</td><td>null</td><td>219</td><td>10404</td><td>4</td><td>4.0</td><td>1</td><td>2.2</td><td>0.0149</td><td>5.03</td><td>26</td><td>170.740005</td><td>0</td><td>23246</td><td>1</td><td>0</td><td>4</td><td>0</td><td>1</td><td>1</td><td>null</td><td>null</td><td>1</td><td>null</td><td>null</td><td>null</td><td>null</td><td>null</td><td>null</td><td>0</td><td>0</td><td>null</td><td>null</td><td>null</td><td>&hellip;</td><td>1</td><td>0</td><td>0</td><td>0</td><td>0</td><td>1</td><td>1</td><td>0</td><td>1</td><td>1</td><td>1</td><td>1</td><td>0</td><td>1</td><td>0</td><td>1</td><td>1</td><td>0</td><td>1</td><td>1</td><td>0</td><td>1</td><td>0</td><td>1</td><td>1</td><td>0</td><td>1</td><td>1</td><td>1</td><td>1</td><td>1</td><td>1</td><td>1</td><td>1</td><td>0</td><td>0</td><td>28</td></tr><tr><td>1</td><td>12</td><td>187</td><td>null</td><td>null</td><td>219</td><td>21315</td><td>3</td><td>4.5</td><td>1</td><td>2.2</td><td>0.0245</td><td>4.92</td><td>21</td><td>179.800003</td><td>0</td><td>23246</td><td>1</td><td>0</td><td>4</td><td>0</td><td>1</td><td>1</td><td>null</td><td>null</td><td>1</td><td>null</td><td>null</td><td>null</td><td>0</td><td>0</td><td>null</td><td>0</td><td>0</td><td>null</td><td>null</td><td>null</td><td>&hellip;</td><td>1</td><td>0</td><td>0</td><td>0</td><td>0</td><td>1</td><td>1</td><td>0</td><td>1</td><td>1</td><td>1</td><td>0</td><td>0</td><td>1</td><td>0</td><td>1</td><td>1</td><td>0</td><td>1</td><td>0</td><td>0</td><td>1</td><td>0</td><td>1</td><td>1</td><td>0</td><td>1</td><td>1</td><td>1</td><td>1</td><td>1</td><td>1</td><td>1</td><td>1</td><td>0</td><td>0</td><td>28</td></tr><tr><td>1</td><td>12</td><td>187</td><td>null</td><td>null</td><td>219</td><td>27348</td><td>2</td><td>4.0</td><td>1</td><td>2.83</td><td>0.0125</td><td>4.39</td><td>34</td><td>602.77002</td><td>0</td><td>23246</td><td>1</td><td>0</td><td>4</td><td>0</td><td>1</td><td>1</td><td>null</td><td>null</td><td>1</td><td>null</td><td>null</td><td>null</td><td>-1</td><td>0</td><td>5</td><td>-1</td><td>0</td><td>5</td><td>null</td><td>null</td><td>&hellip;</td><td>1</td><td>0</td><td>0</td><td>0</td><td>0</td><td>1</td><td>1</td><td>0</td><td>1</td><td>1</td><td>1</td><td>0</td><td>0</td><td>1</td><td>0</td><td>1</td><td>1</td><td>0</td><td>1</td><td>0</td><td>0</td><td>1</td><td>0</td><td>1</td><td>1</td><td>0</td><td>1</td><td>0</td><td>0</td><td>1</td><td>1</td><td>1</td><td>1</td><td>0</td><td>0</td><td>0</td><td>28</td></tr><tr><td>1</td><td>12</td><td>187</td><td>null</td><td>null</td><td>219</td><td>29604</td><td>4</td><td>3.5</td><td>1</td><td>2.64</td><td>0.1241</td><td>4.93</td><td>4</td><td>143.580002</td><td>0</td><td>23246</td><td>1</td><td>0</td><td>4</td><td>0</td><td>1</td><td>1</td><td>null</td><td>null</td><td>1</td><td>null</td><td>null</td><td>null</td><td>0</td><td>0</td><td>null</td><td>0</td><td>0</td><td>null</td><td>null</td><td>null</td><td>&hellip;</td><td>1</td><td>0</td><td>0</td><td>0</td><td>0</td><td>1</td><td>1</td><td>0</td><td>1</td><td>1</td><td>1</td><td>0</td><td>0</td><td>1</td><td>0</td><td>1</td><td>1</td><td>0</td><td>1</td><td>0</td><td>0</td><td>1</td><td>0</td><td>1</td><td>1</td><td>0</td><td>1</td><td>1</td><td>1</td><td>1</td><td>1</td><td>1</td><td>1</td><td>1</td><td>0</td><td>0</td><td>28</td></tr><tr><td>&hellip;</td><td>&hellip;</td><td>&hellip;</td><td>&hellip;</td><td>&hellip;</td><td>&hellip;</td><td>&hellip;</td><td>&hellip;</td><td>&hellip;</td><td>&hellip;</td><td>&hellip;</td><td>&hellip;</td><td>&hellip;</td><td>&hellip;</td><td>&hellip;</td><td>&hellip;</td><td>&hellip;</td><td>&hellip;</td><td>&hellip;</td><td>&hellip;</td><td>&hellip;</td><td>&hellip;</td><td>&hellip;</td><td>&hellip;</td><td>&hellip;</td><td>&hellip;</td><td>&hellip;</td><td>&hellip;</td><td>&hellip;</td><td>&hellip;</td><td>&hellip;</td><td>&hellip;</td><td>&hellip;</td><td>&hellip;</td><td>&hellip;</td><td>&hellip;</td><td>&hellip;</td><td>&hellip;</td><td>&hellip;</td><td>&hellip;</td><td>&hellip;</td><td>&hellip;</td><td>&hellip;</td><td>&hellip;</td><td>&hellip;</td><td>&hellip;</td><td>&hellip;</td><td>&hellip;</td><td>&hellip;</td><td>&hellip;</td><td>&hellip;</td><td>&hellip;</td><td>&hellip;</td><td>&hellip;</td><td>&hellip;</td><td>&hellip;</td><td>&hellip;</td><td>&hellip;</td><td>&hellip;</td><td>&hellip;</td><td>&hellip;</td><td>&hellip;</td><td>&hellip;</td><td>&hellip;</td><td>&hellip;</td><td>&hellip;</td><td>&hellip;</td><td>&hellip;</td><td>&hellip;</td><td>&hellip;</td><td>&hellip;</td><td>&hellip;</td><td>&hellip;</td><td>&hellip;</td><td>&hellip;</td></tr><tr><td>332785</td><td>5</td><td>219</td><td>null</td><td>null</td><td>219</td><td>77700</td><td>3</td><td>4.0</td><td>1</td><td>1.61</td><td>0.0471</td><td>null</td><td>2</td><td>118.0</td><td>0</td><td>16974</td><td>1</td><td>21</td><td>3</td><td>0</td><td>1</td><td>0</td><td>null</td><td>550.919983</td><td>0</td><td>null</td><td>null</td><td>null</td><td>null</td><td>null</td><td>null</td><td>null</td><td>null</td><td>null</td><td>null</td><td>null</td><td>&hellip;</td><td>0</td><td>1</td><td>0</td><td>0</td><td>0</td><td>1</td><td>1</td><td>0</td><td>1</td><td>0</td><td>1</td><td>1</td><td>1</td><td>1</td><td>1</td><td>1</td><td>1</td><td>1</td><td>1</td><td>1</td><td>1</td><td>1</td><td>1</td><td>1</td><td>1</td><td>1</td><td>1</td><td>1</td><td>1</td><td>1</td><td>1</td><td>1</td><td>1</td><td>1</td><td>0</td><td>1</td><td>6</td></tr><tr><td>332785</td><td>5</td><td>219</td><td>null</td><td>null</td><td>219</td><td>88083</td><td>3</td><td>4.0</td><td>1</td><td>1.95</td><td>0.152</td><td>null</td><td>3</td><td>89.0</td><td>0</td><td>16974</td><td>1</td><td>21</td><td>3</td><td>0</td><td>1</td><td>0</td><td>null</td><td>553.140015</td><td>0</td><td>null</td><td>null</td><td>null</td><td>null</td><td>null</td><td>null</td><td>null</td><td>null</td><td>null</td><td>null</td><td>null</td><td>&hellip;</td><td>0</td><td>1</td><td>0</td><td>0</td><td>0</td><td>1</td><td>1</td><td>0</td><td>1</td><td>0</td><td>1</td><td>1</td><td>1</td><td>1</td><td>1</td><td>1</td><td>1</td><td>1</td><td>1</td><td>1</td><td>1</td><td>1</td><td>1</td><td>1</td><td>1</td><td>1</td><td>1</td><td>1</td><td>1</td><td>1</td><td>1</td><td>1</td><td>1</td><td>1</td><td>0</td><td>1</td><td>6</td></tr><tr><td>332785</td><td>5</td><td>219</td><td>null</td><td>null</td><td>219</td><td>94508</td><td>3</td><td>3.5</td><td>1</td><td>1.1</td><td>0.0164</td><td>null</td><td>4</td><td>99.0</td><td>0</td><td>16974</td><td>1</td><td>21</td><td>3</td><td>0</td><td>1</td><td>0</td><td>null</td><td>544.429993</td><td>0</td><td>null</td><td>null</td><td>null</td><td>null</td><td>null</td><td>null</td><td>null</td><td>null</td><td>null</td><td>null</td><td>null</td><td>&hellip;</td><td>0</td><td>1</td><td>0</td><td>0</td><td>0</td><td>1</td><td>1</td><td>0</td><td>1</td><td>0</td><td>1</td><td>1</td><td>1</td><td>1</td><td>1</td><td>1</td><td>1</td><td>1</td><td>1</td><td>1</td><td>1</td><td>1</td><td>1</td><td>1</td><td>1</td><td>1</td><td>1</td><td>1</td><td>1</td><td>1</td><td>1</td><td>1</td><td>1</td><td>1</td><td>0</td><td>1</td><td>6</td></tr><tr><td>332785</td><td>5</td><td>219</td><td>null</td><td>null</td><td>219</td><td>128360</td><td>3</td><td>5.0</td><td>1</td><td>1.95</td><td>0.0662</td><td>null</td><td>1</td><td>139.0</td><td>0</td><td>16974</td><td>1</td><td>21</td><td>3</td><td>0</td><td>1</td><td>0</td><td>null</td><td>550.380005</td><td>0</td><td>null</td><td>null</td><td>null</td><td>null</td><td>null</td><td>null</td><td>null</td><td>null</td><td>null</td><td>null</td><td>null</td><td>&hellip;</td><td>0</td><td>1</td><td>0</td><td>0</td><td>0</td><td>1</td><td>1</td><td>0</td><td>1</td><td>0</td><td>1</td><td>1</td><td>1</td><td>1</td><td>1</td><td>1</td><td>1</td><td>1</td><td>1</td><td>1</td><td>1</td><td>1</td><td>1</td><td>1</td><td>1</td><td>1</td><td>1</td><td>1</td><td>1</td><td>1</td><td>1</td><td>1</td><td>1</td><td>1</td><td>0</td><td>1</td><td>6</td></tr><tr><td>332785</td><td>5</td><td>219</td><td>null</td><td>null</td><td>219</td><td>134949</td><td>3</td><td>2.5</td><td>1</td><td>1.1</td><td>null</td><td>null</td><td>6</td><td>61.0</td><td>0</td><td>16974</td><td>1</td><td>21</td><td>3</td><td>0</td><td>1</td><td>0</td><td>null</td><td>583.25</td><td>0</td><td>null</td><td>null</td><td>null</td><td>null</td><td>null</td><td>null</td><td>null</td><td>null</td><td>null</td><td>null</td><td>null</td><td>&hellip;</td><td>0</td><td>1</td><td>0</td><td>0</td><td>0</td><td>1</td><td>1</td><td>0</td><td>1</td><td>0</td><td>1</td><td>1</td><td>1</td><td>1</td><td>1</td><td>1</td><td>1</td><td>1</td><td>1</td><td>1</td><td>1</td><td>1</td><td>1</td><td>1</td><td>1</td><td>1</td><td>1</td><td>1</td><td>1</td><td>1</td><td>1</td><td>1</td><td>1</td><td>1</td><td>0</td><td>1</td><td>6</td></tr></tbody></table></div>"
      ],
      "text/plain": [
       "shape: (4_958_347, 97)\n",
       "┌─────────┬─────────┬────────────┬────────────┬───┬────────────┬───────────┬───────────┬───────────┐\n",
       "│ srch_id ┆ site_id ┆ visitor_lo ┆ visitor_hi ┆ … ┆ comp8_rate ┆ prop_revi ┆ prop_log_ ┆ srch_id_c │\n",
       "│ ---     ┆ ---     ┆ cation_cou ┆ st_starrat ┆   ┆ _percent_d ┆ ew_score_ ┆ historica ┆ ount      │\n",
       "│ i32     ┆ i8      ┆ ntry_id    ┆ ing        ┆   ┆ iff_flag   ┆ zero_flag ┆ l_price_z ┆ ---       │\n",
       "│         ┆         ┆ ---        ┆ ---        ┆   ┆ ---        ┆ ---       ┆ ero…      ┆ u32       │\n",
       "│         ┆         ┆ i16        ┆ f32        ┆   ┆ i8         ┆ i8        ┆ ---       ┆           │\n",
       "│         ┆         ┆            ┆            ┆   ┆            ┆           ┆ i8        ┆           │\n",
       "╞═════════╪═════════╪════════════╪════════════╪═══╪════════════╪═══════════╪═══════════╪═══════════╡\n",
       "│ 1       ┆ 12      ┆ 187        ┆ null       ┆ … ┆ 1          ┆ 0         ┆ 0         ┆ 28        │\n",
       "│ 1       ┆ 12      ┆ 187        ┆ null       ┆ … ┆ 1          ┆ 0         ┆ 0         ┆ 28        │\n",
       "│ 1       ┆ 12      ┆ 187        ┆ null       ┆ … ┆ 1          ┆ 0         ┆ 0         ┆ 28        │\n",
       "│ 1       ┆ 12      ┆ 187        ┆ null       ┆ … ┆ 0          ┆ 0         ┆ 0         ┆ 28        │\n",
       "│ 1       ┆ 12      ┆ 187        ┆ null       ┆ … ┆ 1          ┆ 0         ┆ 0         ┆ 28        │\n",
       "│ …       ┆ …       ┆ …          ┆ …          ┆ … ┆ …          ┆ …         ┆ …         ┆ …         │\n",
       "│ 332785  ┆ 5       ┆ 219        ┆ null       ┆ … ┆ 1          ┆ 0         ┆ 1         ┆ 6         │\n",
       "│ 332785  ┆ 5       ┆ 219        ┆ null       ┆ … ┆ 1          ┆ 0         ┆ 1         ┆ 6         │\n",
       "│ 332785  ┆ 5       ┆ 219        ┆ null       ┆ … ┆ 1          ┆ 0         ┆ 1         ┆ 6         │\n",
       "│ 332785  ┆ 5       ┆ 219        ┆ null       ┆ … ┆ 1          ┆ 0         ┆ 1         ┆ 6         │\n",
       "│ 332785  ┆ 5       ┆ 219        ┆ null       ┆ … ┆ 1          ┆ 0         ┆ 1         ┆ 6         │\n",
       "└─────────┴─────────┴────────────┴────────────┴───┴────────────┴───────────┴───────────┴───────────┘"
      ]
     },
     "execution_count": 9,
     "metadata": {},
     "output_type": "execute_result"
    }
   ],
   "source": [
    "train_df.with_columns(pl.col(\"srch_id\").count().over(\"srch_id\").alias(\"srch_id_count\"))"
   ]
  },
  {
   "cell_type": "code",
   "execution_count": 11,
   "id": "61127e99",
   "metadata": {},
   "outputs": [
    {
     "data": {
      "text/html": [
       "<div><style>\n",
       ".dataframe > thead > tr,\n",
       ".dataframe > tbody > tr {\n",
       "  text-align: right;\n",
       "  white-space: pre-wrap;\n",
       "}\n",
       "</style>\n",
       "<small>shape: (6, 96)</small><table border=\"1\" class=\"dataframe\"><thead><tr><th>srch_id</th><th>site_id</th><th>visitor_location_country_id</th><th>visitor_hist_starrating</th><th>visitor_hist_adr_usd</th><th>prop_country_id</th><th>prop_id</th><th>prop_starrating</th><th>prop_review_score</th><th>prop_brand_bool</th><th>prop_location_score1</th><th>prop_location_score2</th><th>prop_log_historical_price</th><th>position</th><th>price_usd</th><th>promotion_flag</th><th>srch_destination_id</th><th>srch_length_of_stay</th><th>srch_booking_window</th><th>srch_adults_count</th><th>srch_children_count</th><th>srch_room_count</th><th>srch_saturday_night_bool</th><th>srch_query_affinity_score</th><th>orig_destination_distance</th><th>random_bool</th><th>comp1_rate</th><th>comp1_inv</th><th>comp1_rate_percent_diff</th><th>comp2_rate</th><th>comp2_inv</th><th>comp2_rate_percent_diff</th><th>comp3_rate</th><th>comp3_inv</th><th>comp3_rate_percent_diff</th><th>comp4_rate</th><th>comp4_inv</th><th>&hellip;</th><th>is_night</th><th>is_spring</th><th>is_summer</th><th>is_autumn</th><th>is_winter</th><th>is_weekend</th><th>visitor_hist_starrating_flag</th><th>visitor_hist_adr_usd_flag</th><th>prop_review_score_flag</th><th>srch_query_affinity_score_flag</th><th>orig_destination_distance_flag</th><th>comp1_rate_flag</th><th>comp2_rate_flag</th><th>comp3_rate_flag</th><th>comp4_rate_flag</th><th>comp5_rate_flag</th><th>comp6_rate_flag</th><th>comp7_rate_flag</th><th>comp8_rate_flag</th><th>comp1_inv_flag</th><th>comp2_inv_flag</th><th>comp3_inv_flag</th><th>comp4_inv_flag</th><th>comp5_inv_flag</th><th>comp6_inv_flag</th><th>comp7_inv_flag</th><th>comp8_inv_flag</th><th>comp1_rate_percent_diff_flag</th><th>comp2_rate_percent_diff_flag</th><th>comp3_rate_percent_diff_flag</th><th>comp4_rate_percent_diff_flag</th><th>comp5_rate_percent_diff_flag</th><th>comp6_rate_percent_diff_flag</th><th>comp7_rate_percent_diff_flag</th><th>comp8_rate_percent_diff_flag</th><th>prop_review_score_zero_flag</th><th>prop_log_historical_price_zero_flag</th></tr><tr><td>i32</td><td>i8</td><td>i16</td><td>f32</td><td>f32</td><td>i16</td><td>i32</td><td>i8</td><td>f32</td><td>i8</td><td>f32</td><td>f32</td><td>f32</td><td>i8</td><td>f32</td><td>i8</td><td>i16</td><td>i8</td><td>i16</td><td>i8</td><td>i8</td><td>i8</td><td>i8</td><td>f32</td><td>f32</td><td>i8</td><td>i8</td><td>i8</td><td>i16</td><td>i8</td><td>i8</td><td>i32</td><td>i8</td><td>i8</td><td>i32</td><td>i8</td><td>i8</td><td>&hellip;</td><td>i8</td><td>i8</td><td>i8</td><td>i8</td><td>i8</td><td>i8</td><td>i8</td><td>i8</td><td>i8</td><td>i8</td><td>i8</td><td>i8</td><td>i8</td><td>i8</td><td>i8</td><td>i8</td><td>i8</td><td>i8</td><td>i8</td><td>i8</td><td>i8</td><td>i8</td><td>i8</td><td>i8</td><td>i8</td><td>i8</td><td>i8</td><td>i8</td><td>i8</td><td>i8</td><td>i8</td><td>i8</td><td>i8</td><td>i8</td><td>i8</td><td>i8</td><td>i8</td></tr></thead><tbody><tr><td>332785</td><td>5</td><td>219</td><td>null</td><td>null</td><td>219</td><td>55110</td><td>3</td><td>1.0</td><td>1</td><td>2.2</td><td>null</td><td>null</td><td>7</td><td>109.0</td><td>0</td><td>16974</td><td>1</td><td>21</td><td>3</td><td>0</td><td>1</td><td>0</td><td>null</td><td>512.780029</td><td>0</td><td>null</td><td>null</td><td>null</td><td>null</td><td>null</td><td>null</td><td>null</td><td>null</td><td>null</td><td>null</td><td>null</td><td>&hellip;</td><td>0</td><td>0</td><td>1</td><td>0</td><td>0</td><td>0</td><td>1</td><td>1</td><td>0</td><td>1</td><td>0</td><td>1</td><td>1</td><td>1</td><td>1</td><td>1</td><td>1</td><td>1</td><td>1</td><td>1</td><td>1</td><td>1</td><td>1</td><td>1</td><td>1</td><td>1</td><td>1</td><td>1</td><td>1</td><td>1</td><td>1</td><td>1</td><td>1</td><td>1</td><td>1</td><td>0</td><td>1</td></tr><tr><td>332785</td><td>5</td><td>219</td><td>null</td><td>null</td><td>219</td><td>77700</td><td>3</td><td>4.0</td><td>1</td><td>1.61</td><td>0.0471</td><td>null</td><td>2</td><td>118.0</td><td>0</td><td>16974</td><td>1</td><td>21</td><td>3</td><td>0</td><td>1</td><td>0</td><td>null</td><td>550.919983</td><td>0</td><td>null</td><td>null</td><td>null</td><td>null</td><td>null</td><td>null</td><td>null</td><td>null</td><td>null</td><td>null</td><td>null</td><td>&hellip;</td><td>0</td><td>0</td><td>1</td><td>0</td><td>0</td><td>0</td><td>1</td><td>1</td><td>0</td><td>1</td><td>0</td><td>1</td><td>1</td><td>1</td><td>1</td><td>1</td><td>1</td><td>1</td><td>1</td><td>1</td><td>1</td><td>1</td><td>1</td><td>1</td><td>1</td><td>1</td><td>1</td><td>1</td><td>1</td><td>1</td><td>1</td><td>1</td><td>1</td><td>1</td><td>1</td><td>0</td><td>1</td></tr><tr><td>332785</td><td>5</td><td>219</td><td>null</td><td>null</td><td>219</td><td>88083</td><td>3</td><td>4.0</td><td>1</td><td>1.95</td><td>0.152</td><td>null</td><td>3</td><td>89.0</td><td>0</td><td>16974</td><td>1</td><td>21</td><td>3</td><td>0</td><td>1</td><td>0</td><td>null</td><td>553.140015</td><td>0</td><td>null</td><td>null</td><td>null</td><td>null</td><td>null</td><td>null</td><td>null</td><td>null</td><td>null</td><td>null</td><td>null</td><td>&hellip;</td><td>0</td><td>0</td><td>1</td><td>0</td><td>0</td><td>0</td><td>1</td><td>1</td><td>0</td><td>1</td><td>0</td><td>1</td><td>1</td><td>1</td><td>1</td><td>1</td><td>1</td><td>1</td><td>1</td><td>1</td><td>1</td><td>1</td><td>1</td><td>1</td><td>1</td><td>1</td><td>1</td><td>1</td><td>1</td><td>1</td><td>1</td><td>1</td><td>1</td><td>1</td><td>1</td><td>0</td><td>1</td></tr><tr><td>332785</td><td>5</td><td>219</td><td>null</td><td>null</td><td>219</td><td>94508</td><td>3</td><td>3.5</td><td>1</td><td>1.1</td><td>0.0164</td><td>null</td><td>4</td><td>99.0</td><td>0</td><td>16974</td><td>1</td><td>21</td><td>3</td><td>0</td><td>1</td><td>0</td><td>null</td><td>544.429993</td><td>0</td><td>null</td><td>null</td><td>null</td><td>null</td><td>null</td><td>null</td><td>null</td><td>null</td><td>null</td><td>null</td><td>null</td><td>&hellip;</td><td>0</td><td>0</td><td>1</td><td>0</td><td>0</td><td>0</td><td>1</td><td>1</td><td>0</td><td>1</td><td>0</td><td>1</td><td>1</td><td>1</td><td>1</td><td>1</td><td>1</td><td>1</td><td>1</td><td>1</td><td>1</td><td>1</td><td>1</td><td>1</td><td>1</td><td>1</td><td>1</td><td>1</td><td>1</td><td>1</td><td>1</td><td>1</td><td>1</td><td>1</td><td>1</td><td>0</td><td>1</td></tr><tr><td>332785</td><td>5</td><td>219</td><td>null</td><td>null</td><td>219</td><td>128360</td><td>3</td><td>5.0</td><td>1</td><td>1.95</td><td>0.0662</td><td>null</td><td>1</td><td>139.0</td><td>0</td><td>16974</td><td>1</td><td>21</td><td>3</td><td>0</td><td>1</td><td>0</td><td>null</td><td>550.380005</td><td>0</td><td>null</td><td>null</td><td>null</td><td>null</td><td>null</td><td>null</td><td>null</td><td>null</td><td>null</td><td>null</td><td>null</td><td>&hellip;</td><td>0</td><td>0</td><td>1</td><td>0</td><td>0</td><td>0</td><td>1</td><td>1</td><td>0</td><td>1</td><td>0</td><td>1</td><td>1</td><td>1</td><td>1</td><td>1</td><td>1</td><td>1</td><td>1</td><td>1</td><td>1</td><td>1</td><td>1</td><td>1</td><td>1</td><td>1</td><td>1</td><td>1</td><td>1</td><td>1</td><td>1</td><td>1</td><td>1</td><td>1</td><td>1</td><td>0</td><td>1</td></tr><tr><td>332785</td><td>5</td><td>219</td><td>null</td><td>null</td><td>219</td><td>134949</td><td>3</td><td>2.5</td><td>1</td><td>1.1</td><td>null</td><td>null</td><td>6</td><td>61.0</td><td>0</td><td>16974</td><td>1</td><td>21</td><td>3</td><td>0</td><td>1</td><td>0</td><td>null</td><td>583.25</td><td>0</td><td>null</td><td>null</td><td>null</td><td>null</td><td>null</td><td>null</td><td>null</td><td>null</td><td>null</td><td>null</td><td>null</td><td>&hellip;</td><td>0</td><td>0</td><td>1</td><td>0</td><td>0</td><td>0</td><td>1</td><td>1</td><td>0</td><td>1</td><td>0</td><td>1</td><td>1</td><td>1</td><td>1</td><td>1</td><td>1</td><td>1</td><td>1</td><td>1</td><td>1</td><td>1</td><td>1</td><td>1</td><td>1</td><td>1</td><td>1</td><td>1</td><td>1</td><td>1</td><td>1</td><td>1</td><td>1</td><td>1</td><td>1</td><td>0</td><td>1</td></tr></tbody></table></div>"
      ],
      "text/plain": [
       "shape: (6, 96)\n",
       "┌─────────┬─────────┬────────────┬────────────┬───┬────────────┬───────────┬───────────┬───────────┐\n",
       "│ srch_id ┆ site_id ┆ visitor_lo ┆ visitor_hi ┆ … ┆ comp7_rate ┆ comp8_rat ┆ prop_revi ┆ prop_log_ │\n",
       "│ ---     ┆ ---     ┆ cation_cou ┆ st_starrat ┆   ┆ _percent_d ┆ e_percent ┆ ew_score_ ┆ historica │\n",
       "│ i32     ┆ i8      ┆ ntry_id    ┆ ing        ┆   ┆ iff_flag   ┆ _diff_fla ┆ zero_flag ┆ l_price_z │\n",
       "│         ┆         ┆ ---        ┆ ---        ┆   ┆ ---        ┆ g         ┆ ---       ┆ ero…      │\n",
       "│         ┆         ┆ i16        ┆ f32        ┆   ┆ i8         ┆ ---       ┆ i8        ┆ ---       │\n",
       "│         ┆         ┆            ┆            ┆   ┆            ┆ i8        ┆           ┆ i8        │\n",
       "╞═════════╪═════════╪════════════╪════════════╪═══╪════════════╪═══════════╪═══════════╪═══════════╡\n",
       "│ 332785  ┆ 5       ┆ 219        ┆ null       ┆ … ┆ 1          ┆ 1         ┆ 0         ┆ 1         │\n",
       "│ 332785  ┆ 5       ┆ 219        ┆ null       ┆ … ┆ 1          ┆ 1         ┆ 0         ┆ 1         │\n",
       "│ 332785  ┆ 5       ┆ 219        ┆ null       ┆ … ┆ 1          ┆ 1         ┆ 0         ┆ 1         │\n",
       "│ 332785  ┆ 5       ┆ 219        ┆ null       ┆ … ┆ 1          ┆ 1         ┆ 0         ┆ 1         │\n",
       "│ 332785  ┆ 5       ┆ 219        ┆ null       ┆ … ┆ 1          ┆ 1         ┆ 0         ┆ 1         │\n",
       "│ 332785  ┆ 5       ┆ 219        ┆ null       ┆ … ┆ 1          ┆ 1         ┆ 0         ┆ 1         │\n",
       "└─────────┴─────────┴────────────┴────────────┴───┴────────────┴───────────┴───────────┴───────────┘"
      ]
     },
     "execution_count": 11,
     "metadata": {},
     "output_type": "execute_result"
    }
   ],
   "source": [
    "train_df.filter(pl.col(\"srch_id\") == 332785)"
   ]
  }
 ],
 "metadata": {
  "kernelspec": {
   "display_name": "3.10.12",
   "language": "python",
   "name": "python3"
  },
  "language_info": {
   "codemirror_mode": {
    "name": "ipython",
    "version": 3
   },
   "file_extension": ".py",
   "mimetype": "text/x-python",
   "name": "python",
   "nbconvert_exporter": "python",
   "pygments_lexer": "ipython3",
   "version": "3.10.12"
  }
 },
 "nbformat": 4,
 "nbformat_minor": 5
}
