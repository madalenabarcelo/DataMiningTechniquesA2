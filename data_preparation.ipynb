{
 "cells": [
  {
   "cell_type": "code",
   "execution_count": 10,
   "id": "0f1133c9",
   "metadata": {},
   "outputs": [
    {
     "name": "stdout",
     "output_type": "stream",
     "text": [
      "The autoreload extension is already loaded. To reload it, use:\n",
      "  %reload_ext autoreload\n",
      "Path (/Users/rik/Documents/VU/DMT/DataMiningTechniquesA2) already exists in sys.path\n"
     ]
    }
   ],
   "source": [
    "%load_ext autoreload\n",
    "%autoreload 2\n",
    "%run ./initializer"
   ]
  },
  {
   "cell_type": "code",
   "execution_count": 11,
   "id": "8f2ee368",
   "metadata": {},
   "outputs": [],
   "source": [
    "import polars as pl\n",
    "from data_preparation import DataPreparer"
   ]
  },
  {
   "cell_type": "code",
   "execution_count": 12,
   "id": "1316859d",
   "metadata": {},
   "outputs": [
    {
     "name": "stdout",
     "output_type": "stream",
     "text": [
      "Data uploaded to data/training_set_datatype_shrinked.parquet\n",
      "Data uploaded to data/test_set_datatype_shrinked.parquet\n"
     ]
    }
   ],
   "source": [
    "data_preparer = DataPreparer()\n",
    "data_preparer.load_and_preprocess_data(\"training_set_VU_DM.csv\", \"training_set_datatype_shrinked\")\n",
    "data_preparer.load_and_preprocess_data(\"test_set_VU_DM.csv\", \"test_set_datatype_shrinked\")"
   ]
  },
  {
   "cell_type": "code",
   "execution_count": 13,
   "id": "76a4d11d",
   "metadata": {},
   "outputs": [],
   "source": [
    "train_df = pl.read_parquet(\"data/training_set_datatype_shrinked.parquet\")\n",
    "test_df = pl.read_parquet(\"data/test_set_datatype_shrinked.parquet\")"
   ]
  },
  {
   "cell_type": "code",
   "execution_count": 14,
   "id": "ee4175bc",
   "metadata": {},
   "outputs": [
    {
     "data": {
      "text/html": [
       "<div><style>\n",
       ".dataframe > thead > tr,\n",
       ".dataframe > tbody > tr {\n",
       "  text-align: right;\n",
       "  white-space: pre-wrap;\n",
       "}\n",
       "</style>\n",
       "<small>shape: (4_958_347, 54)</small><table border=\"1\" class=\"dataframe\"><thead><tr><th>srch_id</th><th>date_time</th><th>site_id</th><th>visitor_location_country_id</th><th>visitor_hist_starrating</th><th>visitor_hist_adr_usd</th><th>prop_country_id</th><th>prop_id</th><th>prop_starrating</th><th>prop_review_score</th><th>prop_brand_bool</th><th>prop_location_score1</th><th>prop_location_score2</th><th>prop_log_historical_price</th><th>position</th><th>price_usd</th><th>promotion_flag</th><th>srch_destination_id</th><th>srch_length_of_stay</th><th>srch_booking_window</th><th>srch_adults_count</th><th>srch_children_count</th><th>srch_room_count</th><th>srch_saturday_night_bool</th><th>srch_query_affinity_score</th><th>orig_destination_distance</th><th>random_bool</th><th>comp1_rate</th><th>comp1_inv</th><th>comp1_rate_percent_diff</th><th>comp2_rate</th><th>comp2_inv</th><th>comp2_rate_percent_diff</th><th>comp3_rate</th><th>comp3_inv</th><th>comp3_rate_percent_diff</th><th>comp4_rate</th><th>comp4_inv</th><th>comp4_rate_percent_diff</th><th>comp5_rate</th><th>comp5_inv</th><th>comp5_rate_percent_diff</th><th>comp6_rate</th><th>comp6_inv</th><th>comp6_rate_percent_diff</th><th>comp7_rate</th><th>comp7_inv</th><th>comp7_rate_percent_diff</th><th>comp8_rate</th><th>comp8_inv</th><th>comp8_rate_percent_diff</th><th>click_bool</th><th>gross_bookings_usd</th><th>booking_bool</th></tr><tr><td>i32</td><td>str</td><td>i8</td><td>i16</td><td>str</td><td>str</td><td>i16</td><td>i32</td><td>i8</td><td>f32</td><td>i8</td><td>f32</td><td>f32</td><td>f32</td><td>i8</td><td>f32</td><td>i8</td><td>i16</td><td>i8</td><td>i16</td><td>i8</td><td>i8</td><td>i8</td><td>i8</td><td>str</td><td>f32</td><td>i8</td><td>str</td><td>str</td><td>str</td><td>i8</td><td>i8</td><td>i32</td><td>i8</td><td>i8</td><td>i32</td><td>str</td><td>str</td><td>str</td><td>i8</td><td>i8</td><td>i32</td><td>str</td><td>str</td><td>str</td><td>str</td><td>str</td><td>str</td><td>i8</td><td>i8</td><td>i32</td><td>i8</td><td>f32</td><td>i8</td></tr></thead><tbody><tr><td>1</td><td>&quot;2013-04-04 08:32:15&quot;</td><td>12</td><td>187</td><td>null</td><td>null</td><td>219</td><td>893</td><td>3</td><td>3.5</td><td>1</td><td>2.83</td><td>0.0438</td><td>4.95</td><td>27</td><td>104.769997</td><td>0</td><td>23246</td><td>1</td><td>0</td><td>4</td><td>0</td><td>1</td><td>1</td><td>null</td><td>null</td><td>1</td><td>null</td><td>null</td><td>null</td><td>0</td><td>0</td><td>null</td><td>0</td><td>0</td><td>null</td><td>null</td><td>null</td><td>null</td><td>0</td><td>0</td><td>null</td><td>null</td><td>null</td><td>null</td><td>null</td><td>null</td><td>null</td><td>0</td><td>0</td><td>null</td><td>0</td><td>null</td><td>0</td></tr><tr><td>1</td><td>&quot;2013-04-04 08:32:15&quot;</td><td>12</td><td>187</td><td>null</td><td>null</td><td>219</td><td>10404</td><td>4</td><td>4.0</td><td>1</td><td>2.2</td><td>0.0149</td><td>5.03</td><td>26</td><td>170.740005</td><td>0</td><td>23246</td><td>1</td><td>0</td><td>4</td><td>0</td><td>1</td><td>1</td><td>null</td><td>null</td><td>1</td><td>null</td><td>null</td><td>null</td><td>null</td><td>null</td><td>null</td><td>0</td><td>0</td><td>null</td><td>null</td><td>null</td><td>null</td><td>0</td><td>1</td><td>null</td><td>null</td><td>null</td><td>null</td><td>null</td><td>null</td><td>null</td><td>0</td><td>0</td><td>null</td><td>0</td><td>null</td><td>0</td></tr><tr><td>1</td><td>&quot;2013-04-04 08:32:15&quot;</td><td>12</td><td>187</td><td>null</td><td>null</td><td>219</td><td>21315</td><td>3</td><td>4.5</td><td>1</td><td>2.2</td><td>0.0245</td><td>4.92</td><td>21</td><td>179.800003</td><td>0</td><td>23246</td><td>1</td><td>0</td><td>4</td><td>0</td><td>1</td><td>1</td><td>null</td><td>null</td><td>1</td><td>null</td><td>null</td><td>null</td><td>0</td><td>0</td><td>null</td><td>0</td><td>0</td><td>null</td><td>null</td><td>null</td><td>null</td><td>0</td><td>0</td><td>null</td><td>null</td><td>null</td><td>null</td><td>null</td><td>null</td><td>null</td><td>0</td><td>0</td><td>null</td><td>0</td><td>null</td><td>0</td></tr><tr><td>1</td><td>&quot;2013-04-04 08:32:15&quot;</td><td>12</td><td>187</td><td>null</td><td>null</td><td>219</td><td>27348</td><td>2</td><td>4.0</td><td>1</td><td>2.83</td><td>0.0125</td><td>4.39</td><td>34</td><td>602.77002</td><td>0</td><td>23246</td><td>1</td><td>0</td><td>4</td><td>0</td><td>1</td><td>1</td><td>null</td><td>null</td><td>1</td><td>null</td><td>null</td><td>null</td><td>-1</td><td>0</td><td>5</td><td>-1</td><td>0</td><td>5</td><td>null</td><td>null</td><td>null</td><td>0</td><td>1</td><td>null</td><td>null</td><td>null</td><td>null</td><td>null</td><td>null</td><td>null</td><td>-1</td><td>0</td><td>5</td><td>0</td><td>null</td><td>0</td></tr><tr><td>1</td><td>&quot;2013-04-04 08:32:15&quot;</td><td>12</td><td>187</td><td>null</td><td>null</td><td>219</td><td>29604</td><td>4</td><td>3.5</td><td>1</td><td>2.64</td><td>0.1241</td><td>4.93</td><td>4</td><td>143.580002</td><td>0</td><td>23246</td><td>1</td><td>0</td><td>4</td><td>0</td><td>1</td><td>1</td><td>null</td><td>null</td><td>1</td><td>null</td><td>null</td><td>null</td><td>0</td><td>0</td><td>null</td><td>0</td><td>0</td><td>null</td><td>null</td><td>null</td><td>null</td><td>0</td><td>0</td><td>null</td><td>null</td><td>null</td><td>null</td><td>null</td><td>null</td><td>null</td><td>0</td><td>0</td><td>null</td><td>0</td><td>null</td><td>0</td></tr><tr><td>&hellip;</td><td>&hellip;</td><td>&hellip;</td><td>&hellip;</td><td>&hellip;</td><td>&hellip;</td><td>&hellip;</td><td>&hellip;</td><td>&hellip;</td><td>&hellip;</td><td>&hellip;</td><td>&hellip;</td><td>&hellip;</td><td>&hellip;</td><td>&hellip;</td><td>&hellip;</td><td>&hellip;</td><td>&hellip;</td><td>&hellip;</td><td>&hellip;</td><td>&hellip;</td><td>&hellip;</td><td>&hellip;</td><td>&hellip;</td><td>&hellip;</td><td>&hellip;</td><td>&hellip;</td><td>&hellip;</td><td>&hellip;</td><td>&hellip;</td><td>&hellip;</td><td>&hellip;</td><td>&hellip;</td><td>&hellip;</td><td>&hellip;</td><td>&hellip;</td><td>&hellip;</td><td>&hellip;</td><td>&hellip;</td><td>&hellip;</td><td>&hellip;</td><td>&hellip;</td><td>&hellip;</td><td>&hellip;</td><td>&hellip;</td><td>&hellip;</td><td>&hellip;</td><td>&hellip;</td><td>&hellip;</td><td>&hellip;</td><td>&hellip;</td><td>&hellip;</td><td>&hellip;</td><td>&hellip;</td></tr><tr><td>332785</td><td>&quot;2013-06-30 19:55:18&quot;</td><td>5</td><td>219</td><td>null</td><td>null</td><td>219</td><td>77700</td><td>3</td><td>4.0</td><td>1</td><td>1.61</td><td>0.0471</td><td>0.0</td><td>2</td><td>118.0</td><td>0</td><td>16974</td><td>1</td><td>21</td><td>3</td><td>0</td><td>1</td><td>0</td><td>null</td><td>550.919983</td><td>0</td><td>null</td><td>null</td><td>null</td><td>null</td><td>null</td><td>null</td><td>null</td><td>null</td><td>null</td><td>null</td><td>null</td><td>null</td><td>null</td><td>null</td><td>null</td><td>null</td><td>null</td><td>null</td><td>null</td><td>null</td><td>null</td><td>null</td><td>null</td><td>null</td><td>0</td><td>null</td><td>0</td></tr><tr><td>332785</td><td>&quot;2013-06-30 19:55:18&quot;</td><td>5</td><td>219</td><td>null</td><td>null</td><td>219</td><td>88083</td><td>3</td><td>4.0</td><td>1</td><td>1.95</td><td>0.152</td><td>0.0</td><td>3</td><td>89.0</td><td>0</td><td>16974</td><td>1</td><td>21</td><td>3</td><td>0</td><td>1</td><td>0</td><td>null</td><td>553.140015</td><td>0</td><td>null</td><td>null</td><td>null</td><td>null</td><td>null</td><td>null</td><td>null</td><td>null</td><td>null</td><td>null</td><td>null</td><td>null</td><td>null</td><td>null</td><td>null</td><td>null</td><td>null</td><td>null</td><td>null</td><td>null</td><td>null</td><td>null</td><td>null</td><td>null</td><td>0</td><td>null</td><td>0</td></tr><tr><td>332785</td><td>&quot;2013-06-30 19:55:18&quot;</td><td>5</td><td>219</td><td>null</td><td>null</td><td>219</td><td>94508</td><td>3</td><td>3.5</td><td>1</td><td>1.1</td><td>0.0164</td><td>0.0</td><td>4</td><td>99.0</td><td>0</td><td>16974</td><td>1</td><td>21</td><td>3</td><td>0</td><td>1</td><td>0</td><td>null</td><td>544.429993</td><td>0</td><td>null</td><td>null</td><td>null</td><td>null</td><td>null</td><td>null</td><td>null</td><td>null</td><td>null</td><td>null</td><td>null</td><td>null</td><td>null</td><td>null</td><td>null</td><td>null</td><td>null</td><td>null</td><td>null</td><td>null</td><td>null</td><td>null</td><td>null</td><td>null</td><td>0</td><td>null</td><td>0</td></tr><tr><td>332785</td><td>&quot;2013-06-30 19:55:18&quot;</td><td>5</td><td>219</td><td>null</td><td>null</td><td>219</td><td>128360</td><td>3</td><td>5.0</td><td>1</td><td>1.95</td><td>0.0662</td><td>0.0</td><td>1</td><td>139.0</td><td>0</td><td>16974</td><td>1</td><td>21</td><td>3</td><td>0</td><td>1</td><td>0</td><td>null</td><td>550.380005</td><td>0</td><td>null</td><td>null</td><td>null</td><td>null</td><td>null</td><td>null</td><td>null</td><td>null</td><td>null</td><td>null</td><td>null</td><td>null</td><td>null</td><td>null</td><td>null</td><td>null</td><td>null</td><td>null</td><td>null</td><td>null</td><td>null</td><td>null</td><td>null</td><td>null</td><td>1</td><td>157.839996</td><td>1</td></tr><tr><td>332785</td><td>&quot;2013-06-30 19:55:18&quot;</td><td>5</td><td>219</td><td>null</td><td>null</td><td>219</td><td>134949</td><td>3</td><td>2.5</td><td>1</td><td>1.1</td><td>null</td><td>0.0</td><td>6</td><td>61.0</td><td>0</td><td>16974</td><td>1</td><td>21</td><td>3</td><td>0</td><td>1</td><td>0</td><td>null</td><td>583.25</td><td>0</td><td>null</td><td>null</td><td>null</td><td>null</td><td>null</td><td>null</td><td>null</td><td>null</td><td>null</td><td>null</td><td>null</td><td>null</td><td>null</td><td>null</td><td>null</td><td>null</td><td>null</td><td>null</td><td>null</td><td>null</td><td>null</td><td>null</td><td>null</td><td>null</td><td>0</td><td>null</td><td>0</td></tr></tbody></table></div>"
      ],
      "text/plain": [
       "shape: (4_958_347, 54)\n",
       "┌─────────┬────────────┬─────────┬────────────┬───┬────────────┬───────────┬───────────┬───────────┐\n",
       "│ srch_id ┆ date_time  ┆ site_id ┆ visitor_lo ┆ … ┆ comp8_rate ┆ click_boo ┆ gross_boo ┆ booking_b │\n",
       "│ ---     ┆ ---        ┆ ---     ┆ cation_cou ┆   ┆ _percent_d ┆ l         ┆ kings_usd ┆ ool       │\n",
       "│ i32     ┆ str        ┆ i8      ┆ ntry_id    ┆   ┆ iff        ┆ ---       ┆ ---       ┆ ---       │\n",
       "│         ┆            ┆         ┆ ---        ┆   ┆ ---        ┆ i8        ┆ f32       ┆ i8        │\n",
       "│         ┆            ┆         ┆ i16        ┆   ┆ i32        ┆           ┆           ┆           │\n",
       "╞═════════╪════════════╪═════════╪════════════╪═══╪════════════╪═══════════╪═══════════╪═══════════╡\n",
       "│ 1       ┆ 2013-04-04 ┆ 12      ┆ 187        ┆ … ┆ null       ┆ 0         ┆ null      ┆ 0         │\n",
       "│         ┆ 08:32:15   ┆         ┆            ┆   ┆            ┆           ┆           ┆           │\n",
       "│ 1       ┆ 2013-04-04 ┆ 12      ┆ 187        ┆ … ┆ null       ┆ 0         ┆ null      ┆ 0         │\n",
       "│         ┆ 08:32:15   ┆         ┆            ┆   ┆            ┆           ┆           ┆           │\n",
       "│ 1       ┆ 2013-04-04 ┆ 12      ┆ 187        ┆ … ┆ null       ┆ 0         ┆ null      ┆ 0         │\n",
       "│         ┆ 08:32:15   ┆         ┆            ┆   ┆            ┆           ┆           ┆           │\n",
       "│ 1       ┆ 2013-04-04 ┆ 12      ┆ 187        ┆ … ┆ 5          ┆ 0         ┆ null      ┆ 0         │\n",
       "│         ┆ 08:32:15   ┆         ┆            ┆   ┆            ┆           ┆           ┆           │\n",
       "│ 1       ┆ 2013-04-04 ┆ 12      ┆ 187        ┆ … ┆ null       ┆ 0         ┆ null      ┆ 0         │\n",
       "│         ┆ 08:32:15   ┆         ┆            ┆   ┆            ┆           ┆           ┆           │\n",
       "│ …       ┆ …          ┆ …       ┆ …          ┆ … ┆ …          ┆ …         ┆ …         ┆ …         │\n",
       "│ 332785  ┆ 2013-06-30 ┆ 5       ┆ 219        ┆ … ┆ null       ┆ 0         ┆ null      ┆ 0         │\n",
       "│         ┆ 19:55:18   ┆         ┆            ┆   ┆            ┆           ┆           ┆           │\n",
       "│ 332785  ┆ 2013-06-30 ┆ 5       ┆ 219        ┆ … ┆ null       ┆ 0         ┆ null      ┆ 0         │\n",
       "│         ┆ 19:55:18   ┆         ┆            ┆   ┆            ┆           ┆           ┆           │\n",
       "│ 332785  ┆ 2013-06-30 ┆ 5       ┆ 219        ┆ … ┆ null       ┆ 0         ┆ null      ┆ 0         │\n",
       "│         ┆ 19:55:18   ┆         ┆            ┆   ┆            ┆           ┆           ┆           │\n",
       "│ 332785  ┆ 2013-06-30 ┆ 5       ┆ 219        ┆ … ┆ null       ┆ 1         ┆ 157.83999 ┆ 1         │\n",
       "│         ┆ 19:55:18   ┆         ┆            ┆   ┆            ┆           ┆ 6         ┆           │\n",
       "│ 332785  ┆ 2013-06-30 ┆ 5       ┆ 219        ┆ … ┆ null       ┆ 0         ┆ null      ┆ 0         │\n",
       "│         ┆ 19:55:18   ┆         ┆            ┆   ┆            ┆           ┆           ┆           │\n",
       "└─────────┴────────────┴─────────┴────────────┴───┴────────────┴───────────┴───────────┴───────────┘"
      ]
     },
     "execution_count": 14,
     "metadata": {},
     "output_type": "execute_result"
    }
   ],
   "source": [
    "train_df"
   ]
  }
 ],
 "metadata": {
  "kernelspec": {
   "display_name": "3.10.12",
   "language": "python",
   "name": "python3"
  },
  "language_info": {
   "codemirror_mode": {
    "name": "ipython",
    "version": 3
   },
   "file_extension": ".py",
   "mimetype": "text/x-python",
   "name": "python",
   "nbconvert_exporter": "python",
   "pygments_lexer": "ipython3",
   "version": "3.10.12"
  }
 },
 "nbformat": 4,
 "nbformat_minor": 5
}
