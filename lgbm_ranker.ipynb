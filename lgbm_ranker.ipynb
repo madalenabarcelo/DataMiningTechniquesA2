{
 "cells": [
  {
   "cell_type": "code",
   "execution_count": 1,
   "id": "3f1266d2",
   "metadata": {},
   "outputs": [
    {
     "name": "stdout",
     "output_type": "stream",
     "text": [
      "Path (/Users/rik/Documents/VU/DMT/DataMiningTechniquesA2) already exists in sys.path\n"
     ]
    }
   ],
   "source": [
    "%load_ext autoreload\n",
    "%autoreload 2\n",
    "%run ./initializer"
   ]
  },
  {
   "cell_type": "code",
   "execution_count": 2,
   "id": "fecde38d",
   "metadata": {},
   "outputs": [],
   "source": [
    "import pandas as pd\n",
    "from lgbm_ranker import LGBMRankerModel, LGBMRanker\n",
    "from feature_tester import FeatureTester\n",
    "import numpy as np"
   ]
  },
  {
   "cell_type": "code",
   "execution_count": 3,
   "id": "c15dc4d9",
   "metadata": {},
   "outputs": [],
   "source": [
    "train_df = pd.read_parquet(\"data/training_set_processed.parquet\")\n",
    "test_df = pd.read_parquet(\"data/test_set_processed.parquet\")"
   ]
  },
  {
   "cell_type": "code",
   "execution_count": null,
   "id": "03aa93eb",
   "metadata": {},
   "outputs": [],
   "source": [
    "lgbm_class_model = LGBMRankerModel(\n",
    "    df = train_df,              # Only initialized to get column names\n",
    "    objective=\"lambdarank\",\n",
    "    metric=\"ndcg\",\n",
    "    ndcg_eval_at=[5],\n",
    "    n_estimators=1000,\n",
    "    learning_rate=0.05,\n",
    ")\n",
    "\n",
    "lgbm_class_model = LGBMRankerModel(\n",
    "    df = train_df,\n",
    "    objective=\"lambdarank\",\n",
    "    metric=\"ndcg\",\n",
    "    ndcg_eval_at=[5],\n",
    "    n_estimators=282,\n",
    "    learning_rate= 0.010567900524310832,\n",
    "    num_leaves= 54,\n",
    "    min_child_samples= 50,\n",
    "    reg_alpha= 0.00010201542849136104,\n",
    "    reg_lambda= 0.0010495845688297506\n",
    ")"
   ]
  },
  {
   "cell_type": "code",
   "execution_count": 5,
   "id": "cb80ae28",
   "metadata": {},
   "outputs": [],
   "source": [
    "X_train, y_train, X_val, y_val, groups_size_train, groups_size_val = lgbm_class_model.format_data(train_df)"
   ]
  },
  {
   "cell_type": "code",
   "execution_count": 6,
   "id": "b11d26f8",
   "metadata": {},
   "outputs": [
    {
     "name": "stderr",
     "output_type": "stream",
     "text": [
      "/Users/rik/.pyenv/versions/3.10.12/lib/python3.10/site-packages/lightgbm/sklearn.py:861: UserWarning: Found 'ndcg_eval_at' in params. Will use it instead of 'eval_at' argument\n",
      "  _log_warning(f\"Found '{alias}' in params. Will use it instead of 'eval_at' argument\")\n"
     ]
    },
    {
     "name": "stdout",
     "output_type": "stream",
     "text": [
      "[LightGBM] [Warning] Met categorical feature which contains sparse values. Consider renumbering to consecutive integers started from zero\n",
      "[LightGBM] [Info] Auto-choosing row-wise multi-threading, the overhead of testing was 0.362814 seconds.\n",
      "You can set `force_row_wise=true` to remove the overhead.\n",
      "And if memory is not enough, you can set `force_col_wise=true`.\n",
      "[LightGBM] [Info] Total Bins 5126\n",
      "[LightGBM] [Info] Number of data points in the train set: 3966677, number of used features: 97\n",
      "Training until validation scores don't improve for 50 rounds\n",
      "[20]\tvalid_0's ndcg@5: 0.367529\n",
      "[40]\tvalid_0's ndcg@5: 0.375116\n",
      "[60]\tvalid_0's ndcg@5: 0.378855\n",
      "[80]\tvalid_0's ndcg@5: 0.381461\n",
      "[100]\tvalid_0's ndcg@5: 0.383508\n",
      "[120]\tvalid_0's ndcg@5: 0.38504\n",
      "[140]\tvalid_0's ndcg@5: 0.386118\n",
      "[160]\tvalid_0's ndcg@5: 0.38768\n",
      "[180]\tvalid_0's ndcg@5: 0.388942\n",
      "[200]\tvalid_0's ndcg@5: 0.389918\n",
      "[220]\tvalid_0's ndcg@5: 0.390602\n",
      "[240]\tvalid_0's ndcg@5: 0.391625\n",
      "[260]\tvalid_0's ndcg@5: 0.392476\n",
      "[280]\tvalid_0's ndcg@5: 0.39294\n",
      "[300]\tvalid_0's ndcg@5: 0.3935\n",
      "[320]\tvalid_0's ndcg@5: 0.393976\n",
      "[340]\tvalid_0's ndcg@5: 0.394749\n",
      "[360]\tvalid_0's ndcg@5: 0.394941\n",
      "[380]\tvalid_0's ndcg@5: 0.395322\n",
      "[400]\tvalid_0's ndcg@5: 0.395811\n",
      "[420]\tvalid_0's ndcg@5: 0.396131\n",
      "[440]\tvalid_0's ndcg@5: 0.396157\n",
      "[460]\tvalid_0's ndcg@5: 0.396605\n",
      "[480]\tvalid_0's ndcg@5: 0.397132\n",
      "[500]\tvalid_0's ndcg@5: 0.39748\n",
      "[520]\tvalid_0's ndcg@5: 0.397571\n",
      "[540]\tvalid_0's ndcg@5: 0.397922\n",
      "[560]\tvalid_0's ndcg@5: 0.398063\n",
      "[580]\tvalid_0's ndcg@5: 0.39801\n",
      "[600]\tvalid_0's ndcg@5: 0.398356\n",
      "[620]\tvalid_0's ndcg@5: 0.398425\n",
      "[640]\tvalid_0's ndcg@5: 0.397997\n",
      "[660]\tvalid_0's ndcg@5: 0.397939\n",
      "Early stopping, best iteration is:\n",
      "[618]\tvalid_0's ndcg@5: 0.398511\n"
     ]
    }
   ],
   "source": [
    "fitted_model = lgbm_class_model.fit(X_train, y_train, X_val, y_val, groups_size_train, groups_size_val)"
   ]
  },
  {
   "cell_type": "code",
   "execution_count": 14,
   "id": "c9bd2372",
   "metadata": {},
   "outputs": [
    {
     "name": "stderr",
     "output_type": "stream",
     "text": [
      "/Users/rik/.pyenv/versions/3.10.12/lib/python3.10/site-packages/lightgbm/sklearn.py:861: UserWarning: Found 'ndcg_eval_at' in params. Will use it instead of 'eval_at' argument\n",
      "  _log_warning(f\"Found '{alias}' in params. Will use it instead of 'eval_at' argument\")\n"
     ]
    },
    {
     "name": "stdout",
     "output_type": "stream",
     "text": [
      "Final results saved to final_predictions\n",
      "         srch_id  prop_id\n",
      "23             1    99484\n",
      "1              1     5543\n",
      "5              1    28181\n",
      "9              1    54937\n",
      "12             1    61934\n",
      "...          ...      ...\n",
      "4959177   332787    29018\n",
      "4959182   332787    99509\n",
      "4959181   332787    94437\n",
      "4959178   332787    32019\n",
      "4959180   332787    35240\n",
      "\n",
      "[4959183 rows x 2 columns]\n"
     ]
    }
   ],
   "source": [
    "lgbm_class_model.save_final_results(test_df)"
   ]
  }
 ],
 "metadata": {
  "kernelspec": {
   "display_name": "3.10.12",
   "language": "python",
   "name": "python3"
  },
  "language_info": {
   "codemirror_mode": {
    "name": "ipython",
    "version": 3
   },
   "file_extension": ".py",
   "mimetype": "text/x-python",
   "name": "python",
   "nbconvert_exporter": "python",
   "pygments_lexer": "ipython3",
   "version": "3.10.12"
  }
 },
 "nbformat": 4,
 "nbformat_minor": 5
}
