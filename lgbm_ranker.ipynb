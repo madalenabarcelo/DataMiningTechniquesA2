{
 "cells": [
  {
   "cell_type": "code",
   "execution_count": 14,
   "id": "3f1266d2",
   "metadata": {},
   "outputs": [
    {
     "name": "stdout",
     "output_type": "stream",
     "text": [
      "The autoreload extension is already loaded. To reload it, use:\n",
      "  %reload_ext autoreload\n",
      "Path (/Users/rik/Documents/VU/DMT/DataMiningTechniquesA2) already exists in sys.path\n"
     ]
    }
   ],
   "source": [
    "%load_ext autoreload\n",
    "%autoreload 2\n",
    "%run ./initializer"
   ]
  },
  {
   "cell_type": "code",
   "execution_count": 15,
   "id": "fecde38d",
   "metadata": {},
   "outputs": [],
   "source": [
    "import pandas as pd\n",
    "from lgbm_ranker import LGBMRankerModel, LGBMRanker\n",
    "from feature_tester import FeatureTester\n",
    "import numpy as np"
   ]
  },
  {
   "cell_type": "code",
   "execution_count": 16,
   "id": "c15dc4d9",
   "metadata": {},
   "outputs": [],
   "source": [
    "train_df = pd.read_parquet(\"data/training_set_processed.parquet\")\n",
    "test_df = pd.read_parquet(\"data/test_set_processed.parquet\")"
   ]
  },
  {
   "cell_type": "code",
   "execution_count": 17,
   "id": "03aa93eb",
   "metadata": {},
   "outputs": [],
   "source": [
    "params_fixed = {\n",
    "    \"objective\": \"lambdarank\",\n",
    "    \"metric\": \"ndcg\",\n",
    "    \"ndcg_eval_at\": [5],\n",
    "    \"boosting_type\": \"gbdt\",\n",
    "    \"n_estimators\": 10000,\n",
    "}\n",
    "params_initial = {\n",
    "    \"learning_rate\": 0.05,\n",
    "}\n",
    "params_small_hpo = {\n",
    "    \"learning_rate\": 0.03427673821049949,\n",
    "    \"num_leaves\": 79,\n",
    "    \"min_child_samples\": 50,\n",
    "    \"reg_alpha\": 0.0001416721648867782,\n",
    "    \"reg_lambda\": 0.12245976197134716,\n",
    "}\n",
    "params_hpo = {\n",
    "    \"n_estimators\": 1500,\n",
    "    'learning_rate': 0.03928543917526321, \n",
    "    'num_leaves': 151, \n",
    "    'min_child_samples': 100, \n",
    "    'min_child_weight': 9.84223213747703, \n",
    "    'colsample_bytree': 0.5340379911098179, \n",
    "    'subsample': 0.9940711682871947, \n",
    "    'reg_alpha': 0.009867816340998009, \n",
    "    'reg_lambda': 8.490860770966702\n",
    "    }\n",
    "\n",
    "params = {**params_fixed, **params_hpo}\n",
    "lgbm_class_model = LGBMRankerModel(train_df, params)"
   ]
  },
  {
   "cell_type": "code",
   "execution_count": 5,
   "id": "cb80ae28",
   "metadata": {},
   "outputs": [],
   "source": [
    "X_train, y_train, X_val, y_val, groups_size_train, groups_size_val = lgbm_class_model.format_data(train_df)"
   ]
  },
  {
   "cell_type": "code",
   "execution_count": 6,
   "id": "b11d26f8",
   "metadata": {},
   "outputs": [
    {
     "name": "stderr",
     "output_type": "stream",
     "text": [
      "/Users/rik/.pyenv/versions/3.10.12/lib/python3.10/site-packages/lightgbm/sklearn.py:861: UserWarning: Found 'ndcg_eval_at' in params. Will use it instead of 'eval_at' argument\n",
      "  _log_warning(f\"Found '{alias}' in params. Will use it instead of 'eval_at' argument\")\n"
     ]
    },
    {
     "name": "stdout",
     "output_type": "stream",
     "text": [
      "[LightGBM] [Warning] Met categorical feature which contains sparse values. Consider renumbering to consecutive integers started from zero\n",
      "[LightGBM] [Info] Auto-choosing row-wise multi-threading, the overhead of testing was 0.357467 seconds.\n",
      "You can set `force_row_wise=true` to remove the overhead.\n",
      "And if memory is not enough, you can set `force_col_wise=true`.\n",
      "[LightGBM] [Info] Total Bins 8839\n",
      "[LightGBM] [Info] Number of data points in the train set: 3966677, number of used features: 127\n",
      "Training until validation scores don't improve for 500 rounds\n",
      "[250]\tvalid_0's ndcg@5: 0.403682\n",
      "[500]\tvalid_0's ndcg@5: 0.407004\n",
      "[750]\tvalid_0's ndcg@5: 0.407576\n",
      "[1000]\tvalid_0's ndcg@5: 0.406955\n",
      "Early stopping, best iteration is:\n",
      "[683]\tvalid_0's ndcg@5: 0.407833\n"
     ]
    }
   ],
   "source": [
    "fitted_model = lgbm_class_model.fit(X_train, y_train, X_val, y_val, groups_size_train, groups_size_val)"
   ]
  },
  {
   "cell_type": "code",
   "execution_count": 7,
   "id": "c9bd2372",
   "metadata": {},
   "outputs": [
    {
     "name": "stderr",
     "output_type": "stream",
     "text": [
      "/Users/rik/.pyenv/versions/3.10.12/lib/python3.10/site-packages/lightgbm/sklearn.py:861: UserWarning: Found 'ndcg_eval_at' in params. Will use it instead of 'eval_at' argument\n",
      "  _log_warning(f\"Found '{alias}' in params. Will use it instead of 'eval_at' argument\")\n"
     ]
    },
    {
     "name": "stdout",
     "output_type": "stream",
     "text": [
      "Final results saved to final_predictions\n",
      "         srch_id  prop_id\n",
      "23             1    99484\n",
      "9              1    54937\n",
      "12             1    61934\n",
      "5              1    28181\n",
      "6              1    34263\n",
      "...          ...      ...\n",
      "4959177   332787    29018\n",
      "4959182   332787    99509\n",
      "4959181   332787    94437\n",
      "4959178   332787    32019\n",
      "4959180   332787    35240\n",
      "\n",
      "[4959183 rows x 2 columns]\n"
     ]
    }
   ],
   "source": [
    "lgbm_class_model.save_final_results(test_df)"
   ]
  },
  {
   "cell_type": "code",
   "execution_count": 18,
   "id": "1859cdf1",
   "metadata": {},
   "outputs": [
    {
     "name": "stdout",
     "output_type": "stream",
     "text": [
      "Fitting model for fold 1 of 5\n"
     ]
    },
    {
     "name": "stderr",
     "output_type": "stream",
     "text": [
      "/Users/rik/.pyenv/versions/3.10.12/lib/python3.10/site-packages/lightgbm/sklearn.py:861: UserWarning: Found 'ndcg_eval_at' in params. Will use it instead of 'eval_at' argument\n",
      "  _log_warning(f\"Found '{alias}' in params. Will use it instead of 'eval_at' argument\")\n"
     ]
    },
    {
     "name": "stdout",
     "output_type": "stream",
     "text": [
      "[LightGBM] [Warning] Met categorical feature which contains sparse values. Consider renumbering to consecutive integers started from zero\n",
      "[LightGBM] [Info] Auto-choosing row-wise multi-threading, the overhead of testing was 0.312347 seconds.\n",
      "You can set `force_row_wise=true` to remove the overhead.\n",
      "And if memory is not enough, you can set `force_col_wise=true`.\n",
      "[LightGBM] [Info] Total Bins 8839\n",
      "[LightGBM] [Info] Number of data points in the train set: 3966677, number of used features: 127\n",
      "Training until validation scores don't improve for 500 rounds\n",
      "[250]\tvalid_0's ndcg@5: 0.403682\n",
      "[500]\tvalid_0's ndcg@5: 0.407004\n",
      "[750]\tvalid_0's ndcg@5: 0.407576\n",
      "[1000]\tvalid_0's ndcg@5: 0.406955\n",
      "Early stopping, best iteration is:\n",
      "[683]\tvalid_0's ndcg@5: 0.407833\n"
     ]
    },
    {
     "name": "stderr",
     "output_type": "stream",
     "text": [
      "/Users/rik/.pyenv/versions/3.10.12/lib/python3.10/site-packages/lightgbm/sklearn.py:861: UserWarning: Found 'ndcg_eval_at' in params. Will use it instead of 'eval_at' argument\n",
      "  _log_warning(f\"Found '{alias}' in params. Will use it instead of 'eval_at' argument\")\n"
     ]
    },
    {
     "name": "stdout",
     "output_type": "stream",
     "text": [
      "Fitting model for fold 2 of 5\n"
     ]
    },
    {
     "name": "stderr",
     "output_type": "stream",
     "text": [
      "/Users/rik/.pyenv/versions/3.10.12/lib/python3.10/site-packages/lightgbm/sklearn.py:861: UserWarning: Found 'ndcg_eval_at' in params. Will use it instead of 'eval_at' argument\n",
      "  _log_warning(f\"Found '{alias}' in params. Will use it instead of 'eval_at' argument\")\n"
     ]
    },
    {
     "name": "stdout",
     "output_type": "stream",
     "text": [
      "[LightGBM] [Warning] Met categorical feature which contains sparse values. Consider renumbering to consecutive integers started from zero\n",
      "[LightGBM] [Info] Auto-choosing row-wise multi-threading, the overhead of testing was 0.414338 seconds.\n",
      "You can set `force_row_wise=true` to remove the overhead.\n",
      "And if memory is not enough, you can set `force_col_wise=true`.\n",
      "[LightGBM] [Info] Total Bins 8848\n",
      "[LightGBM] [Info] Number of data points in the train set: 3966677, number of used features: 127\n",
      "Training until validation scores don't improve for 500 rounds\n",
      "[250]\tvalid_0's ndcg@5: 0.404153\n",
      "[500]\tvalid_0's ndcg@5: 0.408295\n",
      "[750]\tvalid_0's ndcg@5: 0.410073\n",
      "[1000]\tvalid_0's ndcg@5: 0.410381\n",
      "[1250]\tvalid_0's ndcg@5: 0.410035\n",
      "[1500]\tvalid_0's ndcg@5: 0.409606\n",
      "Did not meet early stopping. Best iteration is:\n",
      "[1077]\tvalid_0's ndcg@5: 0.410992\n"
     ]
    },
    {
     "name": "stderr",
     "output_type": "stream",
     "text": [
      "/Users/rik/.pyenv/versions/3.10.12/lib/python3.10/site-packages/lightgbm/sklearn.py:861: UserWarning: Found 'ndcg_eval_at' in params. Will use it instead of 'eval_at' argument\n",
      "  _log_warning(f\"Found '{alias}' in params. Will use it instead of 'eval_at' argument\")\n"
     ]
    },
    {
     "name": "stdout",
     "output_type": "stream",
     "text": [
      "Fitting model for fold 3 of 5\n"
     ]
    },
    {
     "name": "stderr",
     "output_type": "stream",
     "text": [
      "/Users/rik/.pyenv/versions/3.10.12/lib/python3.10/site-packages/lightgbm/sklearn.py:861: UserWarning: Found 'ndcg_eval_at' in params. Will use it instead of 'eval_at' argument\n",
      "  _log_warning(f\"Found '{alias}' in params. Will use it instead of 'eval_at' argument\")\n"
     ]
    },
    {
     "name": "stdout",
     "output_type": "stream",
     "text": [
      "[LightGBM] [Warning] Met categorical feature which contains sparse values. Consider renumbering to consecutive integers started from zero\n",
      "[LightGBM] [Info] Auto-choosing row-wise multi-threading, the overhead of testing was 0.435955 seconds.\n",
      "You can set `force_row_wise=true` to remove the overhead.\n",
      "And if memory is not enough, you can set `force_col_wise=true`.\n",
      "[LightGBM] [Info] Total Bins 8839\n",
      "[LightGBM] [Info] Number of data points in the train set: 3966678, number of used features: 127\n",
      "Training until validation scores don't improve for 500 rounds\n",
      "[250]\tvalid_0's ndcg@5: 0.402556\n",
      "[500]\tvalid_0's ndcg@5: 0.407487\n",
      "[750]\tvalid_0's ndcg@5: 0.408001\n",
      "[1000]\tvalid_0's ndcg@5: 0.408065\n",
      "[1250]\tvalid_0's ndcg@5: 0.407657\n",
      "Early stopping, best iteration is:\n",
      "[862]\tvalid_0's ndcg@5: 0.408604\n"
     ]
    },
    {
     "name": "stderr",
     "output_type": "stream",
     "text": [
      "/Users/rik/.pyenv/versions/3.10.12/lib/python3.10/site-packages/lightgbm/sklearn.py:861: UserWarning: Found 'ndcg_eval_at' in params. Will use it instead of 'eval_at' argument\n",
      "  _log_warning(f\"Found '{alias}' in params. Will use it instead of 'eval_at' argument\")\n"
     ]
    },
    {
     "name": "stdout",
     "output_type": "stream",
     "text": [
      "Fitting model for fold 4 of 5\n"
     ]
    },
    {
     "name": "stderr",
     "output_type": "stream",
     "text": [
      "/Users/rik/.pyenv/versions/3.10.12/lib/python3.10/site-packages/lightgbm/sklearn.py:861: UserWarning: Found 'ndcg_eval_at' in params. Will use it instead of 'eval_at' argument\n",
      "  _log_warning(f\"Found '{alias}' in params. Will use it instead of 'eval_at' argument\")\n"
     ]
    },
    {
     "name": "stdout",
     "output_type": "stream",
     "text": [
      "[LightGBM] [Warning] Met categorical feature which contains sparse values. Consider renumbering to consecutive integers started from zero\n",
      "[LightGBM] [Info] Auto-choosing row-wise multi-threading, the overhead of testing was 0.367821 seconds.\n",
      "You can set `force_row_wise=true` to remove the overhead.\n",
      "And if memory is not enough, you can set `force_col_wise=true`.\n",
      "[LightGBM] [Info] Total Bins 8834\n",
      "[LightGBM] [Info] Number of data points in the train set: 3966678, number of used features: 127\n",
      "Training until validation scores don't improve for 500 rounds\n",
      "[250]\tvalid_0's ndcg@5: 0.40408\n",
      "[500]\tvalid_0's ndcg@5: 0.409243\n",
      "[750]\tvalid_0's ndcg@5: 0.409877\n",
      "[1000]\tvalid_0's ndcg@5: 0.409812\n",
      "[1250]\tvalid_0's ndcg@5: 0.409482\n",
      "Early stopping, best iteration is:\n",
      "[828]\tvalid_0's ndcg@5: 0.410559\n"
     ]
    },
    {
     "name": "stderr",
     "output_type": "stream",
     "text": [
      "/Users/rik/.pyenv/versions/3.10.12/lib/python3.10/site-packages/lightgbm/sklearn.py:861: UserWarning: Found 'ndcg_eval_at' in params. Will use it instead of 'eval_at' argument\n",
      "  _log_warning(f\"Found '{alias}' in params. Will use it instead of 'eval_at' argument\")\n"
     ]
    },
    {
     "name": "stdout",
     "output_type": "stream",
     "text": [
      "Fitting model for fold 5 of 5\n"
     ]
    },
    {
     "name": "stderr",
     "output_type": "stream",
     "text": [
      "/Users/rik/.pyenv/versions/3.10.12/lib/python3.10/site-packages/lightgbm/sklearn.py:861: UserWarning: Found 'ndcg_eval_at' in params. Will use it instead of 'eval_at' argument\n",
      "  _log_warning(f\"Found '{alias}' in params. Will use it instead of 'eval_at' argument\")\n"
     ]
    },
    {
     "name": "stdout",
     "output_type": "stream",
     "text": [
      "[LightGBM] [Warning] Met categorical feature which contains sparse values. Consider renumbering to consecutive integers started from zero\n",
      "[LightGBM] [Info] Auto-choosing row-wise multi-threading, the overhead of testing was 0.341830 seconds.\n",
      "You can set `force_row_wise=true` to remove the overhead.\n",
      "And if memory is not enough, you can set `force_col_wise=true`.\n",
      "[LightGBM] [Info] Total Bins 8850\n",
      "[LightGBM] [Info] Number of data points in the train set: 3966678, number of used features: 127\n",
      "Training until validation scores don't improve for 500 rounds\n",
      "[250]\tvalid_0's ndcg@5: 0.404947\n",
      "[500]\tvalid_0's ndcg@5: 0.408723\n",
      "[750]\tvalid_0's ndcg@5: 0.409824\n",
      "[1000]\tvalid_0's ndcg@5: 0.410456\n",
      "[1250]\tvalid_0's ndcg@5: 0.409738\n",
      "Early stopping, best iteration is:\n",
      "[878]\tvalid_0's ndcg@5: 0.410694\n"
     ]
    },
    {
     "name": "stderr",
     "output_type": "stream",
     "text": [
      "/Users/rik/.pyenv/versions/3.10.12/lib/python3.10/site-packages/lightgbm/sklearn.py:861: UserWarning: Found 'ndcg_eval_at' in params. Will use it instead of 'eval_at' argument\n",
      "  _log_warning(f\"Found '{alias}' in params. Will use it instead of 'eval_at' argument\")\n"
     ]
    },
    {
     "name": "stdout",
     "output_type": "stream",
     "text": [
      "Mean score for all 5 folds: 0.40973676157873246\n"
     ]
    }
   ],
   "source": [
    "k_fold_predictions = lgbm_class_model.perform_k_fold_fit_and_predict(train_df, test_df)"
   ]
  },
  {
   "cell_type": "code",
   "execution_count": 19,
   "id": "dcf5c8c1",
   "metadata": {},
   "outputs": [],
   "source": [
    "final_df = k_fold_predictions[['srch_id', 'prop_id']]"
   ]
  },
  {
   "cell_type": "code",
   "execution_count": 21,
   "id": "b787c909",
   "metadata": {},
   "outputs": [],
   "source": [
    "import os\n",
    "path = \"data/final_predictions.csv\"\n",
    "if os.path.exists(path):\n",
    "            os.remove(path)\n",
    "final_df.to_csv(path, index=False)"
   ]
  }
 ],
 "metadata": {
  "kernelspec": {
   "display_name": "3.10.12",
   "language": "python",
   "name": "python3"
  },
  "language_info": {
   "codemirror_mode": {
    "name": "ipython",
    "version": 3
   },
   "file_extension": ".py",
   "mimetype": "text/x-python",
   "name": "python",
   "nbconvert_exporter": "python",
   "pygments_lexer": "ipython3",
   "version": "3.10.12"
  }
 },
 "nbformat": 4,
 "nbformat_minor": 5
}
