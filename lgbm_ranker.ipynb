{
 "cells": [
  {
   "cell_type": "code",
   "execution_count": 57,
   "id": "3f1266d2",
   "metadata": {},
   "outputs": [
    {
     "name": "stdout",
     "output_type": "stream",
     "text": [
      "The autoreload extension is already loaded. To reload it, use:\n",
      "  %reload_ext autoreload\n",
      "Path (/Users/rik/Documents/VU/DMT/DataMiningTechniquesA2) already exists in sys.path\n"
     ]
    }
   ],
   "source": [
    "%load_ext autoreload\n",
    "%autoreload 2\n",
    "%run ./initializer"
   ]
  },
  {
   "cell_type": "code",
   "execution_count": 66,
   "id": "fecde38d",
   "metadata": {},
   "outputs": [],
   "source": [
    "import pandas as pd\n",
    "from lgbm_ranker import LGBMRankerModel, LGBMRanker\n",
    "from feature_tester import FeatureTester\n",
    "import numpy as np"
   ]
  },
  {
   "cell_type": "code",
   "execution_count": 59,
   "id": "c15dc4d9",
   "metadata": {},
   "outputs": [],
   "source": [
    "train_df = pd.read_parquet(\"data/training_set_processed.parquet\")\n",
    "test_df = pd.read_parquet(\"data/test_set_processed.parquet\")"
   ]
  },
  {
   "cell_type": "code",
   "execution_count": 67,
   "id": "03aa93eb",
   "metadata": {},
   "outputs": [],
   "source": [
    "lgbm_class_model = LGBMRankerModel(\n",
    "    df = train_df,              # Only initialized to get column names\n",
    "    objective=\"lambdarank\",\n",
    "    metric=\"ndcg\",\n",
    "    ndcg_eval_at=[5],\n",
    "    n_estimators=1000,\n",
    "    learning_rate=0.05,\n",
    ")\n"
   ]
  },
  {
   "cell_type": "code",
   "execution_count": null,
   "id": "cb80ae28",
   "metadata": {},
   "outputs": [],
   "source": [
    "X_train, y_train, X_val, y_val, groups_size_train, groups_size_val = lgbm_class_model.format_data(train_df)"
   ]
  },
  {
   "cell_type": "code",
   "execution_count": 61,
   "id": "b11d26f8",
   "metadata": {},
   "outputs": [
    {
     "name": "stderr",
     "output_type": "stream",
     "text": [
      "/Users/rik/.pyenv/versions/3.10.12/lib/python3.10/site-packages/lightgbm/sklearn.py:861: UserWarning: Found 'ndcg_eval_at' in params. Will use it instead of 'eval_at' argument\n",
      "  _log_warning(f\"Found '{alias}' in params. Will use it instead of 'eval_at' argument\")\n"
     ]
    },
    {
     "name": "stdout",
     "output_type": "stream",
     "text": [
      "[LightGBM] [Warning] Categorical features with more bins than the configured maximum bin number found.\n",
      "[LightGBM] [Warning] For categorical features, max_bin and max_bin_by_feature may be ignored with a large number of categories.\n",
      "[LightGBM] [Info] Auto-choosing row-wise multi-threading, the overhead of testing was 0.338295 seconds.\n",
      "You can set `force_row_wise=true` to remove the overhead.\n",
      "And if memory is not enough, you can set `force_col_wise=true`.\n",
      "[LightGBM] [Info] Total Bins 14118\n",
      "[LightGBM] [Info] Number of data points in the train set: 3966677, number of used features: 110\n",
      "Training until validation scores don't improve for 50 rounds\n",
      "[20]\tvalid_0's ndcg@5: 0.370262\n",
      "[40]\tvalid_0's ndcg@5: 0.378783\n",
      "[60]\tvalid_0's ndcg@5: 0.381895\n",
      "[80]\tvalid_0's ndcg@5: 0.384895\n",
      "[100]\tvalid_0's ndcg@5: 0.38763\n",
      "[120]\tvalid_0's ndcg@5: 0.389607\n",
      "[140]\tvalid_0's ndcg@5: 0.390542\n",
      "[160]\tvalid_0's ndcg@5: 0.391963\n",
      "[180]\tvalid_0's ndcg@5: 0.392818\n",
      "[200]\tvalid_0's ndcg@5: 0.393664\n",
      "[220]\tvalid_0's ndcg@5: 0.39449\n",
      "[240]\tvalid_0's ndcg@5: 0.395441\n",
      "[260]\tvalid_0's ndcg@5: 0.395301\n",
      "[280]\tvalid_0's ndcg@5: 0.395537\n",
      "[300]\tvalid_0's ndcg@5: 0.396315\n",
      "[320]\tvalid_0's ndcg@5: 0.396144\n",
      "[340]\tvalid_0's ndcg@5: 0.396186\n",
      "[360]\tvalid_0's ndcg@5: 0.39587\n",
      "Early stopping, best iteration is:\n",
      "[319]\tvalid_0's ndcg@5: 0.396389\n"
     ]
    }
   ],
   "source": [
    "fitted_model = lgbm_class_model.fit(X_train, y_train, X_val, y_val, groups_size_train, groups_size_val)"
   ]
  },
  {
   "cell_type": "code",
   "execution_count": 55,
   "id": "c9bd2372",
   "metadata": {},
   "outputs": [
    {
     "name": "stderr",
     "output_type": "stream",
     "text": [
      "/Users/rik/.pyenv/versions/3.10.12/lib/python3.10/site-packages/lightgbm/sklearn.py:861: UserWarning: Found 'ndcg_eval_at' in params. Will use it instead of 'eval_at' argument\n",
      "  _log_warning(f\"Found '{alias}' in params. Will use it instead of 'eval_at' argument\")\n"
     ]
    },
    {
     "name": "stdout",
     "output_type": "stream",
     "text": [
      "Final results saved to final_predictions\n",
      "         srch_id  prop_id\n",
      "23             1    99484\n",
      "9              1    54937\n",
      "12             1    61934\n",
      "5              1    28181\n",
      "1              1     5543\n",
      "...          ...      ...\n",
      "4959177   332787    29018\n",
      "4959182   332787    99509\n",
      "4959181   332787    94437\n",
      "4959178   332787    32019\n",
      "4959180   332787    35240\n",
      "\n",
      "[4959183 rows x 2 columns]\n"
     ]
    }
   ],
   "source": [
    "lgbm_class_model.save_final_results(test_df)"
   ]
  },
  {
   "cell_type": "code",
   "execution_count": 37,
   "id": "c1b3fdd1",
   "metadata": {},
   "outputs": [
    {
     "name": "stderr",
     "output_type": "stream",
     "text": [
      "/Users/rik/.pyenv/versions/3.10.12/lib/python3.10/site-packages/lightgbm/sklearn.py:861: UserWarning: Found 'ndcg_eval_at' in params. Will use it instead of 'eval_at' argument\n",
      "  _log_warning(f\"Found '{alias}' in params. Will use it instead of 'eval_at' argument\")\n"
     ]
    },
    {
     "data": {
      "text/html": [
       "<div>\n",
       "<style scoped>\n",
       "    .dataframe tbody tr th:only-of-type {\n",
       "        vertical-align: middle;\n",
       "    }\n",
       "\n",
       "    .dataframe tbody tr th {\n",
       "        vertical-align: top;\n",
       "    }\n",
       "\n",
       "    .dataframe thead th {\n",
       "        text-align: right;\n",
       "    }\n",
       "</style>\n",
       "<table border=\"1\" class=\"dataframe\">\n",
       "  <thead>\n",
       "    <tr style=\"text-align: right;\">\n",
       "      <th></th>\n",
       "      <th>srch_id</th>\n",
       "      <th>prop_id</th>\n",
       "      <th>predictions</th>\n",
       "    </tr>\n",
       "  </thead>\n",
       "  <tbody>\n",
       "    <tr>\n",
       "      <th>23</th>\n",
       "      <td>1</td>\n",
       "      <td>99484</td>\n",
       "      <td>0.726405</td>\n",
       "    </tr>\n",
       "    <tr>\n",
       "      <th>9</th>\n",
       "      <td>1</td>\n",
       "      <td>54937</td>\n",
       "      <td>0.700577</td>\n",
       "    </tr>\n",
       "    <tr>\n",
       "      <th>1</th>\n",
       "      <td>1</td>\n",
       "      <td>5543</td>\n",
       "      <td>0.672712</td>\n",
       "    </tr>\n",
       "    <tr>\n",
       "      <th>12</th>\n",
       "      <td>1</td>\n",
       "      <td>61934</td>\n",
       "      <td>0.668842</td>\n",
       "    </tr>\n",
       "    <tr>\n",
       "      <th>0</th>\n",
       "      <td>1</td>\n",
       "      <td>3180</td>\n",
       "      <td>0.652173</td>\n",
       "    </tr>\n",
       "    <tr>\n",
       "      <th>...</th>\n",
       "      <td>...</td>\n",
       "      <td>...</td>\n",
       "      <td>...</td>\n",
       "    </tr>\n",
       "    <tr>\n",
       "      <th>4959177</th>\n",
       "      <td>332787</td>\n",
       "      <td>29018</td>\n",
       "      <td>0.223181</td>\n",
       "    </tr>\n",
       "    <tr>\n",
       "      <th>4959182</th>\n",
       "      <td>332787</td>\n",
       "      <td>99509</td>\n",
       "      <td>0.127097</td>\n",
       "    </tr>\n",
       "    <tr>\n",
       "      <th>4959181</th>\n",
       "      <td>332787</td>\n",
       "      <td>94437</td>\n",
       "      <td>0.008470</td>\n",
       "    </tr>\n",
       "    <tr>\n",
       "      <th>4959178</th>\n",
       "      <td>332787</td>\n",
       "      <td>32019</td>\n",
       "      <td>-0.144257</td>\n",
       "    </tr>\n",
       "    <tr>\n",
       "      <th>4959180</th>\n",
       "      <td>332787</td>\n",
       "      <td>35240</td>\n",
       "      <td>-1.075873</td>\n",
       "    </tr>\n",
       "  </tbody>\n",
       "</table>\n",
       "<p>4959183 rows × 3 columns</p>\n",
       "</div>"
      ],
      "text/plain": [
       "         srch_id  prop_id  predictions\n",
       "23             1    99484     0.726405\n",
       "9              1    54937     0.700577\n",
       "1              1     5543     0.672712\n",
       "12             1    61934     0.668842\n",
       "0              1     3180     0.652173\n",
       "...          ...      ...          ...\n",
       "4959177   332787    29018     0.223181\n",
       "4959182   332787    99509     0.127097\n",
       "4959181   332787    94437     0.008470\n",
       "4959178   332787    32019    -0.144257\n",
       "4959180   332787    35240    -1.075873\n",
       "\n",
       "[4959183 rows x 3 columns]"
      ]
     },
     "execution_count": 37,
     "metadata": {},
     "output_type": "execute_result"
    }
   ],
   "source": [
    "lgbm_class_model.get_final_predictions(test_df)"
   ]
  },
  {
   "cell_type": "code",
   "execution_count": 70,
   "id": "ee63fff9",
   "metadata": {},
   "outputs": [],
   "source": [
    "impute_null_columns = {\"visitor_hist_starrating\": \"median\", \"visitor_hist_adr_usd\": \"mean\", \"prop_review_score\": \"median\", \"orig_destination_distance\": \"mean\", \"prop_log_historical_price\":\"mean\"}\n",
    "feature_tester = FeatureTester(lgbm_class_model, impute_null_columns=impute_null_columns)"
   ]
  },
  {
   "cell_type": "code",
   "execution_count": 71,
   "id": "80e3e523",
   "metadata": {},
   "outputs": [
    {
     "name": "stderr",
     "output_type": "stream",
     "text": [
      "/Users/rik/.pyenv/versions/3.10.12/lib/python3.10/site-packages/pandas/core/dtypes/astype.py:133: RuntimeWarning: overflow encountered in cast\n",
      "  return arr.astype(dtype, copy=True)\n",
      "/Users/rik/.pyenv/versions/3.10.12/lib/python3.10/site-packages/pandas/core/dtypes/astype.py:133: RuntimeWarning: overflow encountered in cast\n",
      "  return arr.astype(dtype, copy=True)\n",
      "/Users/rik/.pyenv/versions/3.10.12/lib/python3.10/site-packages/pandas/core/dtypes/astype.py:133: RuntimeWarning: overflow encountered in cast\n",
      "  return arr.astype(dtype, copy=True)\n",
      "/Users/rik/.pyenv/versions/3.10.12/lib/python3.10/site-packages/pandas/core/dtypes/astype.py:133: RuntimeWarning: overflow encountered in cast\n",
      "  return arr.astype(dtype, copy=True)\n",
      "/Users/rik/.pyenv/versions/3.10.12/lib/python3.10/site-packages/pandas/core/dtypes/astype.py:133: RuntimeWarning: overflow encountered in cast\n",
      "  return arr.astype(dtype, copy=True)\n",
      "/Users/rik/.pyenv/versions/3.10.12/lib/python3.10/site-packages/lightgbm/sklearn.py:861: UserWarning: Found 'ndcg_eval_at' in params. Will use it instead of 'eval_at' argument\n",
      "  _log_warning(f\"Found '{alias}' in params. Will use it instead of 'eval_at' argument\")\n"
     ]
    },
    {
     "name": "stdout",
     "output_type": "stream",
     "text": [
      "[LightGBM] [Warning] Categorical features with more bins than the configured maximum bin number found.\n",
      "[LightGBM] [Warning] For categorical features, max_bin and max_bin_by_feature may be ignored with a large number of categories.\n",
      "[LightGBM] [Info] Auto-choosing row-wise multi-threading, the overhead of testing was 0.346574 seconds.\n",
      "You can set `force_row_wise=true` to remove the overhead.\n",
      "And if memory is not enough, you can set `force_col_wise=true`.\n",
      "[LightGBM] [Info] Total Bins 14074\n",
      "[LightGBM] [Info] Number of data points in the train set: 3966677, number of used features: 110\n",
      "Training until validation scores don't improve for 50 rounds\n",
      "[20]\tvalid_0's ndcg@5: 0.368835\n",
      "[40]\tvalid_0's ndcg@5: 0.375622\n",
      "[60]\tvalid_0's ndcg@5: 0.380283\n",
      "[80]\tvalid_0's ndcg@5: 0.382256\n",
      "[100]\tvalid_0's ndcg@5: 0.385042\n",
      "[120]\tvalid_0's ndcg@5: 0.386149\n",
      "[140]\tvalid_0's ndcg@5: 0.387534\n",
      "[160]\tvalid_0's ndcg@5: 0.38893\n",
      "[180]\tvalid_0's ndcg@5: 0.389805\n",
      "[200]\tvalid_0's ndcg@5: 0.391009\n",
      "[220]\tvalid_0's ndcg@5: 0.391868\n",
      "[240]\tvalid_0's ndcg@5: 0.392385\n",
      "[260]\tvalid_0's ndcg@5: 0.392551\n",
      "[280]\tvalid_0's ndcg@5: 0.392917\n",
      "[300]\tvalid_0's ndcg@5: 0.392936\n",
      "[320]\tvalid_0's ndcg@5: 0.392836\n",
      "[340]\tvalid_0's ndcg@5: 0.392906\n",
      "[360]\tvalid_0's ndcg@5: 0.393605\n",
      "[380]\tvalid_0's ndcg@5: 0.393575\n",
      "[400]\tvalid_0's ndcg@5: 0.393953\n",
      "[420]\tvalid_0's ndcg@5: 0.393951\n",
      "[440]\tvalid_0's ndcg@5: 0.393927\n",
      "[460]\tvalid_0's ndcg@5: 0.39417\n",
      "[480]\tvalid_0's ndcg@5: 0.394528\n",
      "[500]\tvalid_0's ndcg@5: 0.394609\n",
      "[520]\tvalid_0's ndcg@5: 0.394612\n",
      "[540]\tvalid_0's ndcg@5: 0.394908\n",
      "[560]\tvalid_0's ndcg@5: 0.394968\n",
      "[580]\tvalid_0's ndcg@5: 0.394985\n",
      "[600]\tvalid_0's ndcg@5: 0.394986\n",
      "[620]\tvalid_0's ndcg@5: 0.394694\n",
      "Early stopping, best iteration is:\n",
      "[587]\tvalid_0's ndcg@5: 0.395139\n"
     ]
    },
    {
     "name": "stderr",
     "output_type": "stream",
     "text": [
      "/Users/rik/.pyenv/versions/3.10.12/lib/python3.10/site-packages/pandas/core/dtypes/astype.py:133: RuntimeWarning: overflow encountered in cast\n",
      "  return arr.astype(dtype, copy=True)\n",
      "/Users/rik/.pyenv/versions/3.10.12/lib/python3.10/site-packages/pandas/core/dtypes/astype.py:133: RuntimeWarning: overflow encountered in cast\n",
      "  return arr.astype(dtype, copy=True)\n",
      "/Users/rik/.pyenv/versions/3.10.12/lib/python3.10/site-packages/pandas/core/dtypes/astype.py:133: RuntimeWarning: overflow encountered in cast\n",
      "  return arr.astype(dtype, copy=True)\n",
      "/Users/rik/.pyenv/versions/3.10.12/lib/python3.10/site-packages/pandas/core/dtypes/astype.py:133: RuntimeWarning: overflow encountered in cast\n",
      "  return arr.astype(dtype, copy=True)\n",
      "/Users/rik/.pyenv/versions/3.10.12/lib/python3.10/site-packages/pandas/core/dtypes/astype.py:133: RuntimeWarning: overflow encountered in cast\n",
      "  return arr.astype(dtype, copy=True)\n",
      "/Users/rik/.pyenv/versions/3.10.12/lib/python3.10/site-packages/lightgbm/sklearn.py:861: UserWarning: Found 'ndcg_eval_at' in params. Will use it instead of 'eval_at' argument\n",
      "  _log_warning(f\"Found '{alias}' in params. Will use it instead of 'eval_at' argument\")\n"
     ]
    },
    {
     "name": "stdout",
     "output_type": "stream",
     "text": [
      "[LightGBM] [Warning] Categorical features with more bins than the configured maximum bin number found.\n",
      "[LightGBM] [Warning] For categorical features, max_bin and max_bin_by_feature may be ignored with a large number of categories.\n",
      "[LightGBM] [Info] Auto-choosing row-wise multi-threading, the overhead of testing was 0.382974 seconds.\n",
      "You can set `force_row_wise=true` to remove the overhead.\n",
      "And if memory is not enough, you can set `force_col_wise=true`.\n",
      "[LightGBM] [Info] Total Bins 14119\n",
      "[LightGBM] [Info] Number of data points in the train set: 3966677, number of used features: 110\n",
      "Training until validation scores don't improve for 50 rounds\n",
      "[20]\tvalid_0's ndcg@5: 0.370262\n",
      "[40]\tvalid_0's ndcg@5: 0.37878\n",
      "[60]\tvalid_0's ndcg@5: 0.382431\n",
      "[80]\tvalid_0's ndcg@5: 0.385289\n",
      "[100]\tvalid_0's ndcg@5: 0.38792\n",
      "[120]\tvalid_0's ndcg@5: 0.389211\n",
      "[140]\tvalid_0's ndcg@5: 0.390668\n",
      "[160]\tvalid_0's ndcg@5: 0.391901\n",
      "[180]\tvalid_0's ndcg@5: 0.393104\n",
      "[200]\tvalid_0's ndcg@5: 0.394036\n",
      "[220]\tvalid_0's ndcg@5: 0.39492\n",
      "[240]\tvalid_0's ndcg@5: 0.394689\n",
      "[260]\tvalid_0's ndcg@5: 0.395111\n",
      "[280]\tvalid_0's ndcg@5: 0.396059\n",
      "[300]\tvalid_0's ndcg@5: 0.396027\n",
      "[320]\tvalid_0's ndcg@5: 0.396051\n",
      "[340]\tvalid_0's ndcg@5: 0.395828\n",
      "Early stopping, best iteration is:\n",
      "[307]\tvalid_0's ndcg@5: 0.396373\n",
      "Model trained successfully with imputing the null values for columns: {'visitor_hist_starrating': 'median', 'visitor_hist_adr_usd': 'mean', 'prop_review_score': 'median', 'orig_destination_distance': 'mean', 'prop_log_historical_price': 'mean'}\n",
      "Final result gave the following score on the validation set: defaultdict(<class 'collections.OrderedDict'>, {'valid_0': OrderedDict([('ndcg@5', 0.3951386602594772)])})\n",
      "Model trained successfully without imputing the null values for columns\n",
      "Final result gave the following score on the validation set: defaultdict(<class 'collections.OrderedDict'>, {'valid_0': OrderedDict([('ndcg@5', 0.3963730995608209)])})\n"
     ]
    }
   ],
   "source": [
    "model_opt, model_opt_not_imputed = feature_tester.test_na_fill_method()"
   ]
  }
 ],
 "metadata": {
  "kernelspec": {
   "display_name": "3.10.12",
   "language": "python",
   "name": "python3"
  },
  "language_info": {
   "codemirror_mode": {
    "name": "ipython",
    "version": 3
   },
   "file_extension": ".py",
   "mimetype": "text/x-python",
   "name": "python",
   "nbconvert_exporter": "python",
   "pygments_lexer": "ipython3",
   "version": "3.10.12"
  }
 },
 "nbformat": 4,
 "nbformat_minor": 5
}
