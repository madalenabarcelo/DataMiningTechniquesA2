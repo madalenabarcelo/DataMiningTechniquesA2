{
 "cells": [
  {
   "cell_type": "code",
   "execution_count": 8,
   "id": "3f1266d2",
   "metadata": {},
   "outputs": [
    {
     "name": "stdout",
     "output_type": "stream",
     "text": [
      "The autoreload extension is already loaded. To reload it, use:\n",
      "  %reload_ext autoreload\n",
      "Path (/Users/rik/Documents/VU/DMT/DataMiningTechniquesA2) already exists in sys.path\n"
     ]
    }
   ],
   "source": [
    "%load_ext autoreload\n",
    "%autoreload 2\n",
    "%run ./initializer"
   ]
  },
  {
   "cell_type": "code",
   "execution_count": 9,
   "id": "fecde38d",
   "metadata": {},
   "outputs": [],
   "source": [
    "import pandas as pd\n",
    "from lgbm_ranker import LGBMRankerModel, LGBMRanker\n",
    "from feature_tester import FeatureTester\n",
    "import numpy as np"
   ]
  },
  {
   "cell_type": "code",
   "execution_count": 10,
   "id": "c15dc4d9",
   "metadata": {},
   "outputs": [],
   "source": [
    "train_df = pd.read_parquet(\"data/training_set_processed.parquet\")\n",
    "test_df = pd.read_parquet(\"data/test_set_processed.parquet\")"
   ]
  },
  {
   "cell_type": "code",
   "execution_count": 11,
   "id": "03aa93eb",
   "metadata": {},
   "outputs": [],
   "source": [
    "lgbm_class_model = LGBMRankerModel(\n",
    "    df = train_df,              # Only initialized to get column names\n",
    "    objective=\"lambdarank\",\n",
    "    metric=\"ndcg\",\n",
    "    ndcg_eval_at=[5],\n",
    "    n_estimators=1000,\n",
    "    learning_rate=0.05,\n",
    ")\n"
   ]
  },
  {
   "cell_type": "code",
   "execution_count": 12,
   "id": "cb80ae28",
   "metadata": {},
   "outputs": [],
   "source": [
    "X_train, y_train, X_val, y_val, groups_size_train, groups_size_val = lgbm_class_model.format_data(train_df)"
   ]
  },
  {
   "cell_type": "code",
   "execution_count": 13,
   "id": "b11d26f8",
   "metadata": {},
   "outputs": [
    {
     "name": "stderr",
     "output_type": "stream",
     "text": [
      "/Users/rik/.pyenv/versions/3.10.12/lib/python3.10/site-packages/lightgbm/sklearn.py:861: UserWarning: Found 'ndcg_eval_at' in params. Will use it instead of 'eval_at' argument\n",
      "  _log_warning(f\"Found '{alias}' in params. Will use it instead of 'eval_at' argument\")\n"
     ]
    },
    {
     "name": "stdout",
     "output_type": "stream",
     "text": [
      "[LightGBM] [Warning] Categorical features with more bins than the configured maximum bin number found.\n",
      "[LightGBM] [Warning] For categorical features, max_bin and max_bin_by_feature may be ignored with a large number of categories.\n",
      "[LightGBM] [Info] Auto-choosing row-wise multi-threading, the overhead of testing was 0.720048 seconds.\n",
      "You can set `force_row_wise=true` to remove the overhead.\n",
      "And if memory is not enough, you can set `force_col_wise=true`.\n",
      "[LightGBM] [Info] Total Bins 14120\n",
      "[LightGBM] [Info] Number of data points in the train set: 3966677, number of used features: 110\n",
      "Training until validation scores don't improve for 50 rounds\n",
      "[20]\tvalid_0's ndcg@5: 0.3719\n",
      "[40]\tvalid_0's ndcg@5: 0.378381\n",
      "[60]\tvalid_0's ndcg@5: 0.383398\n",
      "[80]\tvalid_0's ndcg@5: 0.385265\n",
      "[100]\tvalid_0's ndcg@5: 0.388163\n",
      "[120]\tvalid_0's ndcg@5: 0.389231\n",
      "[140]\tvalid_0's ndcg@5: 0.390402\n",
      "[160]\tvalid_0's ndcg@5: 0.391497\n",
      "[180]\tvalid_0's ndcg@5: 0.392606\n",
      "[200]\tvalid_0's ndcg@5: 0.39289\n",
      "[220]\tvalid_0's ndcg@5: 0.394089\n",
      "[240]\tvalid_0's ndcg@5: 0.394966\n",
      "[260]\tvalid_0's ndcg@5: 0.395622\n",
      "[280]\tvalid_0's ndcg@5: 0.395513\n",
      "[300]\tvalid_0's ndcg@5: 0.395646\n",
      "[320]\tvalid_0's ndcg@5: 0.396597\n",
      "[340]\tvalid_0's ndcg@5: 0.396597\n",
      "[360]\tvalid_0's ndcg@5: 0.396997\n",
      "[380]\tvalid_0's ndcg@5: 0.396775\n",
      "[400]\tvalid_0's ndcg@5: 0.397194\n",
      "[420]\tvalid_0's ndcg@5: 0.397162\n",
      "[440]\tvalid_0's ndcg@5: 0.397027\n",
      "[460]\tvalid_0's ndcg@5: 0.396929\n",
      "Early stopping, best iteration is:\n",
      "[424]\tvalid_0's ndcg@5: 0.397296\n"
     ]
    }
   ],
   "source": [
    "fitted_model = lgbm_class_model.fit(X_train, y_train, X_val, y_val, groups_size_train, groups_size_val)"
   ]
  },
  {
   "cell_type": "code",
   "execution_count": 14,
   "id": "c9bd2372",
   "metadata": {},
   "outputs": [
    {
     "name": "stderr",
     "output_type": "stream",
     "text": [
      "/Users/rik/.pyenv/versions/3.10.12/lib/python3.10/site-packages/lightgbm/sklearn.py:861: UserWarning: Found 'ndcg_eval_at' in params. Will use it instead of 'eval_at' argument\n",
      "  _log_warning(f\"Found '{alias}' in params. Will use it instead of 'eval_at' argument\")\n"
     ]
    },
    {
     "name": "stdout",
     "output_type": "stream",
     "text": [
      "Final results saved to final_predictions\n",
      "         srch_id  prop_id\n",
      "23             1    99484\n",
      "1              1     5543\n",
      "5              1    28181\n",
      "9              1    54937\n",
      "12             1    61934\n",
      "...          ...      ...\n",
      "4959177   332787    29018\n",
      "4959182   332787    99509\n",
      "4959181   332787    94437\n",
      "4959178   332787    32019\n",
      "4959180   332787    35240\n",
      "\n",
      "[4959183 rows x 2 columns]\n"
     ]
    }
   ],
   "source": [
    "lgbm_class_model.save_final_results(test_df)"
   ]
  }
 ],
 "metadata": {
  "kernelspec": {
   "display_name": "3.10.12",
   "language": "python",
   "name": "python3"
  },
  "language_info": {
   "codemirror_mode": {
    "name": "ipython",
    "version": 3
   },
   "file_extension": ".py",
   "mimetype": "text/x-python",
   "name": "python",
   "nbconvert_exporter": "python",
   "pygments_lexer": "ipython3",
   "version": "3.10.12"
  }
 },
 "nbformat": 4,
 "nbformat_minor": 5
}
