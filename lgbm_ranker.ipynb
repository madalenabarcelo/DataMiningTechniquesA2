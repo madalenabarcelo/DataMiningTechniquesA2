{
 "cells": [
  {
   "cell_type": "code",
   "execution_count": 1,
   "id": "3f1266d2",
   "metadata": {},
   "outputs": [
    {
     "name": "stdout",
     "output_type": "stream",
     "text": [
      "Path (/Users/rik/Documents/VU/DMT/DataMiningTechniquesA2) already exists in sys.path\n"
     ]
    }
   ],
   "source": [
    "%load_ext autoreload\n",
    "%autoreload 2\n",
    "%run ./initializer"
   ]
  },
  {
   "cell_type": "code",
   "execution_count": 2,
   "id": "fecde38d",
   "metadata": {},
   "outputs": [],
   "source": [
    "import pandas as pd\n",
    "from lgbm_ranker import LGBMRankerModel\n",
    "from lightgbm import LGBMRanker\n",
    "import numpy as np"
   ]
  },
  {
   "cell_type": "code",
   "execution_count": 3,
   "id": "c15dc4d9",
   "metadata": {},
   "outputs": [],
   "source": [
    "train_df = pd.read_parquet(\"data/training_set_processed.parquet\")\n",
    "test_df = pd.read_parquet(\"data/test_set_processed.parquet\")"
   ]
  },
  {
   "cell_type": "code",
   "execution_count": 4,
   "id": "03aa93eb",
   "metadata": {},
   "outputs": [],
   "source": [
    "lgbm_class_model = LGBMRankerModel(\n",
    "    df = train_df,              # Only initialized to get column names\n",
    "    objective=\"lambdarank\",\n",
    "    metric=\"ndcg\",\n",
    "    ndcg_eval_at=[5],\n",
    "    n_estimators=1000,\n",
    "    learning_rate=0.05,\n",
    ")\n",
    "X_train, y_train, X_val, y_val, groups_size_train, groups_size_val = lgbm_class_model.format_data(train_df)"
   ]
  },
  {
   "cell_type": "code",
   "execution_count": 5,
   "id": "b11d26f8",
   "metadata": {},
   "outputs": [
    {
     "name": "stderr",
     "output_type": "stream",
     "text": [
      "/Users/rik/.pyenv/versions/3.10.12/lib/python3.10/site-packages/lightgbm/sklearn.py:861: UserWarning: Found 'ndcg_eval_at' in params. Will use it instead of 'eval_at' argument\n",
      "  _log_warning(f\"Found '{alias}' in params. Will use it instead of 'eval_at' argument\")\n"
     ]
    },
    {
     "name": "stdout",
     "output_type": "stream",
     "text": [
      "[LightGBM] [Warning] Categorical features with more bins than the configured maximum bin number found.\n",
      "[LightGBM] [Warning] For categorical features, max_bin and max_bin_by_feature may be ignored with a large number of categories.\n",
      "[LightGBM] [Info] Auto-choosing row-wise multi-threading, the overhead of testing was 0.355641 seconds.\n",
      "You can set `force_row_wise=true` to remove the overhead.\n",
      "And if memory is not enough, you can set `force_col_wise=true`.\n",
      "[LightGBM] [Info] Total Bins 11308\n",
      "[LightGBM] [Info] Number of data points in the train set: 3966677, number of used features: 92\n",
      "Training until validation scores don't improve for 50 rounds\n",
      "[20]\tvalid_0's ndcg@5: 0.364325\n",
      "[40]\tvalid_0's ndcg@5: 0.371455\n",
      "[60]\tvalid_0's ndcg@5: 0.375119\n",
      "[80]\tvalid_0's ndcg@5: 0.377918\n",
      "[100]\tvalid_0's ndcg@5: 0.379905\n",
      "[120]\tvalid_0's ndcg@5: 0.381965\n",
      "[140]\tvalid_0's ndcg@5: 0.382707\n",
      "[160]\tvalid_0's ndcg@5: 0.383384\n",
      "[180]\tvalid_0's ndcg@5: 0.384166\n",
      "[200]\tvalid_0's ndcg@5: 0.384532\n",
      "[220]\tvalid_0's ndcg@5: 0.385382\n",
      "[240]\tvalid_0's ndcg@5: 0.384821\n",
      "[260]\tvalid_0's ndcg@5: 0.385383\n",
      "[280]\tvalid_0's ndcg@5: 0.385842\n",
      "[300]\tvalid_0's ndcg@5: 0.386341\n",
      "[320]\tvalid_0's ndcg@5: 0.386452\n",
      "[340]\tvalid_0's ndcg@5: 0.3864\n",
      "[360]\tvalid_0's ndcg@5: 0.386873\n",
      "[380]\tvalid_0's ndcg@5: 0.387055\n",
      "[400]\tvalid_0's ndcg@5: 0.387192\n",
      "[420]\tvalid_0's ndcg@5: 0.387432\n",
      "[440]\tvalid_0's ndcg@5: 0.387527\n",
      "[460]\tvalid_0's ndcg@5: 0.387422\n",
      "[480]\tvalid_0's ndcg@5: 0.387594\n",
      "[500]\tvalid_0's ndcg@5: 0.387606\n",
      "[520]\tvalid_0's ndcg@5: 0.387609\n",
      "[540]\tvalid_0's ndcg@5: 0.387543\n",
      "[560]\tvalid_0's ndcg@5: 0.387578\n",
      "[580]\tvalid_0's ndcg@5: 0.387841\n",
      "[600]\tvalid_0's ndcg@5: 0.387907\n",
      "[620]\tvalid_0's ndcg@5: 0.387894\n",
      "[640]\tvalid_0's ndcg@5: 0.387819\n",
      "Early stopping, best iteration is:\n",
      "[592]\tvalid_0's ndcg@5: 0.38817\n"
     ]
    }
   ],
   "source": [
    "lgbm_class_model.fit(X_train, y_train, X_val, y_val, groups_size_train, groups_size_val)"
   ]
  },
  {
   "cell_type": "code",
   "execution_count": 6,
   "id": "c1b3fdd1",
   "metadata": {},
   "outputs": [
    {
     "name": "stderr",
     "output_type": "stream",
     "text": [
      "/Users/rik/.pyenv/versions/3.10.12/lib/python3.10/site-packages/lightgbm/sklearn.py:861: UserWarning: Found 'ndcg_eval_at' in params. Will use it instead of 'eval_at' argument\n",
      "  _log_warning(f\"Found '{alias}' in params. Will use it instead of 'eval_at' argument\")\n"
     ]
    },
    {
     "data": {
      "text/html": [
       "<div>\n",
       "<style scoped>\n",
       "    .dataframe tbody tr th:only-of-type {\n",
       "        vertical-align: middle;\n",
       "    }\n",
       "\n",
       "    .dataframe tbody tr th {\n",
       "        vertical-align: top;\n",
       "    }\n",
       "\n",
       "    .dataframe thead th {\n",
       "        text-align: right;\n",
       "    }\n",
       "</style>\n",
       "<table border=\"1\" class=\"dataframe\">\n",
       "  <thead>\n",
       "    <tr style=\"text-align: right;\">\n",
       "      <th></th>\n",
       "      <th>srch_id</th>\n",
       "      <th>prop_id</th>\n",
       "      <th>predictions</th>\n",
       "    </tr>\n",
       "  </thead>\n",
       "  <tbody>\n",
       "    <tr>\n",
       "      <th>9</th>\n",
       "      <td>1</td>\n",
       "      <td>54937</td>\n",
       "      <td>1.141668</td>\n",
       "    </tr>\n",
       "    <tr>\n",
       "      <th>23</th>\n",
       "      <td>1</td>\n",
       "      <td>99484</td>\n",
       "      <td>0.995876</td>\n",
       "    </tr>\n",
       "    <tr>\n",
       "      <th>1</th>\n",
       "      <td>1</td>\n",
       "      <td>5543</td>\n",
       "      <td>0.961276</td>\n",
       "    </tr>\n",
       "    <tr>\n",
       "      <th>5</th>\n",
       "      <td>1</td>\n",
       "      <td>28181</td>\n",
       "      <td>0.805116</td>\n",
       "    </tr>\n",
       "    <tr>\n",
       "      <th>12</th>\n",
       "      <td>1</td>\n",
       "      <td>61934</td>\n",
       "      <td>0.766505</td>\n",
       "    </tr>\n",
       "    <tr>\n",
       "      <th>...</th>\n",
       "      <td>...</td>\n",
       "      <td>...</td>\n",
       "      <td>...</td>\n",
       "    </tr>\n",
       "    <tr>\n",
       "      <th>4959177</th>\n",
       "      <td>332787</td>\n",
       "      <td>29018</td>\n",
       "      <td>0.602915</td>\n",
       "    </tr>\n",
       "    <tr>\n",
       "      <th>4959178</th>\n",
       "      <td>332787</td>\n",
       "      <td>32019</td>\n",
       "      <td>0.382101</td>\n",
       "    </tr>\n",
       "    <tr>\n",
       "      <th>4959182</th>\n",
       "      <td>332787</td>\n",
       "      <td>99509</td>\n",
       "      <td>0.303452</td>\n",
       "    </tr>\n",
       "    <tr>\n",
       "      <th>4959181</th>\n",
       "      <td>332787</td>\n",
       "      <td>94437</td>\n",
       "      <td>0.225719</td>\n",
       "    </tr>\n",
       "    <tr>\n",
       "      <th>4959180</th>\n",
       "      <td>332787</td>\n",
       "      <td>35240</td>\n",
       "      <td>-0.808737</td>\n",
       "    </tr>\n",
       "  </tbody>\n",
       "</table>\n",
       "<p>4959183 rows × 3 columns</p>\n",
       "</div>"
      ],
      "text/plain": [
       "         srch_id  prop_id  predictions\n",
       "9              1    54937     1.141668\n",
       "23             1    99484     0.995876\n",
       "1              1     5543     0.961276\n",
       "5              1    28181     0.805116\n",
       "12             1    61934     0.766505\n",
       "...          ...      ...          ...\n",
       "4959177   332787    29018     0.602915\n",
       "4959178   332787    32019     0.382101\n",
       "4959182   332787    99509     0.303452\n",
       "4959181   332787    94437     0.225719\n",
       "4959180   332787    35240    -0.808737\n",
       "\n",
       "[4959183 rows x 3 columns]"
      ]
     },
     "execution_count": 6,
     "metadata": {},
     "output_type": "execute_result"
    }
   ],
   "source": [
    "lgbm_class_model.get_final_predictions(test_df)"
   ]
  }
 ],
 "metadata": {
  "kernelspec": {
   "display_name": "3.10.12",
   "language": "python",
   "name": "python3"
  },
  "language_info": {
   "codemirror_mode": {
    "name": "ipython",
    "version": 3
   },
   "file_extension": ".py",
   "mimetype": "text/x-python",
   "name": "python",
   "nbconvert_exporter": "python",
   "pygments_lexer": "ipython3",
   "version": "3.10.12"
  }
 },
 "nbformat": 4,
 "nbformat_minor": 5
}
